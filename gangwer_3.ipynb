{
    "metadata": {
        "kernelspec": {
            "name": "SQL",
            "display_name": "SQL",
            "language": "sql"
        },
        "language_info": {
            "name": "sql",
            "version": ""
        }
    },
    "nbformat_minor": 2,
    "nbformat": 4,
    "cells": [
        {
            "cell_type": "markdown",
            "source": [
                "Elisabeth Gangwer \n",
                "\n",
                "Assignment 3"
            ],
            "metadata": {
                "azdata_cell_guid": "f80140cb-55f1-4d06-a1c1-8b61b25c8ac3"
            },
            "attachments": {}
        },
        {
            "cell_type": "markdown",
            "source": [
                "<span style=\"font-size: 12.000000pt; font-family: 'TimesNewRomanPS'; font-weight: 700\">Problem 1</span>\n",
                "\n",
                "<span style=\"font-size: 12.000000pt; font-family: 'TimesNewRomanPSMT'\">In the last homework assignment, you created a list of territories that required training because they did not have at least one month during 2013 with sales of more than $750,000. Working with this sample principle, use a CASE statement to create a list of all territories in alphabetical order, with a new column called \"TrainingRequired\" that has a value of either \"Yes\" or \"No.\"&nbsp;</span>"
            ],
            "metadata": {
                "azdata_cell_guid": "f8191409-6697-4011-b00d-7116871059c9"
            },
            "attachments": {}
        },
        {
            "cell_type": "code",
            "source": [
                "SELECT DISTINCT t.Name AS Territory\n",
                "    , CASE WHEN MAX(sum(soh.SubTotal)) OVER(PARTITION BY t.Name) > 750000\n",
                "        THEN 'No'\n",
                "        ELSE 'Yes'\n",
                "    END AS TrainingRequired \n",
                "FROM sales.SalesOrderHeader soh\n",
                "INNER JOIN sales.SalesTerritory t\n",
                "ON soh.TerritoryID = t.TerritoryID\n",
                "WHERE DATEPART(YEAR,soh.OrderDate) = 2013\n",
                "GROUP BY t.Name\n",
                "    , DATEPART(MONTH, soh.OrderDate)\n",
                "    , DATEPART(YEAR,soh.OrderDate)\n",
                "ORDER BY Name "
            ],
            "metadata": {
                "azdata_cell_guid": "289314b0-80eb-4486-a680-af299493fd77",
                "language": "sql",
                "tags": []
            },
            "outputs": [
                {
                    "output_type": "display_data",
                    "data": {
                        "text/html": "(10 rows affected)"
                    },
                    "metadata": {}
                },
                {
                    "output_type": "display_data",
                    "data": {
                        "text/html": "Total execution time: 00:00:00.050"
                    },
                    "metadata": {}
                },
                {
                    "output_type": "execute_result",
                    "execution_count": 10,
                    "data": {
                        "application/vnd.dataresource+json": {
                            "schema": {
                                "fields": [
                                    {
                                        "name": "Territory"
                                    },
                                    {
                                        "name": "TrainingRequired"
                                    }
                                ]
                            },
                            "data": [
                                {
                                    "Territory": "Australia",
                                    "TrainingRequired": "Yes"
                                },
                                {
                                    "Territory": "Canada",
                                    "TrainingRequired": "No"
                                },
                                {
                                    "Territory": "Central",
                                    "TrainingRequired": "Yes"
                                },
                                {
                                    "Territory": "France",
                                    "TrainingRequired": "No"
                                },
                                {
                                    "Territory": "Germany",
                                    "TrainingRequired": "Yes"
                                },
                                {
                                    "Territory": "Northeast",
                                    "TrainingRequired": "Yes"
                                },
                                {
                                    "Territory": "Northwest",
                                    "TrainingRequired": "No"
                                },
                                {
                                    "Territory": "Southeast",
                                    "TrainingRequired": "Yes"
                                },
                                {
                                    "Territory": "Southwest",
                                    "TrainingRequired": "No"
                                },
                                {
                                    "Territory": "United Kingdom",
                                    "TrainingRequired": "Yes"
                                }
                            ]
                        },
                        "text/html": "<table><tr><th>Territory</th><th>TrainingRequired</th></tr><tr><td>Australia</td><td>Yes</td></tr><tr><td>Canada</td><td>No</td></tr><tr><td>Central</td><td>Yes</td></tr><tr><td>France</td><td>No</td></tr><tr><td>Germany</td><td>Yes</td></tr><tr><td>Northeast</td><td>Yes</td></tr><tr><td>Northwest</td><td>No</td></tr><tr><td>Southeast</td><td>Yes</td></tr><tr><td>Southwest</td><td>No</td></tr><tr><td>United Kingdom</td><td>Yes</td></tr></table>"
                    },
                    "metadata": {}
                }
            ],
            "execution_count": 10
        },
        {
            "cell_type": "markdown",
            "source": [
                "<span style=\"font-size: 12.000000pt; font-family: 'TimesNewRomanPS'; font-weight: 700\">Problem 2</span>\n",
                "\n",
                "<span style=\"font-size: 12.000000pt; font-family: 'TimesNewRomanPSMT'\">The sales manager wants to know how many sales orders were shipped to each country and state/province. Your result set should contain three columns: Country, StateProvince, and TotalOrders in alphabetical order by country, then showing the greatest number of TotalOrders.</span>\n",
                "\n",
                "<span style=\"font-size: 12.000000pt; font-family: 'TimesNewRomanPSMT'\">Part A<br>Write a single query that shows the total number of sales orders from each country and each state/province within each country. Use the full name of each country and state/province.&nbsp;</span>"
            ],
            "metadata": {
                "azdata_cell_guid": "fa8ae3fb-d58a-4f58-8902-9a78625fbea5"
            },
            "attachments": {}
        },
        {
            "cell_type": "code",
            "source": [
                "SELECT cr.Name AS Country\n",
                "    , sp.Name AS StateProvince\n",
                "    , COUNT(soh.SalesOrderID) AS TotalOrders   \n",
                "FROM sales.SalesOrderHeader soh \n",
                "INNER JOIN person.Address a\n",
                "    ON soh.ShipToAddressID = a.AddressID\n",
                "INNER JOIN Person.StateProvince sp\n",
                "    ON a.StateProvinceID = sp.StateProvinceID\n",
                "INNER JOIN person.CountryRegion cr\n",
                "    ON sp.CountryRegionCode = cr.CountryRegionCode\n",
                "GROUP BY ROLLUP (cr.Name, sp.Name)\n",
                "ORDER BY cr.Name ASC, TotalOrders DESC"
            ],
            "metadata": {
                "azdata_cell_guid": "012ef177-8833-464c-afcd-41036d8f7d6b",
                "language": "sql",
                "tags": [
                    "hide_input"
                ]
            },
            "outputs": [
                {
                    "output_type": "display_data",
                    "data": {
                        "text/html": "(77 rows affected)"
                    },
                    "metadata": {}
                },
                {
                    "output_type": "display_data",
                    "data": {
                        "text/html": "Total execution time: 00:00:00.089"
                    },
                    "metadata": {}
                },
                {
                    "output_type": "execute_result",
                    "execution_count": 11,
                    "data": {
                        "application/vnd.dataresource+json": {
                            "schema": {
                                "fields": [
                                    {
                                        "name": "Country"
                                    },
                                    {
                                        "name": "StateProvince"
                                    },
                                    {
                                        "name": "TotalOrders"
                                    }
                                ]
                            },
                            "data": [
                                {
                                    "Country": "NULL",
                                    "StateProvince": "NULL",
                                    "TotalOrders": "31465"
                                },
                                {
                                    "Country": "Australia",
                                    "StateProvince": "NULL",
                                    "TotalOrders": "6843"
                                },
                                {
                                    "Country": "Australia",
                                    "StateProvince": "New South Wales",
                                    "TotalOrders": "3009"
                                },
                                {
                                    "Country": "Australia",
                                    "StateProvince": "Victoria",
                                    "TotalOrders": "1710"
                                },
                                {
                                    "Country": "Australia",
                                    "StateProvince": "Queensland",
                                    "TotalOrders": "1461"
                                },
                                {
                                    "Country": "Australia",
                                    "StateProvince": "South Australia",
                                    "TotalOrders": "466"
                                },
                                {
                                    "Country": "Australia",
                                    "StateProvince": "Tasmania",
                                    "TotalOrders": "197"
                                },
                                {
                                    "Country": "Canada",
                                    "StateProvince": "NULL",
                                    "TotalOrders": "4067"
                                },
                                {
                                    "Country": "Canada",
                                    "StateProvince": "British Columbia",
                                    "TotalOrders": "3472"
                                },
                                {
                                    "Country": "Canada",
                                    "StateProvince": "Ontario",
                                    "TotalOrders": "339"
                                },
                                {
                                    "Country": "Canada",
                                    "StateProvince": "Quebec",
                                    "TotalOrders": "146"
                                },
                                {
                                    "Country": "Canada",
                                    "StateProvince": "Alberta",
                                    "TotalOrders": "90"
                                },
                                {
                                    "Country": "Canada",
                                    "StateProvince": "Manitoba",
                                    "TotalOrders": "12"
                                },
                                {
                                    "Country": "Canada",
                                    "StateProvince": "Brunswick",
                                    "TotalOrders": "8"
                                },
                                {
                                    "Country": "France",
                                    "StateProvince": "NULL",
                                    "TotalOrders": "2672"
                                },
                                {
                                    "Country": "France",
                                    "StateProvince": "Seine (Paris)",
                                    "TotalOrders": "575"
                                },
                                {
                                    "Country": "France",
                                    "StateProvince": "Seine Saint Denis",
                                    "TotalOrders": "391"
                                },
                                {
                                    "Country": "France",
                                    "StateProvince": "Nord",
                                    "TotalOrders": "387"
                                },
                                {
                                    "Country": "France",
                                    "StateProvince": "Hauts de Seine",
                                    "TotalOrders": "295"
                                },
                                {
                                    "Country": "France",
                                    "StateProvince": "Essonne",
                                    "TotalOrders": "236"
                                },
                                {
                                    "Country": "France",
                                    "StateProvince": "Yveline",
                                    "TotalOrders": "224"
                                },
                                {
                                    "Country": "France",
                                    "StateProvince": "Loiret",
                                    "TotalOrders": "99"
                                },
                                {
                                    "Country": "France",
                                    "StateProvince": "Seine et Marne",
                                    "TotalOrders": "98"
                                },
                                {
                                    "Country": "France",
                                    "StateProvince": "Moselle",
                                    "TotalOrders": "82"
                                },
                                {
                                    "Country": "France",
                                    "StateProvince": "Val d'Oise",
                                    "TotalOrders": "71"
                                },
                                {
                                    "Country": "France",
                                    "StateProvince": "Garonne (Haute)",
                                    "TotalOrders": "46"
                                },
                                {
                                    "Country": "France",
                                    "StateProvince": "Val de Marne",
                                    "TotalOrders": "43"
                                },
                                {
                                    "Country": "France",
                                    "StateProvince": "Loir et Cher",
                                    "TotalOrders": "38"
                                },
                                {
                                    "Country": "France",
                                    "StateProvince": "Charente-Maritime",
                                    "TotalOrders": "31"
                                },
                                {
                                    "Country": "France",
                                    "StateProvince": "Somme",
                                    "TotalOrders": "30"
                                },
                                {
                                    "Country": "France",
                                    "StateProvince": "Pas de Calais",
                                    "TotalOrders": "26"
                                },
                                {
                                    "Country": "Germany",
                                    "StateProvince": "NULL",
                                    "TotalOrders": "2623"
                                },
                                {
                                    "Country": "Germany",
                                    "StateProvince": "Saarland",
                                    "TotalOrders": "658"
                                },
                                {
                                    "Country": "Germany",
                                    "StateProvince": "Nordrhein-Westfalen",
                                    "TotalOrders": "570"
                                },
                                {
                                    "Country": "Germany",
                                    "StateProvince": "Hessen",
                                    "TotalOrders": "560"
                                },
                                {
                                    "Country": "Germany",
                                    "StateProvince": "Hamburg",
                                    "TotalOrders": "441"
                                },
                                {
                                    "Country": "Germany",
                                    "StateProvince": "Bayern",
                                    "TotalOrders": "344"
                                },
                                {
                                    "Country": "Germany",
                                    "StateProvince": "Brandenburg",
                                    "TotalOrders": "50"
                                },
                                {
                                    "Country": "United Kingdom",
                                    "StateProvince": "England",
                                    "TotalOrders": "3219"
                                },
                                {
                                    "Country": "United Kingdom",
                                    "StateProvince": "NULL",
                                    "TotalOrders": "3219"
                                },
                                {
                                    "Country": "United States",
                                    "StateProvince": "NULL",
                                    "TotalOrders": "12041"
                                },
                                {
                                    "Country": "United States",
                                    "StateProvince": "California",
                                    "TotalOrders": "5884"
                                },
                                {
                                    "Country": "United States",
                                    "StateProvince": "Washington",
                                    "TotalOrders": "3042"
                                },
                                {
                                    "Country": "United States",
                                    "StateProvince": "Oregon",
                                    "TotalOrders": "1380"
                                },
                                {
                                    "Country": "United States",
                                    "StateProvince": "Texas",
                                    "TotalOrders": "253"
                                },
                                {
                                    "Country": "United States",
                                    "StateProvince": "Florida",
                                    "TotalOrders": "159"
                                },
                                {
                                    "Country": "United States",
                                    "StateProvince": "Michigan",
                                    "TotalOrders": "104"
                                },
                                {
                                    "Country": "United States",
                                    "StateProvince": "Tennessee",
                                    "TotalOrders": "92"
                                },
                                {
                                    "Country": "United States",
                                    "StateProvince": "Ohio",
                                    "TotalOrders": "83"
                                },
                                {
                                    "Country": "United States",
                                    "StateProvince": "Georgia",
                                    "TotalOrders": "76"
                                },
                                {
                                    "Country": "United States",
                                    "StateProvince": "Illinois",
                                    "TotalOrders": "73"
                                },
                                {
                                    "Country": "United States",
                                    "StateProvince": "Missouri",
                                    "TotalOrders": "68"
                                },
                                {
                                    "Country": "United States",
                                    "StateProvince": "Arizona",
                                    "TotalOrders": "67"
                                },
                                {
                                    "Country": "United States",
                                    "StateProvince": "Indiana",
                                    "TotalOrders": "65"
                                },
                                {
                                    "Country": "United States",
                                    "StateProvince": "Colorado",
                                    "TotalOrders": "64"
                                },
                                {
                                    "Country": "United States",
                                    "StateProvince": "Utah",
                                    "TotalOrders": "60"
                                },
                                {
                                    "Country": "United States",
                                    "StateProvince": "Connecticut",
                                    "TotalOrders": "59"
                                },
                                {
                                    "Country": "United States",
                                    "StateProvince": "New York",
                                    "TotalOrders": "53"
                                },
                                {
                                    "Country": "United States",
                                    "StateProvince": "Nevada",
                                    "TotalOrders": "49"
                                },
                                {
                                    "Country": "United States",
                                    "StateProvince": "New Hampshire",
                                    "TotalOrders": "48"
                                },
                                {
                                    "Country": "United States",
                                    "StateProvince": "North Carolina",
                                    "TotalOrders": "42"
                                },
                                {
                                    "Country": "United States",
                                    "StateProvince": "Minnesota",
                                    "TotalOrders": "38"
                                },
                                {
                                    "Country": "United States",
                                    "StateProvince": "Virginia",
                                    "TotalOrders": "34"
                                },
                                {
                                    "Country": "United States",
                                    "StateProvince": "Wyoming",
                                    "TotalOrders": "34"
                                },
                                {
                                    "Country": "United States",
                                    "StateProvince": "Massachusetts",
                                    "TotalOrders": "25"
                                },
                                {
                                    "Country": "United States",
                                    "StateProvince": "Wisconsin",
                                    "TotalOrders": "24"
                                },
                                {
                                    "Country": "United States",
                                    "StateProvince": "Kentucky",
                                    "TotalOrders": "23"
                                },
                                {
                                    "Country": "United States",
                                    "StateProvince": "Alabama",
                                    "TotalOrders": "22"
                                },
                                {
                                    "Country": "United States",
                                    "StateProvince": "South Carolina",
                                    "TotalOrders": "22"
                                },
                                {
                                    "Country": "United States",
                                    "StateProvince": "New Mexico",
                                    "TotalOrders": "20"
                                },
                                {
                                    "Country": "United States",
                                    "StateProvince": "Mississippi",
                                    "TotalOrders": "16"
                                },
                                {
                                    "Country": "United States",
                                    "StateProvince": "Montana",
                                    "TotalOrders": "16"
                                },
                                {
                                    "Country": "United States",
                                    "StateProvince": "South Dakota",
                                    "TotalOrders": "14"
                                },
                                {
                                    "Country": "United States",
                                    "StateProvince": "Idaho",
                                    "TotalOrders": "13"
                                },
                                {
                                    "Country": "United States",
                                    "StateProvince": "Maine",
                                    "TotalOrders": "12"
                                },
                                {
                                    "Country": "United States",
                                    "StateProvince": "Rhode Island",
                                    "TotalOrders": "6"
                                },
                                {
                                    "Country": "United States",
                                    "StateProvince": "Maryland",
                                    "TotalOrders": "1"
                                }
                            ]
                        },
                        "text/html": "<table><tr><th>Country</th><th>StateProvince</th><th>TotalOrders</th></tr><tr><td>NULL</td><td>NULL</td><td>31465</td></tr><tr><td>Australia</td><td>NULL</td><td>6843</td></tr><tr><td>Australia</td><td>New South Wales</td><td>3009</td></tr><tr><td>Australia</td><td>Victoria</td><td>1710</td></tr><tr><td>Australia</td><td>Queensland</td><td>1461</td></tr><tr><td>Australia</td><td>South Australia</td><td>466</td></tr><tr><td>Australia</td><td>Tasmania</td><td>197</td></tr><tr><td>Canada</td><td>NULL</td><td>4067</td></tr><tr><td>Canada</td><td>British Columbia</td><td>3472</td></tr><tr><td>Canada</td><td>Ontario</td><td>339</td></tr><tr><td>Canada</td><td>Quebec</td><td>146</td></tr><tr><td>Canada</td><td>Alberta</td><td>90</td></tr><tr><td>Canada</td><td>Manitoba</td><td>12</td></tr><tr><td>Canada</td><td>Brunswick</td><td>8</td></tr><tr><td>France</td><td>NULL</td><td>2672</td></tr><tr><td>France</td><td>Seine (Paris)</td><td>575</td></tr><tr><td>France</td><td>Seine Saint Denis</td><td>391</td></tr><tr><td>France</td><td>Nord</td><td>387</td></tr><tr><td>France</td><td>Hauts de Seine</td><td>295</td></tr><tr><td>France</td><td>Essonne</td><td>236</td></tr><tr><td>France</td><td>Yveline</td><td>224</td></tr><tr><td>France</td><td>Loiret</td><td>99</td></tr><tr><td>France</td><td>Seine et Marne</td><td>98</td></tr><tr><td>France</td><td>Moselle</td><td>82</td></tr><tr><td>France</td><td>Val d&#39;Oise</td><td>71</td></tr><tr><td>France</td><td>Garonne (Haute)</td><td>46</td></tr><tr><td>France</td><td>Val de Marne</td><td>43</td></tr><tr><td>France</td><td>Loir et Cher</td><td>38</td></tr><tr><td>France</td><td>Charente-Maritime</td><td>31</td></tr><tr><td>France</td><td>Somme</td><td>30</td></tr><tr><td>France</td><td>Pas de Calais</td><td>26</td></tr><tr><td>Germany</td><td>NULL</td><td>2623</td></tr><tr><td>Germany</td><td>Saarland</td><td>658</td></tr><tr><td>Germany</td><td>Nordrhein-Westfalen</td><td>570</td></tr><tr><td>Germany</td><td>Hessen</td><td>560</td></tr><tr><td>Germany</td><td>Hamburg</td><td>441</td></tr><tr><td>Germany</td><td>Bayern</td><td>344</td></tr><tr><td>Germany</td><td>Brandenburg</td><td>50</td></tr><tr><td>United Kingdom</td><td>England</td><td>3219</td></tr><tr><td>United Kingdom</td><td>NULL</td><td>3219</td></tr><tr><td>United States</td><td>NULL</td><td>12041</td></tr><tr><td>United States</td><td>California</td><td>5884</td></tr><tr><td>United States</td><td>Washington</td><td>3042</td></tr><tr><td>United States</td><td>Oregon</td><td>1380</td></tr><tr><td>United States</td><td>Texas</td><td>253</td></tr><tr><td>United States</td><td>Florida</td><td>159</td></tr><tr><td>United States</td><td>Michigan</td><td>104</td></tr><tr><td>United States</td><td>Tennessee</td><td>92</td></tr><tr><td>United States</td><td>Ohio</td><td>83</td></tr><tr><td>United States</td><td>Georgia</td><td>76</td></tr><tr><td>United States</td><td>Illinois</td><td>73</td></tr><tr><td>United States</td><td>Missouri</td><td>68</td></tr><tr><td>United States</td><td>Arizona</td><td>67</td></tr><tr><td>United States</td><td>Indiana</td><td>65</td></tr><tr><td>United States</td><td>Colorado</td><td>64</td></tr><tr><td>United States</td><td>Utah</td><td>60</td></tr><tr><td>United States</td><td>Connecticut</td><td>59</td></tr><tr><td>United States</td><td>New York</td><td>53</td></tr><tr><td>United States</td><td>Nevada</td><td>49</td></tr><tr><td>United States</td><td>New Hampshire</td><td>48</td></tr><tr><td>United States</td><td>North Carolina</td><td>42</td></tr><tr><td>United States</td><td>Minnesota</td><td>38</td></tr><tr><td>United States</td><td>Virginia</td><td>34</td></tr><tr><td>United States</td><td>Wyoming</td><td>34</td></tr><tr><td>United States</td><td>Massachusetts</td><td>25</td></tr><tr><td>United States</td><td>Wisconsin</td><td>24</td></tr><tr><td>United States</td><td>Kentucky</td><td>23</td></tr><tr><td>United States</td><td>Alabama</td><td>22</td></tr><tr><td>United States</td><td>South Carolina</td><td>22</td></tr><tr><td>United States</td><td>New Mexico</td><td>20</td></tr><tr><td>United States</td><td>Mississippi</td><td>16</td></tr><tr><td>United States</td><td>Montana</td><td>16</td></tr><tr><td>United States</td><td>South Dakota</td><td>14</td></tr><tr><td>United States</td><td>Idaho</td><td>13</td></tr><tr><td>United States</td><td>Maine</td><td>12</td></tr><tr><td>United States</td><td>Rhode Island</td><td>6</td></tr><tr><td>United States</td><td>Maryland</td><td>1</td></tr></table>"
                    },
                    "metadata": {}
                }
            ],
            "execution_count": 11
        },
        {
            "cell_type": "markdown",
            "source": [
                "<span style=\"font-size: 12.000000pt; font-family: 'TimesNewRomanPSMT'\">Part B<br>Modify your query to only show cases with 100 or more orders, sorted in the same fashion as Part A.&nbsp;</span>"
            ],
            "metadata": {
                "azdata_cell_guid": "98b2839c-c108-4e5d-8adb-6a167f49b9a1"
            },
            "attachments": {}
        },
        {
            "cell_type": "code",
            "source": [
                "SELECT cr.Name AS Country\n",
                "    , sp.Name AS StateProvince\n",
                "    , COUNT(soh.SalesOrderID) AS TotalOrders   \n",
                "FROM sales.SalesOrderHeader soh \n",
                "INNER JOIN person.Address a\n",
                "    ON soh.ShipToAddressID = a.AddressID\n",
                "INNER JOIN Person.StateProvince sp\n",
                "    ON a.StateProvinceID = sp.StateProvinceID\n",
                "INNER JOIN person.CountryRegion cr\n",
                "    ON sp.CountryRegionCode = cr.CountryRegionCode\n",
                "GROUP BY ROLLUP (cr.Name, sp.Name)\n",
                "HAVING COUNT(soh.SalesOrderID) > 99\n",
                "ORDER BY cr.Name ASC, TotalOrders DESC"
            ],
            "metadata": {
                "azdata_cell_guid": "ebb4f95e-dd49-4500-9590-7de25f640f58",
                "language": "sql",
                "tags": []
            },
            "outputs": [
                {
                    "output_type": "display_data",
                    "data": {
                        "text/html": "(33 rows affected)"
                    },
                    "metadata": {}
                },
                {
                    "output_type": "display_data",
                    "data": {
                        "text/html": "Total execution time: 00:00:00.086"
                    },
                    "metadata": {}
                },
                {
                    "output_type": "execute_result",
                    "execution_count": 12,
                    "data": {
                        "application/vnd.dataresource+json": {
                            "schema": {
                                "fields": [
                                    {
                                        "name": "Country"
                                    },
                                    {
                                        "name": "StateProvince"
                                    },
                                    {
                                        "name": "TotalOrders"
                                    }
                                ]
                            },
                            "data": [
                                {
                                    "Country": "NULL",
                                    "StateProvince": "NULL",
                                    "TotalOrders": "31465"
                                },
                                {
                                    "Country": "Australia",
                                    "StateProvince": "NULL",
                                    "TotalOrders": "6843"
                                },
                                {
                                    "Country": "Australia",
                                    "StateProvince": "New South Wales",
                                    "TotalOrders": "3009"
                                },
                                {
                                    "Country": "Australia",
                                    "StateProvince": "Victoria",
                                    "TotalOrders": "1710"
                                },
                                {
                                    "Country": "Australia",
                                    "StateProvince": "Queensland",
                                    "TotalOrders": "1461"
                                },
                                {
                                    "Country": "Australia",
                                    "StateProvince": "South Australia",
                                    "TotalOrders": "466"
                                },
                                {
                                    "Country": "Australia",
                                    "StateProvince": "Tasmania",
                                    "TotalOrders": "197"
                                },
                                {
                                    "Country": "Canada",
                                    "StateProvince": "NULL",
                                    "TotalOrders": "4067"
                                },
                                {
                                    "Country": "Canada",
                                    "StateProvince": "British Columbia",
                                    "TotalOrders": "3472"
                                },
                                {
                                    "Country": "Canada",
                                    "StateProvince": "Ontario",
                                    "TotalOrders": "339"
                                },
                                {
                                    "Country": "Canada",
                                    "StateProvince": "Quebec",
                                    "TotalOrders": "146"
                                },
                                {
                                    "Country": "France",
                                    "StateProvince": "NULL",
                                    "TotalOrders": "2672"
                                },
                                {
                                    "Country": "France",
                                    "StateProvince": "Seine (Paris)",
                                    "TotalOrders": "575"
                                },
                                {
                                    "Country": "France",
                                    "StateProvince": "Seine Saint Denis",
                                    "TotalOrders": "391"
                                },
                                {
                                    "Country": "France",
                                    "StateProvince": "Nord",
                                    "TotalOrders": "387"
                                },
                                {
                                    "Country": "France",
                                    "StateProvince": "Hauts de Seine",
                                    "TotalOrders": "295"
                                },
                                {
                                    "Country": "France",
                                    "StateProvince": "Essonne",
                                    "TotalOrders": "236"
                                },
                                {
                                    "Country": "France",
                                    "StateProvince": "Yveline",
                                    "TotalOrders": "224"
                                },
                                {
                                    "Country": "Germany",
                                    "StateProvince": "NULL",
                                    "TotalOrders": "2623"
                                },
                                {
                                    "Country": "Germany",
                                    "StateProvince": "Saarland",
                                    "TotalOrders": "658"
                                },
                                {
                                    "Country": "Germany",
                                    "StateProvince": "Nordrhein-Westfalen",
                                    "TotalOrders": "570"
                                },
                                {
                                    "Country": "Germany",
                                    "StateProvince": "Hessen",
                                    "TotalOrders": "560"
                                },
                                {
                                    "Country": "Germany",
                                    "StateProvince": "Hamburg",
                                    "TotalOrders": "441"
                                },
                                {
                                    "Country": "Germany",
                                    "StateProvince": "Bayern",
                                    "TotalOrders": "344"
                                },
                                {
                                    "Country": "United Kingdom",
                                    "StateProvince": "England",
                                    "TotalOrders": "3219"
                                },
                                {
                                    "Country": "United Kingdom",
                                    "StateProvince": "NULL",
                                    "TotalOrders": "3219"
                                },
                                {
                                    "Country": "United States",
                                    "StateProvince": "NULL",
                                    "TotalOrders": "12041"
                                },
                                {
                                    "Country": "United States",
                                    "StateProvince": "California",
                                    "TotalOrders": "5884"
                                },
                                {
                                    "Country": "United States",
                                    "StateProvince": "Washington",
                                    "TotalOrders": "3042"
                                },
                                {
                                    "Country": "United States",
                                    "StateProvince": "Oregon",
                                    "TotalOrders": "1380"
                                },
                                {
                                    "Country": "United States",
                                    "StateProvince": "Texas",
                                    "TotalOrders": "253"
                                },
                                {
                                    "Country": "United States",
                                    "StateProvince": "Florida",
                                    "TotalOrders": "159"
                                },
                                {
                                    "Country": "United States",
                                    "StateProvince": "Michigan",
                                    "TotalOrders": "104"
                                }
                            ]
                        },
                        "text/html": "<table><tr><th>Country</th><th>StateProvince</th><th>TotalOrders</th></tr><tr><td>NULL</td><td>NULL</td><td>31465</td></tr><tr><td>Australia</td><td>NULL</td><td>6843</td></tr><tr><td>Australia</td><td>New South Wales</td><td>3009</td></tr><tr><td>Australia</td><td>Victoria</td><td>1710</td></tr><tr><td>Australia</td><td>Queensland</td><td>1461</td></tr><tr><td>Australia</td><td>South Australia</td><td>466</td></tr><tr><td>Australia</td><td>Tasmania</td><td>197</td></tr><tr><td>Canada</td><td>NULL</td><td>4067</td></tr><tr><td>Canada</td><td>British Columbia</td><td>3472</td></tr><tr><td>Canada</td><td>Ontario</td><td>339</td></tr><tr><td>Canada</td><td>Quebec</td><td>146</td></tr><tr><td>France</td><td>NULL</td><td>2672</td></tr><tr><td>France</td><td>Seine (Paris)</td><td>575</td></tr><tr><td>France</td><td>Seine Saint Denis</td><td>391</td></tr><tr><td>France</td><td>Nord</td><td>387</td></tr><tr><td>France</td><td>Hauts de Seine</td><td>295</td></tr><tr><td>France</td><td>Essonne</td><td>236</td></tr><tr><td>France</td><td>Yveline</td><td>224</td></tr><tr><td>Germany</td><td>NULL</td><td>2623</td></tr><tr><td>Germany</td><td>Saarland</td><td>658</td></tr><tr><td>Germany</td><td>Nordrhein-Westfalen</td><td>570</td></tr><tr><td>Germany</td><td>Hessen</td><td>560</td></tr><tr><td>Germany</td><td>Hamburg</td><td>441</td></tr><tr><td>Germany</td><td>Bayern</td><td>344</td></tr><tr><td>United Kingdom</td><td>England</td><td>3219</td></tr><tr><td>United Kingdom</td><td>NULL</td><td>3219</td></tr><tr><td>United States</td><td>NULL</td><td>12041</td></tr><tr><td>United States</td><td>California</td><td>5884</td></tr><tr><td>United States</td><td>Washington</td><td>3042</td></tr><tr><td>United States</td><td>Oregon</td><td>1380</td></tr><tr><td>United States</td><td>Texas</td><td>253</td></tr><tr><td>United States</td><td>Florida</td><td>159</td></tr><tr><td>United States</td><td>Michigan</td><td>104</td></tr></table>"
                    },
                    "metadata": {}
                }
            ],
            "execution_count": 12
        },
        {
            "cell_type": "markdown",
            "source": [
                "<span style=\"font-size: 12.000000pt; font-family: 'TimesNewRomanPS'; font-weight: 700\">Problem 3</span>\n",
                "\n",
                "<span style=\"font-size: 12.000000pt; font-family: 'TimesNewRomanPSMT'\">Produce a report showing the total number of units for each product sold by AdventureWorks that also includes the category of each product and each product's sales rank and quintile within the category. Make sure the result set is alphabetical by category and in the appropriate rank order.&nbsp;</span>"
            ],
            "metadata": {
                "azdata_cell_guid": "e270bfe3-9626-4f85-a8af-4e409595a928"
            },
            "attachments": {}
        },
        {
            "cell_type": "code",
            "source": [
                "SELECT sod.ProductID\n",
                "    , c.Name AS Category\n",
                "    , SUM(sod.OrderQty) AS TotalSold\n",
                "    , RANK() OVER (PARTITION BY c.name ORDER BY c.Name, SUM(sod.OrderQty))  AS Rank \n",
                "    , NTILE(5) OVER (PARTITION BY c.name ORDER BY SUM(sod.OrderQty)) AS Quintile\n",
                "FROM Sales.SalesOrderDetail sod \n",
                "INNER JOIN Production.Product p\n",
                "ON sod.ProductID = p.ProductID\n",
                "INNER JOIN Production.ProductSubCategory sc\n",
                "ON p.ProductSubcategoryID = sc.ProductSubcategoryID\n",
                "INNER JOIN Production.ProductCategory c \n",
                "ON sc.ProductCategoryID = c.ProductCategoryID \n",
                "GROUP BY c.Name, sod.ProductID\n",
                "ORDER BY c.Name, Rank"
            ],
            "metadata": {
                "azdata_cell_guid": "30f8aa37-dbfd-47bf-8a7c-a525507ccca9",
                "language": "sql",
                "tags": []
            },
            "outputs": [
                {
                    "output_type": "display_data",
                    "data": {
                        "text/html": "(266 rows affected)"
                    },
                    "metadata": {}
                },
                {
                    "output_type": "display_data",
                    "data": {
                        "text/html": "Total execution time: 00:00:00.115"
                    },
                    "metadata": {}
                },
                {
                    "output_type": "execute_result",
                    "execution_count": 13,
                    "data": {
                        "application/vnd.dataresource+json": {
                            "schema": {
                                "fields": [
                                    {
                                        "name": "ProductID"
                                    },
                                    {
                                        "name": "Category"
                                    },
                                    {
                                        "name": "TotalSold"
                                    },
                                    {
                                        "name": "Rank"
                                    },
                                    {
                                        "name": "Quintile"
                                    }
                                ]
                            },
                            "data": [
                                {
                                    "ProductID": "879",
                                    "Category": "Accessories",
                                    "TotalSold": "249",
                                    "Rank": "1",
                                    "Quintile": "1"
                                },
                                {
                                    "ProductID": "933",
                                    "Category": "Accessories",
                                    "TotalSold": "858",
                                    "Rank": "2",
                                    "Quintile": "1"
                                },
                                {
                                    "ProductID": "928",
                                    "Category": "Accessories",
                                    "TotalSold": "862",
                                    "Rank": "3",
                                    "Quintile": "1"
                                },
                                {
                                    "ProductID": "932",
                                    "Category": "Accessories",
                                    "TotalSold": "926",
                                    "Rank": "4",
                                    "Quintile": "1"
                                },
                                {
                                    "ProductID": "934",
                                    "Category": "Accessories",
                                    "TotalSold": "935",
                                    "Rank": "5",
                                    "Quintile": "1"
                                },
                                {
                                    "ProductID": "931",
                                    "Category": "Accessories",
                                    "TotalSold": "1044",
                                    "Rank": "6",
                                    "Quintile": "2"
                                },
                                {
                                    "ProductID": "843",
                                    "Category": "Accessories",
                                    "TotalSold": "1087",
                                    "Rank": "7",
                                    "Quintile": "2"
                                },
                                {
                                    "ProductID": "844",
                                    "Category": "Accessories",
                                    "TotalSold": "1130",
                                    "Rank": "8",
                                    "Quintile": "2"
                                },
                                {
                                    "ProductID": "929",
                                    "Category": "Accessories",
                                    "TotalSold": "1161",
                                    "Rank": "9",
                                    "Quintile": "2"
                                },
                                {
                                    "ProductID": "930",
                                    "Category": "Accessories",
                                    "TotalSold": "1396",
                                    "Rank": "10",
                                    "Quintile": "2"
                                },
                                {
                                    "ProductID": "923",
                                    "Category": "Accessories",
                                    "TotalSold": "1488",
                                    "Rank": "11",
                                    "Quintile": "3"
                                },
                                {
                                    "ProductID": "872",
                                    "Category": "Accessories",
                                    "TotalSold": "1712",
                                    "Rank": "12",
                                    "Quintile": "3"
                                },
                                {
                                    "ProductID": "871",
                                    "Category": "Accessories",
                                    "TotalSold": "2025",
                                    "Rank": "13",
                                    "Quintile": "3"
                                },
                                {
                                    "ProductID": "878",
                                    "Category": "Accessories",
                                    "TotalSold": "2121",
                                    "Rank": "14",
                                    "Quintile": "3"
                                },
                                {
                                    "ProductID": "922",
                                    "Category": "Accessories",
                                    "TotalSold": "2376",
                                    "Rank": "15",
                                    "Quintile": "3"
                                },
                                {
                                    "ProductID": "880",
                                    "Category": "Accessories",
                                    "TotalSold": "2761",
                                    "Rank": "16",
                                    "Quintile": "4"
                                },
                                {
                                    "ProductID": "921",
                                    "Category": "Accessories",
                                    "TotalSold": "3095",
                                    "Rank": "17",
                                    "Quintile": "4"
                                },
                                {
                                    "ProductID": "876",
                                    "Category": "Accessories",
                                    "TotalSold": "3166",
                                    "Rank": "18",
                                    "Quintile": "4"
                                },
                                {
                                    "ProductID": "877",
                                    "Category": "Accessories",
                                    "TotalSold": "3319",
                                    "Rank": "19",
                                    "Quintile": "4"
                                },
                                {
                                    "ProductID": "873",
                                    "Category": "Accessories",
                                    "TotalSold": "3865",
                                    "Rank": "20",
                                    "Quintile": "4"
                                },
                                {
                                    "ProductID": "707",
                                    "Category": "Accessories",
                                    "TotalSold": "6266",
                                    "Rank": "21",
                                    "Quintile": "5"
                                },
                                {
                                    "ProductID": "708",
                                    "Category": "Accessories",
                                    "TotalSold": "6532",
                                    "Rank": "22",
                                    "Quintile": "5"
                                },
                                {
                                    "ProductID": "711",
                                    "Category": "Accessories",
                                    "TotalSold": "6743",
                                    "Rank": "23",
                                    "Quintile": "5"
                                },
                                {
                                    "ProductID": "870",
                                    "Category": "Accessories",
                                    "TotalSold": "6815",
                                    "Rank": "24",
                                    "Quintile": "5"
                                },
                                {
                                    "ProductID": "757",
                                    "Category": "Bikes",
                                    "TotalSold": "156",
                                    "Rank": "1",
                                    "Quintile": "1"
                                },
                                {
                                    "ProductID": "993",
                                    "Category": "Bikes",
                                    "TotalSold": "272",
                                    "Rank": "2",
                                    "Quintile": "1"
                                },
                                {
                                    "ProductID": "960",
                                    "Category": "Bikes",
                                    "TotalSold": "281",
                                    "Rank": "3",
                                    "Quintile": "1"
                                },
                                {
                                    "ProductID": "989",
                                    "Category": "Bikes",
                                    "TotalSold": "282",
                                    "Rank": "4",
                                    "Quintile": "1"
                                },
                                {
                                    "ProductID": "978",
                                    "Category": "Bikes",
                                    "TotalSold": "292",
                                    "Rank": "5",
                                    "Quintile": "1"
                                },
                                {
                                    "ProductID": "964",
                                    "Category": "Bikes",
                                    "TotalSold": "293",
                                    "Rank": "6",
                                    "Quintile": "1"
                                },
                                {
                                    "ProductID": "971",
                                    "Category": "Bikes",
                                    "TotalSold": "322",
                                    "Rank": "7",
                                    "Quintile": "1"
                                },
                                {
                                    "ProductID": "756",
                                    "Category": "Bikes",
                                    "TotalSold": "346",
                                    "Rank": "8",
                                    "Quintile": "1"
                                },
                                {
                                    "ProductID": "991",
                                    "Category": "Bikes",
                                    "TotalSold": "350",
                                    "Rank": "9",
                                    "Quintile": "1"
                                },
                                {
                                    "ProductID": "755",
                                    "Category": "Bikes",
                                    "TotalSold": "350",
                                    "Rank": "9",
                                    "Quintile": "1"
                                },
                                {
                                    "ProductID": "986",
                                    "Category": "Bikes",
                                    "TotalSold": "381",
                                    "Rank": "11",
                                    "Quintile": "1"
                                },
                                {
                                    "ProductID": "982",
                                    "Category": "Bikes",
                                    "TotalSold": "385",
                                    "Rank": "12",
                                    "Quintile": "1"
                                },
                                {
                                    "ProductID": "990",
                                    "Category": "Bikes",
                                    "TotalSold": "388",
                                    "Rank": "13",
                                    "Quintile": "1"
                                },
                                {
                                    "ProductID": "956",
                                    "Category": "Bikes",
                                    "TotalSold": "397",
                                    "Rank": "14",
                                    "Quintile": "1"
                                },
                                {
                                    "ProductID": "983",
                                    "Category": "Bikes",
                                    "TotalSold": "401",
                                    "Rank": "15",
                                    "Quintile": "1"
                                },
                                {
                                    "ProductID": "968",
                                    "Category": "Bikes",
                                    "TotalSold": "413",
                                    "Rank": "16",
                                    "Quintile": "1"
                                },
                                {
                                    "ProductID": "980",
                                    "Category": "Bikes",
                                    "TotalSold": "425",
                                    "Rank": "17",
                                    "Quintile": "1"
                                },
                                {
                                    "ProductID": "750",
                                    "Category": "Bikes",
                                    "TotalSold": "437",
                                    "Rank": "18",
                                    "Quintile": "1"
                                },
                                {
                                    "ProductID": "992",
                                    "Category": "Bikes",
                                    "TotalSold": "449",
                                    "Rank": "19",
                                    "Quintile": "1"
                                },
                                {
                                    "ProductID": "984",
                                    "Category": "Bikes",
                                    "TotalSold": "450",
                                    "Rank": "20",
                                    "Quintile": "1"
                                },
                                {
                                    "ProductID": "963",
                                    "Category": "Bikes",
                                    "TotalSold": "453",
                                    "Rank": "21",
                                    "Quintile": "2"
                                },
                                {
                                    "ProductID": "985",
                                    "Category": "Bikes",
                                    "TotalSold": "455",
                                    "Rank": "22",
                                    "Quintile": "2"
                                },
                                {
                                    "ProductID": "987",
                                    "Category": "Bikes",
                                    "TotalSold": "457",
                                    "Rank": "23",
                                    "Quintile": "2"
                                },
                                {
                                    "ProductID": "752",
                                    "Category": "Bikes",
                                    "TotalSold": "458",
                                    "Rank": "24",
                                    "Quintile": "2"
                                },
                                {
                                    "ProductID": "959",
                                    "Category": "Bikes",
                                    "TotalSold": "482",
                                    "Rank": "25",
                                    "Quintile": "2"
                                },
                                {
                                    "ProductID": "751",
                                    "Category": "Bikes",
                                    "TotalSold": "493",
                                    "Rank": "26",
                                    "Quintile": "2"
                                },
                                {
                                    "ProductID": "774",
                                    "Category": "Bikes",
                                    "TotalSold": "505",
                                    "Rank": "27",
                                    "Quintile": "2"
                                },
                                {
                                    "ProductID": "988",
                                    "Category": "Bikes",
                                    "TotalSold": "515",
                                    "Rank": "28",
                                    "Quintile": "2"
                                },
                                {
                                    "ProductID": "975",
                                    "Category": "Bikes",
                                    "TotalSold": "536",
                                    "Rank": "29",
                                    "Quintile": "2"
                                },
                                {
                                    "ProductID": "970",
                                    "Category": "Bikes",
                                    "TotalSold": "538",
                                    "Rank": "30",
                                    "Quintile": "2"
                                },
                                {
                                    "ProductID": "754",
                                    "Category": "Bikes",
                                    "TotalSold": "582",
                                    "Rank": "31",
                                    "Quintile": "2"
                                },
                                {
                                    "ProductID": "772",
                                    "Category": "Bikes",
                                    "TotalSold": "593",
                                    "Rank": "32",
                                    "Quintile": "2"
                                },
                                {
                                    "ProductID": "749",
                                    "Category": "Bikes",
                                    "TotalSold": "600",
                                    "Rank": "33",
                                    "Quintile": "2"
                                },
                                {
                                    "ProductID": "773",
                                    "Category": "Bikes",
                                    "TotalSold": "601",
                                    "Rank": "34",
                                    "Quintile": "2"
                                },
                                {
                                    "ProductID": "778",
                                    "Category": "Bikes",
                                    "TotalSold": "616",
                                    "Rank": "35",
                                    "Quintile": "2"
                                },
                                {
                                    "ProductID": "981",
                                    "Category": "Bikes",
                                    "TotalSold": "617",
                                    "Rank": "36",
                                    "Quintile": "2"
                                },
                                {
                                    "ProductID": "759",
                                    "Category": "Bikes",
                                    "TotalSold": "618",
                                    "Rank": "37",
                                    "Quintile": "2"
                                },
                                {
                                    "ProductID": "776",
                                    "Category": "Bikes",
                                    "TotalSold": "634",
                                    "Rank": "38",
                                    "Quintile": "2"
                                },
                                {
                                    "ProductID": "791",
                                    "Category": "Bikes",
                                    "TotalSold": "639",
                                    "Rank": "39",
                                    "Quintile": "2"
                                },
                                {
                                    "ProductID": "771",
                                    "Category": "Bikes",
                                    "TotalSold": "642",
                                    "Rank": "40",
                                    "Quintile": "2"
                                },
                                {
                                    "ProductID": "767",
                                    "Category": "Bikes",
                                    "TotalSold": "644",
                                    "Rank": "41",
                                    "Quintile": "3"
                                },
                                {
                                    "ProductID": "769",
                                    "Category": "Bikes",
                                    "TotalSold": "644",
                                    "Rank": "41",
                                    "Quintile": "3"
                                },
                                {
                                    "ProductID": "967",
                                    "Category": "Bikes",
                                    "TotalSold": "649",
                                    "Rank": "43",
                                    "Quintile": "3"
                                },
                                {
                                    "ProductID": "955",
                                    "Category": "Bikes",
                                    "TotalSold": "652",
                                    "Rank": "44",
                                    "Quintile": "3"
                                },
                                {
                                    "ProductID": "997",
                                    "Category": "Bikes",
                                    "TotalSold": "656",
                                    "Rank": "45",
                                    "Quintile": "3"
                                },
                                {
                                    "ProductID": "753",
                                    "Category": "Bikes",
                                    "TotalSold": "664",
                                    "Rank": "46",
                                    "Quintile": "3"
                                },
                                {
                                    "ProductID": "777",
                                    "Category": "Bikes",
                                    "TotalSold": "678",
                                    "Rank": "47",
                                    "Quintile": "3"
                                },
                                {
                                    "ProductID": "775",
                                    "Category": "Bikes",
                                    "TotalSold": "682",
                                    "Rank": "48",
                                    "Quintile": "3"
                                },
                                {
                                    "ProductID": "785",
                                    "Category": "Bikes",
                                    "TotalSold": "684",
                                    "Rank": "49",
                                    "Quintile": "3"
                                },
                                {
                                    "ProductID": "962",
                                    "Category": "Bikes",
                                    "TotalSold": "686",
                                    "Rank": "50",
                                    "Quintile": "3"
                                },
                                {
                                    "ProductID": "958",
                                    "Category": "Bikes",
                                    "TotalSold": "686",
                                    "Rank": "50",
                                    "Quintile": "3"
                                },
                                {
                                    "ProductID": "758",
                                    "Category": "Bikes",
                                    "TotalSold": "710",
                                    "Rank": "52",
                                    "Quintile": "3"
                                },
                                {
                                    "ProductID": "788",
                                    "Category": "Bikes",
                                    "TotalSold": "740",
                                    "Rank": "53",
                                    "Quintile": "3"
                                },
                                {
                                    "ProductID": "787",
                                    "Category": "Bikes",
                                    "TotalSold": "747",
                                    "Rank": "54",
                                    "Quintile": "3"
                                },
                                {
                                    "ProductID": "786",
                                    "Category": "Bikes",
                                    "TotalSold": "776",
                                    "Rank": "55",
                                    "Quintile": "3"
                                },
                                {
                                    "ProductID": "790",
                                    "Category": "Bikes",
                                    "TotalSold": "812",
                                    "Rank": "56",
                                    "Quintile": "3"
                                },
                                {
                                    "ProductID": "953",
                                    "Category": "Bikes",
                                    "TotalSold": "820",
                                    "Rank": "57",
                                    "Quintile": "3"
                                },
                                {
                                    "ProductID": "979",
                                    "Category": "Bikes",
                                    "TotalSold": "841",
                                    "Rank": "58",
                                    "Quintile": "3"
                                },
                                {
                                    "ProductID": "965",
                                    "Category": "Bikes",
                                    "TotalSold": "844",
                                    "Rank": "59",
                                    "Quintile": "3"
                                },
                                {
                                    "ProductID": "961",
                                    "Category": "Bikes",
                                    "TotalSold": "851",
                                    "Rank": "60",
                                    "Quintile": "4"
                                },
                                {
                                    "ProductID": "977",
                                    "Category": "Bikes",
                                    "TotalSold": "892",
                                    "Rank": "61",
                                    "Quintile": "4"
                                },
                                {
                                    "ProductID": "789",
                                    "Category": "Bikes",
                                    "TotalSold": "895",
                                    "Rank": "62",
                                    "Quintile": "4"
                                },
                                {
                                    "ProductID": "796",
                                    "Category": "Bikes",
                                    "TotalSold": "910",
                                    "Rank": "63",
                                    "Quintile": "4"
                                },
                                {
                                    "ProductID": "800",
                                    "Category": "Bikes",
                                    "TotalSold": "927",
                                    "Rank": "64",
                                    "Quintile": "4"
                                },
                                {
                                    "ProductID": "974",
                                    "Category": "Bikes",
                                    "TotalSold": "944",
                                    "Rank": "65",
                                    "Quintile": "4"
                                },
                                {
                                    "ProductID": "792",
                                    "Category": "Bikes",
                                    "TotalSold": "946",
                                    "Rank": "66",
                                    "Quintile": "4"
                                },
                                {
                                    "ProductID": "966",
                                    "Category": "Bikes",
                                    "TotalSold": "1002",
                                    "Rank": "67",
                                    "Quintile": "4"
                                },
                                {
                                    "ProductID": "954",
                                    "Category": "Bikes",
                                    "TotalSold": "1005",
                                    "Rank": "68",
                                    "Quintile": "4"
                                },
                                {
                                    "ProductID": "972",
                                    "Category": "Bikes",
                                    "TotalSold": "1010",
                                    "Rank": "69",
                                    "Quintile": "4"
                                },
                                {
                                    "ProductID": "768",
                                    "Category": "Bikes",
                                    "TotalSold": "1080",
                                    "Rank": "70",
                                    "Quintile": "4"
                                },
                                {
                                    "ProductID": "766",
                                    "Category": "Bikes",
                                    "TotalSold": "1100",
                                    "Rank": "71",
                                    "Quintile": "4"
                                },
                                {
                                    "ProductID": "764",
                                    "Category": "Bikes",
                                    "TotalSold": "1112",
                                    "Rank": "72",
                                    "Quintile": "4"
                                },
                                {
                                    "ProductID": "957",
                                    "Category": "Bikes",
                                    "TotalSold": "1114",
                                    "Rank": "73",
                                    "Quintile": "4"
                                },
                                {
                                    "ProductID": "969",
                                    "Category": "Bikes",
                                    "TotalSold": "1120",
                                    "Rank": "74",
                                    "Quintile": "4"
                                },
                                {
                                    "ProductID": "795",
                                    "Category": "Bikes",
                                    "TotalSold": "1245",
                                    "Rank": "75",
                                    "Quintile": "4"
                                },
                                {
                                    "ProductID": "799",
                                    "Category": "Bikes",
                                    "TotalSold": "1249",
                                    "Rank": "76",
                                    "Quintile": "4"
                                },
                                {
                                    "ProductID": "999",
                                    "Category": "Bikes",
                                    "TotalSold": "1338",
                                    "Rank": "77",
                                    "Quintile": "4"
                                },
                                {
                                    "ProductID": "973",
                                    "Category": "Bikes",
                                    "TotalSold": "1477",
                                    "Rank": "78",
                                    "Quintile": "4"
                                },
                                {
                                    "ProductID": "794",
                                    "Category": "Bikes",
                                    "TotalSold": "1498",
                                    "Rank": "79",
                                    "Quintile": "5"
                                },
                                {
                                    "ProductID": "798",
                                    "Category": "Bikes",
                                    "TotalSold": "1500",
                                    "Rank": "80",
                                    "Quintile": "5"
                                },
                                {
                                    "ProductID": "998",
                                    "Category": "Bikes",
                                    "TotalSold": "1556",
                                    "Rank": "81",
                                    "Quintile": "5"
                                },
                                {
                                    "ProductID": "976",
                                    "Category": "Bikes",
                                    "TotalSold": "1622",
                                    "Rank": "82",
                                    "Quintile": "5"
                                },
                                {
                                    "ProductID": "793",
                                    "Category": "Bikes",
                                    "TotalSold": "1642",
                                    "Rank": "83",
                                    "Quintile": "5"
                                },
                                {
                                    "ProductID": "797",
                                    "Category": "Bikes",
                                    "TotalSold": "1744",
                                    "Rank": "84",
                                    "Quintile": "5"
                                },
                                {
                                    "ProductID": "801",
                                    "Category": "Bikes",
                                    "TotalSold": "1763",
                                    "Rank": "85",
                                    "Quintile": "5"
                                },
                                {
                                    "ProductID": "765",
                                    "Category": "Bikes",
                                    "TotalSold": "1871",
                                    "Rank": "86",
                                    "Quintile": "5"
                                },
                                {
                                    "ProductID": "763",
                                    "Category": "Bikes",
                                    "TotalSold": "1888",
                                    "Rank": "87",
                                    "Quintile": "5"
                                },
                                {
                                    "ProductID": "761",
                                    "Category": "Bikes",
                                    "TotalSold": "1896",
                                    "Rank": "88",
                                    "Quintile": "5"
                                },
                                {
                                    "ProductID": "784",
                                    "Category": "Bikes",
                                    "TotalSold": "2111",
                                    "Rank": "89",
                                    "Quintile": "5"
                                },
                                {
                                    "ProductID": "781",
                                    "Category": "Bikes",
                                    "TotalSold": "2216",
                                    "Rank": "90",
                                    "Quintile": "5"
                                },
                                {
                                    "ProductID": "760",
                                    "Category": "Bikes",
                                    "TotalSold": "2232",
                                    "Rank": "91",
                                    "Quintile": "5"
                                },
                                {
                                    "ProductID": "780",
                                    "Category": "Bikes",
                                    "TotalSold": "2234",
                                    "Rank": "92",
                                    "Quintile": "5"
                                },
                                {
                                    "ProductID": "762",
                                    "Category": "Bikes",
                                    "TotalSold": "2254",
                                    "Rank": "93",
                                    "Quintile": "5"
                                },
                                {
                                    "ProductID": "770",
                                    "Category": "Bikes",
                                    "TotalSold": "2270",
                                    "Rank": "94",
                                    "Quintile": "5"
                                },
                                {
                                    "ProductID": "779",
                                    "Category": "Bikes",
                                    "TotalSold": "2394",
                                    "Rank": "95",
                                    "Quintile": "5"
                                },
                                {
                                    "ProductID": "783",
                                    "Category": "Bikes",
                                    "TotalSold": "2664",
                                    "Rank": "96",
                                    "Quintile": "5"
                                },
                                {
                                    "ProductID": "782",
                                    "Category": "Bikes",
                                    "TotalSold": "2977",
                                    "Rank": "97",
                                    "Quintile": "5"
                                },
                                {
                                    "ProductID": "710",
                                    "Category": "Clothing",
                                    "TotalSold": "90",
                                    "Rank": "1",
                                    "Quintile": "1"
                                },
                                {
                                    "ProductID": "866",
                                    "Category": "Clothing",
                                    "TotalSold": "207",
                                    "Rank": "2",
                                    "Quintile": "1"
                                },
                                {
                                    "ProductID": "853",
                                    "Category": "Clothing",
                                    "TotalSold": "394",
                                    "Rank": "3",
                                    "Quintile": "1"
                                },
                                {
                                    "ProductID": "882",
                                    "Category": "Clothing",
                                    "TotalSold": "407",
                                    "Rank": "4",
                                    "Quintile": "1"
                                },
                                {
                                    "ProductID": "713",
                                    "Category": "Clothing",
                                    "TotalSold": "429",
                                    "Rank": "5",
                                    "Quintile": "1"
                                },
                                {
                                    "ProductID": "850",
                                    "Category": "Clothing",
                                    "TotalSold": "445",
                                    "Rank": "6",
                                    "Quintile": "1"
                                },
                                {
                                    "ProductID": "861",
                                    "Category": "Clothing",
                                    "TotalSold": "500",
                                    "Rank": "7",
                                    "Quintile": "1"
                                },
                                {
                                    "ProductID": "841",
                                    "Category": "Clothing",
                                    "TotalSold": "567",
                                    "Rank": "8",
                                    "Quintile": "2"
                                },
                                {
                                    "ProductID": "857",
                                    "Category": "Clothing",
                                    "TotalSold": "633",
                                    "Rank": "9",
                                    "Quintile": "2"
                                },
                                {
                                    "ProductID": "855",
                                    "Category": "Clothing",
                                    "TotalSold": "876",
                                    "Rank": "10",
                                    "Quintile": "2"
                                },
                                {
                                    "ProductID": "709",
                                    "Category": "Clothing",
                                    "TotalSold": "1107",
                                    "Rank": "11",
                                    "Quintile": "2"
                                },
                                {
                                    "ProductID": "868",
                                    "Category": "Clothing",
                                    "TotalSold": "1139",
                                    "Rank": "12",
                                    "Quintile": "2"
                                },
                                {
                                    "ProductID": "860",
                                    "Category": "Clothing",
                                    "TotalSold": "1276",
                                    "Rank": "13",
                                    "Quintile": "2"
                                },
                                {
                                    "ProductID": "849",
                                    "Category": "Clothing",
                                    "TotalSold": "1276",
                                    "Rank": "13",
                                    "Quintile": "2"
                                },
                                {
                                    "ProductID": "874",
                                    "Category": "Clothing",
                                    "TotalSold": "1547",
                                    "Rank": "15",
                                    "Quintile": "3"
                                },
                                {
                                    "ProductID": "856",
                                    "Category": "Clothing",
                                    "TotalSold": "1616",
                                    "Rank": "16",
                                    "Quintile": "3"
                                },
                                {
                                    "ProductID": "881",
                                    "Category": "Clothing",
                                    "TotalSold": "1955",
                                    "Rank": "17",
                                    "Quintile": "3"
                                },
                                {
                                    "ProductID": "852",
                                    "Category": "Clothing",
                                    "TotalSold": "2072",
                                    "Rank": "18",
                                    "Quintile": "3"
                                },
                                {
                                    "ProductID": "854",
                                    "Category": "Clothing",
                                    "TotalSold": "2123",
                                    "Rank": "19",
                                    "Quintile": "3"
                                },
                                {
                                    "ProductID": "858",
                                    "Category": "Clothing",
                                    "TotalSold": "2188",
                                    "Rank": "20",
                                    "Quintile": "3"
                                },
                                {
                                    "ProductID": "862",
                                    "Category": "Clothing",
                                    "TotalSold": "2206",
                                    "Rank": "21",
                                    "Quintile": "3"
                                },
                                {
                                    "ProductID": "865",
                                    "Category": "Clothing",
                                    "TotalSold": "2284",
                                    "Rank": "22",
                                    "Quintile": "4"
                                },
                                {
                                    "ProductID": "875",
                                    "Category": "Clothing",
                                    "TotalSold": "2473",
                                    "Rank": "23",
                                    "Quintile": "4"
                                },
                                {
                                    "ProductID": "883",
                                    "Category": "Clothing",
                                    "TotalSold": "2848",
                                    "Rank": "24",
                                    "Quintile": "4"
                                },
                                {
                                    "ProductID": "716",
                                    "Category": "Clothing",
                                    "TotalSold": "2980",
                                    "Rank": "25",
                                    "Quintile": "4"
                                },
                                {
                                    "ProductID": "869",
                                    "Category": "Clothing",
                                    "TotalSold": "3244",
                                    "Rank": "26",
                                    "Quintile": "4"
                                },
                                {
                                    "ProductID": "867",
                                    "Category": "Clothing",
                                    "TotalSold": "3296",
                                    "Rank": "27",
                                    "Quintile": "4"
                                },
                                {
                                    "ProductID": "863",
                                    "Category": "Clothing",
                                    "TotalSold": "3378",
                                    "Rank": "28",
                                    "Quintile": "4"
                                },
                                {
                                    "ProductID": "859",
                                    "Category": "Clothing",
                                    "TotalSold": "3464",
                                    "Rank": "29",
                                    "Quintile": "5"
                                },
                                {
                                    "ProductID": "714",
                                    "Category": "Clothing",
                                    "TotalSold": "3636",
                                    "Rank": "30",
                                    "Quintile": "5"
                                },
                                {
                                    "ProductID": "884",
                                    "Category": "Clothing",
                                    "TotalSold": "3864",
                                    "Rank": "31",
                                    "Quintile": "5"
                                },
                                {
                                    "ProductID": "864",
                                    "Category": "Clothing",
                                    "TotalSold": "4247",
                                    "Rank": "32",
                                    "Quintile": "5"
                                },
                                {
                                    "ProductID": "715",
                                    "Category": "Clothing",
                                    "TotalSold": "6592",
                                    "Rank": "33",
                                    "Quintile": "5"
                                },
                                {
                                    "ProductID": "712",
                                    "Category": "Clothing",
                                    "TotalSold": "8311",
                                    "Rank": "34",
                                    "Quintile": "5"
                                },
                                {
                                    "ProductID": "897",
                                    "Category": "Components",
                                    "TotalSold": "4",
                                    "Rank": "1",
                                    "Quintile": "1"
                                },
                                {
                                    "ProductID": "942",
                                    "Category": "Components",
                                    "TotalSold": "7",
                                    "Rank": "2",
                                    "Quintile": "1"
                                },
                                {
                                    "ProductID": "943",
                                    "Category": "Components",
                                    "TotalSold": "8",
                                    "Rank": "3",
                                    "Quintile": "1"
                                },
                                {
                                    "ProductID": "911",
                                    "Category": "Components",
                                    "TotalSold": "10",
                                    "Rank": "4",
                                    "Quintile": "1"
                                },
                                {
                                    "ProductID": "927",
                                    "Category": "Components",
                                    "TotalSold": "15",
                                    "Rank": "5",
                                    "Quintile": "1"
                                },
                                {
                                    "ProductID": "898",
                                    "Category": "Components",
                                    "TotalSold": "15",
                                    "Rank": "5",
                                    "Quintile": "1"
                                },
                                {
                                    "ProductID": "744",
                                    "Category": "Components",
                                    "TotalSold": "17",
                                    "Rank": "7",
                                    "Quintile": "1"
                                },
                                {
                                    "ProductID": "903",
                                    "Category": "Components",
                                    "TotalSold": "25",
                                    "Rank": "8",
                                    "Quintile": "1"
                                },
                                {
                                    "ProductID": "902",
                                    "Category": "Components",
                                    "TotalSold": "36",
                                    "Rank": "9",
                                    "Quintile": "1"
                                },
                                {
                                    "ProductID": "919",
                                    "Category": "Components",
                                    "TotalSold": "44",
                                    "Rank": "10",
                                    "Quintile": "1"
                                },
                                {
                                    "ProductID": "946",
                                    "Category": "Components",
                                    "TotalSold": "56",
                                    "Rank": "11",
                                    "Quintile": "1"
                                },
                                {
                                    "ProductID": "827",
                                    "Category": "Components",
                                    "TotalSold": "64",
                                    "Rank": "12",
                                    "Quintile": "1"
                                },
                                {
                                    "ProductID": "830",
                                    "Category": "Components",
                                    "TotalSold": "68",
                                    "Rank": "13",
                                    "Quintile": "1"
                                },
                                {
                                    "ProductID": "950",
                                    "Category": "Components",
                                    "TotalSold": "68",
                                    "Rank": "13",
                                    "Quintile": "1"
                                },
                                {
                                    "ProductID": "888",
                                    "Category": "Components",
                                    "TotalSold": "83",
                                    "Rank": "15",
                                    "Quintile": "1"
                                },
                                {
                                    "ProductID": "915",
                                    "Category": "Components",
                                    "TotalSold": "84",
                                    "Rank": "16",
                                    "Quintile": "1"
                                },
                                {
                                    "ProductID": "887",
                                    "Category": "Components",
                                    "TotalSold": "87",
                                    "Rank": "17",
                                    "Quintile": "1"
                                },
                                {
                                    "ProductID": "733",
                                    "Category": "Components",
                                    "TotalSold": "90",
                                    "Rank": "18",
                                    "Quintile": "1"
                                },
                                {
                                    "ProductID": "914",
                                    "Category": "Components",
                                    "TotalSold": "91",
                                    "Rank": "19",
                                    "Quintile": "1"
                                },
                                {
                                    "ProductID": "828",
                                    "Category": "Components",
                                    "TotalSold": "94",
                                    "Rank": "20",
                                    "Quintile": "1"
                                },
                                {
                                    "ProductID": "805",
                                    "Category": "Components",
                                    "TotalSold": "95",
                                    "Rank": "21",
                                    "Quintile": "1"
                                },
                                {
                                    "ProductID": "727",
                                    "Category": "Components",
                                    "TotalSold": "100",
                                    "Rank": "22",
                                    "Quintile": "1"
                                },
                                {
                                    "ProductID": "719",
                                    "Category": "Components",
                                    "TotalSold": "109",
                                    "Rank": "23",
                                    "Quintile": "1"
                                },
                                {
                                    "ProductID": "839",
                                    "Category": "Components",
                                    "TotalSold": "109",
                                    "Rank": "23",
                                    "Quintile": "2"
                                },
                                {
                                    "ProductID": "890",
                                    "Category": "Components",
                                    "TotalSold": "114",
                                    "Rank": "25",
                                    "Quintile": "2"
                                },
                                {
                                    "ProductID": "891",
                                    "Category": "Components",
                                    "TotalSold": "124",
                                    "Rank": "26",
                                    "Quintile": "2"
                                },
                                {
                                    "ProductID": "723",
                                    "Category": "Components",
                                    "TotalSold": "129",
                                    "Rank": "27",
                                    "Quintile": "2"
                                },
                                {
                                    "ProductID": "745",
                                    "Category": "Components",
                                    "TotalSold": "131",
                                    "Rank": "28",
                                    "Quintile": "2"
                                },
                                {
                                    "ProductID": "913",
                                    "Category": "Components",
                                    "TotalSold": "134",
                                    "Rank": "29",
                                    "Quintile": "2"
                                },
                                {
                                    "ProductID": "941",
                                    "Category": "Components",
                                    "TotalSold": "147",
                                    "Rank": "30",
                                    "Quintile": "2"
                                },
                                {
                                    "ProductID": "741",
                                    "Category": "Components",
                                    "TotalSold": "173",
                                    "Rank": "31",
                                    "Quintile": "2"
                                },
                                {
                                    "ProductID": "906",
                                    "Category": "Components",
                                    "TotalSold": "188",
                                    "Rank": "32",
                                    "Quintile": "2"
                                },
                                {
                                    "ProductID": "802",
                                    "Category": "Components",
                                    "TotalSold": "190",
                                    "Rank": "33",
                                    "Quintile": "2"
                                },
                                {
                                    "ProductID": "833",
                                    "Category": "Components",
                                    "TotalSold": "203",
                                    "Rank": "34",
                                    "Quintile": "2"
                                },
                                {
                                    "ProductID": "896",
                                    "Category": "Components",
                                    "TotalSold": "211",
                                    "Rank": "35",
                                    "Quintile": "2"
                                },
                                {
                                    "ProductID": "811",
                                    "Category": "Components",
                                    "TotalSold": "213",
                                    "Rank": "36",
                                    "Quintile": "2"
                                },
                                {
                                    "ProductID": "947",
                                    "Category": "Components",
                                    "TotalSold": "220",
                                    "Rank": "37",
                                    "Quintile": "2"
                                },
                                {
                                    "ProductID": "817",
                                    "Category": "Components",
                                    "TotalSold": "222",
                                    "Rank": "38",
                                    "Quintile": "2"
                                },
                                {
                                    "ProductID": "900",
                                    "Category": "Components",
                                    "TotalSold": "228",
                                    "Rank": "39",
                                    "Quintile": "2"
                                },
                                {
                                    "ProductID": "736",
                                    "Category": "Components",
                                    "TotalSold": "238",
                                    "Rank": "40",
                                    "Quintile": "2"
                                },
                                {
                                    "ProductID": "907",
                                    "Category": "Components",
                                    "TotalSold": "246",
                                    "Rank": "41",
                                    "Quintile": "2"
                                },
                                {
                                    "ProductID": "732",
                                    "Category": "Components",
                                    "TotalSold": "250",
                                    "Rank": "42",
                                    "Quintile": "2"
                                },
                                {
                                    "ProductID": "807",
                                    "Category": "Components",
                                    "TotalSold": "255",
                                    "Rank": "43",
                                    "Quintile": "2"
                                },
                                {
                                    "ProductID": "816",
                                    "Category": "Components",
                                    "TotalSold": "266",
                                    "Rank": "44",
                                    "Quintile": "2"
                                },
                                {
                                    "ProductID": "899",
                                    "Category": "Components",
                                    "TotalSold": "294",
                                    "Rank": "45",
                                    "Quintile": "2"
                                },
                                {
                                    "ProductID": "895",
                                    "Category": "Components",
                                    "TotalSold": "316",
                                    "Rank": "46",
                                    "Quintile": "3"
                                },
                                {
                                    "ProductID": "823",
                                    "Category": "Components",
                                    "TotalSold": "342",
                                    "Rank": "47",
                                    "Quintile": "3"
                                },
                                {
                                    "ProductID": "936",
                                    "Category": "Components",
                                    "TotalSold": "345",
                                    "Rank": "48",
                                    "Quintile": "3"
                                },
                                {
                                    "ProductID": "908",
                                    "Category": "Components",
                                    "TotalSold": "347",
                                    "Rank": "49",
                                    "Quintile": "3"
                                },
                                {
                                    "ProductID": "739",
                                    "Category": "Components",
                                    "TotalSold": "347",
                                    "Rank": "49",
                                    "Quintile": "3"
                                },
                                {
                                    "ProductID": "886",
                                    "Category": "Components",
                                    "TotalSold": "348",
                                    "Rank": "51",
                                    "Quintile": "3"
                                },
                                {
                                    "ProductID": "894",
                                    "Category": "Components",
                                    "TotalSold": "353",
                                    "Rank": "52",
                                    "Quintile": "3"
                                },
                                {
                                    "ProductID": "893",
                                    "Category": "Components",
                                    "TotalSold": "371",
                                    "Rank": "53",
                                    "Quintile": "3"
                                },
                                {
                                    "ProductID": "918",
                                    "Category": "Components",
                                    "TotalSold": "371",
                                    "Rank": "53",
                                    "Quintile": "3"
                                },
                                {
                                    "ProductID": "994",
                                    "Category": "Components",
                                    "TotalSold": "378",
                                    "Rank": "55",
                                    "Quintile": "3"
                                },
                                {
                                    "ProductID": "926",
                                    "Category": "Components",
                                    "TotalSold": "386",
                                    "Rank": "56",
                                    "Quintile": "3"
                                },
                                {
                                    "ProductID": "885",
                                    "Category": "Components",
                                    "TotalSold": "387",
                                    "Rank": "57",
                                    "Quintile": "3"
                                },
                                {
                                    "ProductID": "924",
                                    "Category": "Components",
                                    "TotalSold": "423",
                                    "Rank": "58",
                                    "Quintile": "3"
                                },
                                {
                                    "ProductID": "920",
                                    "Category": "Components",
                                    "TotalSold": "425",
                                    "Rank": "59",
                                    "Quintile": "3"
                                },
                                {
                                    "ProductID": "949",
                                    "Category": "Components",
                                    "TotalSold": "426",
                                    "Rank": "60",
                                    "Quintile": "3"
                                },
                                {
                                    "ProductID": "916",
                                    "Category": "Components",
                                    "TotalSold": "426",
                                    "Rank": "60",
                                    "Quintile": "3"
                                },
                                {
                                    "ProductID": "944",
                                    "Category": "Components",
                                    "TotalSold": "442",
                                    "Rank": "62",
                                    "Quintile": "3"
                                },
                                {
                                    "ProductID": "804",
                                    "Category": "Components",
                                    "TotalSold": "444",
                                    "Rank": "63",
                                    "Quintile": "3"
                                },
                                {
                                    "ProductID": "935",
                                    "Category": "Components",
                                    "TotalSold": "449",
                                    "Rank": "64",
                                    "Quintile": "3"
                                },
                                {
                                    "ProductID": "838",
                                    "Category": "Components",
                                    "TotalSold": "459",
                                    "Rank": "65",
                                    "Quintile": "3"
                                },
                                {
                                    "ProductID": "717",
                                    "Category": "Components",
                                    "TotalSold": "485",
                                    "Rank": "66",
                                    "Quintile": "3"
                                },
                                {
                                    "ProductID": "718",
                                    "Category": "Components",
                                    "TotalSold": "486",
                                    "Rank": "67",
                                    "Quintile": "3"
                                },
                                {
                                    "ProductID": "810",
                                    "Category": "Components",
                                    "TotalSold": "500",
                                    "Rank": "68",
                                    "Quintile": "4"
                                },
                                {
                                    "ProductID": "814",
                                    "Category": "Components",
                                    "TotalSold": "514",
                                    "Rank": "69",
                                    "Quintile": "4"
                                },
                                {
                                    "ProductID": "910",
                                    "Category": "Components",
                                    "TotalSold": "519",
                                    "Rank": "70",
                                    "Quintile": "4"
                                },
                                {
                                    "ProductID": "819",
                                    "Category": "Components",
                                    "TotalSold": "532",
                                    "Rank": "71",
                                    "Quintile": "4"
                                },
                                {
                                    "ProductID": "909",
                                    "Category": "Components",
                                    "TotalSold": "534",
                                    "Rank": "72",
                                    "Quintile": "4"
                                },
                                {
                                    "ProductID": "889",
                                    "Category": "Components",
                                    "TotalSold": "540",
                                    "Rank": "73",
                                    "Quintile": "4"
                                },
                                {
                                    "ProductID": "892",
                                    "Category": "Components",
                                    "TotalSold": "542",
                                    "Rank": "74",
                                    "Quintile": "4"
                                },
                                {
                                    "ProductID": "996",
                                    "Category": "Components",
                                    "TotalSold": "543",
                                    "Rank": "75",
                                    "Quintile": "4"
                                },
                                {
                                    "ProductID": "820",
                                    "Category": "Components",
                                    "TotalSold": "567",
                                    "Rank": "76",
                                    "Quintile": "4"
                                },
                                {
                                    "ProductID": "951",
                                    "Category": "Components",
                                    "TotalSold": "613",
                                    "Rank": "77",
                                    "Quintile": "4"
                                },
                                {
                                    "ProductID": "815",
                                    "Category": "Components",
                                    "TotalSold": "617",
                                    "Rank": "78",
                                    "Quintile": "4"
                                },
                                {
                                    "ProductID": "831",
                                    "Category": "Components",
                                    "TotalSold": "619",
                                    "Rank": "79",
                                    "Quintile": "4"
                                },
                                {
                                    "ProductID": "925",
                                    "Category": "Components",
                                    "TotalSold": "625",
                                    "Rank": "80",
                                    "Quintile": "4"
                                },
                                {
                                    "ProductID": "905",
                                    "Category": "Components",
                                    "TotalSold": "627",
                                    "Rank": "81",
                                    "Quintile": "4"
                                },
                                {
                                    "ProductID": "813",
                                    "Category": "Components",
                                    "TotalSold": "631",
                                    "Rank": "82",
                                    "Quintile": "4"
                                },
                                {
                                    "ProductID": "917",
                                    "Category": "Components",
                                    "TotalSold": "638",
                                    "Rank": "83",
                                    "Quintile": "4"
                                },
                                {
                                    "ProductID": "742",
                                    "Category": "Components",
                                    "TotalSold": "649",
                                    "Rank": "84",
                                    "Quintile": "4"
                                },
                                {
                                    "ProductID": "747",
                                    "Category": "Components",
                                    "TotalSold": "659",
                                    "Rank": "85",
                                    "Quintile": "4"
                                },
                                {
                                    "ProductID": "806",
                                    "Category": "Components",
                                    "TotalSold": "659",
                                    "Rank": "85",
                                    "Quintile": "4"
                                },
                                {
                                    "ProductID": "939",
                                    "Category": "Components",
                                    "TotalSold": "661",
                                    "Rank": "87",
                                    "Quintile": "4"
                                },
                                {
                                    "ProductID": "726",
                                    "Category": "Components",
                                    "TotalSold": "671",
                                    "Rank": "88",
                                    "Quintile": "4"
                                },
                                {
                                    "ProductID": "940",
                                    "Category": "Components",
                                    "TotalSold": "676",
                                    "Rank": "89",
                                    "Quintile": "4"
                                },
                                {
                                    "ProductID": "730",
                                    "Category": "Components",
                                    "TotalSold": "697",
                                    "Rank": "90",
                                    "Quintile": "5"
                                },
                                {
                                    "ProductID": "952",
                                    "Category": "Components",
                                    "TotalSold": "774",
                                    "Rank": "91",
                                    "Quintile": "5"
                                },
                                {
                                    "ProductID": "937",
                                    "Category": "Components",
                                    "TotalSold": "785",
                                    "Rank": "92",
                                    "Quintile": "5"
                                },
                                {
                                    "ProductID": "948",
                                    "Category": "Components",
                                    "TotalSold": "789",
                                    "Rank": "93",
                                    "Quintile": "5"
                                },
                                {
                                    "ProductID": "945",
                                    "Category": "Components",
                                    "TotalSold": "813",
                                    "Rank": "94",
                                    "Quintile": "5"
                                },
                                {
                                    "ProductID": "825",
                                    "Category": "Components",
                                    "TotalSold": "850",
                                    "Rank": "95",
                                    "Quintile": "5"
                                },
                                {
                                    "ProductID": "824",
                                    "Category": "Components",
                                    "TotalSold": "851",
                                    "Rank": "96",
                                    "Quintile": "5"
                                },
                                {
                                    "ProductID": "808",
                                    "Category": "Components",
                                    "TotalSold": "865",
                                    "Rank": "97",
                                    "Quintile": "5"
                                },
                                {
                                    "ProductID": "938",
                                    "Category": "Components",
                                    "TotalSold": "868",
                                    "Rank": "98",
                                    "Quintile": "5"
                                },
                                {
                                    "ProductID": "826",
                                    "Category": "Components",
                                    "TotalSold": "868",
                                    "Rank": "98",
                                    "Quintile": "5"
                                },
                                {
                                    "ProductID": "836",
                                    "Category": "Components",
                                    "TotalSold": "889",
                                    "Rank": "100",
                                    "Quintile": "5"
                                },
                                {
                                    "ProductID": "822",
                                    "Category": "Components",
                                    "TotalSold": "895",
                                    "Rank": "101",
                                    "Quintile": "5"
                                },
                                {
                                    "ProductID": "904",
                                    "Category": "Components",
                                    "TotalSold": "899",
                                    "Rank": "102",
                                    "Quintile": "5"
                                },
                                {
                                    "ProductID": "722",
                                    "Category": "Components",
                                    "TotalSold": "940",
                                    "Rank": "103",
                                    "Quintile": "5"
                                },
                                {
                                    "ProductID": "832",
                                    "Category": "Components",
                                    "TotalSold": "959",
                                    "Rank": "104",
                                    "Quintile": "5"
                                },
                                {
                                    "ProductID": "725",
                                    "Category": "Components",
                                    "TotalSold": "991",
                                    "Rank": "105",
                                    "Quintile": "5"
                                },
                                {
                                    "ProductID": "729",
                                    "Category": "Components",
                                    "TotalSold": "996",
                                    "Rank": "106",
                                    "Quintile": "5"
                                },
                                {
                                    "ProductID": "743",
                                    "Category": "Components",
                                    "TotalSold": "1181",
                                    "Rank": "107",
                                    "Quintile": "5"
                                },
                                {
                                    "ProductID": "748",
                                    "Category": "Components",
                                    "TotalSold": "1206",
                                    "Rank": "108",
                                    "Quintile": "5"
                                },
                                {
                                    "ProductID": "835",
                                    "Category": "Components",
                                    "TotalSold": "1435",
                                    "Rank": "109",
                                    "Quintile": "5"
                                },
                                {
                                    "ProductID": "809",
                                    "Category": "Components",
                                    "TotalSold": "1465",
                                    "Rank": "110",
                                    "Quintile": "5"
                                },
                                {
                                    "ProductID": "738",
                                    "Category": "Components",
                                    "TotalSold": "1581",
                                    "Rank": "111",
                                    "Quintile": "5"
                                }
                            ]
                        },
                        "text/html": "<table><tr><th>ProductID</th><th>Category</th><th>TotalSold</th><th>Rank</th><th>Quintile</th></tr><tr><td>879</td><td>Accessories</td><td>249</td><td>1</td><td>1</td></tr><tr><td>933</td><td>Accessories</td><td>858</td><td>2</td><td>1</td></tr><tr><td>928</td><td>Accessories</td><td>862</td><td>3</td><td>1</td></tr><tr><td>932</td><td>Accessories</td><td>926</td><td>4</td><td>1</td></tr><tr><td>934</td><td>Accessories</td><td>935</td><td>5</td><td>1</td></tr><tr><td>931</td><td>Accessories</td><td>1044</td><td>6</td><td>2</td></tr><tr><td>843</td><td>Accessories</td><td>1087</td><td>7</td><td>2</td></tr><tr><td>844</td><td>Accessories</td><td>1130</td><td>8</td><td>2</td></tr><tr><td>929</td><td>Accessories</td><td>1161</td><td>9</td><td>2</td></tr><tr><td>930</td><td>Accessories</td><td>1396</td><td>10</td><td>2</td></tr><tr><td>923</td><td>Accessories</td><td>1488</td><td>11</td><td>3</td></tr><tr><td>872</td><td>Accessories</td><td>1712</td><td>12</td><td>3</td></tr><tr><td>871</td><td>Accessories</td><td>2025</td><td>13</td><td>3</td></tr><tr><td>878</td><td>Accessories</td><td>2121</td><td>14</td><td>3</td></tr><tr><td>922</td><td>Accessories</td><td>2376</td><td>15</td><td>3</td></tr><tr><td>880</td><td>Accessories</td><td>2761</td><td>16</td><td>4</td></tr><tr><td>921</td><td>Accessories</td><td>3095</td><td>17</td><td>4</td></tr><tr><td>876</td><td>Accessories</td><td>3166</td><td>18</td><td>4</td></tr><tr><td>877</td><td>Accessories</td><td>3319</td><td>19</td><td>4</td></tr><tr><td>873</td><td>Accessories</td><td>3865</td><td>20</td><td>4</td></tr><tr><td>707</td><td>Accessories</td><td>6266</td><td>21</td><td>5</td></tr><tr><td>708</td><td>Accessories</td><td>6532</td><td>22</td><td>5</td></tr><tr><td>711</td><td>Accessories</td><td>6743</td><td>23</td><td>5</td></tr><tr><td>870</td><td>Accessories</td><td>6815</td><td>24</td><td>5</td></tr><tr><td>757</td><td>Bikes</td><td>156</td><td>1</td><td>1</td></tr><tr><td>993</td><td>Bikes</td><td>272</td><td>2</td><td>1</td></tr><tr><td>960</td><td>Bikes</td><td>281</td><td>3</td><td>1</td></tr><tr><td>989</td><td>Bikes</td><td>282</td><td>4</td><td>1</td></tr><tr><td>978</td><td>Bikes</td><td>292</td><td>5</td><td>1</td></tr><tr><td>964</td><td>Bikes</td><td>293</td><td>6</td><td>1</td></tr><tr><td>971</td><td>Bikes</td><td>322</td><td>7</td><td>1</td></tr><tr><td>756</td><td>Bikes</td><td>346</td><td>8</td><td>1</td></tr><tr><td>991</td><td>Bikes</td><td>350</td><td>9</td><td>1</td></tr><tr><td>755</td><td>Bikes</td><td>350</td><td>9</td><td>1</td></tr><tr><td>986</td><td>Bikes</td><td>381</td><td>11</td><td>1</td></tr><tr><td>982</td><td>Bikes</td><td>385</td><td>12</td><td>1</td></tr><tr><td>990</td><td>Bikes</td><td>388</td><td>13</td><td>1</td></tr><tr><td>956</td><td>Bikes</td><td>397</td><td>14</td><td>1</td></tr><tr><td>983</td><td>Bikes</td><td>401</td><td>15</td><td>1</td></tr><tr><td>968</td><td>Bikes</td><td>413</td><td>16</td><td>1</td></tr><tr><td>980</td><td>Bikes</td><td>425</td><td>17</td><td>1</td></tr><tr><td>750</td><td>Bikes</td><td>437</td><td>18</td><td>1</td></tr><tr><td>992</td><td>Bikes</td><td>449</td><td>19</td><td>1</td></tr><tr><td>984</td><td>Bikes</td><td>450</td><td>20</td><td>1</td></tr><tr><td>963</td><td>Bikes</td><td>453</td><td>21</td><td>2</td></tr><tr><td>985</td><td>Bikes</td><td>455</td><td>22</td><td>2</td></tr><tr><td>987</td><td>Bikes</td><td>457</td><td>23</td><td>2</td></tr><tr><td>752</td><td>Bikes</td><td>458</td><td>24</td><td>2</td></tr><tr><td>959</td><td>Bikes</td><td>482</td><td>25</td><td>2</td></tr><tr><td>751</td><td>Bikes</td><td>493</td><td>26</td><td>2</td></tr><tr><td>774</td><td>Bikes</td><td>505</td><td>27</td><td>2</td></tr><tr><td>988</td><td>Bikes</td><td>515</td><td>28</td><td>2</td></tr><tr><td>975</td><td>Bikes</td><td>536</td><td>29</td><td>2</td></tr><tr><td>970</td><td>Bikes</td><td>538</td><td>30</td><td>2</td></tr><tr><td>754</td><td>Bikes</td><td>582</td><td>31</td><td>2</td></tr><tr><td>772</td><td>Bikes</td><td>593</td><td>32</td><td>2</td></tr><tr><td>749</td><td>Bikes</td><td>600</td><td>33</td><td>2</td></tr><tr><td>773</td><td>Bikes</td><td>601</td><td>34</td><td>2</td></tr><tr><td>778</td><td>Bikes</td><td>616</td><td>35</td><td>2</td></tr><tr><td>981</td><td>Bikes</td><td>617</td><td>36</td><td>2</td></tr><tr><td>759</td><td>Bikes</td><td>618</td><td>37</td><td>2</td></tr><tr><td>776</td><td>Bikes</td><td>634</td><td>38</td><td>2</td></tr><tr><td>791</td><td>Bikes</td><td>639</td><td>39</td><td>2</td></tr><tr><td>771</td><td>Bikes</td><td>642</td><td>40</td><td>2</td></tr><tr><td>767</td><td>Bikes</td><td>644</td><td>41</td><td>3</td></tr><tr><td>769</td><td>Bikes</td><td>644</td><td>41</td><td>3</td></tr><tr><td>967</td><td>Bikes</td><td>649</td><td>43</td><td>3</td></tr><tr><td>955</td><td>Bikes</td><td>652</td><td>44</td><td>3</td></tr><tr><td>997</td><td>Bikes</td><td>656</td><td>45</td><td>3</td></tr><tr><td>753</td><td>Bikes</td><td>664</td><td>46</td><td>3</td></tr><tr><td>777</td><td>Bikes</td><td>678</td><td>47</td><td>3</td></tr><tr><td>775</td><td>Bikes</td><td>682</td><td>48</td><td>3</td></tr><tr><td>785</td><td>Bikes</td><td>684</td><td>49</td><td>3</td></tr><tr><td>962</td><td>Bikes</td><td>686</td><td>50</td><td>3</td></tr><tr><td>958</td><td>Bikes</td><td>686</td><td>50</td><td>3</td></tr><tr><td>758</td><td>Bikes</td><td>710</td><td>52</td><td>3</td></tr><tr><td>788</td><td>Bikes</td><td>740</td><td>53</td><td>3</td></tr><tr><td>787</td><td>Bikes</td><td>747</td><td>54</td><td>3</td></tr><tr><td>786</td><td>Bikes</td><td>776</td><td>55</td><td>3</td></tr><tr><td>790</td><td>Bikes</td><td>812</td><td>56</td><td>3</td></tr><tr><td>953</td><td>Bikes</td><td>820</td><td>57</td><td>3</td></tr><tr><td>979</td><td>Bikes</td><td>841</td><td>58</td><td>3</td></tr><tr><td>965</td><td>Bikes</td><td>844</td><td>59</td><td>3</td></tr><tr><td>961</td><td>Bikes</td><td>851</td><td>60</td><td>4</td></tr><tr><td>977</td><td>Bikes</td><td>892</td><td>61</td><td>4</td></tr><tr><td>789</td><td>Bikes</td><td>895</td><td>62</td><td>4</td></tr><tr><td>796</td><td>Bikes</td><td>910</td><td>63</td><td>4</td></tr><tr><td>800</td><td>Bikes</td><td>927</td><td>64</td><td>4</td></tr><tr><td>974</td><td>Bikes</td><td>944</td><td>65</td><td>4</td></tr><tr><td>792</td><td>Bikes</td><td>946</td><td>66</td><td>4</td></tr><tr><td>966</td><td>Bikes</td><td>1002</td><td>67</td><td>4</td></tr><tr><td>954</td><td>Bikes</td><td>1005</td><td>68</td><td>4</td></tr><tr><td>972</td><td>Bikes</td><td>1010</td><td>69</td><td>4</td></tr><tr><td>768</td><td>Bikes</td><td>1080</td><td>70</td><td>4</td></tr><tr><td>766</td><td>Bikes</td><td>1100</td><td>71</td><td>4</td></tr><tr><td>764</td><td>Bikes</td><td>1112</td><td>72</td><td>4</td></tr><tr><td>957</td><td>Bikes</td><td>1114</td><td>73</td><td>4</td></tr><tr><td>969</td><td>Bikes</td><td>1120</td><td>74</td><td>4</td></tr><tr><td>795</td><td>Bikes</td><td>1245</td><td>75</td><td>4</td></tr><tr><td>799</td><td>Bikes</td><td>1249</td><td>76</td><td>4</td></tr><tr><td>999</td><td>Bikes</td><td>1338</td><td>77</td><td>4</td></tr><tr><td>973</td><td>Bikes</td><td>1477</td><td>78</td><td>4</td></tr><tr><td>794</td><td>Bikes</td><td>1498</td><td>79</td><td>5</td></tr><tr><td>798</td><td>Bikes</td><td>1500</td><td>80</td><td>5</td></tr><tr><td>998</td><td>Bikes</td><td>1556</td><td>81</td><td>5</td></tr><tr><td>976</td><td>Bikes</td><td>1622</td><td>82</td><td>5</td></tr><tr><td>793</td><td>Bikes</td><td>1642</td><td>83</td><td>5</td></tr><tr><td>797</td><td>Bikes</td><td>1744</td><td>84</td><td>5</td></tr><tr><td>801</td><td>Bikes</td><td>1763</td><td>85</td><td>5</td></tr><tr><td>765</td><td>Bikes</td><td>1871</td><td>86</td><td>5</td></tr><tr><td>763</td><td>Bikes</td><td>1888</td><td>87</td><td>5</td></tr><tr><td>761</td><td>Bikes</td><td>1896</td><td>88</td><td>5</td></tr><tr><td>784</td><td>Bikes</td><td>2111</td><td>89</td><td>5</td></tr><tr><td>781</td><td>Bikes</td><td>2216</td><td>90</td><td>5</td></tr><tr><td>760</td><td>Bikes</td><td>2232</td><td>91</td><td>5</td></tr><tr><td>780</td><td>Bikes</td><td>2234</td><td>92</td><td>5</td></tr><tr><td>762</td><td>Bikes</td><td>2254</td><td>93</td><td>5</td></tr><tr><td>770</td><td>Bikes</td><td>2270</td><td>94</td><td>5</td></tr><tr><td>779</td><td>Bikes</td><td>2394</td><td>95</td><td>5</td></tr><tr><td>783</td><td>Bikes</td><td>2664</td><td>96</td><td>5</td></tr><tr><td>782</td><td>Bikes</td><td>2977</td><td>97</td><td>5</td></tr><tr><td>710</td><td>Clothing</td><td>90</td><td>1</td><td>1</td></tr><tr><td>866</td><td>Clothing</td><td>207</td><td>2</td><td>1</td></tr><tr><td>853</td><td>Clothing</td><td>394</td><td>3</td><td>1</td></tr><tr><td>882</td><td>Clothing</td><td>407</td><td>4</td><td>1</td></tr><tr><td>713</td><td>Clothing</td><td>429</td><td>5</td><td>1</td></tr><tr><td>850</td><td>Clothing</td><td>445</td><td>6</td><td>1</td></tr><tr><td>861</td><td>Clothing</td><td>500</td><td>7</td><td>1</td></tr><tr><td>841</td><td>Clothing</td><td>567</td><td>8</td><td>2</td></tr><tr><td>857</td><td>Clothing</td><td>633</td><td>9</td><td>2</td></tr><tr><td>855</td><td>Clothing</td><td>876</td><td>10</td><td>2</td></tr><tr><td>709</td><td>Clothing</td><td>1107</td><td>11</td><td>2</td></tr><tr><td>868</td><td>Clothing</td><td>1139</td><td>12</td><td>2</td></tr><tr><td>860</td><td>Clothing</td><td>1276</td><td>13</td><td>2</td></tr><tr><td>849</td><td>Clothing</td><td>1276</td><td>13</td><td>2</td></tr><tr><td>874</td><td>Clothing</td><td>1547</td><td>15</td><td>3</td></tr><tr><td>856</td><td>Clothing</td><td>1616</td><td>16</td><td>3</td></tr><tr><td>881</td><td>Clothing</td><td>1955</td><td>17</td><td>3</td></tr><tr><td>852</td><td>Clothing</td><td>2072</td><td>18</td><td>3</td></tr><tr><td>854</td><td>Clothing</td><td>2123</td><td>19</td><td>3</td></tr><tr><td>858</td><td>Clothing</td><td>2188</td><td>20</td><td>3</td></tr><tr><td>862</td><td>Clothing</td><td>2206</td><td>21</td><td>3</td></tr><tr><td>865</td><td>Clothing</td><td>2284</td><td>22</td><td>4</td></tr><tr><td>875</td><td>Clothing</td><td>2473</td><td>23</td><td>4</td></tr><tr><td>883</td><td>Clothing</td><td>2848</td><td>24</td><td>4</td></tr><tr><td>716</td><td>Clothing</td><td>2980</td><td>25</td><td>4</td></tr><tr><td>869</td><td>Clothing</td><td>3244</td><td>26</td><td>4</td></tr><tr><td>867</td><td>Clothing</td><td>3296</td><td>27</td><td>4</td></tr><tr><td>863</td><td>Clothing</td><td>3378</td><td>28</td><td>4</td></tr><tr><td>859</td><td>Clothing</td><td>3464</td><td>29</td><td>5</td></tr><tr><td>714</td><td>Clothing</td><td>3636</td><td>30</td><td>5</td></tr><tr><td>884</td><td>Clothing</td><td>3864</td><td>31</td><td>5</td></tr><tr><td>864</td><td>Clothing</td><td>4247</td><td>32</td><td>5</td></tr><tr><td>715</td><td>Clothing</td><td>6592</td><td>33</td><td>5</td></tr><tr><td>712</td><td>Clothing</td><td>8311</td><td>34</td><td>5</td></tr><tr><td>897</td><td>Components</td><td>4</td><td>1</td><td>1</td></tr><tr><td>942</td><td>Components</td><td>7</td><td>2</td><td>1</td></tr><tr><td>943</td><td>Components</td><td>8</td><td>3</td><td>1</td></tr><tr><td>911</td><td>Components</td><td>10</td><td>4</td><td>1</td></tr><tr><td>927</td><td>Components</td><td>15</td><td>5</td><td>1</td></tr><tr><td>898</td><td>Components</td><td>15</td><td>5</td><td>1</td></tr><tr><td>744</td><td>Components</td><td>17</td><td>7</td><td>1</td></tr><tr><td>903</td><td>Components</td><td>25</td><td>8</td><td>1</td></tr><tr><td>902</td><td>Components</td><td>36</td><td>9</td><td>1</td></tr><tr><td>919</td><td>Components</td><td>44</td><td>10</td><td>1</td></tr><tr><td>946</td><td>Components</td><td>56</td><td>11</td><td>1</td></tr><tr><td>827</td><td>Components</td><td>64</td><td>12</td><td>1</td></tr><tr><td>830</td><td>Components</td><td>68</td><td>13</td><td>1</td></tr><tr><td>950</td><td>Components</td><td>68</td><td>13</td><td>1</td></tr><tr><td>888</td><td>Components</td><td>83</td><td>15</td><td>1</td></tr><tr><td>915</td><td>Components</td><td>84</td><td>16</td><td>1</td></tr><tr><td>887</td><td>Components</td><td>87</td><td>17</td><td>1</td></tr><tr><td>733</td><td>Components</td><td>90</td><td>18</td><td>1</td></tr><tr><td>914</td><td>Components</td><td>91</td><td>19</td><td>1</td></tr><tr><td>828</td><td>Components</td><td>94</td><td>20</td><td>1</td></tr><tr><td>805</td><td>Components</td><td>95</td><td>21</td><td>1</td></tr><tr><td>727</td><td>Components</td><td>100</td><td>22</td><td>1</td></tr><tr><td>719</td><td>Components</td><td>109</td><td>23</td><td>1</td></tr><tr><td>839</td><td>Components</td><td>109</td><td>23</td><td>2</td></tr><tr><td>890</td><td>Components</td><td>114</td><td>25</td><td>2</td></tr><tr><td>891</td><td>Components</td><td>124</td><td>26</td><td>2</td></tr><tr><td>723</td><td>Components</td><td>129</td><td>27</td><td>2</td></tr><tr><td>745</td><td>Components</td><td>131</td><td>28</td><td>2</td></tr><tr><td>913</td><td>Components</td><td>134</td><td>29</td><td>2</td></tr><tr><td>941</td><td>Components</td><td>147</td><td>30</td><td>2</td></tr><tr><td>741</td><td>Components</td><td>173</td><td>31</td><td>2</td></tr><tr><td>906</td><td>Components</td><td>188</td><td>32</td><td>2</td></tr><tr><td>802</td><td>Components</td><td>190</td><td>33</td><td>2</td></tr><tr><td>833</td><td>Components</td><td>203</td><td>34</td><td>2</td></tr><tr><td>896</td><td>Components</td><td>211</td><td>35</td><td>2</td></tr><tr><td>811</td><td>Components</td><td>213</td><td>36</td><td>2</td></tr><tr><td>947</td><td>Components</td><td>220</td><td>37</td><td>2</td></tr><tr><td>817</td><td>Components</td><td>222</td><td>38</td><td>2</td></tr><tr><td>900</td><td>Components</td><td>228</td><td>39</td><td>2</td></tr><tr><td>736</td><td>Components</td><td>238</td><td>40</td><td>2</td></tr><tr><td>907</td><td>Components</td><td>246</td><td>41</td><td>2</td></tr><tr><td>732</td><td>Components</td><td>250</td><td>42</td><td>2</td></tr><tr><td>807</td><td>Components</td><td>255</td><td>43</td><td>2</td></tr><tr><td>816</td><td>Components</td><td>266</td><td>44</td><td>2</td></tr><tr><td>899</td><td>Components</td><td>294</td><td>45</td><td>2</td></tr><tr><td>895</td><td>Components</td><td>316</td><td>46</td><td>3</td></tr><tr><td>823</td><td>Components</td><td>342</td><td>47</td><td>3</td></tr><tr><td>936</td><td>Components</td><td>345</td><td>48</td><td>3</td></tr><tr><td>908</td><td>Components</td><td>347</td><td>49</td><td>3</td></tr><tr><td>739</td><td>Components</td><td>347</td><td>49</td><td>3</td></tr><tr><td>886</td><td>Components</td><td>348</td><td>51</td><td>3</td></tr><tr><td>894</td><td>Components</td><td>353</td><td>52</td><td>3</td></tr><tr><td>893</td><td>Components</td><td>371</td><td>53</td><td>3</td></tr><tr><td>918</td><td>Components</td><td>371</td><td>53</td><td>3</td></tr><tr><td>994</td><td>Components</td><td>378</td><td>55</td><td>3</td></tr><tr><td>926</td><td>Components</td><td>386</td><td>56</td><td>3</td></tr><tr><td>885</td><td>Components</td><td>387</td><td>57</td><td>3</td></tr><tr><td>924</td><td>Components</td><td>423</td><td>58</td><td>3</td></tr><tr><td>920</td><td>Components</td><td>425</td><td>59</td><td>3</td></tr><tr><td>949</td><td>Components</td><td>426</td><td>60</td><td>3</td></tr><tr><td>916</td><td>Components</td><td>426</td><td>60</td><td>3</td></tr><tr><td>944</td><td>Components</td><td>442</td><td>62</td><td>3</td></tr><tr><td>804</td><td>Components</td><td>444</td><td>63</td><td>3</td></tr><tr><td>935</td><td>Components</td><td>449</td><td>64</td><td>3</td></tr><tr><td>838</td><td>Components</td><td>459</td><td>65</td><td>3</td></tr><tr><td>717</td><td>Components</td><td>485</td><td>66</td><td>3</td></tr><tr><td>718</td><td>Components</td><td>486</td><td>67</td><td>3</td></tr><tr><td>810</td><td>Components</td><td>500</td><td>68</td><td>4</td></tr><tr><td>814</td><td>Components</td><td>514</td><td>69</td><td>4</td></tr><tr><td>910</td><td>Components</td><td>519</td><td>70</td><td>4</td></tr><tr><td>819</td><td>Components</td><td>532</td><td>71</td><td>4</td></tr><tr><td>909</td><td>Components</td><td>534</td><td>72</td><td>4</td></tr><tr><td>889</td><td>Components</td><td>540</td><td>73</td><td>4</td></tr><tr><td>892</td><td>Components</td><td>542</td><td>74</td><td>4</td></tr><tr><td>996</td><td>Components</td><td>543</td><td>75</td><td>4</td></tr><tr><td>820</td><td>Components</td><td>567</td><td>76</td><td>4</td></tr><tr><td>951</td><td>Components</td><td>613</td><td>77</td><td>4</td></tr><tr><td>815</td><td>Components</td><td>617</td><td>78</td><td>4</td></tr><tr><td>831</td><td>Components</td><td>619</td><td>79</td><td>4</td></tr><tr><td>925</td><td>Components</td><td>625</td><td>80</td><td>4</td></tr><tr><td>905</td><td>Components</td><td>627</td><td>81</td><td>4</td></tr><tr><td>813</td><td>Components</td><td>631</td><td>82</td><td>4</td></tr><tr><td>917</td><td>Components</td><td>638</td><td>83</td><td>4</td></tr><tr><td>742</td><td>Components</td><td>649</td><td>84</td><td>4</td></tr><tr><td>747</td><td>Components</td><td>659</td><td>85</td><td>4</td></tr><tr><td>806</td><td>Components</td><td>659</td><td>85</td><td>4</td></tr><tr><td>939</td><td>Components</td><td>661</td><td>87</td><td>4</td></tr><tr><td>726</td><td>Components</td><td>671</td><td>88</td><td>4</td></tr><tr><td>940</td><td>Components</td><td>676</td><td>89</td><td>4</td></tr><tr><td>730</td><td>Components</td><td>697</td><td>90</td><td>5</td></tr><tr><td>952</td><td>Components</td><td>774</td><td>91</td><td>5</td></tr><tr><td>937</td><td>Components</td><td>785</td><td>92</td><td>5</td></tr><tr><td>948</td><td>Components</td><td>789</td><td>93</td><td>5</td></tr><tr><td>945</td><td>Components</td><td>813</td><td>94</td><td>5</td></tr><tr><td>825</td><td>Components</td><td>850</td><td>95</td><td>5</td></tr><tr><td>824</td><td>Components</td><td>851</td><td>96</td><td>5</td></tr><tr><td>808</td><td>Components</td><td>865</td><td>97</td><td>5</td></tr><tr><td>938</td><td>Components</td><td>868</td><td>98</td><td>5</td></tr><tr><td>826</td><td>Components</td><td>868</td><td>98</td><td>5</td></tr><tr><td>836</td><td>Components</td><td>889</td><td>100</td><td>5</td></tr><tr><td>822</td><td>Components</td><td>895</td><td>101</td><td>5</td></tr><tr><td>904</td><td>Components</td><td>899</td><td>102</td><td>5</td></tr><tr><td>722</td><td>Components</td><td>940</td><td>103</td><td>5</td></tr><tr><td>832</td><td>Components</td><td>959</td><td>104</td><td>5</td></tr><tr><td>725</td><td>Components</td><td>991</td><td>105</td><td>5</td></tr><tr><td>729</td><td>Components</td><td>996</td><td>106</td><td>5</td></tr><tr><td>743</td><td>Components</td><td>1181</td><td>107</td><td>5</td></tr><tr><td>748</td><td>Components</td><td>1206</td><td>108</td><td>5</td></tr><tr><td>835</td><td>Components</td><td>1435</td><td>109</td><td>5</td></tr><tr><td>809</td><td>Components</td><td>1465</td><td>110</td><td>5</td></tr><tr><td>738</td><td>Components</td><td>1581</td><td>111</td><td>5</td></tr></table>"
                    },
                    "metadata": {}
                }
            ],
            "execution_count": 13
        }
    ]
}