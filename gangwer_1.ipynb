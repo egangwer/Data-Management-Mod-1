{
    "metadata": {
        "kernelspec": {
            "name": "SQL",
            "display_name": "SQL",
            "language": "sql"
        },
        "language_info": {
            "name": "sql",
            "version": ""
        }
    },
    "nbformat_minor": 2,
    "nbformat": 4,
    "cells": [
        {
            "cell_type": "markdown",
            "source": [
                "**Elisabeth Gangwer** \n",
                "\n",
                "**SQL Assignment 1**"
            ],
            "metadata": {
                "azdata_cell_guid": "e556acaa-76c6-4f9f-94af-faa782f26b62"
            },
            "attachments": {}
        },
        {
            "cell_type": "code",
            "source": [
                "USE AdventureWorks2014"
            ],
            "metadata": {
                "azdata_cell_guid": "c1a15776-0281-4b1e-9031-c42781c7568e",
                "language": "sql"
            },
            "outputs": [
                {
                    "output_type": "display_data",
                    "data": {
                        "text/html": "Commands completed successfully."
                    },
                    "metadata": {}
                },
                {
                    "output_type": "display_data",
                    "data": {
                        "text/html": "Total execution time: 00:00:00.044"
                    },
                    "metadata": {}
                }
            ],
            "execution_count": 1
        },
        {
            "cell_type": "markdown",
            "source": [
                "**Problem 1 Part A**"
            ],
            "metadata": {
                "azdata_cell_guid": "0ec99f93-5a80-45ca-a664-d4dd47b099b6"
            },
            "attachments": {}
        },
        {
            "cell_type": "code",
            "source": [
                "SELECT DISTINCT JobTitle\n",
                "FROM HumanResources.Employee\n",
                "ORDER BY JobTitle"
            ],
            "metadata": {
                "azdata_cell_guid": "ea675d39-0af5-43c4-8530-0f52135b0dcf",
                "language": "sql",
                "tags": []
            },
            "outputs": [
                {
                    "output_type": "display_data",
                    "data": {
                        "text/html": "(67 rows affected)"
                    },
                    "metadata": {}
                },
                {
                    "output_type": "display_data",
                    "data": {
                        "text/html": "Total execution time: 00:00:00.145"
                    },
                    "metadata": {}
                },
                {
                    "output_type": "execute_result",
                    "execution_count": 2,
                    "data": {
                        "application/vnd.dataresource+json": {
                            "schema": {
                                "fields": [
                                    {
                                        "name": "JobTitle"
                                    }
                                ]
                            },
                            "data": [
                                {
                                    "JobTitle": "Accountant"
                                },
                                {
                                    "JobTitle": "Accounts Manager"
                                },
                                {
                                    "JobTitle": "Accounts Payable Specialist"
                                },
                                {
                                    "JobTitle": "Accounts Receivable Specialist"
                                },
                                {
                                    "JobTitle": "Application Specialist"
                                },
                                {
                                    "JobTitle": "Assistant to the Chief Financial Officer"
                                },
                                {
                                    "JobTitle": "Benefits Specialist"
                                },
                                {
                                    "JobTitle": "Buyer"
                                },
                                {
                                    "JobTitle": "Chief Executive Officer"
                                },
                                {
                                    "JobTitle": "Chief Financial Officer"
                                },
                                {
                                    "JobTitle": "Control Specialist"
                                },
                                {
                                    "JobTitle": "Database Administrator"
                                },
                                {
                                    "JobTitle": "Design Engineer"
                                },
                                {
                                    "JobTitle": "Document Control Assistant"
                                },
                                {
                                    "JobTitle": "Document Control Manager"
                                },
                                {
                                    "JobTitle": "Engineering Manager"
                                },
                                {
                                    "JobTitle": "European Sales Manager"
                                },
                                {
                                    "JobTitle": "Facilities Administrative Assistant"
                                },
                                {
                                    "JobTitle": "Facilities Manager"
                                },
                                {
                                    "JobTitle": "Finance Manager"
                                },
                                {
                                    "JobTitle": "Human Resources Administrative Assistant"
                                },
                                {
                                    "JobTitle": "Human Resources Manager"
                                },
                                {
                                    "JobTitle": "Information Services Manager"
                                },
                                {
                                    "JobTitle": "Janitor"
                                },
                                {
                                    "JobTitle": "Maintenance Supervisor"
                                },
                                {
                                    "JobTitle": "Marketing Assistant"
                                },
                                {
                                    "JobTitle": "Marketing Manager"
                                },
                                {
                                    "JobTitle": "Marketing Specialist"
                                },
                                {
                                    "JobTitle": "Master Scheduler"
                                },
                                {
                                    "JobTitle": "Network Administrator"
                                },
                                {
                                    "JobTitle": "Network Manager"
                                },
                                {
                                    "JobTitle": "North American Sales Manager"
                                },
                                {
                                    "JobTitle": "Pacific Sales Manager"
                                },
                                {
                                    "JobTitle": "Production Control Manager"
                                },
                                {
                                    "JobTitle": "Production Supervisor - WC10"
                                },
                                {
                                    "JobTitle": "Production Supervisor - WC20"
                                },
                                {
                                    "JobTitle": "Production Supervisor - WC30"
                                },
                                {
                                    "JobTitle": "Production Supervisor - WC40"
                                },
                                {
                                    "JobTitle": "Production Supervisor - WC45"
                                },
                                {
                                    "JobTitle": "Production Supervisor - WC50"
                                },
                                {
                                    "JobTitle": "Production Supervisor - WC60"
                                },
                                {
                                    "JobTitle": "Production Technician - WC10"
                                },
                                {
                                    "JobTitle": "Production Technician - WC20"
                                },
                                {
                                    "JobTitle": "Production Technician - WC30"
                                },
                                {
                                    "JobTitle": "Production Technician - WC40"
                                },
                                {
                                    "JobTitle": "Production Technician - WC45"
                                },
                                {
                                    "JobTitle": "Production Technician - WC50"
                                },
                                {
                                    "JobTitle": "Production Technician - WC60"
                                },
                                {
                                    "JobTitle": "Purchasing Assistant"
                                },
                                {
                                    "JobTitle": "Purchasing Manager"
                                },
                                {
                                    "JobTitle": "Quality Assurance Manager"
                                },
                                {
                                    "JobTitle": "Quality Assurance Supervisor"
                                },
                                {
                                    "JobTitle": "Quality Assurance Technician"
                                },
                                {
                                    "JobTitle": "Recruiter"
                                },
                                {
                                    "JobTitle": "Research and Development Engineer"
                                },
                                {
                                    "JobTitle": "Research and Development Manager"
                                },
                                {
                                    "JobTitle": "Sales Representative"
                                },
                                {
                                    "JobTitle": "Scheduling Assistant"
                                },
                                {
                                    "JobTitle": "Senior Design Engineer"
                                },
                                {
                                    "JobTitle": "Senior Tool Designer"
                                },
                                {
                                    "JobTitle": "Shipping and Receiving Clerk"
                                },
                                {
                                    "JobTitle": "Shipping and Receiving Supervisor"
                                },
                                {
                                    "JobTitle": "Stocker"
                                },
                                {
                                    "JobTitle": "Tool Designer"
                                },
                                {
                                    "JobTitle": "Vice President of Engineering"
                                },
                                {
                                    "JobTitle": "Vice President of Production"
                                },
                                {
                                    "JobTitle": "Vice President of Sales"
                                }
                            ]
                        },
                        "text/html": "<table><tr><th>JobTitle</th></tr><tr><td>Accountant</td></tr><tr><td>Accounts Manager</td></tr><tr><td>Accounts Payable Specialist</td></tr><tr><td>Accounts Receivable Specialist</td></tr><tr><td>Application Specialist</td></tr><tr><td>Assistant to the Chief Financial Officer</td></tr><tr><td>Benefits Specialist</td></tr><tr><td>Buyer</td></tr><tr><td>Chief Executive Officer</td></tr><tr><td>Chief Financial Officer</td></tr><tr><td>Control Specialist</td></tr><tr><td>Database Administrator</td></tr><tr><td>Design Engineer</td></tr><tr><td>Document Control Assistant</td></tr><tr><td>Document Control Manager</td></tr><tr><td>Engineering Manager</td></tr><tr><td>European Sales Manager</td></tr><tr><td>Facilities Administrative Assistant</td></tr><tr><td>Facilities Manager</td></tr><tr><td>Finance Manager</td></tr><tr><td>Human Resources Administrative Assistant</td></tr><tr><td>Human Resources Manager</td></tr><tr><td>Information Services Manager</td></tr><tr><td>Janitor</td></tr><tr><td>Maintenance Supervisor</td></tr><tr><td>Marketing Assistant</td></tr><tr><td>Marketing Manager</td></tr><tr><td>Marketing Specialist</td></tr><tr><td>Master Scheduler</td></tr><tr><td>Network Administrator</td></tr><tr><td>Network Manager</td></tr><tr><td>North American Sales Manager</td></tr><tr><td>Pacific Sales Manager</td></tr><tr><td>Production Control Manager</td></tr><tr><td>Production Supervisor - WC10</td></tr><tr><td>Production Supervisor - WC20</td></tr><tr><td>Production Supervisor - WC30</td></tr><tr><td>Production Supervisor - WC40</td></tr><tr><td>Production Supervisor - WC45</td></tr><tr><td>Production Supervisor - WC50</td></tr><tr><td>Production Supervisor - WC60</td></tr><tr><td>Production Technician - WC10</td></tr><tr><td>Production Technician - WC20</td></tr><tr><td>Production Technician - WC30</td></tr><tr><td>Production Technician - WC40</td></tr><tr><td>Production Technician - WC45</td></tr><tr><td>Production Technician - WC50</td></tr><tr><td>Production Technician - WC60</td></tr><tr><td>Purchasing Assistant</td></tr><tr><td>Purchasing Manager</td></tr><tr><td>Quality Assurance Manager</td></tr><tr><td>Quality Assurance Supervisor</td></tr><tr><td>Quality Assurance Technician</td></tr><tr><td>Recruiter</td></tr><tr><td>Research and Development Engineer</td></tr><tr><td>Research and Development Manager</td></tr><tr><td>Sales Representative</td></tr><tr><td>Scheduling Assistant</td></tr><tr><td>Senior Design Engineer</td></tr><tr><td>Senior Tool Designer</td></tr><tr><td>Shipping and Receiving Clerk</td></tr><tr><td>Shipping and Receiving Supervisor</td></tr><tr><td>Stocker</td></tr><tr><td>Tool Designer</td></tr><tr><td>Vice President of Engineering</td></tr><tr><td>Vice President of Production</td></tr><tr><td>Vice President of Sales</td></tr></table>"
                    },
                    "metadata": {}
                }
            ],
            "execution_count": 2
        },
        {
            "cell_type": "markdown",
            "source": [
                "Problem 1 Part B"
            ],
            "metadata": {
                "azdata_cell_guid": "0feca3f0-9df6-43b1-9ff9-21a18fac9fe5",
                "language": "sql"
            },
            "attachments": {}
        },
        {
            "cell_type": "code",
            "source": [
                "SELECT DISTINCT JobTitle\n",
                "FROM HumanResources.Employee\n",
                "WHERE JobTitle\n",
                "    LIKE '%Manager%'\n",
                "    OR JobTitle LIKE '%Supervisor%'\n",
                "    OR JobTitle LIKE '%Chief%'\n",
                "    OR JobTitle LIKE '%Vice President%'"
            ],
            "metadata": {
                "azdata_cell_guid": "83fdfdb9-1d47-4d9e-ae88-41734ec58007",
                "language": "sql"
            },
            "outputs": [
                {
                    "output_type": "display_data",
                    "data": {
                        "text/html": "(32 rows affected)"
                    },
                    "metadata": {}
                },
                {
                    "output_type": "display_data",
                    "data": {
                        "text/html": "Total execution time: 00:00:00.042"
                    },
                    "metadata": {}
                },
                {
                    "output_type": "execute_result",
                    "execution_count": 3,
                    "data": {
                        "application/vnd.dataresource+json": {
                            "schema": {
                                "fields": [
                                    {
                                        "name": "JobTitle"
                                    }
                                ]
                            },
                            "data": [
                                {
                                    "JobTitle": "Accounts Manager"
                                },
                                {
                                    "JobTitle": "Assistant to the Chief Financial Officer"
                                },
                                {
                                    "JobTitle": "Chief Executive Officer"
                                },
                                {
                                    "JobTitle": "Chief Financial Officer"
                                },
                                {
                                    "JobTitle": "Document Control Manager"
                                },
                                {
                                    "JobTitle": "Engineering Manager"
                                },
                                {
                                    "JobTitle": "European Sales Manager"
                                },
                                {
                                    "JobTitle": "Facilities Manager"
                                },
                                {
                                    "JobTitle": "Finance Manager"
                                },
                                {
                                    "JobTitle": "Human Resources Manager"
                                },
                                {
                                    "JobTitle": "Information Services Manager"
                                },
                                {
                                    "JobTitle": "Maintenance Supervisor"
                                },
                                {
                                    "JobTitle": "Marketing Manager"
                                },
                                {
                                    "JobTitle": "Network Manager"
                                },
                                {
                                    "JobTitle": "North American Sales Manager"
                                },
                                {
                                    "JobTitle": "Pacific Sales Manager"
                                },
                                {
                                    "JobTitle": "Production Control Manager"
                                },
                                {
                                    "JobTitle": "Production Supervisor - WC10"
                                },
                                {
                                    "JobTitle": "Production Supervisor - WC20"
                                },
                                {
                                    "JobTitle": "Production Supervisor - WC30"
                                },
                                {
                                    "JobTitle": "Production Supervisor - WC40"
                                },
                                {
                                    "JobTitle": "Production Supervisor - WC45"
                                },
                                {
                                    "JobTitle": "Production Supervisor - WC50"
                                },
                                {
                                    "JobTitle": "Production Supervisor - WC60"
                                },
                                {
                                    "JobTitle": "Purchasing Manager"
                                },
                                {
                                    "JobTitle": "Quality Assurance Manager"
                                },
                                {
                                    "JobTitle": "Quality Assurance Supervisor"
                                },
                                {
                                    "JobTitle": "Research and Development Manager"
                                },
                                {
                                    "JobTitle": "Shipping and Receiving Supervisor"
                                },
                                {
                                    "JobTitle": "Vice President of Engineering"
                                },
                                {
                                    "JobTitle": "Vice President of Production"
                                },
                                {
                                    "JobTitle": "Vice President of Sales"
                                }
                            ]
                        },
                        "text/html": "<table><tr><th>JobTitle</th></tr><tr><td>Accounts Manager</td></tr><tr><td>Assistant to the Chief Financial Officer</td></tr><tr><td>Chief Executive Officer</td></tr><tr><td>Chief Financial Officer</td></tr><tr><td>Document Control Manager</td></tr><tr><td>Engineering Manager</td></tr><tr><td>European Sales Manager</td></tr><tr><td>Facilities Manager</td></tr><tr><td>Finance Manager</td></tr><tr><td>Human Resources Manager</td></tr><tr><td>Information Services Manager</td></tr><tr><td>Maintenance Supervisor</td></tr><tr><td>Marketing Manager</td></tr><tr><td>Network Manager</td></tr><tr><td>North American Sales Manager</td></tr><tr><td>Pacific Sales Manager</td></tr><tr><td>Production Control Manager</td></tr><tr><td>Production Supervisor - WC10</td></tr><tr><td>Production Supervisor - WC20</td></tr><tr><td>Production Supervisor - WC30</td></tr><tr><td>Production Supervisor - WC40</td></tr><tr><td>Production Supervisor - WC45</td></tr><tr><td>Production Supervisor - WC50</td></tr><tr><td>Production Supervisor - WC60</td></tr><tr><td>Purchasing Manager</td></tr><tr><td>Quality Assurance Manager</td></tr><tr><td>Quality Assurance Supervisor</td></tr><tr><td>Research and Development Manager</td></tr><tr><td>Shipping and Receiving Supervisor</td></tr><tr><td>Vice President of Engineering</td></tr><tr><td>Vice President of Production</td></tr><tr><td>Vice President of Sales</td></tr></table>"
                    },
                    "metadata": {}
                }
            ],
            "execution_count": 3
        },
        {
            "cell_type": "markdown",
            "source": [
                "Problem 1 Part C"
            ],
            "metadata": {
                "azdata_cell_guid": "ac170bde-4ed0-46df-80d8-95e4384aa82d",
                "language": "sql"
            },
            "attachments": {}
        },
        {
            "cell_type": "code",
            "source": [
                "SELECT COUNT(JobTitle) AS Managers\n",
                "FROM HumanResources.Employee\n",
                "WHERE JobTitle\n",
                "    LIKE '%Manager%'\n",
                "    OR JobTitle LIKE '%Supervisor%'\n",
                "    OR JobTitle LIKE '%Chief%'\n",
                "    OR JobTitle LIKE '%Vice President%'"
            ],
            "metadata": {
                "azdata_cell_guid": "0dbca7d5-f4bd-46d3-bfa9-4627062eab3a",
                "language": "sql",
                "tags": []
            },
            "outputs": [
                {
                    "output_type": "display_data",
                    "data": {
                        "text/html": "(1 row affected)"
                    },
                    "metadata": {}
                },
                {
                    "output_type": "display_data",
                    "data": {
                        "text/html": "Total execution time: 00:00:00.040"
                    },
                    "metadata": {}
                },
                {
                    "output_type": "execute_result",
                    "execution_count": 4,
                    "data": {
                        "application/vnd.dataresource+json": {
                            "schema": {
                                "fields": [
                                    {
                                        "name": "Managers"
                                    }
                                ]
                            },
                            "data": [
                                {
                                    "Managers": "47"
                                }
                            ]
                        },
                        "text/html": "<table><tr><th>Managers</th></tr><tr><td>47</td></tr></table>"
                    },
                    "metadata": {}
                }
            ],
            "execution_count": 4
        },
        {
            "cell_type": "markdown",
            "source": [
                "Problem 1 Part D"
            ],
            "metadata": {
                "azdata_cell_guid": "d99e634b-6e1b-4e28-b5e4-64fe0fb89e73",
                "language": "sql"
            },
            "attachments": {}
        },
        {
            "cell_type": "code",
            "source": [
                "SELECT BusinessEntityID AS EmployeeID\n",
                "       , JobTitle\n",
                "       , BirthDate \n",
                "FROM HumanResources.Employee\n",
                "WHERE DATEDIFF(Year, BirthDate,GETDATE()) >= 60\n",
                "ORDER BY BirthDate DESC"
            ],
            "metadata": {
                "azdata_cell_guid": "6c57e4d1-6f99-4140-8393-db1d08d2975d",
                "language": "sql",
                "tags": []
            },
            "outputs": [
                {
                    "output_type": "display_data",
                    "data": {
                        "text/html": "(26 rows affected)"
                    },
                    "metadata": {}
                },
                {
                    "output_type": "display_data",
                    "data": {
                        "text/html": "Total execution time: 00:00:00.043"
                    },
                    "metadata": {}
                },
                {
                    "output_type": "execute_result",
                    "execution_count": 5,
                    "data": {
                        "application/vnd.dataresource+json": {
                            "schema": {
                                "fields": [
                                    {
                                        "name": "EmployeeID"
                                    },
                                    {
                                        "name": "JobTitle"
                                    },
                                    {
                                        "name": "BirthDate"
                                    }
                                ]
                            },
                            "data": [
                                {
                                    "EmployeeID": "262",
                                    "JobTitle": "Assistant to the Chief Financial Officer",
                                    "BirthDate": "1964-06-21"
                                },
                                {
                                    "EmployeeID": "282",
                                    "JobTitle": "Sales Representative",
                                    "BirthDate": "1963-12-11"
                                },
                                {
                                    "EmployeeID": "206",
                                    "JobTitle": "Production Technician - WC45",
                                    "BirthDate": "1962-09-13"
                                },
                                {
                                    "EmployeeID": "23",
                                    "JobTitle": "Marketing Specialist",
                                    "BirthDate": "1962-09-13"
                                },
                                {
                                    "EmployeeID": "277",
                                    "JobTitle": "Sales Representative",
                                    "BirthDate": "1962-08-29"
                                },
                                {
                                    "EmployeeID": "15",
                                    "JobTitle": "Design Engineer",
                                    "BirthDate": "1961-05-02"
                                },
                                {
                                    "EmployeeID": "12",
                                    "JobTitle": "Tool Designer",
                                    "BirthDate": "1959-07-29"
                                },
                                {
                                    "EmployeeID": "6",
                                    "JobTitle": "Design Engineer",
                                    "BirthDate": "1959-03-11"
                                },
                                {
                                    "EmployeeID": "287",
                                    "JobTitle": "European Sales Manager",
                                    "BirthDate": "1957-09-20"
                                },
                                {
                                    "EmployeeID": "27",
                                    "JobTitle": "Production Supervisor - WC60",
                                    "BirthDate": "1956-10-08"
                                },
                                {
                                    "EmployeeID": "50",
                                    "JobTitle": "Production Technician - WC10",
                                    "BirthDate": "1956-08-30"
                                },
                                {
                                    "EmployeeID": "62",
                                    "JobTitle": "Production Supervisor - WC60",
                                    "BirthDate": "1956-08-07"
                                },
                                {
                                    "EmployeeID": "51",
                                    "JobTitle": "Production Technician - WC10",
                                    "BirthDate": "1956-07-11"
                                },
                                {
                                    "EmployeeID": "48",
                                    "JobTitle": "Production Technician - WC10",
                                    "BirthDate": "1956-06-04"
                                },
                                {
                                    "EmployeeID": "52",
                                    "JobTitle": "Production Technician - WC10",
                                    "BirthDate": "1956-04-04"
                                },
                                {
                                    "EmployeeID": "55",
                                    "JobTitle": "Production Supervisor - WC50",
                                    "BirthDate": "1956-04-01"
                                },
                                {
                                    "EmployeeID": "53",
                                    "JobTitle": "Production Technician - WC10",
                                    "BirthDate": "1956-03-29"
                                },
                                {
                                    "EmployeeID": "49",
                                    "JobTitle": "Production Technician - WC10",
                                    "BirthDate": "1956-03-26"
                                },
                                {
                                    "EmployeeID": "40",
                                    "JobTitle": "Production Supervisor - WC60",
                                    "BirthDate": "1956-01-16"
                                },
                                {
                                    "EmployeeID": "63",
                                    "JobTitle": "Production Technician - WC60",
                                    "BirthDate": "1955-01-30"
                                },
                                {
                                    "EmployeeID": "231",
                                    "JobTitle": "Janitor",
                                    "BirthDate": "1954-04-24"
                                },
                                {
                                    "EmployeeID": "140",
                                    "JobTitle": "Production Technician - WC20",
                                    "BirthDate": "1953-04-30"
                                },
                                {
                                    "EmployeeID": "5",
                                    "JobTitle": "Design Engineer",
                                    "BirthDate": "1952-09-27"
                                },
                                {
                                    "EmployeeID": "256",
                                    "JobTitle": "Buyer",
                                    "BirthDate": "1952-05-12"
                                },
                                {
                                    "EmployeeID": "84",
                                    "JobTitle": "Production Technician - WC40",
                                    "BirthDate": "1952-03-02"
                                },
                                {
                                    "EmployeeID": "274",
                                    "JobTitle": "North American Sales Manager",
                                    "BirthDate": "1951-10-17"
                                }
                            ]
                        },
                        "text/html": "<table><tr><th>EmployeeID</th><th>JobTitle</th><th>BirthDate</th></tr><tr><td>262</td><td>Assistant to the Chief Financial Officer</td><td>1964-06-21</td></tr><tr><td>282</td><td>Sales Representative</td><td>1963-12-11</td></tr><tr><td>206</td><td>Production Technician - WC45</td><td>1962-09-13</td></tr><tr><td>23</td><td>Marketing Specialist</td><td>1962-09-13</td></tr><tr><td>277</td><td>Sales Representative</td><td>1962-08-29</td></tr><tr><td>15</td><td>Design Engineer</td><td>1961-05-02</td></tr><tr><td>12</td><td>Tool Designer</td><td>1959-07-29</td></tr><tr><td>6</td><td>Design Engineer</td><td>1959-03-11</td></tr><tr><td>287</td><td>European Sales Manager</td><td>1957-09-20</td></tr><tr><td>27</td><td>Production Supervisor - WC60</td><td>1956-10-08</td></tr><tr><td>50</td><td>Production Technician - WC10</td><td>1956-08-30</td></tr><tr><td>62</td><td>Production Supervisor - WC60</td><td>1956-08-07</td></tr><tr><td>51</td><td>Production Technician - WC10</td><td>1956-07-11</td></tr><tr><td>48</td><td>Production Technician - WC10</td><td>1956-06-04</td></tr><tr><td>52</td><td>Production Technician - WC10</td><td>1956-04-04</td></tr><tr><td>55</td><td>Production Supervisor - WC50</td><td>1956-04-01</td></tr><tr><td>53</td><td>Production Technician - WC10</td><td>1956-03-29</td></tr><tr><td>49</td><td>Production Technician - WC10</td><td>1956-03-26</td></tr><tr><td>40</td><td>Production Supervisor - WC60</td><td>1956-01-16</td></tr><tr><td>63</td><td>Production Technician - WC60</td><td>1955-01-30</td></tr><tr><td>231</td><td>Janitor</td><td>1954-04-24</td></tr><tr><td>140</td><td>Production Technician - WC20</td><td>1953-04-30</td></tr><tr><td>5</td><td>Design Engineer</td><td>1952-09-27</td></tr><tr><td>256</td><td>Buyer</td><td>1952-05-12</td></tr><tr><td>84</td><td>Production Technician - WC40</td><td>1952-03-02</td></tr><tr><td>274</td><td>North American Sales Manager</td><td>1951-10-17</td></tr></table>"
                    },
                    "metadata": {}
                }
            ],
            "execution_count": 5
        },
        {
            "cell_type": "markdown",
            "source": [
                "Problem 1 Part E"
            ],
            "metadata": {
                "azdata_cell_guid": "0c346b3f-07e6-4b7a-b49b-34b5efd4825c",
                "language": "sql"
            },
            "attachments": {}
        },
        {
            "cell_type": "code",
            "source": [
                "SELECT BusinessEntityID AS EmployeeID\n",
                "       , JobTitle\n",
                "       , BirthDate \n",
                "       , HireDate\n",
                "       , DATEDIFF(Year, HireDate, GETDATE()) AS EmployementYears\n",
                "FROM HumanResources.Employee \n",
                "WHERE DATEDIFF(Year, BirthDate,GETDATE()) >= 60\n",
                "    AND DATEDIFF(YEAR, HireDate, GETDATE()) >= 7\n",
                "ORDER BY HireDate "
            ],
            "metadata": {
                "azdata_cell_guid": "61f27513-9c9e-48d2-9bdc-7f6ded06df0b",
                "language": "sql"
            },
            "outputs": [
                {
                    "output_type": "display_data",
                    "data": {
                        "text/html": "(26 rows affected)"
                    },
                    "metadata": {}
                },
                {
                    "output_type": "display_data",
                    "data": {
                        "text/html": "Total execution time: 00:00:00.038"
                    },
                    "metadata": {}
                },
                {
                    "output_type": "execute_result",
                    "execution_count": 6,
                    "data": {
                        "application/vnd.dataresource+json": {
                            "schema": {
                                "fields": [
                                    {
                                        "name": "EmployeeID"
                                    },
                                    {
                                        "name": "JobTitle"
                                    },
                                    {
                                        "name": "BirthDate"
                                    },
                                    {
                                        "name": "HireDate"
                                    },
                                    {
                                        "name": "EmployementYears"
                                    }
                                ]
                            },
                            "data": [
                                {
                                    "EmployeeID": "12",
                                    "JobTitle": "Tool Designer",
                                    "BirthDate": "1959-07-29",
                                    "HireDate": "2007-12-11",
                                    "EmployementYears": "17"
                                },
                                {
                                    "EmployeeID": "40",
                                    "JobTitle": "Production Supervisor - WC60",
                                    "BirthDate": "1956-01-16",
                                    "HireDate": "2007-12-26",
                                    "EmployementYears": "17"
                                },
                                {
                                    "EmployeeID": "48",
                                    "JobTitle": "Production Technician - WC10",
                                    "BirthDate": "1956-06-04",
                                    "HireDate": "2008-01-06",
                                    "EmployementYears": "16"
                                },
                                {
                                    "EmployeeID": "5",
                                    "JobTitle": "Design Engineer",
                                    "BirthDate": "1952-09-27",
                                    "HireDate": "2008-01-06",
                                    "EmployementYears": "16"
                                },
                                {
                                    "EmployeeID": "49",
                                    "JobTitle": "Production Technician - WC10",
                                    "BirthDate": "1956-03-26",
                                    "HireDate": "2008-01-07",
                                    "EmployementYears": "16"
                                },
                                {
                                    "EmployeeID": "6",
                                    "JobTitle": "Design Engineer",
                                    "BirthDate": "1959-03-11",
                                    "HireDate": "2008-01-24",
                                    "EmployementYears": "16"
                                },
                                {
                                    "EmployeeID": "50",
                                    "JobTitle": "Production Technician - WC10",
                                    "BirthDate": "1956-08-30",
                                    "HireDate": "2008-02-02",
                                    "EmployementYears": "16"
                                },
                                {
                                    "EmployeeID": "55",
                                    "JobTitle": "Production Supervisor - WC50",
                                    "BirthDate": "1956-04-01",
                                    "HireDate": "2008-02-08",
                                    "EmployementYears": "16"
                                },
                                {
                                    "EmployeeID": "51",
                                    "JobTitle": "Production Technician - WC10",
                                    "BirthDate": "1956-07-11",
                                    "HireDate": "2008-02-20",
                                    "EmployementYears": "16"
                                },
                                {
                                    "EmployeeID": "27",
                                    "JobTitle": "Production Supervisor - WC60",
                                    "BirthDate": "1956-10-08",
                                    "HireDate": "2008-02-27",
                                    "EmployementYears": "16"
                                },
                                {
                                    "EmployeeID": "52",
                                    "JobTitle": "Production Technician - WC10",
                                    "BirthDate": "1956-04-04",
                                    "HireDate": "2008-03-10",
                                    "EmployementYears": "16"
                                },
                                {
                                    "EmployeeID": "62",
                                    "JobTitle": "Production Supervisor - WC60",
                                    "BirthDate": "1956-08-07",
                                    "HireDate": "2008-03-17",
                                    "EmployementYears": "16"
                                },
                                {
                                    "EmployeeID": "53",
                                    "JobTitle": "Production Technician - WC10",
                                    "BirthDate": "1956-03-29",
                                    "HireDate": "2008-03-28",
                                    "EmployementYears": "16"
                                },
                                {
                                    "EmployeeID": "206",
                                    "JobTitle": "Production Technician - WC45",
                                    "BirthDate": "1962-09-13",
                                    "HireDate": "2008-12-02",
                                    "EmployementYears": "16"
                                },
                                {
                                    "EmployeeID": "23",
                                    "JobTitle": "Marketing Specialist",
                                    "BirthDate": "1962-09-13",
                                    "HireDate": "2009-01-12",
                                    "EmployementYears": "15"
                                },
                                {
                                    "EmployeeID": "262",
                                    "JobTitle": "Assistant to the Chief Financial Officer",
                                    "BirthDate": "1964-06-21",
                                    "HireDate": "2009-01-12",
                                    "EmployementYears": "15"
                                },
                                {
                                    "EmployeeID": "140",
                                    "JobTitle": "Production Technician - WC20",
                                    "BirthDate": "1953-04-30",
                                    "HireDate": "2010-01-22",
                                    "EmployementYears": "14"
                                },
                                {
                                    "EmployeeID": "256",
                                    "JobTitle": "Buyer",
                                    "BirthDate": "1952-05-12",
                                    "HireDate": "2010-01-23",
                                    "EmployementYears": "14"
                                },
                                {
                                    "EmployeeID": "63",
                                    "JobTitle": "Production Technician - WC60",
                                    "BirthDate": "1955-01-30",
                                    "HireDate": "2010-01-29",
                                    "EmployementYears": "14"
                                },
                                {
                                    "EmployeeID": "84",
                                    "JobTitle": "Production Technician - WC40",
                                    "BirthDate": "1952-03-02",
                                    "HireDate": "2010-02-05",
                                    "EmployementYears": "14"
                                },
                                {
                                    "EmployeeID": "231",
                                    "JobTitle": "Janitor",
                                    "BirthDate": "1954-04-24",
                                    "HireDate": "2010-03-07",
                                    "EmployementYears": "14"
                                },
                                {
                                    "EmployeeID": "274",
                                    "JobTitle": "North American Sales Manager",
                                    "BirthDate": "1951-10-17",
                                    "HireDate": "2011-01-04",
                                    "EmployementYears": "13"
                                },
                                {
                                    "EmployeeID": "15",
                                    "JobTitle": "Design Engineer",
                                    "BirthDate": "1961-05-02",
                                    "HireDate": "2011-01-18",
                                    "EmployementYears": "13"
                                },
                                {
                                    "EmployeeID": "277",
                                    "JobTitle": "Sales Representative",
                                    "BirthDate": "1962-08-29",
                                    "HireDate": "2011-05-31",
                                    "EmployementYears": "13"
                                },
                                {
                                    "EmployeeID": "282",
                                    "JobTitle": "Sales Representative",
                                    "BirthDate": "1963-12-11",
                                    "HireDate": "2011-05-31",
                                    "EmployementYears": "13"
                                },
                                {
                                    "EmployeeID": "287",
                                    "JobTitle": "European Sales Manager",
                                    "BirthDate": "1957-09-20",
                                    "HireDate": "2012-04-16",
                                    "EmployementYears": "12"
                                }
                            ]
                        },
                        "text/html": "<table><tr><th>EmployeeID</th><th>JobTitle</th><th>BirthDate</th><th>HireDate</th><th>EmployementYears</th></tr><tr><td>12</td><td>Tool Designer</td><td>1959-07-29</td><td>2007-12-11</td><td>17</td></tr><tr><td>40</td><td>Production Supervisor - WC60</td><td>1956-01-16</td><td>2007-12-26</td><td>17</td></tr><tr><td>48</td><td>Production Technician - WC10</td><td>1956-06-04</td><td>2008-01-06</td><td>16</td></tr><tr><td>5</td><td>Design Engineer</td><td>1952-09-27</td><td>2008-01-06</td><td>16</td></tr><tr><td>49</td><td>Production Technician - WC10</td><td>1956-03-26</td><td>2008-01-07</td><td>16</td></tr><tr><td>6</td><td>Design Engineer</td><td>1959-03-11</td><td>2008-01-24</td><td>16</td></tr><tr><td>50</td><td>Production Technician - WC10</td><td>1956-08-30</td><td>2008-02-02</td><td>16</td></tr><tr><td>55</td><td>Production Supervisor - WC50</td><td>1956-04-01</td><td>2008-02-08</td><td>16</td></tr><tr><td>51</td><td>Production Technician - WC10</td><td>1956-07-11</td><td>2008-02-20</td><td>16</td></tr><tr><td>27</td><td>Production Supervisor - WC60</td><td>1956-10-08</td><td>2008-02-27</td><td>16</td></tr><tr><td>52</td><td>Production Technician - WC10</td><td>1956-04-04</td><td>2008-03-10</td><td>16</td></tr><tr><td>62</td><td>Production Supervisor - WC60</td><td>1956-08-07</td><td>2008-03-17</td><td>16</td></tr><tr><td>53</td><td>Production Technician - WC10</td><td>1956-03-29</td><td>2008-03-28</td><td>16</td></tr><tr><td>206</td><td>Production Technician - WC45</td><td>1962-09-13</td><td>2008-12-02</td><td>16</td></tr><tr><td>23</td><td>Marketing Specialist</td><td>1962-09-13</td><td>2009-01-12</td><td>15</td></tr><tr><td>262</td><td>Assistant to the Chief Financial Officer</td><td>1964-06-21</td><td>2009-01-12</td><td>15</td></tr><tr><td>140</td><td>Production Technician - WC20</td><td>1953-04-30</td><td>2010-01-22</td><td>14</td></tr><tr><td>256</td><td>Buyer</td><td>1952-05-12</td><td>2010-01-23</td><td>14</td></tr><tr><td>63</td><td>Production Technician - WC60</td><td>1955-01-30</td><td>2010-01-29</td><td>14</td></tr><tr><td>84</td><td>Production Technician - WC40</td><td>1952-03-02</td><td>2010-02-05</td><td>14</td></tr><tr><td>231</td><td>Janitor</td><td>1954-04-24</td><td>2010-03-07</td><td>14</td></tr><tr><td>274</td><td>North American Sales Manager</td><td>1951-10-17</td><td>2011-01-04</td><td>13</td></tr><tr><td>15</td><td>Design Engineer</td><td>1961-05-02</td><td>2011-01-18</td><td>13</td></tr><tr><td>277</td><td>Sales Representative</td><td>1962-08-29</td><td>2011-05-31</td><td>13</td></tr><tr><td>282</td><td>Sales Representative</td><td>1963-12-11</td><td>2011-05-31</td><td>13</td></tr><tr><td>287</td><td>European Sales Manager</td><td>1957-09-20</td><td>2012-04-16</td><td>12</td></tr></table>"
                    },
                    "metadata": {}
                }
            ],
            "execution_count": 6
        },
        {
            "cell_type": "markdown",
            "source": [
                "Problem 2 Part A"
            ],
            "metadata": {
                "azdata_cell_guid": "8e55f19a-e73e-4a17-8710-8c4fbc994712",
                "language": "sql"
            },
            "attachments": {}
        },
        {
            "cell_type": "code",
            "source": [
                "SELECT NAME\n",
                "    , SafetyStockLevel\n",
                "    , ListPrice\n",
                "FROM Production.Product\n",
                "WHERE FinishedGoodsFlag = 1 \n",
                "    AND SellEndDate IS NULL\n",
                "ORDER BY SafetyStockLevel ASC, NAME ASC"
            ],
            "metadata": {
                "azdata_cell_guid": "1c675595-069a-4d72-9970-bb07cac1bca9",
                "language": "sql"
            },
            "outputs": [
                {
                    "output_type": "display_data",
                    "data": {
                        "text/html": "(197 rows affected)"
                    },
                    "metadata": {}
                },
                {
                    "output_type": "display_data",
                    "data": {
                        "text/html": "Total execution time: 00:00:00.107"
                    },
                    "metadata": {}
                },
                {
                    "output_type": "execute_result",
                    "execution_count": 7,
                    "data": {
                        "application/vnd.dataresource+json": {
                            "schema": {
                                "fields": [
                                    {
                                        "name": "NAME"
                                    },
                                    {
                                        "name": "SafetyStockLevel"
                                    },
                                    {
                                        "name": "ListPrice"
                                    }
                                ]
                            },
                            "data": [
                                {
                                    "NAME": "All-Purpose Bike Stand",
                                    "SafetyStockLevel": "4",
                                    "ListPrice": "159.00"
                                },
                                {
                                    "NAME": "AWC Logo Cap",
                                    "SafetyStockLevel": "4",
                                    "ListPrice": "8.99"
                                },
                                {
                                    "NAME": "Bike Wash - Dissolver",
                                    "SafetyStockLevel": "4",
                                    "ListPrice": "7.95"
                                },
                                {
                                    "NAME": "Classic Vest, L",
                                    "SafetyStockLevel": "4",
                                    "ListPrice": "63.50"
                                },
                                {
                                    "NAME": "Classic Vest, M",
                                    "SafetyStockLevel": "4",
                                    "ListPrice": "63.50"
                                },
                                {
                                    "NAME": "Classic Vest, S",
                                    "SafetyStockLevel": "4",
                                    "ListPrice": "63.50"
                                },
                                {
                                    "NAME": "Fender Set - Mountain",
                                    "SafetyStockLevel": "4",
                                    "ListPrice": "21.98"
                                },
                                {
                                    "NAME": "Half-Finger Gloves, L",
                                    "SafetyStockLevel": "4",
                                    "ListPrice": "24.49"
                                },
                                {
                                    "NAME": "Half-Finger Gloves, M",
                                    "SafetyStockLevel": "4",
                                    "ListPrice": "24.49"
                                },
                                {
                                    "NAME": "Half-Finger Gloves, S",
                                    "SafetyStockLevel": "4",
                                    "ListPrice": "24.49"
                                },
                                {
                                    "NAME": "Hitch Rack - 4-Bike",
                                    "SafetyStockLevel": "4",
                                    "ListPrice": "120.00"
                                },
                                {
                                    "NAME": "Hydration Pack - 70 oz.",
                                    "SafetyStockLevel": "4",
                                    "ListPrice": "54.99"
                                },
                                {
                                    "NAME": "Long-Sleeve Logo Jersey, L",
                                    "SafetyStockLevel": "4",
                                    "ListPrice": "49.99"
                                },
                                {
                                    "NAME": "Long-Sleeve Logo Jersey, M",
                                    "SafetyStockLevel": "4",
                                    "ListPrice": "49.99"
                                },
                                {
                                    "NAME": "Long-Sleeve Logo Jersey, S",
                                    "SafetyStockLevel": "4",
                                    "ListPrice": "49.99"
                                },
                                {
                                    "NAME": "Long-Sleeve Logo Jersey, XL",
                                    "SafetyStockLevel": "4",
                                    "ListPrice": "49.99"
                                },
                                {
                                    "NAME": "Mountain Bottle Cage",
                                    "SafetyStockLevel": "4",
                                    "ListPrice": "9.99"
                                },
                                {
                                    "NAME": "Patch Kit/8 Patches",
                                    "SafetyStockLevel": "4",
                                    "ListPrice": "2.29"
                                },
                                {
                                    "NAME": "Racing Socks, L",
                                    "SafetyStockLevel": "4",
                                    "ListPrice": "8.99"
                                },
                                {
                                    "NAME": "Racing Socks, M",
                                    "SafetyStockLevel": "4",
                                    "ListPrice": "8.99"
                                },
                                {
                                    "NAME": "Road Bottle Cage",
                                    "SafetyStockLevel": "4",
                                    "ListPrice": "8.99"
                                },
                                {
                                    "NAME": "Short-Sleeve Classic Jersey, L",
                                    "SafetyStockLevel": "4",
                                    "ListPrice": "53.99"
                                },
                                {
                                    "NAME": "Short-Sleeve Classic Jersey, M",
                                    "SafetyStockLevel": "4",
                                    "ListPrice": "53.99"
                                },
                                {
                                    "NAME": "Short-Sleeve Classic Jersey, S",
                                    "SafetyStockLevel": "4",
                                    "ListPrice": "53.99"
                                },
                                {
                                    "NAME": "Short-Sleeve Classic Jersey, XL",
                                    "SafetyStockLevel": "4",
                                    "ListPrice": "53.99"
                                },
                                {
                                    "NAME": "Sport-100 Helmet, Black",
                                    "SafetyStockLevel": "4",
                                    "ListPrice": "34.99"
                                },
                                {
                                    "NAME": "Sport-100 Helmet, Blue",
                                    "SafetyStockLevel": "4",
                                    "ListPrice": "34.99"
                                },
                                {
                                    "NAME": "Sport-100 Helmet, Red",
                                    "SafetyStockLevel": "4",
                                    "ListPrice": "34.99"
                                },
                                {
                                    "NAME": "Water Bottle - 30 oz.",
                                    "SafetyStockLevel": "4",
                                    "ListPrice": "4.99"
                                },
                                {
                                    "NAME": "Women's Mountain Shorts, L",
                                    "SafetyStockLevel": "4",
                                    "ListPrice": "69.99"
                                },
                                {
                                    "NAME": "Women's Mountain Shorts, M",
                                    "SafetyStockLevel": "4",
                                    "ListPrice": "69.99"
                                },
                                {
                                    "NAME": "Women's Mountain Shorts, S",
                                    "SafetyStockLevel": "4",
                                    "ListPrice": "69.99"
                                },
                                {
                                    "NAME": "Mountain-200 Black, 38",
                                    "SafetyStockLevel": "100",
                                    "ListPrice": "2294.99"
                                },
                                {
                                    "NAME": "Mountain-200 Black, 42",
                                    "SafetyStockLevel": "100",
                                    "ListPrice": "2294.99"
                                },
                                {
                                    "NAME": "Mountain-200 Black, 46",
                                    "SafetyStockLevel": "100",
                                    "ListPrice": "2294.99"
                                },
                                {
                                    "NAME": "Mountain-200 Silver, 38",
                                    "SafetyStockLevel": "100",
                                    "ListPrice": "2319.99"
                                },
                                {
                                    "NAME": "Mountain-200 Silver, 42",
                                    "SafetyStockLevel": "100",
                                    "ListPrice": "2319.99"
                                },
                                {
                                    "NAME": "Mountain-200 Silver, 46",
                                    "SafetyStockLevel": "100",
                                    "ListPrice": "2319.99"
                                },
                                {
                                    "NAME": "Mountain-400-W Silver, 38",
                                    "SafetyStockLevel": "100",
                                    "ListPrice": "769.49"
                                },
                                {
                                    "NAME": "Mountain-400-W Silver, 40",
                                    "SafetyStockLevel": "100",
                                    "ListPrice": "769.49"
                                },
                                {
                                    "NAME": "Mountain-400-W Silver, 42",
                                    "SafetyStockLevel": "100",
                                    "ListPrice": "769.49"
                                },
                                {
                                    "NAME": "Mountain-400-W Silver, 46",
                                    "SafetyStockLevel": "100",
                                    "ListPrice": "769.49"
                                },
                                {
                                    "NAME": "Mountain-500 Black, 40",
                                    "SafetyStockLevel": "100",
                                    "ListPrice": "539.99"
                                },
                                {
                                    "NAME": "Mountain-500 Black, 42",
                                    "SafetyStockLevel": "100",
                                    "ListPrice": "539.99"
                                },
                                {
                                    "NAME": "Mountain-500 Black, 44",
                                    "SafetyStockLevel": "100",
                                    "ListPrice": "539.99"
                                },
                                {
                                    "NAME": "Mountain-500 Black, 48",
                                    "SafetyStockLevel": "100",
                                    "ListPrice": "539.99"
                                },
                                {
                                    "NAME": "Mountain-500 Black, 52",
                                    "SafetyStockLevel": "100",
                                    "ListPrice": "539.99"
                                },
                                {
                                    "NAME": "Mountain-500 Silver, 40",
                                    "SafetyStockLevel": "100",
                                    "ListPrice": "564.99"
                                },
                                {
                                    "NAME": "Mountain-500 Silver, 42",
                                    "SafetyStockLevel": "100",
                                    "ListPrice": "564.99"
                                },
                                {
                                    "NAME": "Mountain-500 Silver, 44",
                                    "SafetyStockLevel": "100",
                                    "ListPrice": "564.99"
                                },
                                {
                                    "NAME": "Mountain-500 Silver, 48",
                                    "SafetyStockLevel": "100",
                                    "ListPrice": "564.99"
                                },
                                {
                                    "NAME": "Mountain-500 Silver, 52",
                                    "SafetyStockLevel": "100",
                                    "ListPrice": "564.99"
                                },
                                {
                                    "NAME": "Road-250 Black, 44",
                                    "SafetyStockLevel": "100",
                                    "ListPrice": "2443.35"
                                },
                                {
                                    "NAME": "Road-250 Black, 48",
                                    "SafetyStockLevel": "100",
                                    "ListPrice": "2443.35"
                                },
                                {
                                    "NAME": "Road-250 Black, 52",
                                    "SafetyStockLevel": "100",
                                    "ListPrice": "2443.35"
                                },
                                {
                                    "NAME": "Road-250 Black, 58",
                                    "SafetyStockLevel": "100",
                                    "ListPrice": "2443.35"
                                },
                                {
                                    "NAME": "Road-250 Red, 58",
                                    "SafetyStockLevel": "100",
                                    "ListPrice": "2443.35"
                                },
                                {
                                    "NAME": "Road-350-W Yellow, 40",
                                    "SafetyStockLevel": "100",
                                    "ListPrice": "1700.99"
                                },
                                {
                                    "NAME": "Road-350-W Yellow, 42",
                                    "SafetyStockLevel": "100",
                                    "ListPrice": "1700.99"
                                },
                                {
                                    "NAME": "Road-350-W Yellow, 44",
                                    "SafetyStockLevel": "100",
                                    "ListPrice": "1700.99"
                                },
                                {
                                    "NAME": "Road-350-W Yellow, 48",
                                    "SafetyStockLevel": "100",
                                    "ListPrice": "1700.99"
                                },
                                {
                                    "NAME": "Road-550-W Yellow, 38",
                                    "SafetyStockLevel": "100",
                                    "ListPrice": "1120.49"
                                },
                                {
                                    "NAME": "Road-550-W Yellow, 40",
                                    "SafetyStockLevel": "100",
                                    "ListPrice": "1120.49"
                                },
                                {
                                    "NAME": "Road-550-W Yellow, 42",
                                    "SafetyStockLevel": "100",
                                    "ListPrice": "1120.49"
                                },
                                {
                                    "NAME": "Road-550-W Yellow, 44",
                                    "SafetyStockLevel": "100",
                                    "ListPrice": "1120.49"
                                },
                                {
                                    "NAME": "Road-550-W Yellow, 48",
                                    "SafetyStockLevel": "100",
                                    "ListPrice": "1120.49"
                                },
                                {
                                    "NAME": "Road-750 Black, 44",
                                    "SafetyStockLevel": "100",
                                    "ListPrice": "539.99"
                                },
                                {
                                    "NAME": "Road-750 Black, 48",
                                    "SafetyStockLevel": "100",
                                    "ListPrice": "539.99"
                                },
                                {
                                    "NAME": "Road-750 Black, 52",
                                    "SafetyStockLevel": "100",
                                    "ListPrice": "539.99"
                                },
                                {
                                    "NAME": "Road-750 Black, 58",
                                    "SafetyStockLevel": "100",
                                    "ListPrice": "539.99"
                                },
                                {
                                    "NAME": "Touring-1000 Blue, 46",
                                    "SafetyStockLevel": "100",
                                    "ListPrice": "2384.07"
                                },
                                {
                                    "NAME": "Touring-1000 Blue, 50",
                                    "SafetyStockLevel": "100",
                                    "ListPrice": "2384.07"
                                },
                                {
                                    "NAME": "Touring-1000 Blue, 54",
                                    "SafetyStockLevel": "100",
                                    "ListPrice": "2384.07"
                                },
                                {
                                    "NAME": "Touring-1000 Blue, 60",
                                    "SafetyStockLevel": "100",
                                    "ListPrice": "2384.07"
                                },
                                {
                                    "NAME": "Touring-1000 Yellow, 46",
                                    "SafetyStockLevel": "100",
                                    "ListPrice": "2384.07"
                                },
                                {
                                    "NAME": "Touring-1000 Yellow, 50",
                                    "SafetyStockLevel": "100",
                                    "ListPrice": "2384.07"
                                },
                                {
                                    "NAME": "Touring-1000 Yellow, 54",
                                    "SafetyStockLevel": "100",
                                    "ListPrice": "2384.07"
                                },
                                {
                                    "NAME": "Touring-1000 Yellow, 60",
                                    "SafetyStockLevel": "100",
                                    "ListPrice": "2384.07"
                                },
                                {
                                    "NAME": "Touring-2000 Blue, 46",
                                    "SafetyStockLevel": "100",
                                    "ListPrice": "1214.85"
                                },
                                {
                                    "NAME": "Touring-2000 Blue, 50",
                                    "SafetyStockLevel": "100",
                                    "ListPrice": "1214.85"
                                },
                                {
                                    "NAME": "Touring-2000 Blue, 54",
                                    "SafetyStockLevel": "100",
                                    "ListPrice": "1214.85"
                                },
                                {
                                    "NAME": "Touring-2000 Blue, 60",
                                    "SafetyStockLevel": "100",
                                    "ListPrice": "1214.85"
                                },
                                {
                                    "NAME": "Touring-3000 Blue, 44",
                                    "SafetyStockLevel": "100",
                                    "ListPrice": "742.35"
                                },
                                {
                                    "NAME": "Touring-3000 Blue, 50",
                                    "SafetyStockLevel": "100",
                                    "ListPrice": "742.35"
                                },
                                {
                                    "NAME": "Touring-3000 Blue, 54",
                                    "SafetyStockLevel": "100",
                                    "ListPrice": "742.35"
                                },
                                {
                                    "NAME": "Touring-3000 Blue, 58",
                                    "SafetyStockLevel": "100",
                                    "ListPrice": "742.35"
                                },
                                {
                                    "NAME": "Touring-3000 Blue, 62",
                                    "SafetyStockLevel": "100",
                                    "ListPrice": "742.35"
                                },
                                {
                                    "NAME": "Touring-3000 Yellow, 44",
                                    "SafetyStockLevel": "100",
                                    "ListPrice": "742.35"
                                },
                                {
                                    "NAME": "Touring-3000 Yellow, 50",
                                    "SafetyStockLevel": "100",
                                    "ListPrice": "742.35"
                                },
                                {
                                    "NAME": "Touring-3000 Yellow, 54",
                                    "SafetyStockLevel": "100",
                                    "ListPrice": "742.35"
                                },
                                {
                                    "NAME": "Touring-3000 Yellow, 58",
                                    "SafetyStockLevel": "100",
                                    "ListPrice": "742.35"
                                },
                                {
                                    "NAME": "Touring-3000 Yellow, 62",
                                    "SafetyStockLevel": "100",
                                    "ListPrice": "742.35"
                                },
                                {
                                    "NAME": "Chain",
                                    "SafetyStockLevel": "500",
                                    "ListPrice": "20.24"
                                },
                                {
                                    "NAME": "Front Brakes",
                                    "SafetyStockLevel": "500",
                                    "ListPrice": "106.50"
                                },
                                {
                                    "NAME": "Front Derailleur",
                                    "SafetyStockLevel": "500",
                                    "ListPrice": "91.49"
                                },
                                {
                                    "NAME": "HL Bottom Bracket",
                                    "SafetyStockLevel": "500",
                                    "ListPrice": "121.49"
                                },
                                {
                                    "NAME": "HL Crankset",
                                    "SafetyStockLevel": "500",
                                    "ListPrice": "404.99"
                                },
                                {
                                    "NAME": "HL Mountain Frame - Black, 38",
                                    "SafetyStockLevel": "500",
                                    "ListPrice": "1349.60"
                                },
                                {
                                    "NAME": "HL Mountain Frame - Black, 42",
                                    "SafetyStockLevel": "500",
                                    "ListPrice": "1349.60"
                                },
                                {
                                    "NAME": "HL Mountain Frame - Black, 46",
                                    "SafetyStockLevel": "500",
                                    "ListPrice": "1349.60"
                                },
                                {
                                    "NAME": "HL Mountain Frame - Silver, 38",
                                    "SafetyStockLevel": "500",
                                    "ListPrice": "1364.50"
                                },
                                {
                                    "NAME": "HL Mountain Frame - Silver, 42",
                                    "SafetyStockLevel": "500",
                                    "ListPrice": "1364.50"
                                },
                                {
                                    "NAME": "HL Mountain Frame - Silver, 46",
                                    "SafetyStockLevel": "500",
                                    "ListPrice": "1364.50"
                                },
                                {
                                    "NAME": "HL Mountain Handlebars",
                                    "SafetyStockLevel": "500",
                                    "ListPrice": "120.27"
                                },
                                {
                                    "NAME": "HL Mountain Pedal",
                                    "SafetyStockLevel": "500",
                                    "ListPrice": "80.99"
                                },
                                {
                                    "NAME": "HL Mountain Seat/Saddle",
                                    "SafetyStockLevel": "500",
                                    "ListPrice": "52.64"
                                },
                                {
                                    "NAME": "HL Mountain Tire",
                                    "SafetyStockLevel": "500",
                                    "ListPrice": "35.00"
                                },
                                {
                                    "NAME": "HL Road Frame - Black, 44",
                                    "SafetyStockLevel": "500",
                                    "ListPrice": "1431.50"
                                },
                                {
                                    "NAME": "HL Road Frame - Black, 48",
                                    "SafetyStockLevel": "500",
                                    "ListPrice": "1431.50"
                                },
                                {
                                    "NAME": "HL Road Frame - Black, 52",
                                    "SafetyStockLevel": "500",
                                    "ListPrice": "1431.50"
                                },
                                {
                                    "NAME": "HL Road Frame - Black, 58",
                                    "SafetyStockLevel": "500",
                                    "ListPrice": "1431.50"
                                },
                                {
                                    "NAME": "HL Road Frame - Black, 62",
                                    "SafetyStockLevel": "500",
                                    "ListPrice": "1431.50"
                                },
                                {
                                    "NAME": "HL Road Frame - Red, 44",
                                    "SafetyStockLevel": "500",
                                    "ListPrice": "1431.50"
                                },
                                {
                                    "NAME": "HL Road Frame - Red, 48",
                                    "SafetyStockLevel": "500",
                                    "ListPrice": "1431.50"
                                },
                                {
                                    "NAME": "HL Road Frame - Red, 52",
                                    "SafetyStockLevel": "500",
                                    "ListPrice": "1431.50"
                                },
                                {
                                    "NAME": "HL Road Frame - Red, 56",
                                    "SafetyStockLevel": "500",
                                    "ListPrice": "1431.50"
                                },
                                {
                                    "NAME": "HL Road Frame - Red, 58",
                                    "SafetyStockLevel": "500",
                                    "ListPrice": "1431.50"
                                },
                                {
                                    "NAME": "HL Road Frame - Red, 62",
                                    "SafetyStockLevel": "500",
                                    "ListPrice": "1431.50"
                                },
                                {
                                    "NAME": "HL Road Handlebars",
                                    "SafetyStockLevel": "500",
                                    "ListPrice": "120.27"
                                },
                                {
                                    "NAME": "HL Road Pedal",
                                    "SafetyStockLevel": "500",
                                    "ListPrice": "80.99"
                                },
                                {
                                    "NAME": "HL Road Seat/Saddle",
                                    "SafetyStockLevel": "500",
                                    "ListPrice": "52.64"
                                },
                                {
                                    "NAME": "HL Road Tire",
                                    "SafetyStockLevel": "500",
                                    "ListPrice": "32.60"
                                },
                                {
                                    "NAME": "HL Touring Frame - Blue, 46",
                                    "SafetyStockLevel": "500",
                                    "ListPrice": "1003.91"
                                },
                                {
                                    "NAME": "HL Touring Frame - Blue, 50",
                                    "SafetyStockLevel": "500",
                                    "ListPrice": "1003.91"
                                },
                                {
                                    "NAME": "HL Touring Frame - Blue, 54",
                                    "SafetyStockLevel": "500",
                                    "ListPrice": "1003.91"
                                },
                                {
                                    "NAME": "HL Touring Frame - Blue, 60",
                                    "SafetyStockLevel": "500",
                                    "ListPrice": "1003.91"
                                },
                                {
                                    "NAME": "HL Touring Frame - Yellow, 46",
                                    "SafetyStockLevel": "500",
                                    "ListPrice": "1003.91"
                                },
                                {
                                    "NAME": "HL Touring Frame - Yellow, 50",
                                    "SafetyStockLevel": "500",
                                    "ListPrice": "1003.91"
                                },
                                {
                                    "NAME": "HL Touring Frame - Yellow, 54",
                                    "SafetyStockLevel": "500",
                                    "ListPrice": "1003.91"
                                },
                                {
                                    "NAME": "HL Touring Frame - Yellow, 60",
                                    "SafetyStockLevel": "500",
                                    "ListPrice": "1003.91"
                                },
                                {
                                    "NAME": "HL Touring Handlebars",
                                    "SafetyStockLevel": "500",
                                    "ListPrice": "91.57"
                                },
                                {
                                    "NAME": "HL Touring Seat/Saddle",
                                    "SafetyStockLevel": "500",
                                    "ListPrice": "52.64"
                                },
                                {
                                    "NAME": "LL Bottom Bracket",
                                    "SafetyStockLevel": "500",
                                    "ListPrice": "53.99"
                                },
                                {
                                    "NAME": "LL Crankset",
                                    "SafetyStockLevel": "500",
                                    "ListPrice": "175.49"
                                },
                                {
                                    "NAME": "LL Mountain Frame - Black, 40",
                                    "SafetyStockLevel": "500",
                                    "ListPrice": "249.79"
                                },
                                {
                                    "NAME": "LL Mountain Frame - Black, 42",
                                    "SafetyStockLevel": "500",
                                    "ListPrice": "249.79"
                                },
                                {
                                    "NAME": "LL Mountain Frame - Black, 44",
                                    "SafetyStockLevel": "500",
                                    "ListPrice": "249.79"
                                },
                                {
                                    "NAME": "LL Mountain Frame - Black, 48",
                                    "SafetyStockLevel": "500",
                                    "ListPrice": "249.79"
                                },
                                {
                                    "NAME": "LL Mountain Frame - Black, 52",
                                    "SafetyStockLevel": "500",
                                    "ListPrice": "249.79"
                                },
                                {
                                    "NAME": "LL Mountain Frame - Silver, 40",
                                    "SafetyStockLevel": "500",
                                    "ListPrice": "264.05"
                                },
                                {
                                    "NAME": "LL Mountain Frame - Silver, 42",
                                    "SafetyStockLevel": "500",
                                    "ListPrice": "264.05"
                                },
                                {
                                    "NAME": "LL Mountain Frame - Silver, 44",
                                    "SafetyStockLevel": "500",
                                    "ListPrice": "264.05"
                                },
                                {
                                    "NAME": "LL Mountain Frame - Silver, 48",
                                    "SafetyStockLevel": "500",
                                    "ListPrice": "264.05"
                                },
                                {
                                    "NAME": "LL Mountain Frame - Silver, 52",
                                    "SafetyStockLevel": "500",
                                    "ListPrice": "264.05"
                                },
                                {
                                    "NAME": "LL Mountain Handlebars",
                                    "SafetyStockLevel": "500",
                                    "ListPrice": "44.54"
                                },
                                {
                                    "NAME": "LL Mountain Pedal",
                                    "SafetyStockLevel": "500",
                                    "ListPrice": "40.49"
                                },
                                {
                                    "NAME": "LL Mountain Seat/Saddle",
                                    "SafetyStockLevel": "500",
                                    "ListPrice": "27.12"
                                },
                                {
                                    "NAME": "LL Mountain Tire",
                                    "SafetyStockLevel": "500",
                                    "ListPrice": "24.99"
                                },
                                {
                                    "NAME": "LL Road Frame - Black, 44",
                                    "SafetyStockLevel": "500",
                                    "ListPrice": "337.22"
                                },
                                {
                                    "NAME": "LL Road Frame - Black, 48",
                                    "SafetyStockLevel": "500",
                                    "ListPrice": "337.22"
                                },
                                {
                                    "NAME": "LL Road Frame - Black, 52",
                                    "SafetyStockLevel": "500",
                                    "ListPrice": "337.22"
                                },
                                {
                                    "NAME": "LL Road Frame - Black, 58",
                                    "SafetyStockLevel": "500",
                                    "ListPrice": "337.22"
                                },
                                {
                                    "NAME": "LL Road Frame - Black, 60",
                                    "SafetyStockLevel": "500",
                                    "ListPrice": "337.22"
                                },
                                {
                                    "NAME": "LL Road Frame - Black, 62",
                                    "SafetyStockLevel": "500",
                                    "ListPrice": "337.22"
                                },
                                {
                                    "NAME": "LL Road Handlebars",
                                    "SafetyStockLevel": "500",
                                    "ListPrice": "44.54"
                                },
                                {
                                    "NAME": "LL Road Pedal",
                                    "SafetyStockLevel": "500",
                                    "ListPrice": "40.49"
                                },
                                {
                                    "NAME": "LL Road Seat/Saddle",
                                    "SafetyStockLevel": "500",
                                    "ListPrice": "27.12"
                                },
                                {
                                    "NAME": "LL Road Tire",
                                    "SafetyStockLevel": "500",
                                    "ListPrice": "21.49"
                                },
                                {
                                    "NAME": "LL Touring Frame - Blue, 44",
                                    "SafetyStockLevel": "500",
                                    "ListPrice": "333.42"
                                },
                                {
                                    "NAME": "LL Touring Frame - Blue, 50",
                                    "SafetyStockLevel": "500",
                                    "ListPrice": "333.42"
                                },
                                {
                                    "NAME": "LL Touring Frame - Blue, 54",
                                    "SafetyStockLevel": "500",
                                    "ListPrice": "333.42"
                                },
                                {
                                    "NAME": "LL Touring Frame - Blue, 58",
                                    "SafetyStockLevel": "500",
                                    "ListPrice": "333.42"
                                },
                                {
                                    "NAME": "LL Touring Frame - Blue, 62",
                                    "SafetyStockLevel": "500",
                                    "ListPrice": "333.42"
                                },
                                {
                                    "NAME": "LL Touring Frame - Yellow, 44",
                                    "SafetyStockLevel": "500",
                                    "ListPrice": "333.42"
                                },
                                {
                                    "NAME": "LL Touring Frame - Yellow, 50",
                                    "SafetyStockLevel": "500",
                                    "ListPrice": "333.42"
                                },
                                {
                                    "NAME": "LL Touring Frame - Yellow, 54",
                                    "SafetyStockLevel": "500",
                                    "ListPrice": "333.42"
                                },
                                {
                                    "NAME": "LL Touring Frame - Yellow, 58",
                                    "SafetyStockLevel": "500",
                                    "ListPrice": "333.42"
                                },
                                {
                                    "NAME": "LL Touring Frame - Yellow, 62",
                                    "SafetyStockLevel": "500",
                                    "ListPrice": "333.42"
                                },
                                {
                                    "NAME": "LL Touring Handlebars",
                                    "SafetyStockLevel": "500",
                                    "ListPrice": "46.09"
                                },
                                {
                                    "NAME": "LL Touring Seat/Saddle",
                                    "SafetyStockLevel": "500",
                                    "ListPrice": "27.12"
                                },
                                {
                                    "NAME": "ML Bottom Bracket",
                                    "SafetyStockLevel": "500",
                                    "ListPrice": "101.24"
                                },
                                {
                                    "NAME": "ML Crankset",
                                    "SafetyStockLevel": "500",
                                    "ListPrice": "256.49"
                                },
                                {
                                    "NAME": "ML Mountain Frame-W - Silver, 38",
                                    "SafetyStockLevel": "500",
                                    "ListPrice": "364.09"
                                },
                                {
                                    "NAME": "ML Mountain Frame-W - Silver, 40",
                                    "SafetyStockLevel": "500",
                                    "ListPrice": "364.09"
                                },
                                {
                                    "NAME": "ML Mountain Frame-W - Silver, 42",
                                    "SafetyStockLevel": "500",
                                    "ListPrice": "364.09"
                                },
                                {
                                    "NAME": "ML Mountain Frame-W - Silver, 46",
                                    "SafetyStockLevel": "500",
                                    "ListPrice": "364.09"
                                },
                                {
                                    "NAME": "ML Mountain Handlebars",
                                    "SafetyStockLevel": "500",
                                    "ListPrice": "61.92"
                                },
                                {
                                    "NAME": "ML Mountain Pedal",
                                    "SafetyStockLevel": "500",
                                    "ListPrice": "62.09"
                                },
                                {
                                    "NAME": "ML Mountain Seat/Saddle",
                                    "SafetyStockLevel": "500",
                                    "ListPrice": "39.14"
                                },
                                {
                                    "NAME": "ML Mountain Tire",
                                    "SafetyStockLevel": "500",
                                    "ListPrice": "29.99"
                                },
                                {
                                    "NAME": "ML Road Frame-W - Yellow, 38",
                                    "SafetyStockLevel": "500",
                                    "ListPrice": "594.83"
                                },
                                {
                                    "NAME": "ML Road Frame-W - Yellow, 40",
                                    "SafetyStockLevel": "500",
                                    "ListPrice": "594.83"
                                },
                                {
                                    "NAME": "ML Road Frame-W - Yellow, 42",
                                    "SafetyStockLevel": "500",
                                    "ListPrice": "594.83"
                                },
                                {
                                    "NAME": "ML Road Frame-W - Yellow, 44",
                                    "SafetyStockLevel": "500",
                                    "ListPrice": "594.83"
                                },
                                {
                                    "NAME": "ML Road Frame-W - Yellow, 48",
                                    "SafetyStockLevel": "500",
                                    "ListPrice": "594.83"
                                },
                                {
                                    "NAME": "ML Road Handlebars",
                                    "SafetyStockLevel": "500",
                                    "ListPrice": "61.92"
                                },
                                {
                                    "NAME": "ML Road Pedal",
                                    "SafetyStockLevel": "500",
                                    "ListPrice": "62.09"
                                },
                                {
                                    "NAME": "ML Road Seat/Saddle",
                                    "SafetyStockLevel": "500",
                                    "ListPrice": "39.14"
                                },
                                {
                                    "NAME": "ML Road Tire",
                                    "SafetyStockLevel": "500",
                                    "ListPrice": "24.99"
                                },
                                {
                                    "NAME": "ML Touring Seat/Saddle",
                                    "SafetyStockLevel": "500",
                                    "ListPrice": "39.14"
                                },
                                {
                                    "NAME": "Mountain Tire Tube",
                                    "SafetyStockLevel": "500",
                                    "ListPrice": "4.99"
                                },
                                {
                                    "NAME": "Rear Brakes",
                                    "SafetyStockLevel": "500",
                                    "ListPrice": "106.50"
                                },
                                {
                                    "NAME": "Rear Derailleur",
                                    "SafetyStockLevel": "500",
                                    "ListPrice": "121.46"
                                },
                                {
                                    "NAME": "Road Tire Tube",
                                    "SafetyStockLevel": "500",
                                    "ListPrice": "3.99"
                                },
                                {
                                    "NAME": "Touring Pedal",
                                    "SafetyStockLevel": "500",
                                    "ListPrice": "80.99"
                                },
                                {
                                    "NAME": "Touring Tire",
                                    "SafetyStockLevel": "500",
                                    "ListPrice": "28.99"
                                },
                                {
                                    "NAME": "Touring Tire Tube",
                                    "SafetyStockLevel": "500",
                                    "ListPrice": "4.99"
                                }
                            ]
                        },
                        "text/html": "<table><tr><th>NAME</th><th>SafetyStockLevel</th><th>ListPrice</th></tr><tr><td>All-Purpose Bike Stand</td><td>4</td><td>159.00</td></tr><tr><td>AWC Logo Cap</td><td>4</td><td>8.99</td></tr><tr><td>Bike Wash - Dissolver</td><td>4</td><td>7.95</td></tr><tr><td>Classic Vest, L</td><td>4</td><td>63.50</td></tr><tr><td>Classic Vest, M</td><td>4</td><td>63.50</td></tr><tr><td>Classic Vest, S</td><td>4</td><td>63.50</td></tr><tr><td>Fender Set - Mountain</td><td>4</td><td>21.98</td></tr><tr><td>Half-Finger Gloves, L</td><td>4</td><td>24.49</td></tr><tr><td>Half-Finger Gloves, M</td><td>4</td><td>24.49</td></tr><tr><td>Half-Finger Gloves, S</td><td>4</td><td>24.49</td></tr><tr><td>Hitch Rack - 4-Bike</td><td>4</td><td>120.00</td></tr><tr><td>Hydration Pack - 70 oz.</td><td>4</td><td>54.99</td></tr><tr><td>Long-Sleeve Logo Jersey, L</td><td>4</td><td>49.99</td></tr><tr><td>Long-Sleeve Logo Jersey, M</td><td>4</td><td>49.99</td></tr><tr><td>Long-Sleeve Logo Jersey, S</td><td>4</td><td>49.99</td></tr><tr><td>Long-Sleeve Logo Jersey, XL</td><td>4</td><td>49.99</td></tr><tr><td>Mountain Bottle Cage</td><td>4</td><td>9.99</td></tr><tr><td>Patch Kit/8 Patches</td><td>4</td><td>2.29</td></tr><tr><td>Racing Socks, L</td><td>4</td><td>8.99</td></tr><tr><td>Racing Socks, M</td><td>4</td><td>8.99</td></tr><tr><td>Road Bottle Cage</td><td>4</td><td>8.99</td></tr><tr><td>Short-Sleeve Classic Jersey, L</td><td>4</td><td>53.99</td></tr><tr><td>Short-Sleeve Classic Jersey, M</td><td>4</td><td>53.99</td></tr><tr><td>Short-Sleeve Classic Jersey, S</td><td>4</td><td>53.99</td></tr><tr><td>Short-Sleeve Classic Jersey, XL</td><td>4</td><td>53.99</td></tr><tr><td>Sport-100 Helmet, Black</td><td>4</td><td>34.99</td></tr><tr><td>Sport-100 Helmet, Blue</td><td>4</td><td>34.99</td></tr><tr><td>Sport-100 Helmet, Red</td><td>4</td><td>34.99</td></tr><tr><td>Water Bottle - 30 oz.</td><td>4</td><td>4.99</td></tr><tr><td>Women&#39;s Mountain Shorts, L</td><td>4</td><td>69.99</td></tr><tr><td>Women&#39;s Mountain Shorts, M</td><td>4</td><td>69.99</td></tr><tr><td>Women&#39;s Mountain Shorts, S</td><td>4</td><td>69.99</td></tr><tr><td>Mountain-200 Black, 38</td><td>100</td><td>2294.99</td></tr><tr><td>Mountain-200 Black, 42</td><td>100</td><td>2294.99</td></tr><tr><td>Mountain-200 Black, 46</td><td>100</td><td>2294.99</td></tr><tr><td>Mountain-200 Silver, 38</td><td>100</td><td>2319.99</td></tr><tr><td>Mountain-200 Silver, 42</td><td>100</td><td>2319.99</td></tr><tr><td>Mountain-200 Silver, 46</td><td>100</td><td>2319.99</td></tr><tr><td>Mountain-400-W Silver, 38</td><td>100</td><td>769.49</td></tr><tr><td>Mountain-400-W Silver, 40</td><td>100</td><td>769.49</td></tr><tr><td>Mountain-400-W Silver, 42</td><td>100</td><td>769.49</td></tr><tr><td>Mountain-400-W Silver, 46</td><td>100</td><td>769.49</td></tr><tr><td>Mountain-500 Black, 40</td><td>100</td><td>539.99</td></tr><tr><td>Mountain-500 Black, 42</td><td>100</td><td>539.99</td></tr><tr><td>Mountain-500 Black, 44</td><td>100</td><td>539.99</td></tr><tr><td>Mountain-500 Black, 48</td><td>100</td><td>539.99</td></tr><tr><td>Mountain-500 Black, 52</td><td>100</td><td>539.99</td></tr><tr><td>Mountain-500 Silver, 40</td><td>100</td><td>564.99</td></tr><tr><td>Mountain-500 Silver, 42</td><td>100</td><td>564.99</td></tr><tr><td>Mountain-500 Silver, 44</td><td>100</td><td>564.99</td></tr><tr><td>Mountain-500 Silver, 48</td><td>100</td><td>564.99</td></tr><tr><td>Mountain-500 Silver, 52</td><td>100</td><td>564.99</td></tr><tr><td>Road-250 Black, 44</td><td>100</td><td>2443.35</td></tr><tr><td>Road-250 Black, 48</td><td>100</td><td>2443.35</td></tr><tr><td>Road-250 Black, 52</td><td>100</td><td>2443.35</td></tr><tr><td>Road-250 Black, 58</td><td>100</td><td>2443.35</td></tr><tr><td>Road-250 Red, 58</td><td>100</td><td>2443.35</td></tr><tr><td>Road-350-W Yellow, 40</td><td>100</td><td>1700.99</td></tr><tr><td>Road-350-W Yellow, 42</td><td>100</td><td>1700.99</td></tr><tr><td>Road-350-W Yellow, 44</td><td>100</td><td>1700.99</td></tr><tr><td>Road-350-W Yellow, 48</td><td>100</td><td>1700.99</td></tr><tr><td>Road-550-W Yellow, 38</td><td>100</td><td>1120.49</td></tr><tr><td>Road-550-W Yellow, 40</td><td>100</td><td>1120.49</td></tr><tr><td>Road-550-W Yellow, 42</td><td>100</td><td>1120.49</td></tr><tr><td>Road-550-W Yellow, 44</td><td>100</td><td>1120.49</td></tr><tr><td>Road-550-W Yellow, 48</td><td>100</td><td>1120.49</td></tr><tr><td>Road-750 Black, 44</td><td>100</td><td>539.99</td></tr><tr><td>Road-750 Black, 48</td><td>100</td><td>539.99</td></tr><tr><td>Road-750 Black, 52</td><td>100</td><td>539.99</td></tr><tr><td>Road-750 Black, 58</td><td>100</td><td>539.99</td></tr><tr><td>Touring-1000 Blue, 46</td><td>100</td><td>2384.07</td></tr><tr><td>Touring-1000 Blue, 50</td><td>100</td><td>2384.07</td></tr><tr><td>Touring-1000 Blue, 54</td><td>100</td><td>2384.07</td></tr><tr><td>Touring-1000 Blue, 60</td><td>100</td><td>2384.07</td></tr><tr><td>Touring-1000 Yellow, 46</td><td>100</td><td>2384.07</td></tr><tr><td>Touring-1000 Yellow, 50</td><td>100</td><td>2384.07</td></tr><tr><td>Touring-1000 Yellow, 54</td><td>100</td><td>2384.07</td></tr><tr><td>Touring-1000 Yellow, 60</td><td>100</td><td>2384.07</td></tr><tr><td>Touring-2000 Blue, 46</td><td>100</td><td>1214.85</td></tr><tr><td>Touring-2000 Blue, 50</td><td>100</td><td>1214.85</td></tr><tr><td>Touring-2000 Blue, 54</td><td>100</td><td>1214.85</td></tr><tr><td>Touring-2000 Blue, 60</td><td>100</td><td>1214.85</td></tr><tr><td>Touring-3000 Blue, 44</td><td>100</td><td>742.35</td></tr><tr><td>Touring-3000 Blue, 50</td><td>100</td><td>742.35</td></tr><tr><td>Touring-3000 Blue, 54</td><td>100</td><td>742.35</td></tr><tr><td>Touring-3000 Blue, 58</td><td>100</td><td>742.35</td></tr><tr><td>Touring-3000 Blue, 62</td><td>100</td><td>742.35</td></tr><tr><td>Touring-3000 Yellow, 44</td><td>100</td><td>742.35</td></tr><tr><td>Touring-3000 Yellow, 50</td><td>100</td><td>742.35</td></tr><tr><td>Touring-3000 Yellow, 54</td><td>100</td><td>742.35</td></tr><tr><td>Touring-3000 Yellow, 58</td><td>100</td><td>742.35</td></tr><tr><td>Touring-3000 Yellow, 62</td><td>100</td><td>742.35</td></tr><tr><td>Chain</td><td>500</td><td>20.24</td></tr><tr><td>Front Brakes</td><td>500</td><td>106.50</td></tr><tr><td>Front Derailleur</td><td>500</td><td>91.49</td></tr><tr><td>HL Bottom Bracket</td><td>500</td><td>121.49</td></tr><tr><td>HL Crankset</td><td>500</td><td>404.99</td></tr><tr><td>HL Mountain Frame - Black, 38</td><td>500</td><td>1349.60</td></tr><tr><td>HL Mountain Frame - Black, 42</td><td>500</td><td>1349.60</td></tr><tr><td>HL Mountain Frame - Black, 46</td><td>500</td><td>1349.60</td></tr><tr><td>HL Mountain Frame - Silver, 38</td><td>500</td><td>1364.50</td></tr><tr><td>HL Mountain Frame - Silver, 42</td><td>500</td><td>1364.50</td></tr><tr><td>HL Mountain Frame - Silver, 46</td><td>500</td><td>1364.50</td></tr><tr><td>HL Mountain Handlebars</td><td>500</td><td>120.27</td></tr><tr><td>HL Mountain Pedal</td><td>500</td><td>80.99</td></tr><tr><td>HL Mountain Seat/Saddle</td><td>500</td><td>52.64</td></tr><tr><td>HL Mountain Tire</td><td>500</td><td>35.00</td></tr><tr><td>HL Road Frame - Black, 44</td><td>500</td><td>1431.50</td></tr><tr><td>HL Road Frame - Black, 48</td><td>500</td><td>1431.50</td></tr><tr><td>HL Road Frame - Black, 52</td><td>500</td><td>1431.50</td></tr><tr><td>HL Road Frame - Black, 58</td><td>500</td><td>1431.50</td></tr><tr><td>HL Road Frame - Black, 62</td><td>500</td><td>1431.50</td></tr><tr><td>HL Road Frame - Red, 44</td><td>500</td><td>1431.50</td></tr><tr><td>HL Road Frame - Red, 48</td><td>500</td><td>1431.50</td></tr><tr><td>HL Road Frame - Red, 52</td><td>500</td><td>1431.50</td></tr><tr><td>HL Road Frame - Red, 56</td><td>500</td><td>1431.50</td></tr><tr><td>HL Road Frame - Red, 58</td><td>500</td><td>1431.50</td></tr><tr><td>HL Road Frame - Red, 62</td><td>500</td><td>1431.50</td></tr><tr><td>HL Road Handlebars</td><td>500</td><td>120.27</td></tr><tr><td>HL Road Pedal</td><td>500</td><td>80.99</td></tr><tr><td>HL Road Seat/Saddle</td><td>500</td><td>52.64</td></tr><tr><td>HL Road Tire</td><td>500</td><td>32.60</td></tr><tr><td>HL Touring Frame - Blue, 46</td><td>500</td><td>1003.91</td></tr><tr><td>HL Touring Frame - Blue, 50</td><td>500</td><td>1003.91</td></tr><tr><td>HL Touring Frame - Blue, 54</td><td>500</td><td>1003.91</td></tr><tr><td>HL Touring Frame - Blue, 60</td><td>500</td><td>1003.91</td></tr><tr><td>HL Touring Frame - Yellow, 46</td><td>500</td><td>1003.91</td></tr><tr><td>HL Touring Frame - Yellow, 50</td><td>500</td><td>1003.91</td></tr><tr><td>HL Touring Frame - Yellow, 54</td><td>500</td><td>1003.91</td></tr><tr><td>HL Touring Frame - Yellow, 60</td><td>500</td><td>1003.91</td></tr><tr><td>HL Touring Handlebars</td><td>500</td><td>91.57</td></tr><tr><td>HL Touring Seat/Saddle</td><td>500</td><td>52.64</td></tr><tr><td>LL Bottom Bracket</td><td>500</td><td>53.99</td></tr><tr><td>LL Crankset</td><td>500</td><td>175.49</td></tr><tr><td>LL Mountain Frame - Black, 40</td><td>500</td><td>249.79</td></tr><tr><td>LL Mountain Frame - Black, 42</td><td>500</td><td>249.79</td></tr><tr><td>LL Mountain Frame - Black, 44</td><td>500</td><td>249.79</td></tr><tr><td>LL Mountain Frame - Black, 48</td><td>500</td><td>249.79</td></tr><tr><td>LL Mountain Frame - Black, 52</td><td>500</td><td>249.79</td></tr><tr><td>LL Mountain Frame - Silver, 40</td><td>500</td><td>264.05</td></tr><tr><td>LL Mountain Frame - Silver, 42</td><td>500</td><td>264.05</td></tr><tr><td>LL Mountain Frame - Silver, 44</td><td>500</td><td>264.05</td></tr><tr><td>LL Mountain Frame - Silver, 48</td><td>500</td><td>264.05</td></tr><tr><td>LL Mountain Frame - Silver, 52</td><td>500</td><td>264.05</td></tr><tr><td>LL Mountain Handlebars</td><td>500</td><td>44.54</td></tr><tr><td>LL Mountain Pedal</td><td>500</td><td>40.49</td></tr><tr><td>LL Mountain Seat/Saddle</td><td>500</td><td>27.12</td></tr><tr><td>LL Mountain Tire</td><td>500</td><td>24.99</td></tr><tr><td>LL Road Frame - Black, 44</td><td>500</td><td>337.22</td></tr><tr><td>LL Road Frame - Black, 48</td><td>500</td><td>337.22</td></tr><tr><td>LL Road Frame - Black, 52</td><td>500</td><td>337.22</td></tr><tr><td>LL Road Frame - Black, 58</td><td>500</td><td>337.22</td></tr><tr><td>LL Road Frame - Black, 60</td><td>500</td><td>337.22</td></tr><tr><td>LL Road Frame - Black, 62</td><td>500</td><td>337.22</td></tr><tr><td>LL Road Handlebars</td><td>500</td><td>44.54</td></tr><tr><td>LL Road Pedal</td><td>500</td><td>40.49</td></tr><tr><td>LL Road Seat/Saddle</td><td>500</td><td>27.12</td></tr><tr><td>LL Road Tire</td><td>500</td><td>21.49</td></tr><tr><td>LL Touring Frame - Blue, 44</td><td>500</td><td>333.42</td></tr><tr><td>LL Touring Frame - Blue, 50</td><td>500</td><td>333.42</td></tr><tr><td>LL Touring Frame - Blue, 54</td><td>500</td><td>333.42</td></tr><tr><td>LL Touring Frame - Blue, 58</td><td>500</td><td>333.42</td></tr><tr><td>LL Touring Frame - Blue, 62</td><td>500</td><td>333.42</td></tr><tr><td>LL Touring Frame - Yellow, 44</td><td>500</td><td>333.42</td></tr><tr><td>LL Touring Frame - Yellow, 50</td><td>500</td><td>333.42</td></tr><tr><td>LL Touring Frame - Yellow, 54</td><td>500</td><td>333.42</td></tr><tr><td>LL Touring Frame - Yellow, 58</td><td>500</td><td>333.42</td></tr><tr><td>LL Touring Frame - Yellow, 62</td><td>500</td><td>333.42</td></tr><tr><td>LL Touring Handlebars</td><td>500</td><td>46.09</td></tr><tr><td>LL Touring Seat/Saddle</td><td>500</td><td>27.12</td></tr><tr><td>ML Bottom Bracket</td><td>500</td><td>101.24</td></tr><tr><td>ML Crankset</td><td>500</td><td>256.49</td></tr><tr><td>ML Mountain Frame-W - Silver, 38</td><td>500</td><td>364.09</td></tr><tr><td>ML Mountain Frame-W - Silver, 40</td><td>500</td><td>364.09</td></tr><tr><td>ML Mountain Frame-W - Silver, 42</td><td>500</td><td>364.09</td></tr><tr><td>ML Mountain Frame-W - Silver, 46</td><td>500</td><td>364.09</td></tr><tr><td>ML Mountain Handlebars</td><td>500</td><td>61.92</td></tr><tr><td>ML Mountain Pedal</td><td>500</td><td>62.09</td></tr><tr><td>ML Mountain Seat/Saddle</td><td>500</td><td>39.14</td></tr><tr><td>ML Mountain Tire</td><td>500</td><td>29.99</td></tr><tr><td>ML Road Frame-W - Yellow, 38</td><td>500</td><td>594.83</td></tr><tr><td>ML Road Frame-W - Yellow, 40</td><td>500</td><td>594.83</td></tr><tr><td>ML Road Frame-W - Yellow, 42</td><td>500</td><td>594.83</td></tr><tr><td>ML Road Frame-W - Yellow, 44</td><td>500</td><td>594.83</td></tr><tr><td>ML Road Frame-W - Yellow, 48</td><td>500</td><td>594.83</td></tr><tr><td>ML Road Handlebars</td><td>500</td><td>61.92</td></tr><tr><td>ML Road Pedal</td><td>500</td><td>62.09</td></tr><tr><td>ML Road Seat/Saddle</td><td>500</td><td>39.14</td></tr><tr><td>ML Road Tire</td><td>500</td><td>24.99</td></tr><tr><td>ML Touring Seat/Saddle</td><td>500</td><td>39.14</td></tr><tr><td>Mountain Tire Tube</td><td>500</td><td>4.99</td></tr><tr><td>Rear Brakes</td><td>500</td><td>106.50</td></tr><tr><td>Rear Derailleur</td><td>500</td><td>121.46</td></tr><tr><td>Road Tire Tube</td><td>500</td><td>3.99</td></tr><tr><td>Touring Pedal</td><td>500</td><td>80.99</td></tr><tr><td>Touring Tire</td><td>500</td><td>28.99</td></tr><tr><td>Touring Tire Tube</td><td>500</td><td>4.99</td></tr></table>"
                    },
                    "metadata": {}
                }
            ],
            "execution_count": 7
        },
        {
            "cell_type": "markdown",
            "source": [
                "Problem 2 Part B"
            ],
            "metadata": {
                "azdata_cell_guid": "d04b6a90-03b3-4b13-aa96-5e769c5934a0",
                "language": "sql"
            },
            "attachments": {}
        },
        {
            "cell_type": "code",
            "source": [
                "SELECT Name\n",
                "    , Color\n",
                "FROM Production.Product\n",
                "WHERE NAME  LIKE '%YELLOW%' \n",
                "AND (Color != 'Yellow'\n",
                "        OR Color is NULL)\n",
                "ORDER BY Name"
            ],
            "metadata": {
                "azdata_cell_guid": "3fdc8f88-3c27-4d50-8a07-515259a0710b",
                "language": "sql"
            },
            "outputs": [
                {
                    "output_type": "display_data",
                    "data": {
                        "text/html": "(2 rows affected)"
                    },
                    "metadata": {}
                },
                {
                    "output_type": "display_data",
                    "data": {
                        "text/html": "Total execution time: 00:00:00.038"
                    },
                    "metadata": {}
                },
                {
                    "output_type": "execute_result",
                    "execution_count": 8,
                    "data": {
                        "application/vnd.dataresource+json": {
                            "schema": {
                                "fields": [
                                    {
                                        "name": "Name"
                                    },
                                    {
                                        "name": "Color"
                                    }
                                ]
                            },
                            "data": [
                                {
                                    "Name": "Paint - Yellow",
                                    "Color": "NULL"
                                },
                                {
                                    "Name": "Road-550-W Yellow, 40",
                                    "Color": "Blue"
                                }
                            ]
                        },
                        "text/html": "<table><tr><th>Name</th><th>Color</th></tr><tr><td>Paint - Yellow</td><td>NULL</td></tr><tr><td>Road-550-W Yellow, 40</td><td>Blue</td></tr></table>"
                    },
                    "metadata": {}
                }
            ],
            "execution_count": 8
        },
        {
            "cell_type": "markdown",
            "source": [
                "Problem 2 Part C"
            ],
            "metadata": {
                "azdata_cell_guid": "f742c040-14af-4334-a625-cf6d2c8264d1",
                "language": "sql"
            },
            "attachments": {}
        },
        {
            "cell_type": "code",
            "source": [
                "SELECT Name\n",
                "    , SellStartDate\n",
                "FROM Production.Product\n",
                "WHERE SellStartDate \n",
                "    BETWEEN '2013-01-01' AND '2013-05-31'\n",
                "ORDER BY Name ASC"
            ],
            "metadata": {
                "azdata_cell_guid": "6ef4b48c-6217-4328-ae3e-020f9fa948b2",
                "language": "sql",
                "tags": []
            },
            "outputs": [
                {
                    "output_type": "display_data",
                    "data": {
                        "text/html": "(136 rows affected)"
                    },
                    "metadata": {}
                },
                {
                    "output_type": "display_data",
                    "data": {
                        "text/html": "Total execution time: 00:00:00.044"
                    },
                    "metadata": {}
                },
                {
                    "output_type": "execute_result",
                    "execution_count": 9,
                    "data": {
                        "application/vnd.dataresource+json": {
                            "schema": {
                                "fields": [
                                    {
                                        "name": "Name"
                                    },
                                    {
                                        "name": "SellStartDate"
                                    }
                                ]
                            },
                            "data": [
                                {
                                    "Name": "All-Purpose Bike Stand",
                                    "SellStartDate": "2013-05-30 00:00:00.000"
                                },
                                {
                                    "Name": "Bike Wash - Dissolver",
                                    "SellStartDate": "2013-05-30 00:00:00.000"
                                },
                                {
                                    "Name": "Chain",
                                    "SellStartDate": "2013-05-30 00:00:00.000"
                                },
                                {
                                    "Name": "Classic Vest, L",
                                    "SellStartDate": "2013-05-30 00:00:00.000"
                                },
                                {
                                    "Name": "Classic Vest, M",
                                    "SellStartDate": "2013-05-30 00:00:00.000"
                                },
                                {
                                    "Name": "Classic Vest, S",
                                    "SellStartDate": "2013-05-30 00:00:00.000"
                                },
                                {
                                    "Name": "Fender Set - Mountain",
                                    "SellStartDate": "2013-05-30 00:00:00.000"
                                },
                                {
                                    "Name": "Front Brakes",
                                    "SellStartDate": "2013-05-30 00:00:00.000"
                                },
                                {
                                    "Name": "Front Derailleur",
                                    "SellStartDate": "2013-05-30 00:00:00.000"
                                },
                                {
                                    "Name": "Hitch Rack - 4-Bike",
                                    "SellStartDate": "2013-05-30 00:00:00.000"
                                },
                                {
                                    "Name": "HL Bottom Bracket",
                                    "SellStartDate": "2013-05-30 00:00:00.000"
                                },
                                {
                                    "Name": "HL Crankset",
                                    "SellStartDate": "2013-05-30 00:00:00.000"
                                },
                                {
                                    "Name": "HL Mountain Pedal",
                                    "SellStartDate": "2013-05-30 00:00:00.000"
                                },
                                {
                                    "Name": "HL Mountain Seat/Saddle",
                                    "SellStartDate": "2013-05-30 00:00:00.000"
                                },
                                {
                                    "Name": "HL Mountain Tire",
                                    "SellStartDate": "2013-05-30 00:00:00.000"
                                },
                                {
                                    "Name": "HL Road Pedal",
                                    "SellStartDate": "2013-05-30 00:00:00.000"
                                },
                                {
                                    "Name": "HL Road Seat/Saddle",
                                    "SellStartDate": "2013-05-30 00:00:00.000"
                                },
                                {
                                    "Name": "HL Road Tire",
                                    "SellStartDate": "2013-05-30 00:00:00.000"
                                },
                                {
                                    "Name": "HL Touring Frame - Blue, 46",
                                    "SellStartDate": "2013-05-30 00:00:00.000"
                                },
                                {
                                    "Name": "HL Touring Frame - Blue, 50",
                                    "SellStartDate": "2013-05-30 00:00:00.000"
                                },
                                {
                                    "Name": "HL Touring Frame - Blue, 54",
                                    "SellStartDate": "2013-05-30 00:00:00.000"
                                },
                                {
                                    "Name": "HL Touring Frame - Blue, 60",
                                    "SellStartDate": "2013-05-30 00:00:00.000"
                                },
                                {
                                    "Name": "HL Touring Frame - Yellow, 46",
                                    "SellStartDate": "2013-05-30 00:00:00.000"
                                },
                                {
                                    "Name": "HL Touring Frame - Yellow, 50",
                                    "SellStartDate": "2013-05-30 00:00:00.000"
                                },
                                {
                                    "Name": "HL Touring Frame - Yellow, 54",
                                    "SellStartDate": "2013-05-30 00:00:00.000"
                                },
                                {
                                    "Name": "HL Touring Frame - Yellow, 60",
                                    "SellStartDate": "2013-05-30 00:00:00.000"
                                },
                                {
                                    "Name": "HL Touring Handlebars",
                                    "SellStartDate": "2013-05-30 00:00:00.000"
                                },
                                {
                                    "Name": "HL Touring Seat/Saddle",
                                    "SellStartDate": "2013-05-30 00:00:00.000"
                                },
                                {
                                    "Name": "Hydration Pack - 70 oz.",
                                    "SellStartDate": "2013-05-30 00:00:00.000"
                                },
                                {
                                    "Name": "LL Bottom Bracket",
                                    "SellStartDate": "2013-05-30 00:00:00.000"
                                },
                                {
                                    "Name": "LL Crankset",
                                    "SellStartDate": "2013-05-30 00:00:00.000"
                                },
                                {
                                    "Name": "LL Mountain Frame - Black, 40",
                                    "SellStartDate": "2013-05-30 00:00:00.000"
                                },
                                {
                                    "Name": "LL Mountain Frame - Black, 42",
                                    "SellStartDate": "2013-05-30 00:00:00.000"
                                },
                                {
                                    "Name": "LL Mountain Frame - Black, 44",
                                    "SellStartDate": "2013-05-30 00:00:00.000"
                                },
                                {
                                    "Name": "LL Mountain Frame - Black, 48",
                                    "SellStartDate": "2013-05-30 00:00:00.000"
                                },
                                {
                                    "Name": "LL Mountain Frame - Black, 52",
                                    "SellStartDate": "2013-05-30 00:00:00.000"
                                },
                                {
                                    "Name": "LL Mountain Frame - Silver, 40",
                                    "SellStartDate": "2013-05-30 00:00:00.000"
                                },
                                {
                                    "Name": "LL Mountain Frame - Silver, 42",
                                    "SellStartDate": "2013-05-30 00:00:00.000"
                                },
                                {
                                    "Name": "LL Mountain Frame - Silver, 44",
                                    "SellStartDate": "2013-05-30 00:00:00.000"
                                },
                                {
                                    "Name": "LL Mountain Frame - Silver, 48",
                                    "SellStartDate": "2013-05-30 00:00:00.000"
                                },
                                {
                                    "Name": "LL Mountain Frame - Silver, 52",
                                    "SellStartDate": "2013-05-30 00:00:00.000"
                                },
                                {
                                    "Name": "LL Mountain Pedal",
                                    "SellStartDate": "2013-05-30 00:00:00.000"
                                },
                                {
                                    "Name": "LL Mountain Seat/Saddle",
                                    "SellStartDate": "2013-05-30 00:00:00.000"
                                },
                                {
                                    "Name": "LL Mountain Tire",
                                    "SellStartDate": "2013-05-30 00:00:00.000"
                                },
                                {
                                    "Name": "LL Road Pedal",
                                    "SellStartDate": "2013-05-30 00:00:00.000"
                                },
                                {
                                    "Name": "LL Road Seat/Saddle",
                                    "SellStartDate": "2013-05-30 00:00:00.000"
                                },
                                {
                                    "Name": "LL Road Tire",
                                    "SellStartDate": "2013-05-30 00:00:00.000"
                                },
                                {
                                    "Name": "LL Touring Frame - Blue, 44",
                                    "SellStartDate": "2013-05-30 00:00:00.000"
                                },
                                {
                                    "Name": "LL Touring Frame - Blue, 50",
                                    "SellStartDate": "2013-05-30 00:00:00.000"
                                },
                                {
                                    "Name": "LL Touring Frame - Blue, 54",
                                    "SellStartDate": "2013-05-30 00:00:00.000"
                                },
                                {
                                    "Name": "LL Touring Frame - Blue, 58",
                                    "SellStartDate": "2013-05-30 00:00:00.000"
                                },
                                {
                                    "Name": "LL Touring Frame - Blue, 62",
                                    "SellStartDate": "2013-05-30 00:00:00.000"
                                },
                                {
                                    "Name": "LL Touring Frame - Yellow, 44",
                                    "SellStartDate": "2013-05-30 00:00:00.000"
                                },
                                {
                                    "Name": "LL Touring Frame - Yellow, 50",
                                    "SellStartDate": "2013-05-30 00:00:00.000"
                                },
                                {
                                    "Name": "LL Touring Frame - Yellow, 54",
                                    "SellStartDate": "2013-05-30 00:00:00.000"
                                },
                                {
                                    "Name": "LL Touring Frame - Yellow, 58",
                                    "SellStartDate": "2013-05-30 00:00:00.000"
                                },
                                {
                                    "Name": "LL Touring Frame - Yellow, 62",
                                    "SellStartDate": "2013-05-30 00:00:00.000"
                                },
                                {
                                    "Name": "LL Touring Handlebars",
                                    "SellStartDate": "2013-05-30 00:00:00.000"
                                },
                                {
                                    "Name": "LL Touring Seat/Saddle",
                                    "SellStartDate": "2013-05-30 00:00:00.000"
                                },
                                {
                                    "Name": "ML Bottom Bracket",
                                    "SellStartDate": "2013-05-30 00:00:00.000"
                                },
                                {
                                    "Name": "ML Crankset",
                                    "SellStartDate": "2013-05-30 00:00:00.000"
                                },
                                {
                                    "Name": "ML Mountain Frame-W - Silver, 38",
                                    "SellStartDate": "2013-05-30 00:00:00.000"
                                },
                                {
                                    "Name": "ML Mountain Frame-W - Silver, 40",
                                    "SellStartDate": "2013-05-30 00:00:00.000"
                                },
                                {
                                    "Name": "ML Mountain Frame-W - Silver, 42",
                                    "SellStartDate": "2013-05-30 00:00:00.000"
                                },
                                {
                                    "Name": "ML Mountain Frame-W - Silver, 46",
                                    "SellStartDate": "2013-05-30 00:00:00.000"
                                },
                                {
                                    "Name": "ML Mountain Pedal",
                                    "SellStartDate": "2013-05-30 00:00:00.000"
                                },
                                {
                                    "Name": "ML Mountain Seat/Saddle",
                                    "SellStartDate": "2013-05-30 00:00:00.000"
                                },
                                {
                                    "Name": "ML Mountain Tire",
                                    "SellStartDate": "2013-05-30 00:00:00.000"
                                },
                                {
                                    "Name": "ML Road Pedal",
                                    "SellStartDate": "2013-05-30 00:00:00.000"
                                },
                                {
                                    "Name": "ML Road Seat/Saddle",
                                    "SellStartDate": "2013-05-30 00:00:00.000"
                                },
                                {
                                    "Name": "ML Road Tire",
                                    "SellStartDate": "2013-05-30 00:00:00.000"
                                },
                                {
                                    "Name": "ML Touring Seat/Saddle",
                                    "SellStartDate": "2013-05-30 00:00:00.000"
                                },
                                {
                                    "Name": "Mountain Bottle Cage",
                                    "SellStartDate": "2013-05-30 00:00:00.000"
                                },
                                {
                                    "Name": "Mountain Tire Tube",
                                    "SellStartDate": "2013-05-30 00:00:00.000"
                                },
                                {
                                    "Name": "Mountain-400-W Silver, 38",
                                    "SellStartDate": "2013-05-30 00:00:00.000"
                                },
                                {
                                    "Name": "Mountain-400-W Silver, 40",
                                    "SellStartDate": "2013-05-30 00:00:00.000"
                                },
                                {
                                    "Name": "Mountain-400-W Silver, 42",
                                    "SellStartDate": "2013-05-30 00:00:00.000"
                                },
                                {
                                    "Name": "Mountain-400-W Silver, 46",
                                    "SellStartDate": "2013-05-30 00:00:00.000"
                                },
                                {
                                    "Name": "Mountain-500 Black, 40",
                                    "SellStartDate": "2013-05-30 00:00:00.000"
                                },
                                {
                                    "Name": "Mountain-500 Black, 42",
                                    "SellStartDate": "2013-05-30 00:00:00.000"
                                },
                                {
                                    "Name": "Mountain-500 Black, 44",
                                    "SellStartDate": "2013-05-30 00:00:00.000"
                                },
                                {
                                    "Name": "Mountain-500 Black, 48",
                                    "SellStartDate": "2013-05-30 00:00:00.000"
                                },
                                {
                                    "Name": "Mountain-500 Black, 52",
                                    "SellStartDate": "2013-05-30 00:00:00.000"
                                },
                                {
                                    "Name": "Mountain-500 Silver, 40",
                                    "SellStartDate": "2013-05-30 00:00:00.000"
                                },
                                {
                                    "Name": "Mountain-500 Silver, 42",
                                    "SellStartDate": "2013-05-30 00:00:00.000"
                                },
                                {
                                    "Name": "Mountain-500 Silver, 44",
                                    "SellStartDate": "2013-05-30 00:00:00.000"
                                },
                                {
                                    "Name": "Mountain-500 Silver, 48",
                                    "SellStartDate": "2013-05-30 00:00:00.000"
                                },
                                {
                                    "Name": "Mountain-500 Silver, 52",
                                    "SellStartDate": "2013-05-30 00:00:00.000"
                                },
                                {
                                    "Name": "Patch Kit/8 Patches",
                                    "SellStartDate": "2013-05-30 00:00:00.000"
                                },
                                {
                                    "Name": "Racing Socks, L",
                                    "SellStartDate": "2013-05-30 00:00:00.000"
                                },
                                {
                                    "Name": "Racing Socks, M",
                                    "SellStartDate": "2013-05-30 00:00:00.000"
                                },
                                {
                                    "Name": "Rear Brakes",
                                    "SellStartDate": "2013-05-30 00:00:00.000"
                                },
                                {
                                    "Name": "Rear Derailleur",
                                    "SellStartDate": "2013-05-30 00:00:00.000"
                                },
                                {
                                    "Name": "Road Bottle Cage",
                                    "SellStartDate": "2013-05-30 00:00:00.000"
                                },
                                {
                                    "Name": "Road Tire Tube",
                                    "SellStartDate": "2013-05-30 00:00:00.000"
                                },
                                {
                                    "Name": "Road-350-W Yellow, 40",
                                    "SellStartDate": "2013-05-30 00:00:00.000"
                                },
                                {
                                    "Name": "Road-350-W Yellow, 42",
                                    "SellStartDate": "2013-05-30 00:00:00.000"
                                },
                                {
                                    "Name": "Road-350-W Yellow, 44",
                                    "SellStartDate": "2013-05-30 00:00:00.000"
                                },
                                {
                                    "Name": "Road-350-W Yellow, 48",
                                    "SellStartDate": "2013-05-30 00:00:00.000"
                                },
                                {
                                    "Name": "Road-750 Black, 44",
                                    "SellStartDate": "2013-05-30 00:00:00.000"
                                },
                                {
                                    "Name": "Road-750 Black, 48",
                                    "SellStartDate": "2013-05-30 00:00:00.000"
                                },
                                {
                                    "Name": "Road-750 Black, 52",
                                    "SellStartDate": "2013-05-30 00:00:00.000"
                                },
                                {
                                    "Name": "Road-750 Black, 58",
                                    "SellStartDate": "2013-05-30 00:00:00.000"
                                },
                                {
                                    "Name": "Short-Sleeve Classic Jersey, L",
                                    "SellStartDate": "2013-05-30 00:00:00.000"
                                },
                                {
                                    "Name": "Short-Sleeve Classic Jersey, M",
                                    "SellStartDate": "2013-05-30 00:00:00.000"
                                },
                                {
                                    "Name": "Short-Sleeve Classic Jersey, S",
                                    "SellStartDate": "2013-05-30 00:00:00.000"
                                },
                                {
                                    "Name": "Short-Sleeve Classic Jersey, XL",
                                    "SellStartDate": "2013-05-30 00:00:00.000"
                                },
                                {
                                    "Name": "Touring Pedal",
                                    "SellStartDate": "2013-05-30 00:00:00.000"
                                },
                                {
                                    "Name": "Touring Tire",
                                    "SellStartDate": "2013-05-30 00:00:00.000"
                                },
                                {
                                    "Name": "Touring Tire Tube",
                                    "SellStartDate": "2013-05-30 00:00:00.000"
                                },
                                {
                                    "Name": "Touring-1000 Blue, 46",
                                    "SellStartDate": "2013-05-30 00:00:00.000"
                                },
                                {
                                    "Name": "Touring-1000 Blue, 50",
                                    "SellStartDate": "2013-05-30 00:00:00.000"
                                },
                                {
                                    "Name": "Touring-1000 Blue, 54",
                                    "SellStartDate": "2013-05-30 00:00:00.000"
                                },
                                {
                                    "Name": "Touring-1000 Blue, 60",
                                    "SellStartDate": "2013-05-30 00:00:00.000"
                                },
                                {
                                    "Name": "Touring-1000 Yellow, 46",
                                    "SellStartDate": "2013-05-30 00:00:00.000"
                                },
                                {
                                    "Name": "Touring-1000 Yellow, 50",
                                    "SellStartDate": "2013-05-30 00:00:00.000"
                                },
                                {
                                    "Name": "Touring-1000 Yellow, 54",
                                    "SellStartDate": "2013-05-30 00:00:00.000"
                                },
                                {
                                    "Name": "Touring-1000 Yellow, 60",
                                    "SellStartDate": "2013-05-30 00:00:00.000"
                                },
                                {
                                    "Name": "Touring-2000 Blue, 46",
                                    "SellStartDate": "2013-05-30 00:00:00.000"
                                },
                                {
                                    "Name": "Touring-2000 Blue, 50",
                                    "SellStartDate": "2013-05-30 00:00:00.000"
                                },
                                {
                                    "Name": "Touring-2000 Blue, 54",
                                    "SellStartDate": "2013-05-30 00:00:00.000"
                                },
                                {
                                    "Name": "Touring-2000 Blue, 60",
                                    "SellStartDate": "2013-05-30 00:00:00.000"
                                },
                                {
                                    "Name": "Touring-3000 Blue, 44",
                                    "SellStartDate": "2013-05-30 00:00:00.000"
                                },
                                {
                                    "Name": "Touring-3000 Blue, 50",
                                    "SellStartDate": "2013-05-30 00:00:00.000"
                                },
                                {
                                    "Name": "Touring-3000 Blue, 54",
                                    "SellStartDate": "2013-05-30 00:00:00.000"
                                },
                                {
                                    "Name": "Touring-3000 Blue, 58",
                                    "SellStartDate": "2013-05-30 00:00:00.000"
                                },
                                {
                                    "Name": "Touring-3000 Blue, 62",
                                    "SellStartDate": "2013-05-30 00:00:00.000"
                                },
                                {
                                    "Name": "Touring-3000 Yellow, 44",
                                    "SellStartDate": "2013-05-30 00:00:00.000"
                                },
                                {
                                    "Name": "Touring-3000 Yellow, 50",
                                    "SellStartDate": "2013-05-30 00:00:00.000"
                                },
                                {
                                    "Name": "Touring-3000 Yellow, 54",
                                    "SellStartDate": "2013-05-30 00:00:00.000"
                                },
                                {
                                    "Name": "Touring-3000 Yellow, 58",
                                    "SellStartDate": "2013-05-30 00:00:00.000"
                                },
                                {
                                    "Name": "Touring-3000 Yellow, 62",
                                    "SellStartDate": "2013-05-30 00:00:00.000"
                                },
                                {
                                    "Name": "Water Bottle - 30 oz.",
                                    "SellStartDate": "2013-05-30 00:00:00.000"
                                },
                                {
                                    "Name": "Women's Mountain Shorts, L",
                                    "SellStartDate": "2013-05-30 00:00:00.000"
                                },
                                {
                                    "Name": "Women's Mountain Shorts, M",
                                    "SellStartDate": "2013-05-30 00:00:00.000"
                                },
                                {
                                    "Name": "Women's Mountain Shorts, S",
                                    "SellStartDate": "2013-05-30 00:00:00.000"
                                }
                            ]
                        },
                        "text/html": "<table><tr><th>Name</th><th>SellStartDate</th></tr><tr><td>All-Purpose Bike Stand</td><td>2013-05-30 00:00:00.000</td></tr><tr><td>Bike Wash - Dissolver</td><td>2013-05-30 00:00:00.000</td></tr><tr><td>Chain</td><td>2013-05-30 00:00:00.000</td></tr><tr><td>Classic Vest, L</td><td>2013-05-30 00:00:00.000</td></tr><tr><td>Classic Vest, M</td><td>2013-05-30 00:00:00.000</td></tr><tr><td>Classic Vest, S</td><td>2013-05-30 00:00:00.000</td></tr><tr><td>Fender Set - Mountain</td><td>2013-05-30 00:00:00.000</td></tr><tr><td>Front Brakes</td><td>2013-05-30 00:00:00.000</td></tr><tr><td>Front Derailleur</td><td>2013-05-30 00:00:00.000</td></tr><tr><td>Hitch Rack - 4-Bike</td><td>2013-05-30 00:00:00.000</td></tr><tr><td>HL Bottom Bracket</td><td>2013-05-30 00:00:00.000</td></tr><tr><td>HL Crankset</td><td>2013-05-30 00:00:00.000</td></tr><tr><td>HL Mountain Pedal</td><td>2013-05-30 00:00:00.000</td></tr><tr><td>HL Mountain Seat/Saddle</td><td>2013-05-30 00:00:00.000</td></tr><tr><td>HL Mountain Tire</td><td>2013-05-30 00:00:00.000</td></tr><tr><td>HL Road Pedal</td><td>2013-05-30 00:00:00.000</td></tr><tr><td>HL Road Seat/Saddle</td><td>2013-05-30 00:00:00.000</td></tr><tr><td>HL Road Tire</td><td>2013-05-30 00:00:00.000</td></tr><tr><td>HL Touring Frame - Blue, 46</td><td>2013-05-30 00:00:00.000</td></tr><tr><td>HL Touring Frame - Blue, 50</td><td>2013-05-30 00:00:00.000</td></tr><tr><td>HL Touring Frame - Blue, 54</td><td>2013-05-30 00:00:00.000</td></tr><tr><td>HL Touring Frame - Blue, 60</td><td>2013-05-30 00:00:00.000</td></tr><tr><td>HL Touring Frame - Yellow, 46</td><td>2013-05-30 00:00:00.000</td></tr><tr><td>HL Touring Frame - Yellow, 50</td><td>2013-05-30 00:00:00.000</td></tr><tr><td>HL Touring Frame - Yellow, 54</td><td>2013-05-30 00:00:00.000</td></tr><tr><td>HL Touring Frame - Yellow, 60</td><td>2013-05-30 00:00:00.000</td></tr><tr><td>HL Touring Handlebars</td><td>2013-05-30 00:00:00.000</td></tr><tr><td>HL Touring Seat/Saddle</td><td>2013-05-30 00:00:00.000</td></tr><tr><td>Hydration Pack - 70 oz.</td><td>2013-05-30 00:00:00.000</td></tr><tr><td>LL Bottom Bracket</td><td>2013-05-30 00:00:00.000</td></tr><tr><td>LL Crankset</td><td>2013-05-30 00:00:00.000</td></tr><tr><td>LL Mountain Frame - Black, 40</td><td>2013-05-30 00:00:00.000</td></tr><tr><td>LL Mountain Frame - Black, 42</td><td>2013-05-30 00:00:00.000</td></tr><tr><td>LL Mountain Frame - Black, 44</td><td>2013-05-30 00:00:00.000</td></tr><tr><td>LL Mountain Frame - Black, 48</td><td>2013-05-30 00:00:00.000</td></tr><tr><td>LL Mountain Frame - Black, 52</td><td>2013-05-30 00:00:00.000</td></tr><tr><td>LL Mountain Frame - Silver, 40</td><td>2013-05-30 00:00:00.000</td></tr><tr><td>LL Mountain Frame - Silver, 42</td><td>2013-05-30 00:00:00.000</td></tr><tr><td>LL Mountain Frame - Silver, 44</td><td>2013-05-30 00:00:00.000</td></tr><tr><td>LL Mountain Frame - Silver, 48</td><td>2013-05-30 00:00:00.000</td></tr><tr><td>LL Mountain Frame - Silver, 52</td><td>2013-05-30 00:00:00.000</td></tr><tr><td>LL Mountain Pedal</td><td>2013-05-30 00:00:00.000</td></tr><tr><td>LL Mountain Seat/Saddle</td><td>2013-05-30 00:00:00.000</td></tr><tr><td>LL Mountain Tire</td><td>2013-05-30 00:00:00.000</td></tr><tr><td>LL Road Pedal</td><td>2013-05-30 00:00:00.000</td></tr><tr><td>LL Road Seat/Saddle</td><td>2013-05-30 00:00:00.000</td></tr><tr><td>LL Road Tire</td><td>2013-05-30 00:00:00.000</td></tr><tr><td>LL Touring Frame - Blue, 44</td><td>2013-05-30 00:00:00.000</td></tr><tr><td>LL Touring Frame - Blue, 50</td><td>2013-05-30 00:00:00.000</td></tr><tr><td>LL Touring Frame - Blue, 54</td><td>2013-05-30 00:00:00.000</td></tr><tr><td>LL Touring Frame - Blue, 58</td><td>2013-05-30 00:00:00.000</td></tr><tr><td>LL Touring Frame - Blue, 62</td><td>2013-05-30 00:00:00.000</td></tr><tr><td>LL Touring Frame - Yellow, 44</td><td>2013-05-30 00:00:00.000</td></tr><tr><td>LL Touring Frame - Yellow, 50</td><td>2013-05-30 00:00:00.000</td></tr><tr><td>LL Touring Frame - Yellow, 54</td><td>2013-05-30 00:00:00.000</td></tr><tr><td>LL Touring Frame - Yellow, 58</td><td>2013-05-30 00:00:00.000</td></tr><tr><td>LL Touring Frame - Yellow, 62</td><td>2013-05-30 00:00:00.000</td></tr><tr><td>LL Touring Handlebars</td><td>2013-05-30 00:00:00.000</td></tr><tr><td>LL Touring Seat/Saddle</td><td>2013-05-30 00:00:00.000</td></tr><tr><td>ML Bottom Bracket</td><td>2013-05-30 00:00:00.000</td></tr><tr><td>ML Crankset</td><td>2013-05-30 00:00:00.000</td></tr><tr><td>ML Mountain Frame-W - Silver, 38</td><td>2013-05-30 00:00:00.000</td></tr><tr><td>ML Mountain Frame-W - Silver, 40</td><td>2013-05-30 00:00:00.000</td></tr><tr><td>ML Mountain Frame-W - Silver, 42</td><td>2013-05-30 00:00:00.000</td></tr><tr><td>ML Mountain Frame-W - Silver, 46</td><td>2013-05-30 00:00:00.000</td></tr><tr><td>ML Mountain Pedal</td><td>2013-05-30 00:00:00.000</td></tr><tr><td>ML Mountain Seat/Saddle</td><td>2013-05-30 00:00:00.000</td></tr><tr><td>ML Mountain Tire</td><td>2013-05-30 00:00:00.000</td></tr><tr><td>ML Road Pedal</td><td>2013-05-30 00:00:00.000</td></tr><tr><td>ML Road Seat/Saddle</td><td>2013-05-30 00:00:00.000</td></tr><tr><td>ML Road Tire</td><td>2013-05-30 00:00:00.000</td></tr><tr><td>ML Touring Seat/Saddle</td><td>2013-05-30 00:00:00.000</td></tr><tr><td>Mountain Bottle Cage</td><td>2013-05-30 00:00:00.000</td></tr><tr><td>Mountain Tire Tube</td><td>2013-05-30 00:00:00.000</td></tr><tr><td>Mountain-400-W Silver, 38</td><td>2013-05-30 00:00:00.000</td></tr><tr><td>Mountain-400-W Silver, 40</td><td>2013-05-30 00:00:00.000</td></tr><tr><td>Mountain-400-W Silver, 42</td><td>2013-05-30 00:00:00.000</td></tr><tr><td>Mountain-400-W Silver, 46</td><td>2013-05-30 00:00:00.000</td></tr><tr><td>Mountain-500 Black, 40</td><td>2013-05-30 00:00:00.000</td></tr><tr><td>Mountain-500 Black, 42</td><td>2013-05-30 00:00:00.000</td></tr><tr><td>Mountain-500 Black, 44</td><td>2013-05-30 00:00:00.000</td></tr><tr><td>Mountain-500 Black, 48</td><td>2013-05-30 00:00:00.000</td></tr><tr><td>Mountain-500 Black, 52</td><td>2013-05-30 00:00:00.000</td></tr><tr><td>Mountain-500 Silver, 40</td><td>2013-05-30 00:00:00.000</td></tr><tr><td>Mountain-500 Silver, 42</td><td>2013-05-30 00:00:00.000</td></tr><tr><td>Mountain-500 Silver, 44</td><td>2013-05-30 00:00:00.000</td></tr><tr><td>Mountain-500 Silver, 48</td><td>2013-05-30 00:00:00.000</td></tr><tr><td>Mountain-500 Silver, 52</td><td>2013-05-30 00:00:00.000</td></tr><tr><td>Patch Kit/8 Patches</td><td>2013-05-30 00:00:00.000</td></tr><tr><td>Racing Socks, L</td><td>2013-05-30 00:00:00.000</td></tr><tr><td>Racing Socks, M</td><td>2013-05-30 00:00:00.000</td></tr><tr><td>Rear Brakes</td><td>2013-05-30 00:00:00.000</td></tr><tr><td>Rear Derailleur</td><td>2013-05-30 00:00:00.000</td></tr><tr><td>Road Bottle Cage</td><td>2013-05-30 00:00:00.000</td></tr><tr><td>Road Tire Tube</td><td>2013-05-30 00:00:00.000</td></tr><tr><td>Road-350-W Yellow, 40</td><td>2013-05-30 00:00:00.000</td></tr><tr><td>Road-350-W Yellow, 42</td><td>2013-05-30 00:00:00.000</td></tr><tr><td>Road-350-W Yellow, 44</td><td>2013-05-30 00:00:00.000</td></tr><tr><td>Road-350-W Yellow, 48</td><td>2013-05-30 00:00:00.000</td></tr><tr><td>Road-750 Black, 44</td><td>2013-05-30 00:00:00.000</td></tr><tr><td>Road-750 Black, 48</td><td>2013-05-30 00:00:00.000</td></tr><tr><td>Road-750 Black, 52</td><td>2013-05-30 00:00:00.000</td></tr><tr><td>Road-750 Black, 58</td><td>2013-05-30 00:00:00.000</td></tr><tr><td>Short-Sleeve Classic Jersey, L</td><td>2013-05-30 00:00:00.000</td></tr><tr><td>Short-Sleeve Classic Jersey, M</td><td>2013-05-30 00:00:00.000</td></tr><tr><td>Short-Sleeve Classic Jersey, S</td><td>2013-05-30 00:00:00.000</td></tr><tr><td>Short-Sleeve Classic Jersey, XL</td><td>2013-05-30 00:00:00.000</td></tr><tr><td>Touring Pedal</td><td>2013-05-30 00:00:00.000</td></tr><tr><td>Touring Tire</td><td>2013-05-30 00:00:00.000</td></tr><tr><td>Touring Tire Tube</td><td>2013-05-30 00:00:00.000</td></tr><tr><td>Touring-1000 Blue, 46</td><td>2013-05-30 00:00:00.000</td></tr><tr><td>Touring-1000 Blue, 50</td><td>2013-05-30 00:00:00.000</td></tr><tr><td>Touring-1000 Blue, 54</td><td>2013-05-30 00:00:00.000</td></tr><tr><td>Touring-1000 Blue, 60</td><td>2013-05-30 00:00:00.000</td></tr><tr><td>Touring-1000 Yellow, 46</td><td>2013-05-30 00:00:00.000</td></tr><tr><td>Touring-1000 Yellow, 50</td><td>2013-05-30 00:00:00.000</td></tr><tr><td>Touring-1000 Yellow, 54</td><td>2013-05-30 00:00:00.000</td></tr><tr><td>Touring-1000 Yellow, 60</td><td>2013-05-30 00:00:00.000</td></tr><tr><td>Touring-2000 Blue, 46</td><td>2013-05-30 00:00:00.000</td></tr><tr><td>Touring-2000 Blue, 50</td><td>2013-05-30 00:00:00.000</td></tr><tr><td>Touring-2000 Blue, 54</td><td>2013-05-30 00:00:00.000</td></tr><tr><td>Touring-2000 Blue, 60</td><td>2013-05-30 00:00:00.000</td></tr><tr><td>Touring-3000 Blue, 44</td><td>2013-05-30 00:00:00.000</td></tr><tr><td>Touring-3000 Blue, 50</td><td>2013-05-30 00:00:00.000</td></tr><tr><td>Touring-3000 Blue, 54</td><td>2013-05-30 00:00:00.000</td></tr><tr><td>Touring-3000 Blue, 58</td><td>2013-05-30 00:00:00.000</td></tr><tr><td>Touring-3000 Blue, 62</td><td>2013-05-30 00:00:00.000</td></tr><tr><td>Touring-3000 Yellow, 44</td><td>2013-05-30 00:00:00.000</td></tr><tr><td>Touring-3000 Yellow, 50</td><td>2013-05-30 00:00:00.000</td></tr><tr><td>Touring-3000 Yellow, 54</td><td>2013-05-30 00:00:00.000</td></tr><tr><td>Touring-3000 Yellow, 58</td><td>2013-05-30 00:00:00.000</td></tr><tr><td>Touring-3000 Yellow, 62</td><td>2013-05-30 00:00:00.000</td></tr><tr><td>Water Bottle - 30 oz.</td><td>2013-05-30 00:00:00.000</td></tr><tr><td>Women&#39;s Mountain Shorts, L</td><td>2013-05-30 00:00:00.000</td></tr><tr><td>Women&#39;s Mountain Shorts, M</td><td>2013-05-30 00:00:00.000</td></tr><tr><td>Women&#39;s Mountain Shorts, S</td><td>2013-05-30 00:00:00.000</td></tr></table>"
                    },
                    "metadata": {}
                }
            ],
            "execution_count": 9
        },
        {
            "cell_type": "markdown",
            "source": [
                "Problem 2 Part D"
            ],
            "metadata": {
                "azdata_cell_guid": "55d4eabd-6ddb-45e8-84fc-739b720143ba",
                "language": "sql"
            },
            "attachments": {}
        },
        {
            "cell_type": "code",
            "source": [
                "SELECT Name\n",
                "    ,SellStartDate\n",
                "    ,DATEPART(WEEKDAY, SellStartDate) AS DayOfWeek\n",
                "FROM Production.Product \n",
                "WHERE DATEPART(WEEKDAY, SellStartDate) > 3\n",
                "ORDER By SellStartDate\n",
                "        , Name ASC"
            ],
            "metadata": {
                "azdata_cell_guid": "eb949d6b-aa2f-4e6f-ac8b-d5acb48beddb",
                "language": "sql",
                "tags": []
            },
            "outputs": [
                {
                    "output_type": "display_data",
                    "data": {
                        "text/html": "(432 rows affected)"
                    },
                    "metadata": {}
                },
                {
                    "output_type": "display_data",
                    "data": {
                        "text/html": "Total execution time: 00:00:00.053"
                    },
                    "metadata": {}
                },
                {
                    "output_type": "execute_result",
                    "execution_count": 10,
                    "data": {
                        "application/vnd.dataresource+json": {
                            "schema": {
                                "fields": [
                                    {
                                        "name": "Name"
                                    },
                                    {
                                        "name": "SellStartDate"
                                    },
                                    {
                                        "name": "DayOfWeek"
                                    }
                                ]
                            },
                            "data": [
                                {
                                    "Name": "Adjustable Race",
                                    "SellStartDate": "2008-04-30 00:00:00.000",
                                    "DayOfWeek": "4"
                                },
                                {
                                    "Name": "BB Ball Bearing",
                                    "SellStartDate": "2008-04-30 00:00:00.000",
                                    "DayOfWeek": "4"
                                },
                                {
                                    "Name": "Bearing Ball",
                                    "SellStartDate": "2008-04-30 00:00:00.000",
                                    "DayOfWeek": "4"
                                },
                                {
                                    "Name": "Blade",
                                    "SellStartDate": "2008-04-30 00:00:00.000",
                                    "DayOfWeek": "4"
                                },
                                {
                                    "Name": "Chain Stays",
                                    "SellStartDate": "2008-04-30 00:00:00.000",
                                    "DayOfWeek": "4"
                                },
                                {
                                    "Name": "Chainring",
                                    "SellStartDate": "2008-04-30 00:00:00.000",
                                    "DayOfWeek": "4"
                                },
                                {
                                    "Name": "Chainring Bolts",
                                    "SellStartDate": "2008-04-30 00:00:00.000",
                                    "DayOfWeek": "4"
                                },
                                {
                                    "Name": "Chainring Nut",
                                    "SellStartDate": "2008-04-30 00:00:00.000",
                                    "DayOfWeek": "4"
                                },
                                {
                                    "Name": "Cone-Shaped Race",
                                    "SellStartDate": "2008-04-30 00:00:00.000",
                                    "DayOfWeek": "4"
                                },
                                {
                                    "Name": "Crown Race",
                                    "SellStartDate": "2008-04-30 00:00:00.000",
                                    "DayOfWeek": "4"
                                },
                                {
                                    "Name": "Cup-Shaped Race",
                                    "SellStartDate": "2008-04-30 00:00:00.000",
                                    "DayOfWeek": "4"
                                },
                                {
                                    "Name": "Decal 1",
                                    "SellStartDate": "2008-04-30 00:00:00.000",
                                    "DayOfWeek": "4"
                                },
                                {
                                    "Name": "Decal 2",
                                    "SellStartDate": "2008-04-30 00:00:00.000",
                                    "DayOfWeek": "4"
                                },
                                {
                                    "Name": "Down Tube",
                                    "SellStartDate": "2008-04-30 00:00:00.000",
                                    "DayOfWeek": "4"
                                },
                                {
                                    "Name": "External Lock Washer 1",
                                    "SellStartDate": "2008-04-30 00:00:00.000",
                                    "DayOfWeek": "4"
                                },
                                {
                                    "Name": "External Lock Washer 2",
                                    "SellStartDate": "2008-04-30 00:00:00.000",
                                    "DayOfWeek": "4"
                                },
                                {
                                    "Name": "External Lock Washer 3",
                                    "SellStartDate": "2008-04-30 00:00:00.000",
                                    "DayOfWeek": "4"
                                },
                                {
                                    "Name": "External Lock Washer 4",
                                    "SellStartDate": "2008-04-30 00:00:00.000",
                                    "DayOfWeek": "4"
                                },
                                {
                                    "Name": "External Lock Washer 5",
                                    "SellStartDate": "2008-04-30 00:00:00.000",
                                    "DayOfWeek": "4"
                                },
                                {
                                    "Name": "External Lock Washer 6",
                                    "SellStartDate": "2008-04-30 00:00:00.000",
                                    "DayOfWeek": "4"
                                },
                                {
                                    "Name": "External Lock Washer 7",
                                    "SellStartDate": "2008-04-30 00:00:00.000",
                                    "DayOfWeek": "4"
                                },
                                {
                                    "Name": "External Lock Washer 8",
                                    "SellStartDate": "2008-04-30 00:00:00.000",
                                    "DayOfWeek": "4"
                                },
                                {
                                    "Name": "External Lock Washer 9",
                                    "SellStartDate": "2008-04-30 00:00:00.000",
                                    "DayOfWeek": "4"
                                },
                                {
                                    "Name": "Flat Washer 1",
                                    "SellStartDate": "2008-04-30 00:00:00.000",
                                    "DayOfWeek": "4"
                                },
                                {
                                    "Name": "Flat Washer 2",
                                    "SellStartDate": "2008-04-30 00:00:00.000",
                                    "DayOfWeek": "4"
                                },
                                {
                                    "Name": "Flat Washer 3",
                                    "SellStartDate": "2008-04-30 00:00:00.000",
                                    "DayOfWeek": "4"
                                },
                                {
                                    "Name": "Flat Washer 4",
                                    "SellStartDate": "2008-04-30 00:00:00.000",
                                    "DayOfWeek": "4"
                                },
                                {
                                    "Name": "Flat Washer 5",
                                    "SellStartDate": "2008-04-30 00:00:00.000",
                                    "DayOfWeek": "4"
                                },
                                {
                                    "Name": "Flat Washer 6",
                                    "SellStartDate": "2008-04-30 00:00:00.000",
                                    "DayOfWeek": "4"
                                },
                                {
                                    "Name": "Flat Washer 7",
                                    "SellStartDate": "2008-04-30 00:00:00.000",
                                    "DayOfWeek": "4"
                                },
                                {
                                    "Name": "Flat Washer 8",
                                    "SellStartDate": "2008-04-30 00:00:00.000",
                                    "DayOfWeek": "4"
                                },
                                {
                                    "Name": "Flat Washer 9",
                                    "SellStartDate": "2008-04-30 00:00:00.000",
                                    "DayOfWeek": "4"
                                },
                                {
                                    "Name": "Fork Crown",
                                    "SellStartDate": "2008-04-30 00:00:00.000",
                                    "DayOfWeek": "4"
                                },
                                {
                                    "Name": "Fork End",
                                    "SellStartDate": "2008-04-30 00:00:00.000",
                                    "DayOfWeek": "4"
                                },
                                {
                                    "Name": "Freewheel",
                                    "SellStartDate": "2008-04-30 00:00:00.000",
                                    "DayOfWeek": "4"
                                },
                                {
                                    "Name": "Front Derailleur Cage",
                                    "SellStartDate": "2008-04-30 00:00:00.000",
                                    "DayOfWeek": "4"
                                },
                                {
                                    "Name": "Front Derailleur Linkage",
                                    "SellStartDate": "2008-04-30 00:00:00.000",
                                    "DayOfWeek": "4"
                                },
                                {
                                    "Name": "Guide Pulley",
                                    "SellStartDate": "2008-04-30 00:00:00.000",
                                    "DayOfWeek": "4"
                                },
                                {
                                    "Name": "Handlebar Tube",
                                    "SellStartDate": "2008-04-30 00:00:00.000",
                                    "DayOfWeek": "4"
                                },
                                {
                                    "Name": "Head Tube",
                                    "SellStartDate": "2008-04-30 00:00:00.000",
                                    "DayOfWeek": "4"
                                },
                                {
                                    "Name": "Headset Ball Bearings",
                                    "SellStartDate": "2008-04-30 00:00:00.000",
                                    "DayOfWeek": "4"
                                },
                                {
                                    "Name": "Hex Nut 1",
                                    "SellStartDate": "2008-04-30 00:00:00.000",
                                    "DayOfWeek": "4"
                                },
                                {
                                    "Name": "Hex Nut 10",
                                    "SellStartDate": "2008-04-30 00:00:00.000",
                                    "DayOfWeek": "4"
                                },
                                {
                                    "Name": "Hex Nut 11",
                                    "SellStartDate": "2008-04-30 00:00:00.000",
                                    "DayOfWeek": "4"
                                },
                                {
                                    "Name": "Hex Nut 12",
                                    "SellStartDate": "2008-04-30 00:00:00.000",
                                    "DayOfWeek": "4"
                                },
                                {
                                    "Name": "Hex Nut 13",
                                    "SellStartDate": "2008-04-30 00:00:00.000",
                                    "DayOfWeek": "4"
                                },
                                {
                                    "Name": "Hex Nut 14",
                                    "SellStartDate": "2008-04-30 00:00:00.000",
                                    "DayOfWeek": "4"
                                },
                                {
                                    "Name": "Hex Nut 15",
                                    "SellStartDate": "2008-04-30 00:00:00.000",
                                    "DayOfWeek": "4"
                                },
                                {
                                    "Name": "Hex Nut 16",
                                    "SellStartDate": "2008-04-30 00:00:00.000",
                                    "DayOfWeek": "4"
                                },
                                {
                                    "Name": "Hex Nut 17",
                                    "SellStartDate": "2008-04-30 00:00:00.000",
                                    "DayOfWeek": "4"
                                },
                                {
                                    "Name": "Hex Nut 18",
                                    "SellStartDate": "2008-04-30 00:00:00.000",
                                    "DayOfWeek": "4"
                                },
                                {
                                    "Name": "Hex Nut 19",
                                    "SellStartDate": "2008-04-30 00:00:00.000",
                                    "DayOfWeek": "4"
                                },
                                {
                                    "Name": "Hex Nut 2",
                                    "SellStartDate": "2008-04-30 00:00:00.000",
                                    "DayOfWeek": "4"
                                },
                                {
                                    "Name": "Hex Nut 20",
                                    "SellStartDate": "2008-04-30 00:00:00.000",
                                    "DayOfWeek": "4"
                                },
                                {
                                    "Name": "Hex Nut 21",
                                    "SellStartDate": "2008-04-30 00:00:00.000",
                                    "DayOfWeek": "4"
                                },
                                {
                                    "Name": "Hex Nut 22",
                                    "SellStartDate": "2008-04-30 00:00:00.000",
                                    "DayOfWeek": "4"
                                },
                                {
                                    "Name": "Hex Nut 23",
                                    "SellStartDate": "2008-04-30 00:00:00.000",
                                    "DayOfWeek": "4"
                                },
                                {
                                    "Name": "Hex Nut 3",
                                    "SellStartDate": "2008-04-30 00:00:00.000",
                                    "DayOfWeek": "4"
                                },
                                {
                                    "Name": "Hex Nut 4",
                                    "SellStartDate": "2008-04-30 00:00:00.000",
                                    "DayOfWeek": "4"
                                },
                                {
                                    "Name": "Hex Nut 5",
                                    "SellStartDate": "2008-04-30 00:00:00.000",
                                    "DayOfWeek": "4"
                                },
                                {
                                    "Name": "Hex Nut 6",
                                    "SellStartDate": "2008-04-30 00:00:00.000",
                                    "DayOfWeek": "4"
                                },
                                {
                                    "Name": "Hex Nut 7",
                                    "SellStartDate": "2008-04-30 00:00:00.000",
                                    "DayOfWeek": "4"
                                },
                                {
                                    "Name": "Hex Nut 8",
                                    "SellStartDate": "2008-04-30 00:00:00.000",
                                    "DayOfWeek": "4"
                                },
                                {
                                    "Name": "Hex Nut 9",
                                    "SellStartDate": "2008-04-30 00:00:00.000",
                                    "DayOfWeek": "4"
                                },
                                {
                                    "Name": "HL Crankarm",
                                    "SellStartDate": "2008-04-30 00:00:00.000",
                                    "DayOfWeek": "4"
                                },
                                {
                                    "Name": "HL Grip Tape",
                                    "SellStartDate": "2008-04-30 00:00:00.000",
                                    "DayOfWeek": "4"
                                },
                                {
                                    "Name": "HL Hub",
                                    "SellStartDate": "2008-04-30 00:00:00.000",
                                    "DayOfWeek": "4"
                                },
                                {
                                    "Name": "HL Mountain Rim",
                                    "SellStartDate": "2008-04-30 00:00:00.000",
                                    "DayOfWeek": "4"
                                },
                                {
                                    "Name": "HL Mountain Seat Assembly",
                                    "SellStartDate": "2008-04-30 00:00:00.000",
                                    "DayOfWeek": "4"
                                },
                                {
                                    "Name": "HL Nipple",
                                    "SellStartDate": "2008-04-30 00:00:00.000",
                                    "DayOfWeek": "4"
                                },
                                {
                                    "Name": "HL Road Frame - Black, 58",
                                    "SellStartDate": "2008-04-30 00:00:00.000",
                                    "DayOfWeek": "4"
                                },
                                {
                                    "Name": "HL Road Frame - Red, 58",
                                    "SellStartDate": "2008-04-30 00:00:00.000",
                                    "DayOfWeek": "4"
                                },
                                {
                                    "Name": "HL Road Rim",
                                    "SellStartDate": "2008-04-30 00:00:00.000",
                                    "DayOfWeek": "4"
                                },
                                {
                                    "Name": "HL Road Seat Assembly",
                                    "SellStartDate": "2008-04-30 00:00:00.000",
                                    "DayOfWeek": "4"
                                },
                                {
                                    "Name": "HL Shell",
                                    "SellStartDate": "2008-04-30 00:00:00.000",
                                    "DayOfWeek": "4"
                                },
                                {
                                    "Name": "HL Spindle/Axle",
                                    "SellStartDate": "2008-04-30 00:00:00.000",
                                    "DayOfWeek": "4"
                                },
                                {
                                    "Name": "HL Touring Seat Assembly",
                                    "SellStartDate": "2008-04-30 00:00:00.000",
                                    "DayOfWeek": "4"
                                },
                                {
                                    "Name": "Internal Lock Washer 1",
                                    "SellStartDate": "2008-04-30 00:00:00.000",
                                    "DayOfWeek": "4"
                                },
                                {
                                    "Name": "Internal Lock Washer 10",
                                    "SellStartDate": "2008-04-30 00:00:00.000",
                                    "DayOfWeek": "4"
                                },
                                {
                                    "Name": "Internal Lock Washer 2",
                                    "SellStartDate": "2008-04-30 00:00:00.000",
                                    "DayOfWeek": "4"
                                },
                                {
                                    "Name": "Internal Lock Washer 3",
                                    "SellStartDate": "2008-04-30 00:00:00.000",
                                    "DayOfWeek": "4"
                                },
                                {
                                    "Name": "Internal Lock Washer 4",
                                    "SellStartDate": "2008-04-30 00:00:00.000",
                                    "DayOfWeek": "4"
                                },
                                {
                                    "Name": "Internal Lock Washer 5",
                                    "SellStartDate": "2008-04-30 00:00:00.000",
                                    "DayOfWeek": "4"
                                },
                                {
                                    "Name": "Internal Lock Washer 6",
                                    "SellStartDate": "2008-04-30 00:00:00.000",
                                    "DayOfWeek": "4"
                                },
                                {
                                    "Name": "Internal Lock Washer 7",
                                    "SellStartDate": "2008-04-30 00:00:00.000",
                                    "DayOfWeek": "4"
                                },
                                {
                                    "Name": "Internal Lock Washer 8",
                                    "SellStartDate": "2008-04-30 00:00:00.000",
                                    "DayOfWeek": "4"
                                },
                                {
                                    "Name": "Internal Lock Washer 9",
                                    "SellStartDate": "2008-04-30 00:00:00.000",
                                    "DayOfWeek": "4"
                                },
                                {
                                    "Name": "Keyed Washer",
                                    "SellStartDate": "2008-04-30 00:00:00.000",
                                    "DayOfWeek": "4"
                                },
                                {
                                    "Name": "LL Crankarm",
                                    "SellStartDate": "2008-04-30 00:00:00.000",
                                    "DayOfWeek": "4"
                                },
                                {
                                    "Name": "LL Grip Tape",
                                    "SellStartDate": "2008-04-30 00:00:00.000",
                                    "DayOfWeek": "4"
                                },
                                {
                                    "Name": "LL Hub",
                                    "SellStartDate": "2008-04-30 00:00:00.000",
                                    "DayOfWeek": "4"
                                },
                                {
                                    "Name": "LL Mountain Rim",
                                    "SellStartDate": "2008-04-30 00:00:00.000",
                                    "DayOfWeek": "4"
                                },
                                {
                                    "Name": "LL Mountain Seat Assembly",
                                    "SellStartDate": "2008-04-30 00:00:00.000",
                                    "DayOfWeek": "4"
                                },
                                {
                                    "Name": "LL Nipple",
                                    "SellStartDate": "2008-04-30 00:00:00.000",
                                    "DayOfWeek": "4"
                                },
                                {
                                    "Name": "LL Road Rim",
                                    "SellStartDate": "2008-04-30 00:00:00.000",
                                    "DayOfWeek": "4"
                                },
                                {
                                    "Name": "LL Road Seat Assembly",
                                    "SellStartDate": "2008-04-30 00:00:00.000",
                                    "DayOfWeek": "4"
                                },
                                {
                                    "Name": "LL Shell",
                                    "SellStartDate": "2008-04-30 00:00:00.000",
                                    "DayOfWeek": "4"
                                },
                                {
                                    "Name": "LL Spindle/Axle",
                                    "SellStartDate": "2008-04-30 00:00:00.000",
                                    "DayOfWeek": "4"
                                },
                                {
                                    "Name": "LL Touring Seat Assembly",
                                    "SellStartDate": "2008-04-30 00:00:00.000",
                                    "DayOfWeek": "4"
                                },
                                {
                                    "Name": "Lock Nut 1",
                                    "SellStartDate": "2008-04-30 00:00:00.000",
                                    "DayOfWeek": "4"
                                },
                                {
                                    "Name": "Lock Nut 10",
                                    "SellStartDate": "2008-04-30 00:00:00.000",
                                    "DayOfWeek": "4"
                                },
                                {
                                    "Name": "Lock Nut 11",
                                    "SellStartDate": "2008-04-30 00:00:00.000",
                                    "DayOfWeek": "4"
                                },
                                {
                                    "Name": "Lock Nut 12",
                                    "SellStartDate": "2008-04-30 00:00:00.000",
                                    "DayOfWeek": "4"
                                },
                                {
                                    "Name": "Lock Nut 13",
                                    "SellStartDate": "2008-04-30 00:00:00.000",
                                    "DayOfWeek": "4"
                                },
                                {
                                    "Name": "Lock Nut 14",
                                    "SellStartDate": "2008-04-30 00:00:00.000",
                                    "DayOfWeek": "4"
                                },
                                {
                                    "Name": "Lock Nut 15",
                                    "SellStartDate": "2008-04-30 00:00:00.000",
                                    "DayOfWeek": "4"
                                },
                                {
                                    "Name": "Lock Nut 16",
                                    "SellStartDate": "2008-04-30 00:00:00.000",
                                    "DayOfWeek": "4"
                                },
                                {
                                    "Name": "Lock Nut 17",
                                    "SellStartDate": "2008-04-30 00:00:00.000",
                                    "DayOfWeek": "4"
                                },
                                {
                                    "Name": "Lock Nut 18",
                                    "SellStartDate": "2008-04-30 00:00:00.000",
                                    "DayOfWeek": "4"
                                },
                                {
                                    "Name": "Lock Nut 19",
                                    "SellStartDate": "2008-04-30 00:00:00.000",
                                    "DayOfWeek": "4"
                                },
                                {
                                    "Name": "Lock Nut 2",
                                    "SellStartDate": "2008-04-30 00:00:00.000",
                                    "DayOfWeek": "4"
                                },
                                {
                                    "Name": "Lock Nut 20",
                                    "SellStartDate": "2008-04-30 00:00:00.000",
                                    "DayOfWeek": "4"
                                },
                                {
                                    "Name": "Lock Nut 21",
                                    "SellStartDate": "2008-04-30 00:00:00.000",
                                    "DayOfWeek": "4"
                                },
                                {
                                    "Name": "Lock Nut 22",
                                    "SellStartDate": "2008-04-30 00:00:00.000",
                                    "DayOfWeek": "4"
                                },
                                {
                                    "Name": "Lock Nut 23",
                                    "SellStartDate": "2008-04-30 00:00:00.000",
                                    "DayOfWeek": "4"
                                },
                                {
                                    "Name": "Lock Nut 3",
                                    "SellStartDate": "2008-04-30 00:00:00.000",
                                    "DayOfWeek": "4"
                                },
                                {
                                    "Name": "Lock Nut 4",
                                    "SellStartDate": "2008-04-30 00:00:00.000",
                                    "DayOfWeek": "4"
                                },
                                {
                                    "Name": "Lock Nut 5",
                                    "SellStartDate": "2008-04-30 00:00:00.000",
                                    "DayOfWeek": "4"
                                },
                                {
                                    "Name": "Lock Nut 6",
                                    "SellStartDate": "2008-04-30 00:00:00.000",
                                    "DayOfWeek": "4"
                                },
                                {
                                    "Name": "Lock Nut 7",
                                    "SellStartDate": "2008-04-30 00:00:00.000",
                                    "DayOfWeek": "4"
                                },
                                {
                                    "Name": "Lock Nut 8",
                                    "SellStartDate": "2008-04-30 00:00:00.000",
                                    "DayOfWeek": "4"
                                },
                                {
                                    "Name": "Lock Nut 9",
                                    "SellStartDate": "2008-04-30 00:00:00.000",
                                    "DayOfWeek": "4"
                                },
                                {
                                    "Name": "Lock Ring",
                                    "SellStartDate": "2008-04-30 00:00:00.000",
                                    "DayOfWeek": "4"
                                },
                                {
                                    "Name": "Lock Washer 1",
                                    "SellStartDate": "2008-04-30 00:00:00.000",
                                    "DayOfWeek": "4"
                                },
                                {
                                    "Name": "Lock Washer 10",
                                    "SellStartDate": "2008-04-30 00:00:00.000",
                                    "DayOfWeek": "4"
                                },
                                {
                                    "Name": "Lock Washer 11",
                                    "SellStartDate": "2008-04-30 00:00:00.000",
                                    "DayOfWeek": "4"
                                },
                                {
                                    "Name": "Lock Washer 12",
                                    "SellStartDate": "2008-04-30 00:00:00.000",
                                    "DayOfWeek": "4"
                                },
                                {
                                    "Name": "Lock Washer 13",
                                    "SellStartDate": "2008-04-30 00:00:00.000",
                                    "DayOfWeek": "4"
                                },
                                {
                                    "Name": "Lock Washer 2",
                                    "SellStartDate": "2008-04-30 00:00:00.000",
                                    "DayOfWeek": "4"
                                },
                                {
                                    "Name": "Lock Washer 3",
                                    "SellStartDate": "2008-04-30 00:00:00.000",
                                    "DayOfWeek": "4"
                                },
                                {
                                    "Name": "Lock Washer 4",
                                    "SellStartDate": "2008-04-30 00:00:00.000",
                                    "DayOfWeek": "4"
                                },
                                {
                                    "Name": "Lock Washer 5",
                                    "SellStartDate": "2008-04-30 00:00:00.000",
                                    "DayOfWeek": "4"
                                },
                                {
                                    "Name": "Lock Washer 6",
                                    "SellStartDate": "2008-04-30 00:00:00.000",
                                    "DayOfWeek": "4"
                                },
                                {
                                    "Name": "Lock Washer 7",
                                    "SellStartDate": "2008-04-30 00:00:00.000",
                                    "DayOfWeek": "4"
                                },
                                {
                                    "Name": "Lock Washer 8",
                                    "SellStartDate": "2008-04-30 00:00:00.000",
                                    "DayOfWeek": "4"
                                },
                                {
                                    "Name": "Lock Washer 9",
                                    "SellStartDate": "2008-04-30 00:00:00.000",
                                    "DayOfWeek": "4"
                                },
                                {
                                    "Name": "Lower Head Race",
                                    "SellStartDate": "2008-04-30 00:00:00.000",
                                    "DayOfWeek": "4"
                                },
                                {
                                    "Name": "Metal Angle",
                                    "SellStartDate": "2008-04-30 00:00:00.000",
                                    "DayOfWeek": "4"
                                },
                                {
                                    "Name": "Metal Bar 1",
                                    "SellStartDate": "2008-04-30 00:00:00.000",
                                    "DayOfWeek": "4"
                                },
                                {
                                    "Name": "Metal Bar 2",
                                    "SellStartDate": "2008-04-30 00:00:00.000",
                                    "DayOfWeek": "4"
                                },
                                {
                                    "Name": "Metal Plate 1",
                                    "SellStartDate": "2008-04-30 00:00:00.000",
                                    "DayOfWeek": "4"
                                },
                                {
                                    "Name": "Metal Plate 2",
                                    "SellStartDate": "2008-04-30 00:00:00.000",
                                    "DayOfWeek": "4"
                                },
                                {
                                    "Name": "Metal Plate 3",
                                    "SellStartDate": "2008-04-30 00:00:00.000",
                                    "DayOfWeek": "4"
                                },
                                {
                                    "Name": "Metal Sheet 1",
                                    "SellStartDate": "2008-04-30 00:00:00.000",
                                    "DayOfWeek": "4"
                                },
                                {
                                    "Name": "Metal Sheet 2",
                                    "SellStartDate": "2008-04-30 00:00:00.000",
                                    "DayOfWeek": "4"
                                },
                                {
                                    "Name": "Metal Sheet 3",
                                    "SellStartDate": "2008-04-30 00:00:00.000",
                                    "DayOfWeek": "4"
                                },
                                {
                                    "Name": "Metal Sheet 4",
                                    "SellStartDate": "2008-04-30 00:00:00.000",
                                    "DayOfWeek": "4"
                                },
                                {
                                    "Name": "Metal Sheet 5",
                                    "SellStartDate": "2008-04-30 00:00:00.000",
                                    "DayOfWeek": "4"
                                },
                                {
                                    "Name": "Metal Sheet 6",
                                    "SellStartDate": "2008-04-30 00:00:00.000",
                                    "DayOfWeek": "4"
                                },
                                {
                                    "Name": "Metal Sheet 7",
                                    "SellStartDate": "2008-04-30 00:00:00.000",
                                    "DayOfWeek": "4"
                                },
                                {
                                    "Name": "Metal Tread Plate",
                                    "SellStartDate": "2008-04-30 00:00:00.000",
                                    "DayOfWeek": "4"
                                },
                                {
                                    "Name": "ML Crankarm",
                                    "SellStartDate": "2008-04-30 00:00:00.000",
                                    "DayOfWeek": "4"
                                },
                                {
                                    "Name": "ML Grip Tape",
                                    "SellStartDate": "2008-04-30 00:00:00.000",
                                    "DayOfWeek": "4"
                                },
                                {
                                    "Name": "ML Mountain Rim",
                                    "SellStartDate": "2008-04-30 00:00:00.000",
                                    "DayOfWeek": "4"
                                },
                                {
                                    "Name": "ML Mountain Seat Assembly",
                                    "SellStartDate": "2008-04-30 00:00:00.000",
                                    "DayOfWeek": "4"
                                },
                                {
                                    "Name": "ML Road Rim",
                                    "SellStartDate": "2008-04-30 00:00:00.000",
                                    "DayOfWeek": "4"
                                },
                                {
                                    "Name": "ML Road Seat Assembly",
                                    "SellStartDate": "2008-04-30 00:00:00.000",
                                    "DayOfWeek": "4"
                                },
                                {
                                    "Name": "ML Touring Seat Assembly",
                                    "SellStartDate": "2008-04-30 00:00:00.000",
                                    "DayOfWeek": "4"
                                },
                                {
                                    "Name": "Mountain End Caps",
                                    "SellStartDate": "2008-04-30 00:00:00.000",
                                    "DayOfWeek": "4"
                                },
                                {
                                    "Name": "Paint - Black",
                                    "SellStartDate": "2008-04-30 00:00:00.000",
                                    "DayOfWeek": "4"
                                },
                                {
                                    "Name": "Paint - Blue",
                                    "SellStartDate": "2008-04-30 00:00:00.000",
                                    "DayOfWeek": "4"
                                },
                                {
                                    "Name": "Paint - Red",
                                    "SellStartDate": "2008-04-30 00:00:00.000",
                                    "DayOfWeek": "4"
                                },
                                {
                                    "Name": "Paint - Silver",
                                    "SellStartDate": "2008-04-30 00:00:00.000",
                                    "DayOfWeek": "4"
                                },
                                {
                                    "Name": "Paint - Yellow",
                                    "SellStartDate": "2008-04-30 00:00:00.000",
                                    "DayOfWeek": "4"
                                },
                                {
                                    "Name": "Pinch Bolt",
                                    "SellStartDate": "2008-04-30 00:00:00.000",
                                    "DayOfWeek": "4"
                                },
                                {
                                    "Name": "Rear Derailleur Cage",
                                    "SellStartDate": "2008-04-30 00:00:00.000",
                                    "DayOfWeek": "4"
                                },
                                {
                                    "Name": "Reflector",
                                    "SellStartDate": "2008-04-30 00:00:00.000",
                                    "DayOfWeek": "4"
                                },
                                {
                                    "Name": "Road End Caps",
                                    "SellStartDate": "2008-04-30 00:00:00.000",
                                    "DayOfWeek": "4"
                                },
                                {
                                    "Name": "Seat Lug",
                                    "SellStartDate": "2008-04-30 00:00:00.000",
                                    "DayOfWeek": "4"
                                },
                                {
                                    "Name": "Seat Post",
                                    "SellStartDate": "2008-04-30 00:00:00.000",
                                    "DayOfWeek": "4"
                                },
                                {
                                    "Name": "Seat Stays",
                                    "SellStartDate": "2008-04-30 00:00:00.000",
                                    "DayOfWeek": "4"
                                },
                                {
                                    "Name": "Seat Tube",
                                    "SellStartDate": "2008-04-30 00:00:00.000",
                                    "DayOfWeek": "4"
                                },
                                {
                                    "Name": "Spokes",
                                    "SellStartDate": "2008-04-30 00:00:00.000",
                                    "DayOfWeek": "4"
                                },
                                {
                                    "Name": "Steerer",
                                    "SellStartDate": "2008-04-30 00:00:00.000",
                                    "DayOfWeek": "4"
                                },
                                {
                                    "Name": "Stem",
                                    "SellStartDate": "2008-04-30 00:00:00.000",
                                    "DayOfWeek": "4"
                                },
                                {
                                    "Name": "Tension Pulley",
                                    "SellStartDate": "2008-04-30 00:00:00.000",
                                    "DayOfWeek": "4"
                                },
                                {
                                    "Name": "Thin-Jam Hex Nut 1",
                                    "SellStartDate": "2008-04-30 00:00:00.000",
                                    "DayOfWeek": "4"
                                },
                                {
                                    "Name": "Thin-Jam Hex Nut 10",
                                    "SellStartDate": "2008-04-30 00:00:00.000",
                                    "DayOfWeek": "4"
                                },
                                {
                                    "Name": "Thin-Jam Hex Nut 11",
                                    "SellStartDate": "2008-04-30 00:00:00.000",
                                    "DayOfWeek": "4"
                                },
                                {
                                    "Name": "Thin-Jam Hex Nut 12",
                                    "SellStartDate": "2008-04-30 00:00:00.000",
                                    "DayOfWeek": "4"
                                },
                                {
                                    "Name": "Thin-Jam Hex Nut 13",
                                    "SellStartDate": "2008-04-30 00:00:00.000",
                                    "DayOfWeek": "4"
                                },
                                {
                                    "Name": "Thin-Jam Hex Nut 14",
                                    "SellStartDate": "2008-04-30 00:00:00.000",
                                    "DayOfWeek": "4"
                                },
                                {
                                    "Name": "Thin-Jam Hex Nut 15",
                                    "SellStartDate": "2008-04-30 00:00:00.000",
                                    "DayOfWeek": "4"
                                },
                                {
                                    "Name": "Thin-Jam Hex Nut 16",
                                    "SellStartDate": "2008-04-30 00:00:00.000",
                                    "DayOfWeek": "4"
                                },
                                {
                                    "Name": "Thin-Jam Hex Nut 2",
                                    "SellStartDate": "2008-04-30 00:00:00.000",
                                    "DayOfWeek": "4"
                                },
                                {
                                    "Name": "Thin-Jam Hex Nut 3",
                                    "SellStartDate": "2008-04-30 00:00:00.000",
                                    "DayOfWeek": "4"
                                },
                                {
                                    "Name": "Thin-Jam Hex Nut 4",
                                    "SellStartDate": "2008-04-30 00:00:00.000",
                                    "DayOfWeek": "4"
                                },
                                {
                                    "Name": "Thin-Jam Hex Nut 5",
                                    "SellStartDate": "2008-04-30 00:00:00.000",
                                    "DayOfWeek": "4"
                                },
                                {
                                    "Name": "Thin-Jam Hex Nut 6",
                                    "SellStartDate": "2008-04-30 00:00:00.000",
                                    "DayOfWeek": "4"
                                },
                                {
                                    "Name": "Thin-Jam Hex Nut 7",
                                    "SellStartDate": "2008-04-30 00:00:00.000",
                                    "DayOfWeek": "4"
                                },
                                {
                                    "Name": "Thin-Jam Hex Nut 8",
                                    "SellStartDate": "2008-04-30 00:00:00.000",
                                    "DayOfWeek": "4"
                                },
                                {
                                    "Name": "Thin-Jam Hex Nut 9",
                                    "SellStartDate": "2008-04-30 00:00:00.000",
                                    "DayOfWeek": "4"
                                },
                                {
                                    "Name": "Thin-Jam Lock Nut 1",
                                    "SellStartDate": "2008-04-30 00:00:00.000",
                                    "DayOfWeek": "4"
                                },
                                {
                                    "Name": "Thin-Jam Lock Nut 10",
                                    "SellStartDate": "2008-04-30 00:00:00.000",
                                    "DayOfWeek": "4"
                                },
                                {
                                    "Name": "Thin-Jam Lock Nut 11",
                                    "SellStartDate": "2008-04-30 00:00:00.000",
                                    "DayOfWeek": "4"
                                },
                                {
                                    "Name": "Thin-Jam Lock Nut 12",
                                    "SellStartDate": "2008-04-30 00:00:00.000",
                                    "DayOfWeek": "4"
                                },
                                {
                                    "Name": "Thin-Jam Lock Nut 13",
                                    "SellStartDate": "2008-04-30 00:00:00.000",
                                    "DayOfWeek": "4"
                                },
                                {
                                    "Name": "Thin-Jam Lock Nut 14",
                                    "SellStartDate": "2008-04-30 00:00:00.000",
                                    "DayOfWeek": "4"
                                },
                                {
                                    "Name": "Thin-Jam Lock Nut 15",
                                    "SellStartDate": "2008-04-30 00:00:00.000",
                                    "DayOfWeek": "4"
                                },
                                {
                                    "Name": "Thin-Jam Lock Nut 16",
                                    "SellStartDate": "2008-04-30 00:00:00.000",
                                    "DayOfWeek": "4"
                                },
                                {
                                    "Name": "Thin-Jam Lock Nut 2",
                                    "SellStartDate": "2008-04-30 00:00:00.000",
                                    "DayOfWeek": "4"
                                },
                                {
                                    "Name": "Thin-Jam Lock Nut 3",
                                    "SellStartDate": "2008-04-30 00:00:00.000",
                                    "DayOfWeek": "4"
                                },
                                {
                                    "Name": "Thin-Jam Lock Nut 4",
                                    "SellStartDate": "2008-04-30 00:00:00.000",
                                    "DayOfWeek": "4"
                                },
                                {
                                    "Name": "Thin-Jam Lock Nut 5",
                                    "SellStartDate": "2008-04-30 00:00:00.000",
                                    "DayOfWeek": "4"
                                },
                                {
                                    "Name": "Thin-Jam Lock Nut 6",
                                    "SellStartDate": "2008-04-30 00:00:00.000",
                                    "DayOfWeek": "4"
                                },
                                {
                                    "Name": "Thin-Jam Lock Nut 7",
                                    "SellStartDate": "2008-04-30 00:00:00.000",
                                    "DayOfWeek": "4"
                                },
                                {
                                    "Name": "Thin-Jam Lock Nut 8",
                                    "SellStartDate": "2008-04-30 00:00:00.000",
                                    "DayOfWeek": "4"
                                },
                                {
                                    "Name": "Thin-Jam Lock Nut 9",
                                    "SellStartDate": "2008-04-30 00:00:00.000",
                                    "DayOfWeek": "4"
                                },
                                {
                                    "Name": "Top Tube",
                                    "SellStartDate": "2008-04-30 00:00:00.000",
                                    "DayOfWeek": "4"
                                },
                                {
                                    "Name": "Touring End Caps",
                                    "SellStartDate": "2008-04-30 00:00:00.000",
                                    "DayOfWeek": "4"
                                },
                                {
                                    "Name": "Touring Rim",
                                    "SellStartDate": "2008-04-30 00:00:00.000",
                                    "DayOfWeek": "4"
                                },
                                {
                                    "Name": "Cable Lock",
                                    "SellStartDate": "2012-05-30 00:00:00.000",
                                    "DayOfWeek": "4"
                                },
                                {
                                    "Name": "Full-Finger Gloves, L",
                                    "SellStartDate": "2012-05-30 00:00:00.000",
                                    "DayOfWeek": "4"
                                },
                                {
                                    "Name": "Full-Finger Gloves, M",
                                    "SellStartDate": "2012-05-30 00:00:00.000",
                                    "DayOfWeek": "4"
                                },
                                {
                                    "Name": "Full-Finger Gloves, S",
                                    "SellStartDate": "2012-05-30 00:00:00.000",
                                    "DayOfWeek": "4"
                                },
                                {
                                    "Name": "Half-Finger Gloves, L",
                                    "SellStartDate": "2012-05-30 00:00:00.000",
                                    "DayOfWeek": "4"
                                },
                                {
                                    "Name": "Half-Finger Gloves, M",
                                    "SellStartDate": "2012-05-30 00:00:00.000",
                                    "DayOfWeek": "4"
                                },
                                {
                                    "Name": "Half-Finger Gloves, S",
                                    "SellStartDate": "2012-05-30 00:00:00.000",
                                    "DayOfWeek": "4"
                                },
                                {
                                    "Name": "Headlights - Dual-Beam",
                                    "SellStartDate": "2012-05-30 00:00:00.000",
                                    "DayOfWeek": "4"
                                },
                                {
                                    "Name": "Headlights - Weatherproof",
                                    "SellStartDate": "2012-05-30 00:00:00.000",
                                    "DayOfWeek": "4"
                                },
                                {
                                    "Name": "HL Fork",
                                    "SellStartDate": "2012-05-30 00:00:00.000",
                                    "DayOfWeek": "4"
                                },
                                {
                                    "Name": "HL Headset",
                                    "SellStartDate": "2012-05-30 00:00:00.000",
                                    "DayOfWeek": "4"
                                },
                                {
                                    "Name": "HL Mountain Front Wheel",
                                    "SellStartDate": "2012-05-30 00:00:00.000",
                                    "DayOfWeek": "4"
                                },
                                {
                                    "Name": "HL Mountain Handlebars",
                                    "SellStartDate": "2012-05-30 00:00:00.000",
                                    "DayOfWeek": "4"
                                },
                                {
                                    "Name": "HL Mountain Rear Wheel",
                                    "SellStartDate": "2012-05-30 00:00:00.000",
                                    "DayOfWeek": "4"
                                },
                                {
                                    "Name": "HL Road Frame - Black, 44",
                                    "SellStartDate": "2012-05-30 00:00:00.000",
                                    "DayOfWeek": "4"
                                },
                                {
                                    "Name": "HL Road Frame - Black, 48",
                                    "SellStartDate": "2012-05-30 00:00:00.000",
                                    "DayOfWeek": "4"
                                },
                                {
                                    "Name": "HL Road Frame - Black, 52",
                                    "SellStartDate": "2012-05-30 00:00:00.000",
                                    "DayOfWeek": "4"
                                },
                                {
                                    "Name": "HL Road Frame - Black, 62",
                                    "SellStartDate": "2012-05-30 00:00:00.000",
                                    "DayOfWeek": "4"
                                },
                                {
                                    "Name": "HL Road Front Wheel",
                                    "SellStartDate": "2012-05-30 00:00:00.000",
                                    "DayOfWeek": "4"
                                },
                                {
                                    "Name": "HL Road Handlebars",
                                    "SellStartDate": "2012-05-30 00:00:00.000",
                                    "DayOfWeek": "4"
                                },
                                {
                                    "Name": "HL Road Rear Wheel",
                                    "SellStartDate": "2012-05-30 00:00:00.000",
                                    "DayOfWeek": "4"
                                },
                                {
                                    "Name": "LL Fork",
                                    "SellStartDate": "2012-05-30 00:00:00.000",
                                    "DayOfWeek": "4"
                                },
                                {
                                    "Name": "LL Headset",
                                    "SellStartDate": "2012-05-30 00:00:00.000",
                                    "DayOfWeek": "4"
                                },
                                {
                                    "Name": "LL Mountain Front Wheel",
                                    "SellStartDate": "2012-05-30 00:00:00.000",
                                    "DayOfWeek": "4"
                                },
                                {
                                    "Name": "LL Mountain Handlebars",
                                    "SellStartDate": "2012-05-30 00:00:00.000",
                                    "DayOfWeek": "4"
                                },
                                {
                                    "Name": "LL Mountain Rear Wheel",
                                    "SellStartDate": "2012-05-30 00:00:00.000",
                                    "DayOfWeek": "4"
                                },
                                {
                                    "Name": "LL Road Front Wheel",
                                    "SellStartDate": "2012-05-30 00:00:00.000",
                                    "DayOfWeek": "4"
                                },
                                {
                                    "Name": "LL Road Handlebars",
                                    "SellStartDate": "2012-05-30 00:00:00.000",
                                    "DayOfWeek": "4"
                                },
                                {
                                    "Name": "LL Road Rear Wheel",
                                    "SellStartDate": "2012-05-30 00:00:00.000",
                                    "DayOfWeek": "4"
                                },
                                {
                                    "Name": "Men's Bib-Shorts, L",
                                    "SellStartDate": "2012-05-30 00:00:00.000",
                                    "DayOfWeek": "4"
                                },
                                {
                                    "Name": "Men's Bib-Shorts, M",
                                    "SellStartDate": "2012-05-30 00:00:00.000",
                                    "DayOfWeek": "4"
                                },
                                {
                                    "Name": "Men's Bib-Shorts, S",
                                    "SellStartDate": "2012-05-30 00:00:00.000",
                                    "DayOfWeek": "4"
                                },
                                {
                                    "Name": "Men's Sports Shorts, L",
                                    "SellStartDate": "2012-05-30 00:00:00.000",
                                    "DayOfWeek": "4"
                                },
                                {
                                    "Name": "Men's Sports Shorts, M",
                                    "SellStartDate": "2012-05-30 00:00:00.000",
                                    "DayOfWeek": "4"
                                },
                                {
                                    "Name": "Men's Sports Shorts, S",
                                    "SellStartDate": "2012-05-30 00:00:00.000",
                                    "DayOfWeek": "4"
                                },
                                {
                                    "Name": "Men's Sports Shorts, XL",
                                    "SellStartDate": "2012-05-30 00:00:00.000",
                                    "DayOfWeek": "4"
                                },
                                {
                                    "Name": "Minipump",
                                    "SellStartDate": "2012-05-30 00:00:00.000",
                                    "DayOfWeek": "4"
                                },
                                {
                                    "Name": "ML Fork",
                                    "SellStartDate": "2012-05-30 00:00:00.000",
                                    "DayOfWeek": "4"
                                },
                                {
                                    "Name": "ML Headset",
                                    "SellStartDate": "2012-05-30 00:00:00.000",
                                    "DayOfWeek": "4"
                                },
                                {
                                    "Name": "ML Mountain Frame - Black, 38",
                                    "SellStartDate": "2012-05-30 00:00:00.000",
                                    "DayOfWeek": "4"
                                },
                                {
                                    "Name": "ML Mountain Frame - Black, 40",
                                    "SellStartDate": "2012-05-30 00:00:00.000",
                                    "DayOfWeek": "4"
                                },
                                {
                                    "Name": "ML Mountain Frame - Black, 44",
                                    "SellStartDate": "2012-05-30 00:00:00.000",
                                    "DayOfWeek": "4"
                                },
                                {
                                    "Name": "ML Mountain Frame - Black, 48",
                                    "SellStartDate": "2012-05-30 00:00:00.000",
                                    "DayOfWeek": "4"
                                },
                                {
                                    "Name": "ML Mountain Front Wheel",
                                    "SellStartDate": "2012-05-30 00:00:00.000",
                                    "DayOfWeek": "4"
                                },
                                {
                                    "Name": "ML Mountain Handlebars",
                                    "SellStartDate": "2012-05-30 00:00:00.000",
                                    "DayOfWeek": "4"
                                },
                                {
                                    "Name": "ML Mountain Rear Wheel",
                                    "SellStartDate": "2012-05-30 00:00:00.000",
                                    "DayOfWeek": "4"
                                },
                                {
                                    "Name": "ML Road Frame-W - Yellow, 38",
                                    "SellStartDate": "2012-05-30 00:00:00.000",
                                    "DayOfWeek": "4"
                                },
                                {
                                    "Name": "ML Road Frame-W - Yellow, 40",
                                    "SellStartDate": "2012-05-30 00:00:00.000",
                                    "DayOfWeek": "4"
                                },
                                {
                                    "Name": "ML Road Frame-W - Yellow, 42",
                                    "SellStartDate": "2012-05-30 00:00:00.000",
                                    "DayOfWeek": "4"
                                },
                                {
                                    "Name": "ML Road Frame-W - Yellow, 44",
                                    "SellStartDate": "2012-05-30 00:00:00.000",
                                    "DayOfWeek": "4"
                                },
                                {
                                    "Name": "ML Road Frame-W - Yellow, 48",
                                    "SellStartDate": "2012-05-30 00:00:00.000",
                                    "DayOfWeek": "4"
                                },
                                {
                                    "Name": "ML Road Front Wheel",
                                    "SellStartDate": "2012-05-30 00:00:00.000",
                                    "DayOfWeek": "4"
                                },
                                {
                                    "Name": "ML Road Handlebars",
                                    "SellStartDate": "2012-05-30 00:00:00.000",
                                    "DayOfWeek": "4"
                                },
                                {
                                    "Name": "ML Road Rear Wheel",
                                    "SellStartDate": "2012-05-30 00:00:00.000",
                                    "DayOfWeek": "4"
                                },
                                {
                                    "Name": "Mountain Pump",
                                    "SellStartDate": "2012-05-30 00:00:00.000",
                                    "DayOfWeek": "4"
                                },
                                {
                                    "Name": "Mountain-200 Black, 38",
                                    "SellStartDate": "2012-05-30 00:00:00.000",
                                    "DayOfWeek": "4"
                                },
                                {
                                    "Name": "Mountain-200 Black, 42",
                                    "SellStartDate": "2012-05-30 00:00:00.000",
                                    "DayOfWeek": "4"
                                },
                                {
                                    "Name": "Mountain-200 Black, 46",
                                    "SellStartDate": "2012-05-30 00:00:00.000",
                                    "DayOfWeek": "4"
                                },
                                {
                                    "Name": "Mountain-200 Silver, 38",
                                    "SellStartDate": "2012-05-30 00:00:00.000",
                                    "DayOfWeek": "4"
                                },
                                {
                                    "Name": "Mountain-200 Silver, 42",
                                    "SellStartDate": "2012-05-30 00:00:00.000",
                                    "DayOfWeek": "4"
                                },
                                {
                                    "Name": "Mountain-200 Silver, 46",
                                    "SellStartDate": "2012-05-30 00:00:00.000",
                                    "DayOfWeek": "4"
                                },
                                {
                                    "Name": "Mountain-300 Black, 38",
                                    "SellStartDate": "2012-05-30 00:00:00.000",
                                    "DayOfWeek": "4"
                                },
                                {
                                    "Name": "Mountain-300 Black, 40",
                                    "SellStartDate": "2012-05-30 00:00:00.000",
                                    "DayOfWeek": "4"
                                },
                                {
                                    "Name": "Mountain-300 Black, 44",
                                    "SellStartDate": "2012-05-30 00:00:00.000",
                                    "DayOfWeek": "4"
                                },
                                {
                                    "Name": "Mountain-300 Black, 48",
                                    "SellStartDate": "2012-05-30 00:00:00.000",
                                    "DayOfWeek": "4"
                                },
                                {
                                    "Name": "Road-250 Black, 44",
                                    "SellStartDate": "2012-05-30 00:00:00.000",
                                    "DayOfWeek": "4"
                                },
                                {
                                    "Name": "Road-250 Black, 48",
                                    "SellStartDate": "2012-05-30 00:00:00.000",
                                    "DayOfWeek": "4"
                                },
                                {
                                    "Name": "Road-250 Black, 52",
                                    "SellStartDate": "2012-05-30 00:00:00.000",
                                    "DayOfWeek": "4"
                                },
                                {
                                    "Name": "Road-250 Black, 58",
                                    "SellStartDate": "2012-05-30 00:00:00.000",
                                    "DayOfWeek": "4"
                                },
                                {
                                    "Name": "Road-250 Red, 44",
                                    "SellStartDate": "2012-05-30 00:00:00.000",
                                    "DayOfWeek": "4"
                                },
                                {
                                    "Name": "Road-250 Red, 48",
                                    "SellStartDate": "2012-05-30 00:00:00.000",
                                    "DayOfWeek": "4"
                                },
                                {
                                    "Name": "Road-250 Red, 52",
                                    "SellStartDate": "2012-05-30 00:00:00.000",
                                    "DayOfWeek": "4"
                                },
                                {
                                    "Name": "Road-250 Red, 58",
                                    "SellStartDate": "2012-05-30 00:00:00.000",
                                    "DayOfWeek": "4"
                                },
                                {
                                    "Name": "Road-550-W Yellow, 38",
                                    "SellStartDate": "2012-05-30 00:00:00.000",
                                    "DayOfWeek": "4"
                                },
                                {
                                    "Name": "Road-550-W Yellow, 40",
                                    "SellStartDate": "2012-05-30 00:00:00.000",
                                    "DayOfWeek": "4"
                                },
                                {
                                    "Name": "Road-550-W Yellow, 42",
                                    "SellStartDate": "2012-05-30 00:00:00.000",
                                    "DayOfWeek": "4"
                                },
                                {
                                    "Name": "Road-550-W Yellow, 44",
                                    "SellStartDate": "2012-05-30 00:00:00.000",
                                    "DayOfWeek": "4"
                                },
                                {
                                    "Name": "Road-550-W Yellow, 48",
                                    "SellStartDate": "2012-05-30 00:00:00.000",
                                    "DayOfWeek": "4"
                                },
                                {
                                    "Name": "Taillights - Battery-Powered",
                                    "SellStartDate": "2012-05-30 00:00:00.000",
                                    "DayOfWeek": "4"
                                },
                                {
                                    "Name": "Touring Front Wheel",
                                    "SellStartDate": "2012-05-30 00:00:00.000",
                                    "DayOfWeek": "4"
                                },
                                {
                                    "Name": "Touring Rear Wheel",
                                    "SellStartDate": "2012-05-30 00:00:00.000",
                                    "DayOfWeek": "4"
                                },
                                {
                                    "Name": "Touring-Panniers, Large",
                                    "SellStartDate": "2012-05-30 00:00:00.000",
                                    "DayOfWeek": "4"
                                },
                                {
                                    "Name": "Women's Tights, L",
                                    "SellStartDate": "2012-05-30 00:00:00.000",
                                    "DayOfWeek": "4"
                                },
                                {
                                    "Name": "Women's Tights, M",
                                    "SellStartDate": "2012-05-30 00:00:00.000",
                                    "DayOfWeek": "4"
                                },
                                {
                                    "Name": "Women's Tights, S",
                                    "SellStartDate": "2012-05-30 00:00:00.000",
                                    "DayOfWeek": "4"
                                },
                                {
                                    "Name": "All-Purpose Bike Stand",
                                    "SellStartDate": "2013-05-30 00:00:00.000",
                                    "DayOfWeek": "5"
                                },
                                {
                                    "Name": "Bike Wash - Dissolver",
                                    "SellStartDate": "2013-05-30 00:00:00.000",
                                    "DayOfWeek": "5"
                                },
                                {
                                    "Name": "Chain",
                                    "SellStartDate": "2013-05-30 00:00:00.000",
                                    "DayOfWeek": "5"
                                },
                                {
                                    "Name": "Classic Vest, L",
                                    "SellStartDate": "2013-05-30 00:00:00.000",
                                    "DayOfWeek": "5"
                                },
                                {
                                    "Name": "Classic Vest, M",
                                    "SellStartDate": "2013-05-30 00:00:00.000",
                                    "DayOfWeek": "5"
                                },
                                {
                                    "Name": "Classic Vest, S",
                                    "SellStartDate": "2013-05-30 00:00:00.000",
                                    "DayOfWeek": "5"
                                },
                                {
                                    "Name": "Fender Set - Mountain",
                                    "SellStartDate": "2013-05-30 00:00:00.000",
                                    "DayOfWeek": "5"
                                },
                                {
                                    "Name": "Front Brakes",
                                    "SellStartDate": "2013-05-30 00:00:00.000",
                                    "DayOfWeek": "5"
                                },
                                {
                                    "Name": "Front Derailleur",
                                    "SellStartDate": "2013-05-30 00:00:00.000",
                                    "DayOfWeek": "5"
                                },
                                {
                                    "Name": "Hitch Rack - 4-Bike",
                                    "SellStartDate": "2013-05-30 00:00:00.000",
                                    "DayOfWeek": "5"
                                },
                                {
                                    "Name": "HL Bottom Bracket",
                                    "SellStartDate": "2013-05-30 00:00:00.000",
                                    "DayOfWeek": "5"
                                },
                                {
                                    "Name": "HL Crankset",
                                    "SellStartDate": "2013-05-30 00:00:00.000",
                                    "DayOfWeek": "5"
                                },
                                {
                                    "Name": "HL Mountain Pedal",
                                    "SellStartDate": "2013-05-30 00:00:00.000",
                                    "DayOfWeek": "5"
                                },
                                {
                                    "Name": "HL Mountain Seat/Saddle",
                                    "SellStartDate": "2013-05-30 00:00:00.000",
                                    "DayOfWeek": "5"
                                },
                                {
                                    "Name": "HL Mountain Tire",
                                    "SellStartDate": "2013-05-30 00:00:00.000",
                                    "DayOfWeek": "5"
                                },
                                {
                                    "Name": "HL Road Pedal",
                                    "SellStartDate": "2013-05-30 00:00:00.000",
                                    "DayOfWeek": "5"
                                },
                                {
                                    "Name": "HL Road Seat/Saddle",
                                    "SellStartDate": "2013-05-30 00:00:00.000",
                                    "DayOfWeek": "5"
                                },
                                {
                                    "Name": "HL Road Tire",
                                    "SellStartDate": "2013-05-30 00:00:00.000",
                                    "DayOfWeek": "5"
                                },
                                {
                                    "Name": "HL Touring Frame - Blue, 46",
                                    "SellStartDate": "2013-05-30 00:00:00.000",
                                    "DayOfWeek": "5"
                                },
                                {
                                    "Name": "HL Touring Frame - Blue, 50",
                                    "SellStartDate": "2013-05-30 00:00:00.000",
                                    "DayOfWeek": "5"
                                },
                                {
                                    "Name": "HL Touring Frame - Blue, 54",
                                    "SellStartDate": "2013-05-30 00:00:00.000",
                                    "DayOfWeek": "5"
                                },
                                {
                                    "Name": "HL Touring Frame - Blue, 60",
                                    "SellStartDate": "2013-05-30 00:00:00.000",
                                    "DayOfWeek": "5"
                                },
                                {
                                    "Name": "HL Touring Frame - Yellow, 46",
                                    "SellStartDate": "2013-05-30 00:00:00.000",
                                    "DayOfWeek": "5"
                                },
                                {
                                    "Name": "HL Touring Frame - Yellow, 50",
                                    "SellStartDate": "2013-05-30 00:00:00.000",
                                    "DayOfWeek": "5"
                                },
                                {
                                    "Name": "HL Touring Frame - Yellow, 54",
                                    "SellStartDate": "2013-05-30 00:00:00.000",
                                    "DayOfWeek": "5"
                                },
                                {
                                    "Name": "HL Touring Frame - Yellow, 60",
                                    "SellStartDate": "2013-05-30 00:00:00.000",
                                    "DayOfWeek": "5"
                                },
                                {
                                    "Name": "HL Touring Handlebars",
                                    "SellStartDate": "2013-05-30 00:00:00.000",
                                    "DayOfWeek": "5"
                                },
                                {
                                    "Name": "HL Touring Seat/Saddle",
                                    "SellStartDate": "2013-05-30 00:00:00.000",
                                    "DayOfWeek": "5"
                                },
                                {
                                    "Name": "Hydration Pack - 70 oz.",
                                    "SellStartDate": "2013-05-30 00:00:00.000",
                                    "DayOfWeek": "5"
                                },
                                {
                                    "Name": "LL Bottom Bracket",
                                    "SellStartDate": "2013-05-30 00:00:00.000",
                                    "DayOfWeek": "5"
                                },
                                {
                                    "Name": "LL Crankset",
                                    "SellStartDate": "2013-05-30 00:00:00.000",
                                    "DayOfWeek": "5"
                                },
                                {
                                    "Name": "LL Mountain Frame - Black, 40",
                                    "SellStartDate": "2013-05-30 00:00:00.000",
                                    "DayOfWeek": "5"
                                },
                                {
                                    "Name": "LL Mountain Frame - Black, 42",
                                    "SellStartDate": "2013-05-30 00:00:00.000",
                                    "DayOfWeek": "5"
                                },
                                {
                                    "Name": "LL Mountain Frame - Black, 44",
                                    "SellStartDate": "2013-05-30 00:00:00.000",
                                    "DayOfWeek": "5"
                                },
                                {
                                    "Name": "LL Mountain Frame - Black, 48",
                                    "SellStartDate": "2013-05-30 00:00:00.000",
                                    "DayOfWeek": "5"
                                },
                                {
                                    "Name": "LL Mountain Frame - Black, 52",
                                    "SellStartDate": "2013-05-30 00:00:00.000",
                                    "DayOfWeek": "5"
                                },
                                {
                                    "Name": "LL Mountain Frame - Silver, 40",
                                    "SellStartDate": "2013-05-30 00:00:00.000",
                                    "DayOfWeek": "5"
                                },
                                {
                                    "Name": "LL Mountain Frame - Silver, 42",
                                    "SellStartDate": "2013-05-30 00:00:00.000",
                                    "DayOfWeek": "5"
                                },
                                {
                                    "Name": "LL Mountain Frame - Silver, 44",
                                    "SellStartDate": "2013-05-30 00:00:00.000",
                                    "DayOfWeek": "5"
                                },
                                {
                                    "Name": "LL Mountain Frame - Silver, 48",
                                    "SellStartDate": "2013-05-30 00:00:00.000",
                                    "DayOfWeek": "5"
                                },
                                {
                                    "Name": "LL Mountain Frame - Silver, 52",
                                    "SellStartDate": "2013-05-30 00:00:00.000",
                                    "DayOfWeek": "5"
                                },
                                {
                                    "Name": "LL Mountain Pedal",
                                    "SellStartDate": "2013-05-30 00:00:00.000",
                                    "DayOfWeek": "5"
                                },
                                {
                                    "Name": "LL Mountain Seat/Saddle",
                                    "SellStartDate": "2013-05-30 00:00:00.000",
                                    "DayOfWeek": "5"
                                },
                                {
                                    "Name": "LL Mountain Tire",
                                    "SellStartDate": "2013-05-30 00:00:00.000",
                                    "DayOfWeek": "5"
                                },
                                {
                                    "Name": "LL Road Pedal",
                                    "SellStartDate": "2013-05-30 00:00:00.000",
                                    "DayOfWeek": "5"
                                },
                                {
                                    "Name": "LL Road Seat/Saddle",
                                    "SellStartDate": "2013-05-30 00:00:00.000",
                                    "DayOfWeek": "5"
                                },
                                {
                                    "Name": "LL Road Tire",
                                    "SellStartDate": "2013-05-30 00:00:00.000",
                                    "DayOfWeek": "5"
                                },
                                {
                                    "Name": "LL Touring Frame - Blue, 44",
                                    "SellStartDate": "2013-05-30 00:00:00.000",
                                    "DayOfWeek": "5"
                                },
                                {
                                    "Name": "LL Touring Frame - Blue, 50",
                                    "SellStartDate": "2013-05-30 00:00:00.000",
                                    "DayOfWeek": "5"
                                },
                                {
                                    "Name": "LL Touring Frame - Blue, 54",
                                    "SellStartDate": "2013-05-30 00:00:00.000",
                                    "DayOfWeek": "5"
                                },
                                {
                                    "Name": "LL Touring Frame - Blue, 58",
                                    "SellStartDate": "2013-05-30 00:00:00.000",
                                    "DayOfWeek": "5"
                                },
                                {
                                    "Name": "LL Touring Frame - Blue, 62",
                                    "SellStartDate": "2013-05-30 00:00:00.000",
                                    "DayOfWeek": "5"
                                },
                                {
                                    "Name": "LL Touring Frame - Yellow, 44",
                                    "SellStartDate": "2013-05-30 00:00:00.000",
                                    "DayOfWeek": "5"
                                },
                                {
                                    "Name": "LL Touring Frame - Yellow, 50",
                                    "SellStartDate": "2013-05-30 00:00:00.000",
                                    "DayOfWeek": "5"
                                },
                                {
                                    "Name": "LL Touring Frame - Yellow, 54",
                                    "SellStartDate": "2013-05-30 00:00:00.000",
                                    "DayOfWeek": "5"
                                },
                                {
                                    "Name": "LL Touring Frame - Yellow, 58",
                                    "SellStartDate": "2013-05-30 00:00:00.000",
                                    "DayOfWeek": "5"
                                },
                                {
                                    "Name": "LL Touring Frame - Yellow, 62",
                                    "SellStartDate": "2013-05-30 00:00:00.000",
                                    "DayOfWeek": "5"
                                },
                                {
                                    "Name": "LL Touring Handlebars",
                                    "SellStartDate": "2013-05-30 00:00:00.000",
                                    "DayOfWeek": "5"
                                },
                                {
                                    "Name": "LL Touring Seat/Saddle",
                                    "SellStartDate": "2013-05-30 00:00:00.000",
                                    "DayOfWeek": "5"
                                },
                                {
                                    "Name": "ML Bottom Bracket",
                                    "SellStartDate": "2013-05-30 00:00:00.000",
                                    "DayOfWeek": "5"
                                },
                                {
                                    "Name": "ML Crankset",
                                    "SellStartDate": "2013-05-30 00:00:00.000",
                                    "DayOfWeek": "5"
                                },
                                {
                                    "Name": "ML Mountain Frame-W - Silver, 38",
                                    "SellStartDate": "2013-05-30 00:00:00.000",
                                    "DayOfWeek": "5"
                                },
                                {
                                    "Name": "ML Mountain Frame-W - Silver, 40",
                                    "SellStartDate": "2013-05-30 00:00:00.000",
                                    "DayOfWeek": "5"
                                },
                                {
                                    "Name": "ML Mountain Frame-W - Silver, 42",
                                    "SellStartDate": "2013-05-30 00:00:00.000",
                                    "DayOfWeek": "5"
                                },
                                {
                                    "Name": "ML Mountain Frame-W - Silver, 46",
                                    "SellStartDate": "2013-05-30 00:00:00.000",
                                    "DayOfWeek": "5"
                                },
                                {
                                    "Name": "ML Mountain Pedal",
                                    "SellStartDate": "2013-05-30 00:00:00.000",
                                    "DayOfWeek": "5"
                                },
                                {
                                    "Name": "ML Mountain Seat/Saddle",
                                    "SellStartDate": "2013-05-30 00:00:00.000",
                                    "DayOfWeek": "5"
                                },
                                {
                                    "Name": "ML Mountain Tire",
                                    "SellStartDate": "2013-05-30 00:00:00.000",
                                    "DayOfWeek": "5"
                                },
                                {
                                    "Name": "ML Road Pedal",
                                    "SellStartDate": "2013-05-30 00:00:00.000",
                                    "DayOfWeek": "5"
                                },
                                {
                                    "Name": "ML Road Seat/Saddle",
                                    "SellStartDate": "2013-05-30 00:00:00.000",
                                    "DayOfWeek": "5"
                                },
                                {
                                    "Name": "ML Road Tire",
                                    "SellStartDate": "2013-05-30 00:00:00.000",
                                    "DayOfWeek": "5"
                                },
                                {
                                    "Name": "ML Touring Seat/Saddle",
                                    "SellStartDate": "2013-05-30 00:00:00.000",
                                    "DayOfWeek": "5"
                                },
                                {
                                    "Name": "Mountain Bottle Cage",
                                    "SellStartDate": "2013-05-30 00:00:00.000",
                                    "DayOfWeek": "5"
                                },
                                {
                                    "Name": "Mountain Tire Tube",
                                    "SellStartDate": "2013-05-30 00:00:00.000",
                                    "DayOfWeek": "5"
                                },
                                {
                                    "Name": "Mountain-400-W Silver, 38",
                                    "SellStartDate": "2013-05-30 00:00:00.000",
                                    "DayOfWeek": "5"
                                },
                                {
                                    "Name": "Mountain-400-W Silver, 40",
                                    "SellStartDate": "2013-05-30 00:00:00.000",
                                    "DayOfWeek": "5"
                                },
                                {
                                    "Name": "Mountain-400-W Silver, 42",
                                    "SellStartDate": "2013-05-30 00:00:00.000",
                                    "DayOfWeek": "5"
                                },
                                {
                                    "Name": "Mountain-400-W Silver, 46",
                                    "SellStartDate": "2013-05-30 00:00:00.000",
                                    "DayOfWeek": "5"
                                },
                                {
                                    "Name": "Mountain-500 Black, 40",
                                    "SellStartDate": "2013-05-30 00:00:00.000",
                                    "DayOfWeek": "5"
                                },
                                {
                                    "Name": "Mountain-500 Black, 42",
                                    "SellStartDate": "2013-05-30 00:00:00.000",
                                    "DayOfWeek": "5"
                                },
                                {
                                    "Name": "Mountain-500 Black, 44",
                                    "SellStartDate": "2013-05-30 00:00:00.000",
                                    "DayOfWeek": "5"
                                },
                                {
                                    "Name": "Mountain-500 Black, 48",
                                    "SellStartDate": "2013-05-30 00:00:00.000",
                                    "DayOfWeek": "5"
                                },
                                {
                                    "Name": "Mountain-500 Black, 52",
                                    "SellStartDate": "2013-05-30 00:00:00.000",
                                    "DayOfWeek": "5"
                                },
                                {
                                    "Name": "Mountain-500 Silver, 40",
                                    "SellStartDate": "2013-05-30 00:00:00.000",
                                    "DayOfWeek": "5"
                                },
                                {
                                    "Name": "Mountain-500 Silver, 42",
                                    "SellStartDate": "2013-05-30 00:00:00.000",
                                    "DayOfWeek": "5"
                                },
                                {
                                    "Name": "Mountain-500 Silver, 44",
                                    "SellStartDate": "2013-05-30 00:00:00.000",
                                    "DayOfWeek": "5"
                                },
                                {
                                    "Name": "Mountain-500 Silver, 48",
                                    "SellStartDate": "2013-05-30 00:00:00.000",
                                    "DayOfWeek": "5"
                                },
                                {
                                    "Name": "Mountain-500 Silver, 52",
                                    "SellStartDate": "2013-05-30 00:00:00.000",
                                    "DayOfWeek": "5"
                                },
                                {
                                    "Name": "Patch Kit/8 Patches",
                                    "SellStartDate": "2013-05-30 00:00:00.000",
                                    "DayOfWeek": "5"
                                },
                                {
                                    "Name": "Racing Socks, L",
                                    "SellStartDate": "2013-05-30 00:00:00.000",
                                    "DayOfWeek": "5"
                                },
                                {
                                    "Name": "Racing Socks, M",
                                    "SellStartDate": "2013-05-30 00:00:00.000",
                                    "DayOfWeek": "5"
                                },
                                {
                                    "Name": "Rear Brakes",
                                    "SellStartDate": "2013-05-30 00:00:00.000",
                                    "DayOfWeek": "5"
                                },
                                {
                                    "Name": "Rear Derailleur",
                                    "SellStartDate": "2013-05-30 00:00:00.000",
                                    "DayOfWeek": "5"
                                },
                                {
                                    "Name": "Road Bottle Cage",
                                    "SellStartDate": "2013-05-30 00:00:00.000",
                                    "DayOfWeek": "5"
                                },
                                {
                                    "Name": "Road Tire Tube",
                                    "SellStartDate": "2013-05-30 00:00:00.000",
                                    "DayOfWeek": "5"
                                },
                                {
                                    "Name": "Road-350-W Yellow, 40",
                                    "SellStartDate": "2013-05-30 00:00:00.000",
                                    "DayOfWeek": "5"
                                },
                                {
                                    "Name": "Road-350-W Yellow, 42",
                                    "SellStartDate": "2013-05-30 00:00:00.000",
                                    "DayOfWeek": "5"
                                },
                                {
                                    "Name": "Road-350-W Yellow, 44",
                                    "SellStartDate": "2013-05-30 00:00:00.000",
                                    "DayOfWeek": "5"
                                },
                                {
                                    "Name": "Road-350-W Yellow, 48",
                                    "SellStartDate": "2013-05-30 00:00:00.000",
                                    "DayOfWeek": "5"
                                },
                                {
                                    "Name": "Road-750 Black, 44",
                                    "SellStartDate": "2013-05-30 00:00:00.000",
                                    "DayOfWeek": "5"
                                },
                                {
                                    "Name": "Road-750 Black, 48",
                                    "SellStartDate": "2013-05-30 00:00:00.000",
                                    "DayOfWeek": "5"
                                },
                                {
                                    "Name": "Road-750 Black, 52",
                                    "SellStartDate": "2013-05-30 00:00:00.000",
                                    "DayOfWeek": "5"
                                },
                                {
                                    "Name": "Road-750 Black, 58",
                                    "SellStartDate": "2013-05-30 00:00:00.000",
                                    "DayOfWeek": "5"
                                },
                                {
                                    "Name": "Short-Sleeve Classic Jersey, L",
                                    "SellStartDate": "2013-05-30 00:00:00.000",
                                    "DayOfWeek": "5"
                                },
                                {
                                    "Name": "Short-Sleeve Classic Jersey, M",
                                    "SellStartDate": "2013-05-30 00:00:00.000",
                                    "DayOfWeek": "5"
                                },
                                {
                                    "Name": "Short-Sleeve Classic Jersey, S",
                                    "SellStartDate": "2013-05-30 00:00:00.000",
                                    "DayOfWeek": "5"
                                },
                                {
                                    "Name": "Short-Sleeve Classic Jersey, XL",
                                    "SellStartDate": "2013-05-30 00:00:00.000",
                                    "DayOfWeek": "5"
                                },
                                {
                                    "Name": "Touring Pedal",
                                    "SellStartDate": "2013-05-30 00:00:00.000",
                                    "DayOfWeek": "5"
                                },
                                {
                                    "Name": "Touring Tire",
                                    "SellStartDate": "2013-05-30 00:00:00.000",
                                    "DayOfWeek": "5"
                                },
                                {
                                    "Name": "Touring Tire Tube",
                                    "SellStartDate": "2013-05-30 00:00:00.000",
                                    "DayOfWeek": "5"
                                },
                                {
                                    "Name": "Touring-1000 Blue, 46",
                                    "SellStartDate": "2013-05-30 00:00:00.000",
                                    "DayOfWeek": "5"
                                },
                                {
                                    "Name": "Touring-1000 Blue, 50",
                                    "SellStartDate": "2013-05-30 00:00:00.000",
                                    "DayOfWeek": "5"
                                },
                                {
                                    "Name": "Touring-1000 Blue, 54",
                                    "SellStartDate": "2013-05-30 00:00:00.000",
                                    "DayOfWeek": "5"
                                },
                                {
                                    "Name": "Touring-1000 Blue, 60",
                                    "SellStartDate": "2013-05-30 00:00:00.000",
                                    "DayOfWeek": "5"
                                },
                                {
                                    "Name": "Touring-1000 Yellow, 46",
                                    "SellStartDate": "2013-05-30 00:00:00.000",
                                    "DayOfWeek": "5"
                                },
                                {
                                    "Name": "Touring-1000 Yellow, 50",
                                    "SellStartDate": "2013-05-30 00:00:00.000",
                                    "DayOfWeek": "5"
                                },
                                {
                                    "Name": "Touring-1000 Yellow, 54",
                                    "SellStartDate": "2013-05-30 00:00:00.000",
                                    "DayOfWeek": "5"
                                },
                                {
                                    "Name": "Touring-1000 Yellow, 60",
                                    "SellStartDate": "2013-05-30 00:00:00.000",
                                    "DayOfWeek": "5"
                                },
                                {
                                    "Name": "Touring-2000 Blue, 46",
                                    "SellStartDate": "2013-05-30 00:00:00.000",
                                    "DayOfWeek": "5"
                                },
                                {
                                    "Name": "Touring-2000 Blue, 50",
                                    "SellStartDate": "2013-05-30 00:00:00.000",
                                    "DayOfWeek": "5"
                                },
                                {
                                    "Name": "Touring-2000 Blue, 54",
                                    "SellStartDate": "2013-05-30 00:00:00.000",
                                    "DayOfWeek": "5"
                                },
                                {
                                    "Name": "Touring-2000 Blue, 60",
                                    "SellStartDate": "2013-05-30 00:00:00.000",
                                    "DayOfWeek": "5"
                                },
                                {
                                    "Name": "Touring-3000 Blue, 44",
                                    "SellStartDate": "2013-05-30 00:00:00.000",
                                    "DayOfWeek": "5"
                                },
                                {
                                    "Name": "Touring-3000 Blue, 50",
                                    "SellStartDate": "2013-05-30 00:00:00.000",
                                    "DayOfWeek": "5"
                                },
                                {
                                    "Name": "Touring-3000 Blue, 54",
                                    "SellStartDate": "2013-05-30 00:00:00.000",
                                    "DayOfWeek": "5"
                                },
                                {
                                    "Name": "Touring-3000 Blue, 58",
                                    "SellStartDate": "2013-05-30 00:00:00.000",
                                    "DayOfWeek": "5"
                                },
                                {
                                    "Name": "Touring-3000 Blue, 62",
                                    "SellStartDate": "2013-05-30 00:00:00.000",
                                    "DayOfWeek": "5"
                                },
                                {
                                    "Name": "Touring-3000 Yellow, 44",
                                    "SellStartDate": "2013-05-30 00:00:00.000",
                                    "DayOfWeek": "5"
                                },
                                {
                                    "Name": "Touring-3000 Yellow, 50",
                                    "SellStartDate": "2013-05-30 00:00:00.000",
                                    "DayOfWeek": "5"
                                },
                                {
                                    "Name": "Touring-3000 Yellow, 54",
                                    "SellStartDate": "2013-05-30 00:00:00.000",
                                    "DayOfWeek": "5"
                                },
                                {
                                    "Name": "Touring-3000 Yellow, 58",
                                    "SellStartDate": "2013-05-30 00:00:00.000",
                                    "DayOfWeek": "5"
                                },
                                {
                                    "Name": "Touring-3000 Yellow, 62",
                                    "SellStartDate": "2013-05-30 00:00:00.000",
                                    "DayOfWeek": "5"
                                },
                                {
                                    "Name": "Water Bottle - 30 oz.",
                                    "SellStartDate": "2013-05-30 00:00:00.000",
                                    "DayOfWeek": "5"
                                },
                                {
                                    "Name": "Women's Mountain Shorts, L",
                                    "SellStartDate": "2013-05-30 00:00:00.000",
                                    "DayOfWeek": "5"
                                },
                                {
                                    "Name": "Women's Mountain Shorts, M",
                                    "SellStartDate": "2013-05-30 00:00:00.000",
                                    "DayOfWeek": "5"
                                },
                                {
                                    "Name": "Women's Mountain Shorts, S",
                                    "SellStartDate": "2013-05-30 00:00:00.000",
                                    "DayOfWeek": "5"
                                }
                            ]
                        },
                        "text/html": "<table><tr><th>Name</th><th>SellStartDate</th><th>DayOfWeek</th></tr><tr><td>Adjustable Race</td><td>2008-04-30 00:00:00.000</td><td>4</td></tr><tr><td>BB Ball Bearing</td><td>2008-04-30 00:00:00.000</td><td>4</td></tr><tr><td>Bearing Ball</td><td>2008-04-30 00:00:00.000</td><td>4</td></tr><tr><td>Blade</td><td>2008-04-30 00:00:00.000</td><td>4</td></tr><tr><td>Chain Stays</td><td>2008-04-30 00:00:00.000</td><td>4</td></tr><tr><td>Chainring</td><td>2008-04-30 00:00:00.000</td><td>4</td></tr><tr><td>Chainring Bolts</td><td>2008-04-30 00:00:00.000</td><td>4</td></tr><tr><td>Chainring Nut</td><td>2008-04-30 00:00:00.000</td><td>4</td></tr><tr><td>Cone-Shaped Race</td><td>2008-04-30 00:00:00.000</td><td>4</td></tr><tr><td>Crown Race</td><td>2008-04-30 00:00:00.000</td><td>4</td></tr><tr><td>Cup-Shaped Race</td><td>2008-04-30 00:00:00.000</td><td>4</td></tr><tr><td>Decal 1</td><td>2008-04-30 00:00:00.000</td><td>4</td></tr><tr><td>Decal 2</td><td>2008-04-30 00:00:00.000</td><td>4</td></tr><tr><td>Down Tube</td><td>2008-04-30 00:00:00.000</td><td>4</td></tr><tr><td>External Lock Washer 1</td><td>2008-04-30 00:00:00.000</td><td>4</td></tr><tr><td>External Lock Washer 2</td><td>2008-04-30 00:00:00.000</td><td>4</td></tr><tr><td>External Lock Washer 3</td><td>2008-04-30 00:00:00.000</td><td>4</td></tr><tr><td>External Lock Washer 4</td><td>2008-04-30 00:00:00.000</td><td>4</td></tr><tr><td>External Lock Washer 5</td><td>2008-04-30 00:00:00.000</td><td>4</td></tr><tr><td>External Lock Washer 6</td><td>2008-04-30 00:00:00.000</td><td>4</td></tr><tr><td>External Lock Washer 7</td><td>2008-04-30 00:00:00.000</td><td>4</td></tr><tr><td>External Lock Washer 8</td><td>2008-04-30 00:00:00.000</td><td>4</td></tr><tr><td>External Lock Washer 9</td><td>2008-04-30 00:00:00.000</td><td>4</td></tr><tr><td>Flat Washer 1</td><td>2008-04-30 00:00:00.000</td><td>4</td></tr><tr><td>Flat Washer 2</td><td>2008-04-30 00:00:00.000</td><td>4</td></tr><tr><td>Flat Washer 3</td><td>2008-04-30 00:00:00.000</td><td>4</td></tr><tr><td>Flat Washer 4</td><td>2008-04-30 00:00:00.000</td><td>4</td></tr><tr><td>Flat Washer 5</td><td>2008-04-30 00:00:00.000</td><td>4</td></tr><tr><td>Flat Washer 6</td><td>2008-04-30 00:00:00.000</td><td>4</td></tr><tr><td>Flat Washer 7</td><td>2008-04-30 00:00:00.000</td><td>4</td></tr><tr><td>Flat Washer 8</td><td>2008-04-30 00:00:00.000</td><td>4</td></tr><tr><td>Flat Washer 9</td><td>2008-04-30 00:00:00.000</td><td>4</td></tr><tr><td>Fork Crown</td><td>2008-04-30 00:00:00.000</td><td>4</td></tr><tr><td>Fork End</td><td>2008-04-30 00:00:00.000</td><td>4</td></tr><tr><td>Freewheel</td><td>2008-04-30 00:00:00.000</td><td>4</td></tr><tr><td>Front Derailleur Cage</td><td>2008-04-30 00:00:00.000</td><td>4</td></tr><tr><td>Front Derailleur Linkage</td><td>2008-04-30 00:00:00.000</td><td>4</td></tr><tr><td>Guide Pulley</td><td>2008-04-30 00:00:00.000</td><td>4</td></tr><tr><td>Handlebar Tube</td><td>2008-04-30 00:00:00.000</td><td>4</td></tr><tr><td>Head Tube</td><td>2008-04-30 00:00:00.000</td><td>4</td></tr><tr><td>Headset Ball Bearings</td><td>2008-04-30 00:00:00.000</td><td>4</td></tr><tr><td>Hex Nut 1</td><td>2008-04-30 00:00:00.000</td><td>4</td></tr><tr><td>Hex Nut 10</td><td>2008-04-30 00:00:00.000</td><td>4</td></tr><tr><td>Hex Nut 11</td><td>2008-04-30 00:00:00.000</td><td>4</td></tr><tr><td>Hex Nut 12</td><td>2008-04-30 00:00:00.000</td><td>4</td></tr><tr><td>Hex Nut 13</td><td>2008-04-30 00:00:00.000</td><td>4</td></tr><tr><td>Hex Nut 14</td><td>2008-04-30 00:00:00.000</td><td>4</td></tr><tr><td>Hex Nut 15</td><td>2008-04-30 00:00:00.000</td><td>4</td></tr><tr><td>Hex Nut 16</td><td>2008-04-30 00:00:00.000</td><td>4</td></tr><tr><td>Hex Nut 17</td><td>2008-04-30 00:00:00.000</td><td>4</td></tr><tr><td>Hex Nut 18</td><td>2008-04-30 00:00:00.000</td><td>4</td></tr><tr><td>Hex Nut 19</td><td>2008-04-30 00:00:00.000</td><td>4</td></tr><tr><td>Hex Nut 2</td><td>2008-04-30 00:00:00.000</td><td>4</td></tr><tr><td>Hex Nut 20</td><td>2008-04-30 00:00:00.000</td><td>4</td></tr><tr><td>Hex Nut 21</td><td>2008-04-30 00:00:00.000</td><td>4</td></tr><tr><td>Hex Nut 22</td><td>2008-04-30 00:00:00.000</td><td>4</td></tr><tr><td>Hex Nut 23</td><td>2008-04-30 00:00:00.000</td><td>4</td></tr><tr><td>Hex Nut 3</td><td>2008-04-30 00:00:00.000</td><td>4</td></tr><tr><td>Hex Nut 4</td><td>2008-04-30 00:00:00.000</td><td>4</td></tr><tr><td>Hex Nut 5</td><td>2008-04-30 00:00:00.000</td><td>4</td></tr><tr><td>Hex Nut 6</td><td>2008-04-30 00:00:00.000</td><td>4</td></tr><tr><td>Hex Nut 7</td><td>2008-04-30 00:00:00.000</td><td>4</td></tr><tr><td>Hex Nut 8</td><td>2008-04-30 00:00:00.000</td><td>4</td></tr><tr><td>Hex Nut 9</td><td>2008-04-30 00:00:00.000</td><td>4</td></tr><tr><td>HL Crankarm</td><td>2008-04-30 00:00:00.000</td><td>4</td></tr><tr><td>HL Grip Tape</td><td>2008-04-30 00:00:00.000</td><td>4</td></tr><tr><td>HL Hub</td><td>2008-04-30 00:00:00.000</td><td>4</td></tr><tr><td>HL Mountain Rim</td><td>2008-04-30 00:00:00.000</td><td>4</td></tr><tr><td>HL Mountain Seat Assembly</td><td>2008-04-30 00:00:00.000</td><td>4</td></tr><tr><td>HL Nipple</td><td>2008-04-30 00:00:00.000</td><td>4</td></tr><tr><td>HL Road Frame - Black, 58</td><td>2008-04-30 00:00:00.000</td><td>4</td></tr><tr><td>HL Road Frame - Red, 58</td><td>2008-04-30 00:00:00.000</td><td>4</td></tr><tr><td>HL Road Rim</td><td>2008-04-30 00:00:00.000</td><td>4</td></tr><tr><td>HL Road Seat Assembly</td><td>2008-04-30 00:00:00.000</td><td>4</td></tr><tr><td>HL Shell</td><td>2008-04-30 00:00:00.000</td><td>4</td></tr><tr><td>HL Spindle/Axle</td><td>2008-04-30 00:00:00.000</td><td>4</td></tr><tr><td>HL Touring Seat Assembly</td><td>2008-04-30 00:00:00.000</td><td>4</td></tr><tr><td>Internal Lock Washer 1</td><td>2008-04-30 00:00:00.000</td><td>4</td></tr><tr><td>Internal Lock Washer 10</td><td>2008-04-30 00:00:00.000</td><td>4</td></tr><tr><td>Internal Lock Washer 2</td><td>2008-04-30 00:00:00.000</td><td>4</td></tr><tr><td>Internal Lock Washer 3</td><td>2008-04-30 00:00:00.000</td><td>4</td></tr><tr><td>Internal Lock Washer 4</td><td>2008-04-30 00:00:00.000</td><td>4</td></tr><tr><td>Internal Lock Washer 5</td><td>2008-04-30 00:00:00.000</td><td>4</td></tr><tr><td>Internal Lock Washer 6</td><td>2008-04-30 00:00:00.000</td><td>4</td></tr><tr><td>Internal Lock Washer 7</td><td>2008-04-30 00:00:00.000</td><td>4</td></tr><tr><td>Internal Lock Washer 8</td><td>2008-04-30 00:00:00.000</td><td>4</td></tr><tr><td>Internal Lock Washer 9</td><td>2008-04-30 00:00:00.000</td><td>4</td></tr><tr><td>Keyed Washer</td><td>2008-04-30 00:00:00.000</td><td>4</td></tr><tr><td>LL Crankarm</td><td>2008-04-30 00:00:00.000</td><td>4</td></tr><tr><td>LL Grip Tape</td><td>2008-04-30 00:00:00.000</td><td>4</td></tr><tr><td>LL Hub</td><td>2008-04-30 00:00:00.000</td><td>4</td></tr><tr><td>LL Mountain Rim</td><td>2008-04-30 00:00:00.000</td><td>4</td></tr><tr><td>LL Mountain Seat Assembly</td><td>2008-04-30 00:00:00.000</td><td>4</td></tr><tr><td>LL Nipple</td><td>2008-04-30 00:00:00.000</td><td>4</td></tr><tr><td>LL Road Rim</td><td>2008-04-30 00:00:00.000</td><td>4</td></tr><tr><td>LL Road Seat Assembly</td><td>2008-04-30 00:00:00.000</td><td>4</td></tr><tr><td>LL Shell</td><td>2008-04-30 00:00:00.000</td><td>4</td></tr><tr><td>LL Spindle/Axle</td><td>2008-04-30 00:00:00.000</td><td>4</td></tr><tr><td>LL Touring Seat Assembly</td><td>2008-04-30 00:00:00.000</td><td>4</td></tr><tr><td>Lock Nut 1</td><td>2008-04-30 00:00:00.000</td><td>4</td></tr><tr><td>Lock Nut 10</td><td>2008-04-30 00:00:00.000</td><td>4</td></tr><tr><td>Lock Nut 11</td><td>2008-04-30 00:00:00.000</td><td>4</td></tr><tr><td>Lock Nut 12</td><td>2008-04-30 00:00:00.000</td><td>4</td></tr><tr><td>Lock Nut 13</td><td>2008-04-30 00:00:00.000</td><td>4</td></tr><tr><td>Lock Nut 14</td><td>2008-04-30 00:00:00.000</td><td>4</td></tr><tr><td>Lock Nut 15</td><td>2008-04-30 00:00:00.000</td><td>4</td></tr><tr><td>Lock Nut 16</td><td>2008-04-30 00:00:00.000</td><td>4</td></tr><tr><td>Lock Nut 17</td><td>2008-04-30 00:00:00.000</td><td>4</td></tr><tr><td>Lock Nut 18</td><td>2008-04-30 00:00:00.000</td><td>4</td></tr><tr><td>Lock Nut 19</td><td>2008-04-30 00:00:00.000</td><td>4</td></tr><tr><td>Lock Nut 2</td><td>2008-04-30 00:00:00.000</td><td>4</td></tr><tr><td>Lock Nut 20</td><td>2008-04-30 00:00:00.000</td><td>4</td></tr><tr><td>Lock Nut 21</td><td>2008-04-30 00:00:00.000</td><td>4</td></tr><tr><td>Lock Nut 22</td><td>2008-04-30 00:00:00.000</td><td>4</td></tr><tr><td>Lock Nut 23</td><td>2008-04-30 00:00:00.000</td><td>4</td></tr><tr><td>Lock Nut 3</td><td>2008-04-30 00:00:00.000</td><td>4</td></tr><tr><td>Lock Nut 4</td><td>2008-04-30 00:00:00.000</td><td>4</td></tr><tr><td>Lock Nut 5</td><td>2008-04-30 00:00:00.000</td><td>4</td></tr><tr><td>Lock Nut 6</td><td>2008-04-30 00:00:00.000</td><td>4</td></tr><tr><td>Lock Nut 7</td><td>2008-04-30 00:00:00.000</td><td>4</td></tr><tr><td>Lock Nut 8</td><td>2008-04-30 00:00:00.000</td><td>4</td></tr><tr><td>Lock Nut 9</td><td>2008-04-30 00:00:00.000</td><td>4</td></tr><tr><td>Lock Ring</td><td>2008-04-30 00:00:00.000</td><td>4</td></tr><tr><td>Lock Washer 1</td><td>2008-04-30 00:00:00.000</td><td>4</td></tr><tr><td>Lock Washer 10</td><td>2008-04-30 00:00:00.000</td><td>4</td></tr><tr><td>Lock Washer 11</td><td>2008-04-30 00:00:00.000</td><td>4</td></tr><tr><td>Lock Washer 12</td><td>2008-04-30 00:00:00.000</td><td>4</td></tr><tr><td>Lock Washer 13</td><td>2008-04-30 00:00:00.000</td><td>4</td></tr><tr><td>Lock Washer 2</td><td>2008-04-30 00:00:00.000</td><td>4</td></tr><tr><td>Lock Washer 3</td><td>2008-04-30 00:00:00.000</td><td>4</td></tr><tr><td>Lock Washer 4</td><td>2008-04-30 00:00:00.000</td><td>4</td></tr><tr><td>Lock Washer 5</td><td>2008-04-30 00:00:00.000</td><td>4</td></tr><tr><td>Lock Washer 6</td><td>2008-04-30 00:00:00.000</td><td>4</td></tr><tr><td>Lock Washer 7</td><td>2008-04-30 00:00:00.000</td><td>4</td></tr><tr><td>Lock Washer 8</td><td>2008-04-30 00:00:00.000</td><td>4</td></tr><tr><td>Lock Washer 9</td><td>2008-04-30 00:00:00.000</td><td>4</td></tr><tr><td>Lower Head Race</td><td>2008-04-30 00:00:00.000</td><td>4</td></tr><tr><td>Metal Angle</td><td>2008-04-30 00:00:00.000</td><td>4</td></tr><tr><td>Metal Bar 1</td><td>2008-04-30 00:00:00.000</td><td>4</td></tr><tr><td>Metal Bar 2</td><td>2008-04-30 00:00:00.000</td><td>4</td></tr><tr><td>Metal Plate 1</td><td>2008-04-30 00:00:00.000</td><td>4</td></tr><tr><td>Metal Plate 2</td><td>2008-04-30 00:00:00.000</td><td>4</td></tr><tr><td>Metal Plate 3</td><td>2008-04-30 00:00:00.000</td><td>4</td></tr><tr><td>Metal Sheet 1</td><td>2008-04-30 00:00:00.000</td><td>4</td></tr><tr><td>Metal Sheet 2</td><td>2008-04-30 00:00:00.000</td><td>4</td></tr><tr><td>Metal Sheet 3</td><td>2008-04-30 00:00:00.000</td><td>4</td></tr><tr><td>Metal Sheet 4</td><td>2008-04-30 00:00:00.000</td><td>4</td></tr><tr><td>Metal Sheet 5</td><td>2008-04-30 00:00:00.000</td><td>4</td></tr><tr><td>Metal Sheet 6</td><td>2008-04-30 00:00:00.000</td><td>4</td></tr><tr><td>Metal Sheet 7</td><td>2008-04-30 00:00:00.000</td><td>4</td></tr><tr><td>Metal Tread Plate</td><td>2008-04-30 00:00:00.000</td><td>4</td></tr><tr><td>ML Crankarm</td><td>2008-04-30 00:00:00.000</td><td>4</td></tr><tr><td>ML Grip Tape</td><td>2008-04-30 00:00:00.000</td><td>4</td></tr><tr><td>ML Mountain Rim</td><td>2008-04-30 00:00:00.000</td><td>4</td></tr><tr><td>ML Mountain Seat Assembly</td><td>2008-04-30 00:00:00.000</td><td>4</td></tr><tr><td>ML Road Rim</td><td>2008-04-30 00:00:00.000</td><td>4</td></tr><tr><td>ML Road Seat Assembly</td><td>2008-04-30 00:00:00.000</td><td>4</td></tr><tr><td>ML Touring Seat Assembly</td><td>2008-04-30 00:00:00.000</td><td>4</td></tr><tr><td>Mountain End Caps</td><td>2008-04-30 00:00:00.000</td><td>4</td></tr><tr><td>Paint - Black</td><td>2008-04-30 00:00:00.000</td><td>4</td></tr><tr><td>Paint - Blue</td><td>2008-04-30 00:00:00.000</td><td>4</td></tr><tr><td>Paint - Red</td><td>2008-04-30 00:00:00.000</td><td>4</td></tr><tr><td>Paint - Silver</td><td>2008-04-30 00:00:00.000</td><td>4</td></tr><tr><td>Paint - Yellow</td><td>2008-04-30 00:00:00.000</td><td>4</td></tr><tr><td>Pinch Bolt</td><td>2008-04-30 00:00:00.000</td><td>4</td></tr><tr><td>Rear Derailleur Cage</td><td>2008-04-30 00:00:00.000</td><td>4</td></tr><tr><td>Reflector</td><td>2008-04-30 00:00:00.000</td><td>4</td></tr><tr><td>Road End Caps</td><td>2008-04-30 00:00:00.000</td><td>4</td></tr><tr><td>Seat Lug</td><td>2008-04-30 00:00:00.000</td><td>4</td></tr><tr><td>Seat Post</td><td>2008-04-30 00:00:00.000</td><td>4</td></tr><tr><td>Seat Stays</td><td>2008-04-30 00:00:00.000</td><td>4</td></tr><tr><td>Seat Tube</td><td>2008-04-30 00:00:00.000</td><td>4</td></tr><tr><td>Spokes</td><td>2008-04-30 00:00:00.000</td><td>4</td></tr><tr><td>Steerer</td><td>2008-04-30 00:00:00.000</td><td>4</td></tr><tr><td>Stem</td><td>2008-04-30 00:00:00.000</td><td>4</td></tr><tr><td>Tension Pulley</td><td>2008-04-30 00:00:00.000</td><td>4</td></tr><tr><td>Thin-Jam Hex Nut 1</td><td>2008-04-30 00:00:00.000</td><td>4</td></tr><tr><td>Thin-Jam Hex Nut 10</td><td>2008-04-30 00:00:00.000</td><td>4</td></tr><tr><td>Thin-Jam Hex Nut 11</td><td>2008-04-30 00:00:00.000</td><td>4</td></tr><tr><td>Thin-Jam Hex Nut 12</td><td>2008-04-30 00:00:00.000</td><td>4</td></tr><tr><td>Thin-Jam Hex Nut 13</td><td>2008-04-30 00:00:00.000</td><td>4</td></tr><tr><td>Thin-Jam Hex Nut 14</td><td>2008-04-30 00:00:00.000</td><td>4</td></tr><tr><td>Thin-Jam Hex Nut 15</td><td>2008-04-30 00:00:00.000</td><td>4</td></tr><tr><td>Thin-Jam Hex Nut 16</td><td>2008-04-30 00:00:00.000</td><td>4</td></tr><tr><td>Thin-Jam Hex Nut 2</td><td>2008-04-30 00:00:00.000</td><td>4</td></tr><tr><td>Thin-Jam Hex Nut 3</td><td>2008-04-30 00:00:00.000</td><td>4</td></tr><tr><td>Thin-Jam Hex Nut 4</td><td>2008-04-30 00:00:00.000</td><td>4</td></tr><tr><td>Thin-Jam Hex Nut 5</td><td>2008-04-30 00:00:00.000</td><td>4</td></tr><tr><td>Thin-Jam Hex Nut 6</td><td>2008-04-30 00:00:00.000</td><td>4</td></tr><tr><td>Thin-Jam Hex Nut 7</td><td>2008-04-30 00:00:00.000</td><td>4</td></tr><tr><td>Thin-Jam Hex Nut 8</td><td>2008-04-30 00:00:00.000</td><td>4</td></tr><tr><td>Thin-Jam Hex Nut 9</td><td>2008-04-30 00:00:00.000</td><td>4</td></tr><tr><td>Thin-Jam Lock Nut 1</td><td>2008-04-30 00:00:00.000</td><td>4</td></tr><tr><td>Thin-Jam Lock Nut 10</td><td>2008-04-30 00:00:00.000</td><td>4</td></tr><tr><td>Thin-Jam Lock Nut 11</td><td>2008-04-30 00:00:00.000</td><td>4</td></tr><tr><td>Thin-Jam Lock Nut 12</td><td>2008-04-30 00:00:00.000</td><td>4</td></tr><tr><td>Thin-Jam Lock Nut 13</td><td>2008-04-30 00:00:00.000</td><td>4</td></tr><tr><td>Thin-Jam Lock Nut 14</td><td>2008-04-30 00:00:00.000</td><td>4</td></tr><tr><td>Thin-Jam Lock Nut 15</td><td>2008-04-30 00:00:00.000</td><td>4</td></tr><tr><td>Thin-Jam Lock Nut 16</td><td>2008-04-30 00:00:00.000</td><td>4</td></tr><tr><td>Thin-Jam Lock Nut 2</td><td>2008-04-30 00:00:00.000</td><td>4</td></tr><tr><td>Thin-Jam Lock Nut 3</td><td>2008-04-30 00:00:00.000</td><td>4</td></tr><tr><td>Thin-Jam Lock Nut 4</td><td>2008-04-30 00:00:00.000</td><td>4</td></tr><tr><td>Thin-Jam Lock Nut 5</td><td>2008-04-30 00:00:00.000</td><td>4</td></tr><tr><td>Thin-Jam Lock Nut 6</td><td>2008-04-30 00:00:00.000</td><td>4</td></tr><tr><td>Thin-Jam Lock Nut 7</td><td>2008-04-30 00:00:00.000</td><td>4</td></tr><tr><td>Thin-Jam Lock Nut 8</td><td>2008-04-30 00:00:00.000</td><td>4</td></tr><tr><td>Thin-Jam Lock Nut 9</td><td>2008-04-30 00:00:00.000</td><td>4</td></tr><tr><td>Top Tube</td><td>2008-04-30 00:00:00.000</td><td>4</td></tr><tr><td>Touring End Caps</td><td>2008-04-30 00:00:00.000</td><td>4</td></tr><tr><td>Touring Rim</td><td>2008-04-30 00:00:00.000</td><td>4</td></tr><tr><td>Cable Lock</td><td>2012-05-30 00:00:00.000</td><td>4</td></tr><tr><td>Full-Finger Gloves, L</td><td>2012-05-30 00:00:00.000</td><td>4</td></tr><tr><td>Full-Finger Gloves, M</td><td>2012-05-30 00:00:00.000</td><td>4</td></tr><tr><td>Full-Finger Gloves, S</td><td>2012-05-30 00:00:00.000</td><td>4</td></tr><tr><td>Half-Finger Gloves, L</td><td>2012-05-30 00:00:00.000</td><td>4</td></tr><tr><td>Half-Finger Gloves, M</td><td>2012-05-30 00:00:00.000</td><td>4</td></tr><tr><td>Half-Finger Gloves, S</td><td>2012-05-30 00:00:00.000</td><td>4</td></tr><tr><td>Headlights - Dual-Beam</td><td>2012-05-30 00:00:00.000</td><td>4</td></tr><tr><td>Headlights - Weatherproof</td><td>2012-05-30 00:00:00.000</td><td>4</td></tr><tr><td>HL Fork</td><td>2012-05-30 00:00:00.000</td><td>4</td></tr><tr><td>HL Headset</td><td>2012-05-30 00:00:00.000</td><td>4</td></tr><tr><td>HL Mountain Front Wheel</td><td>2012-05-30 00:00:00.000</td><td>4</td></tr><tr><td>HL Mountain Handlebars</td><td>2012-05-30 00:00:00.000</td><td>4</td></tr><tr><td>HL Mountain Rear Wheel</td><td>2012-05-30 00:00:00.000</td><td>4</td></tr><tr><td>HL Road Frame - Black, 44</td><td>2012-05-30 00:00:00.000</td><td>4</td></tr><tr><td>HL Road Frame - Black, 48</td><td>2012-05-30 00:00:00.000</td><td>4</td></tr><tr><td>HL Road Frame - Black, 52</td><td>2012-05-30 00:00:00.000</td><td>4</td></tr><tr><td>HL Road Frame - Black, 62</td><td>2012-05-30 00:00:00.000</td><td>4</td></tr><tr><td>HL Road Front Wheel</td><td>2012-05-30 00:00:00.000</td><td>4</td></tr><tr><td>HL Road Handlebars</td><td>2012-05-30 00:00:00.000</td><td>4</td></tr><tr><td>HL Road Rear Wheel</td><td>2012-05-30 00:00:00.000</td><td>4</td></tr><tr><td>LL Fork</td><td>2012-05-30 00:00:00.000</td><td>4</td></tr><tr><td>LL Headset</td><td>2012-05-30 00:00:00.000</td><td>4</td></tr><tr><td>LL Mountain Front Wheel</td><td>2012-05-30 00:00:00.000</td><td>4</td></tr><tr><td>LL Mountain Handlebars</td><td>2012-05-30 00:00:00.000</td><td>4</td></tr><tr><td>LL Mountain Rear Wheel</td><td>2012-05-30 00:00:00.000</td><td>4</td></tr><tr><td>LL Road Front Wheel</td><td>2012-05-30 00:00:00.000</td><td>4</td></tr><tr><td>LL Road Handlebars</td><td>2012-05-30 00:00:00.000</td><td>4</td></tr><tr><td>LL Road Rear Wheel</td><td>2012-05-30 00:00:00.000</td><td>4</td></tr><tr><td>Men&#39;s Bib-Shorts, L</td><td>2012-05-30 00:00:00.000</td><td>4</td></tr><tr><td>Men&#39;s Bib-Shorts, M</td><td>2012-05-30 00:00:00.000</td><td>4</td></tr><tr><td>Men&#39;s Bib-Shorts, S</td><td>2012-05-30 00:00:00.000</td><td>4</td></tr><tr><td>Men&#39;s Sports Shorts, L</td><td>2012-05-30 00:00:00.000</td><td>4</td></tr><tr><td>Men&#39;s Sports Shorts, M</td><td>2012-05-30 00:00:00.000</td><td>4</td></tr><tr><td>Men&#39;s Sports Shorts, S</td><td>2012-05-30 00:00:00.000</td><td>4</td></tr><tr><td>Men&#39;s Sports Shorts, XL</td><td>2012-05-30 00:00:00.000</td><td>4</td></tr><tr><td>Minipump</td><td>2012-05-30 00:00:00.000</td><td>4</td></tr><tr><td>ML Fork</td><td>2012-05-30 00:00:00.000</td><td>4</td></tr><tr><td>ML Headset</td><td>2012-05-30 00:00:00.000</td><td>4</td></tr><tr><td>ML Mountain Frame - Black, 38</td><td>2012-05-30 00:00:00.000</td><td>4</td></tr><tr><td>ML Mountain Frame - Black, 40</td><td>2012-05-30 00:00:00.000</td><td>4</td></tr><tr><td>ML Mountain Frame - Black, 44</td><td>2012-05-30 00:00:00.000</td><td>4</td></tr><tr><td>ML Mountain Frame - Black, 48</td><td>2012-05-30 00:00:00.000</td><td>4</td></tr><tr><td>ML Mountain Front Wheel</td><td>2012-05-30 00:00:00.000</td><td>4</td></tr><tr><td>ML Mountain Handlebars</td><td>2012-05-30 00:00:00.000</td><td>4</td></tr><tr><td>ML Mountain Rear Wheel</td><td>2012-05-30 00:00:00.000</td><td>4</td></tr><tr><td>ML Road Frame-W - Yellow, 38</td><td>2012-05-30 00:00:00.000</td><td>4</td></tr><tr><td>ML Road Frame-W - Yellow, 40</td><td>2012-05-30 00:00:00.000</td><td>4</td></tr><tr><td>ML Road Frame-W - Yellow, 42</td><td>2012-05-30 00:00:00.000</td><td>4</td></tr><tr><td>ML Road Frame-W - Yellow, 44</td><td>2012-05-30 00:00:00.000</td><td>4</td></tr><tr><td>ML Road Frame-W - Yellow, 48</td><td>2012-05-30 00:00:00.000</td><td>4</td></tr><tr><td>ML Road Front Wheel</td><td>2012-05-30 00:00:00.000</td><td>4</td></tr><tr><td>ML Road Handlebars</td><td>2012-05-30 00:00:00.000</td><td>4</td></tr><tr><td>ML Road Rear Wheel</td><td>2012-05-30 00:00:00.000</td><td>4</td></tr><tr><td>Mountain Pump</td><td>2012-05-30 00:00:00.000</td><td>4</td></tr><tr><td>Mountain-200 Black, 38</td><td>2012-05-30 00:00:00.000</td><td>4</td></tr><tr><td>Mountain-200 Black, 42</td><td>2012-05-30 00:00:00.000</td><td>4</td></tr><tr><td>Mountain-200 Black, 46</td><td>2012-05-30 00:00:00.000</td><td>4</td></tr><tr><td>Mountain-200 Silver, 38</td><td>2012-05-30 00:00:00.000</td><td>4</td></tr><tr><td>Mountain-200 Silver, 42</td><td>2012-05-30 00:00:00.000</td><td>4</td></tr><tr><td>Mountain-200 Silver, 46</td><td>2012-05-30 00:00:00.000</td><td>4</td></tr><tr><td>Mountain-300 Black, 38</td><td>2012-05-30 00:00:00.000</td><td>4</td></tr><tr><td>Mountain-300 Black, 40</td><td>2012-05-30 00:00:00.000</td><td>4</td></tr><tr><td>Mountain-300 Black, 44</td><td>2012-05-30 00:00:00.000</td><td>4</td></tr><tr><td>Mountain-300 Black, 48</td><td>2012-05-30 00:00:00.000</td><td>4</td></tr><tr><td>Road-250 Black, 44</td><td>2012-05-30 00:00:00.000</td><td>4</td></tr><tr><td>Road-250 Black, 48</td><td>2012-05-30 00:00:00.000</td><td>4</td></tr><tr><td>Road-250 Black, 52</td><td>2012-05-30 00:00:00.000</td><td>4</td></tr><tr><td>Road-250 Black, 58</td><td>2012-05-30 00:00:00.000</td><td>4</td></tr><tr><td>Road-250 Red, 44</td><td>2012-05-30 00:00:00.000</td><td>4</td></tr><tr><td>Road-250 Red, 48</td><td>2012-05-30 00:00:00.000</td><td>4</td></tr><tr><td>Road-250 Red, 52</td><td>2012-05-30 00:00:00.000</td><td>4</td></tr><tr><td>Road-250 Red, 58</td><td>2012-05-30 00:00:00.000</td><td>4</td></tr><tr><td>Road-550-W Yellow, 38</td><td>2012-05-30 00:00:00.000</td><td>4</td></tr><tr><td>Road-550-W Yellow, 40</td><td>2012-05-30 00:00:00.000</td><td>4</td></tr><tr><td>Road-550-W Yellow, 42</td><td>2012-05-30 00:00:00.000</td><td>4</td></tr><tr><td>Road-550-W Yellow, 44</td><td>2012-05-30 00:00:00.000</td><td>4</td></tr><tr><td>Road-550-W Yellow, 48</td><td>2012-05-30 00:00:00.000</td><td>4</td></tr><tr><td>Taillights - Battery-Powered</td><td>2012-05-30 00:00:00.000</td><td>4</td></tr><tr><td>Touring Front Wheel</td><td>2012-05-30 00:00:00.000</td><td>4</td></tr><tr><td>Touring Rear Wheel</td><td>2012-05-30 00:00:00.000</td><td>4</td></tr><tr><td>Touring-Panniers, Large</td><td>2012-05-30 00:00:00.000</td><td>4</td></tr><tr><td>Women&#39;s Tights, L</td><td>2012-05-30 00:00:00.000</td><td>4</td></tr><tr><td>Women&#39;s Tights, M</td><td>2012-05-30 00:00:00.000</td><td>4</td></tr><tr><td>Women&#39;s Tights, S</td><td>2012-05-30 00:00:00.000</td><td>4</td></tr><tr><td>All-Purpose Bike Stand</td><td>2013-05-30 00:00:00.000</td><td>5</td></tr><tr><td>Bike Wash - Dissolver</td><td>2013-05-30 00:00:00.000</td><td>5</td></tr><tr><td>Chain</td><td>2013-05-30 00:00:00.000</td><td>5</td></tr><tr><td>Classic Vest, L</td><td>2013-05-30 00:00:00.000</td><td>5</td></tr><tr><td>Classic Vest, M</td><td>2013-05-30 00:00:00.000</td><td>5</td></tr><tr><td>Classic Vest, S</td><td>2013-05-30 00:00:00.000</td><td>5</td></tr><tr><td>Fender Set - Mountain</td><td>2013-05-30 00:00:00.000</td><td>5</td></tr><tr><td>Front Brakes</td><td>2013-05-30 00:00:00.000</td><td>5</td></tr><tr><td>Front Derailleur</td><td>2013-05-30 00:00:00.000</td><td>5</td></tr><tr><td>Hitch Rack - 4-Bike</td><td>2013-05-30 00:00:00.000</td><td>5</td></tr><tr><td>HL Bottom Bracket</td><td>2013-05-30 00:00:00.000</td><td>5</td></tr><tr><td>HL Crankset</td><td>2013-05-30 00:00:00.000</td><td>5</td></tr><tr><td>HL Mountain Pedal</td><td>2013-05-30 00:00:00.000</td><td>5</td></tr><tr><td>HL Mountain Seat/Saddle</td><td>2013-05-30 00:00:00.000</td><td>5</td></tr><tr><td>HL Mountain Tire</td><td>2013-05-30 00:00:00.000</td><td>5</td></tr><tr><td>HL Road Pedal</td><td>2013-05-30 00:00:00.000</td><td>5</td></tr><tr><td>HL Road Seat/Saddle</td><td>2013-05-30 00:00:00.000</td><td>5</td></tr><tr><td>HL Road Tire</td><td>2013-05-30 00:00:00.000</td><td>5</td></tr><tr><td>HL Touring Frame - Blue, 46</td><td>2013-05-30 00:00:00.000</td><td>5</td></tr><tr><td>HL Touring Frame - Blue, 50</td><td>2013-05-30 00:00:00.000</td><td>5</td></tr><tr><td>HL Touring Frame - Blue, 54</td><td>2013-05-30 00:00:00.000</td><td>5</td></tr><tr><td>HL Touring Frame - Blue, 60</td><td>2013-05-30 00:00:00.000</td><td>5</td></tr><tr><td>HL Touring Frame - Yellow, 46</td><td>2013-05-30 00:00:00.000</td><td>5</td></tr><tr><td>HL Touring Frame - Yellow, 50</td><td>2013-05-30 00:00:00.000</td><td>5</td></tr><tr><td>HL Touring Frame - Yellow, 54</td><td>2013-05-30 00:00:00.000</td><td>5</td></tr><tr><td>HL Touring Frame - Yellow, 60</td><td>2013-05-30 00:00:00.000</td><td>5</td></tr><tr><td>HL Touring Handlebars</td><td>2013-05-30 00:00:00.000</td><td>5</td></tr><tr><td>HL Touring Seat/Saddle</td><td>2013-05-30 00:00:00.000</td><td>5</td></tr><tr><td>Hydration Pack - 70 oz.</td><td>2013-05-30 00:00:00.000</td><td>5</td></tr><tr><td>LL Bottom Bracket</td><td>2013-05-30 00:00:00.000</td><td>5</td></tr><tr><td>LL Crankset</td><td>2013-05-30 00:00:00.000</td><td>5</td></tr><tr><td>LL Mountain Frame - Black, 40</td><td>2013-05-30 00:00:00.000</td><td>5</td></tr><tr><td>LL Mountain Frame - Black, 42</td><td>2013-05-30 00:00:00.000</td><td>5</td></tr><tr><td>LL Mountain Frame - Black, 44</td><td>2013-05-30 00:00:00.000</td><td>5</td></tr><tr><td>LL Mountain Frame - Black, 48</td><td>2013-05-30 00:00:00.000</td><td>5</td></tr><tr><td>LL Mountain Frame - Black, 52</td><td>2013-05-30 00:00:00.000</td><td>5</td></tr><tr><td>LL Mountain Frame - Silver, 40</td><td>2013-05-30 00:00:00.000</td><td>5</td></tr><tr><td>LL Mountain Frame - Silver, 42</td><td>2013-05-30 00:00:00.000</td><td>5</td></tr><tr><td>LL Mountain Frame - Silver, 44</td><td>2013-05-30 00:00:00.000</td><td>5</td></tr><tr><td>LL Mountain Frame - Silver, 48</td><td>2013-05-30 00:00:00.000</td><td>5</td></tr><tr><td>LL Mountain Frame - Silver, 52</td><td>2013-05-30 00:00:00.000</td><td>5</td></tr><tr><td>LL Mountain Pedal</td><td>2013-05-30 00:00:00.000</td><td>5</td></tr><tr><td>LL Mountain Seat/Saddle</td><td>2013-05-30 00:00:00.000</td><td>5</td></tr><tr><td>LL Mountain Tire</td><td>2013-05-30 00:00:00.000</td><td>5</td></tr><tr><td>LL Road Pedal</td><td>2013-05-30 00:00:00.000</td><td>5</td></tr><tr><td>LL Road Seat/Saddle</td><td>2013-05-30 00:00:00.000</td><td>5</td></tr><tr><td>LL Road Tire</td><td>2013-05-30 00:00:00.000</td><td>5</td></tr><tr><td>LL Touring Frame - Blue, 44</td><td>2013-05-30 00:00:00.000</td><td>5</td></tr><tr><td>LL Touring Frame - Blue, 50</td><td>2013-05-30 00:00:00.000</td><td>5</td></tr><tr><td>LL Touring Frame - Blue, 54</td><td>2013-05-30 00:00:00.000</td><td>5</td></tr><tr><td>LL Touring Frame - Blue, 58</td><td>2013-05-30 00:00:00.000</td><td>5</td></tr><tr><td>LL Touring Frame - Blue, 62</td><td>2013-05-30 00:00:00.000</td><td>5</td></tr><tr><td>LL Touring Frame - Yellow, 44</td><td>2013-05-30 00:00:00.000</td><td>5</td></tr><tr><td>LL Touring Frame - Yellow, 50</td><td>2013-05-30 00:00:00.000</td><td>5</td></tr><tr><td>LL Touring Frame - Yellow, 54</td><td>2013-05-30 00:00:00.000</td><td>5</td></tr><tr><td>LL Touring Frame - Yellow, 58</td><td>2013-05-30 00:00:00.000</td><td>5</td></tr><tr><td>LL Touring Frame - Yellow, 62</td><td>2013-05-30 00:00:00.000</td><td>5</td></tr><tr><td>LL Touring Handlebars</td><td>2013-05-30 00:00:00.000</td><td>5</td></tr><tr><td>LL Touring Seat/Saddle</td><td>2013-05-30 00:00:00.000</td><td>5</td></tr><tr><td>ML Bottom Bracket</td><td>2013-05-30 00:00:00.000</td><td>5</td></tr><tr><td>ML Crankset</td><td>2013-05-30 00:00:00.000</td><td>5</td></tr><tr><td>ML Mountain Frame-W - Silver, 38</td><td>2013-05-30 00:00:00.000</td><td>5</td></tr><tr><td>ML Mountain Frame-W - Silver, 40</td><td>2013-05-30 00:00:00.000</td><td>5</td></tr><tr><td>ML Mountain Frame-W - Silver, 42</td><td>2013-05-30 00:00:00.000</td><td>5</td></tr><tr><td>ML Mountain Frame-W - Silver, 46</td><td>2013-05-30 00:00:00.000</td><td>5</td></tr><tr><td>ML Mountain Pedal</td><td>2013-05-30 00:00:00.000</td><td>5</td></tr><tr><td>ML Mountain Seat/Saddle</td><td>2013-05-30 00:00:00.000</td><td>5</td></tr><tr><td>ML Mountain Tire</td><td>2013-05-30 00:00:00.000</td><td>5</td></tr><tr><td>ML Road Pedal</td><td>2013-05-30 00:00:00.000</td><td>5</td></tr><tr><td>ML Road Seat/Saddle</td><td>2013-05-30 00:00:00.000</td><td>5</td></tr><tr><td>ML Road Tire</td><td>2013-05-30 00:00:00.000</td><td>5</td></tr><tr><td>ML Touring Seat/Saddle</td><td>2013-05-30 00:00:00.000</td><td>5</td></tr><tr><td>Mountain Bottle Cage</td><td>2013-05-30 00:00:00.000</td><td>5</td></tr><tr><td>Mountain Tire Tube</td><td>2013-05-30 00:00:00.000</td><td>5</td></tr><tr><td>Mountain-400-W Silver, 38</td><td>2013-05-30 00:00:00.000</td><td>5</td></tr><tr><td>Mountain-400-W Silver, 40</td><td>2013-05-30 00:00:00.000</td><td>5</td></tr><tr><td>Mountain-400-W Silver, 42</td><td>2013-05-30 00:00:00.000</td><td>5</td></tr><tr><td>Mountain-400-W Silver, 46</td><td>2013-05-30 00:00:00.000</td><td>5</td></tr><tr><td>Mountain-500 Black, 40</td><td>2013-05-30 00:00:00.000</td><td>5</td></tr><tr><td>Mountain-500 Black, 42</td><td>2013-05-30 00:00:00.000</td><td>5</td></tr><tr><td>Mountain-500 Black, 44</td><td>2013-05-30 00:00:00.000</td><td>5</td></tr><tr><td>Mountain-500 Black, 48</td><td>2013-05-30 00:00:00.000</td><td>5</td></tr><tr><td>Mountain-500 Black, 52</td><td>2013-05-30 00:00:00.000</td><td>5</td></tr><tr><td>Mountain-500 Silver, 40</td><td>2013-05-30 00:00:00.000</td><td>5</td></tr><tr><td>Mountain-500 Silver, 42</td><td>2013-05-30 00:00:00.000</td><td>5</td></tr><tr><td>Mountain-500 Silver, 44</td><td>2013-05-30 00:00:00.000</td><td>5</td></tr><tr><td>Mountain-500 Silver, 48</td><td>2013-05-30 00:00:00.000</td><td>5</td></tr><tr><td>Mountain-500 Silver, 52</td><td>2013-05-30 00:00:00.000</td><td>5</td></tr><tr><td>Patch Kit/8 Patches</td><td>2013-05-30 00:00:00.000</td><td>5</td></tr><tr><td>Racing Socks, L</td><td>2013-05-30 00:00:00.000</td><td>5</td></tr><tr><td>Racing Socks, M</td><td>2013-05-30 00:00:00.000</td><td>5</td></tr><tr><td>Rear Brakes</td><td>2013-05-30 00:00:00.000</td><td>5</td></tr><tr><td>Rear Derailleur</td><td>2013-05-30 00:00:00.000</td><td>5</td></tr><tr><td>Road Bottle Cage</td><td>2013-05-30 00:00:00.000</td><td>5</td></tr><tr><td>Road Tire Tube</td><td>2013-05-30 00:00:00.000</td><td>5</td></tr><tr><td>Road-350-W Yellow, 40</td><td>2013-05-30 00:00:00.000</td><td>5</td></tr><tr><td>Road-350-W Yellow, 42</td><td>2013-05-30 00:00:00.000</td><td>5</td></tr><tr><td>Road-350-W Yellow, 44</td><td>2013-05-30 00:00:00.000</td><td>5</td></tr><tr><td>Road-350-W Yellow, 48</td><td>2013-05-30 00:00:00.000</td><td>5</td></tr><tr><td>Road-750 Black, 44</td><td>2013-05-30 00:00:00.000</td><td>5</td></tr><tr><td>Road-750 Black, 48</td><td>2013-05-30 00:00:00.000</td><td>5</td></tr><tr><td>Road-750 Black, 52</td><td>2013-05-30 00:00:00.000</td><td>5</td></tr><tr><td>Road-750 Black, 58</td><td>2013-05-30 00:00:00.000</td><td>5</td></tr><tr><td>Short-Sleeve Classic Jersey, L</td><td>2013-05-30 00:00:00.000</td><td>5</td></tr><tr><td>Short-Sleeve Classic Jersey, M</td><td>2013-05-30 00:00:00.000</td><td>5</td></tr><tr><td>Short-Sleeve Classic Jersey, S</td><td>2013-05-30 00:00:00.000</td><td>5</td></tr><tr><td>Short-Sleeve Classic Jersey, XL</td><td>2013-05-30 00:00:00.000</td><td>5</td></tr><tr><td>Touring Pedal</td><td>2013-05-30 00:00:00.000</td><td>5</td></tr><tr><td>Touring Tire</td><td>2013-05-30 00:00:00.000</td><td>5</td></tr><tr><td>Touring Tire Tube</td><td>2013-05-30 00:00:00.000</td><td>5</td></tr><tr><td>Touring-1000 Blue, 46</td><td>2013-05-30 00:00:00.000</td><td>5</td></tr><tr><td>Touring-1000 Blue, 50</td><td>2013-05-30 00:00:00.000</td><td>5</td></tr><tr><td>Touring-1000 Blue, 54</td><td>2013-05-30 00:00:00.000</td><td>5</td></tr><tr><td>Touring-1000 Blue, 60</td><td>2013-05-30 00:00:00.000</td><td>5</td></tr><tr><td>Touring-1000 Yellow, 46</td><td>2013-05-30 00:00:00.000</td><td>5</td></tr><tr><td>Touring-1000 Yellow, 50</td><td>2013-05-30 00:00:00.000</td><td>5</td></tr><tr><td>Touring-1000 Yellow, 54</td><td>2013-05-30 00:00:00.000</td><td>5</td></tr><tr><td>Touring-1000 Yellow, 60</td><td>2013-05-30 00:00:00.000</td><td>5</td></tr><tr><td>Touring-2000 Blue, 46</td><td>2013-05-30 00:00:00.000</td><td>5</td></tr><tr><td>Touring-2000 Blue, 50</td><td>2013-05-30 00:00:00.000</td><td>5</td></tr><tr><td>Touring-2000 Blue, 54</td><td>2013-05-30 00:00:00.000</td><td>5</td></tr><tr><td>Touring-2000 Blue, 60</td><td>2013-05-30 00:00:00.000</td><td>5</td></tr><tr><td>Touring-3000 Blue, 44</td><td>2013-05-30 00:00:00.000</td><td>5</td></tr><tr><td>Touring-3000 Blue, 50</td><td>2013-05-30 00:00:00.000</td><td>5</td></tr><tr><td>Touring-3000 Blue, 54</td><td>2013-05-30 00:00:00.000</td><td>5</td></tr><tr><td>Touring-3000 Blue, 58</td><td>2013-05-30 00:00:00.000</td><td>5</td></tr><tr><td>Touring-3000 Blue, 62</td><td>2013-05-30 00:00:00.000</td><td>5</td></tr><tr><td>Touring-3000 Yellow, 44</td><td>2013-05-30 00:00:00.000</td><td>5</td></tr><tr><td>Touring-3000 Yellow, 50</td><td>2013-05-30 00:00:00.000</td><td>5</td></tr><tr><td>Touring-3000 Yellow, 54</td><td>2013-05-30 00:00:00.000</td><td>5</td></tr><tr><td>Touring-3000 Yellow, 58</td><td>2013-05-30 00:00:00.000</td><td>5</td></tr><tr><td>Touring-3000 Yellow, 62</td><td>2013-05-30 00:00:00.000</td><td>5</td></tr><tr><td>Water Bottle - 30 oz.</td><td>2013-05-30 00:00:00.000</td><td>5</td></tr><tr><td>Women&#39;s Mountain Shorts, L</td><td>2013-05-30 00:00:00.000</td><td>5</td></tr><tr><td>Women&#39;s Mountain Shorts, M</td><td>2013-05-30 00:00:00.000</td><td>5</td></tr><tr><td>Women&#39;s Mountain Shorts, S</td><td>2013-05-30 00:00:00.000</td><td>5</td></tr></table>"
                    },
                    "metadata": {}
                }
            ],
            "execution_count": 10
        }
    ]
}