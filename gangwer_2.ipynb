{
    "metadata": {
        "kernelspec": {
            "name": "SQL",
            "display_name": "SQL",
            "language": "sql"
        },
        "language_info": {
            "name": "sql",
            "version": ""
        }
    },
    "nbformat_minor": 2,
    "nbformat": 4,
    "cells": [
        {
            "cell_type": "markdown",
            "source": [
                "**Elisabeth Gangwer**\n",
                "\n",
                "**SQL Assignment 2**"
            ],
            "metadata": {
                "azdata_cell_guid": "f72a5ba3-6eec-4a4f-9c5b-e4166f786181"
            },
            "attachments": {}
        },
        {
            "cell_type": "markdown",
            "source": [
                "**Problem 1**\n",
                "\n",
                "_Part A_\n",
                "\n",
                "<span style=\"font-family: TimesNewRomanPSMT; font-size: 12pt; background-color: rgb(255, 255, 255); color: var(--vscode-foreground);\">The sales manager would first like to know the total sales revenue associated with each sales territory. Create a report showing the total sales revenue broken out by territory name. You can determine this by adding together the SubTotal figures from the relevant SalesOrderHeader records. Round the revenue figures to the nearest dollar and sort the list so that the highest revenue territory appears first.&nbsp;</span>"
            ],
            "metadata": {
                "azdata_cell_guid": "6f7eaf38-ab8d-4051-b86e-654e060d7374"
            },
            "attachments": {}
        },
        {
            "cell_type": "code",
            "source": [
                "SELECT t.Name AS Territory\n",
                "        , ROUND(SUM(soh.SubTotal),2) AS Revenue\n",
                "FROM sales.SalesOrderHeader soh\n",
                "INNER JOIN sales.SalesTerritory t\n",
                "ON soh.TerritoryID = t.TerritoryID\n",
                "GROUP BY t.Name\n",
                "ORDER BY Revenue DESC"
            ],
            "metadata": {
                "azdata_cell_guid": "d509b423-6fc4-4781-9f6d-c6ce1fd222d0",
                "language": "sql",
                "tags": [
                    "hide_input"
                ]
            },
            "outputs": [
                {
                    "output_type": "display_data",
                    "data": {
                        "text/html": "(10 rows affected)"
                    },
                    "metadata": {}
                },
                {
                    "output_type": "display_data",
                    "data": {
                        "text/html": "Total execution time: 00:00:00.433"
                    },
                    "metadata": {}
                },
                {
                    "output_type": "execute_result",
                    "execution_count": 21,
                    "data": {
                        "application/vnd.dataresource+json": {
                            "schema": {
                                "fields": [
                                    {
                                        "name": "Territory"
                                    },
                                    {
                                        "name": "Revenue"
                                    }
                                ]
                            },
                            "data": [
                                {
                                    "Territory": "Southwest",
                                    "Revenue": "24184609.60"
                                },
                                {
                                    "Territory": "Canada",
                                    "Revenue": "16355770.46"
                                },
                                {
                                    "Territory": "Northwest",
                                    "Revenue": "16084942.55"
                                },
                                {
                                    "Territory": "Australia",
                                    "Revenue": "10655335.96"
                                },
                                {
                                    "Territory": "Central",
                                    "Revenue": "7909009.01"
                                },
                                {
                                    "Territory": "Southeast",
                                    "Revenue": "7879655.07"
                                },
                                {
                                    "Territory": "United Kingdom",
                                    "Revenue": "7670721.04"
                                },
                                {
                                    "Territory": "France",
                                    "Revenue": "7251555.65"
                                },
                                {
                                    "Territory": "Northeast",
                                    "Revenue": "6939374.48"
                                },
                                {
                                    "Territory": "Germany",
                                    "Revenue": "4915407.60"
                                }
                            ]
                        },
                        "text/html": "<table><tr><th>Territory</th><th>Revenue</th></tr><tr><td>Southwest</td><td>24184609.60</td></tr><tr><td>Canada</td><td>16355770.46</td></tr><tr><td>Northwest</td><td>16084942.55</td></tr><tr><td>Australia</td><td>10655335.96</td></tr><tr><td>Central</td><td>7909009.01</td></tr><tr><td>Southeast</td><td>7879655.07</td></tr><tr><td>United Kingdom</td><td>7670721.04</td></tr><tr><td>France</td><td>7251555.65</td></tr><tr><td>Northeast</td><td>6939374.48</td></tr><tr><td>Germany</td><td>4915407.60</td></tr></table>"
                    },
                    "metadata": {}
                }
            ],
            "execution_count": 21
        },
        {
            "cell_type": "markdown",
            "source": [
                "_Part B_\n",
                "\n",
                "<span style=\"font-size: 12.000000pt; font-family: 'TimesNewRomanPSMT'\">The sales manager would now like to drill into the 2013 sales results. Revise your query from Part A to focus only on results from 2013 and break the results down by month. Your result set should include four columns: Name (of the territory), Month, Year, and SalesRevenue. This time, sort the list first by territory name, then by month.&nbsp;</span>"
            ],
            "metadata": {
                "azdata_cell_guid": "d3fc31da-c25b-4f77-8f88-c8b1ba6b798f"
            },
            "attachments": {}
        },
        {
            "cell_type": "code",
            "source": [
                "SELECT t.Name AS Name\n",
                "        , DATEPART(MONTH,soh.OrderDate) AS Month\n",
                "        , DATEPART(YEAR,soh.OrderDate) AS Year\n",
                "        , SUM(ROUND(soh.SubTotal, 2)) AS SubTotal \n",
                "FROM sales.SalesOrderHeader soh\n",
                "INNER JOIN sales.SalesTerritory t\n",
                "ON soh.TerritoryID = t.TerritoryID\n",
                "GROUP BY t.Name\n",
                "        , DATEPART(MONTH, soh.OrderDate)\n",
                "        , DATEPART(YEAR,soh.OrderDate)\n",
                "HAVING DATEPART(YEAR,soh.OrderDate) = 2013\n",
                "ORDER BY Name, Month"
            ],
            "metadata": {
                "azdata_cell_guid": "64e06de0-ff98-4ce1-b0cf-c0aeb0c46c06",
                "language": "sql",
                "tags": []
            },
            "outputs": [
                {
                    "output_type": "display_data",
                    "data": {
                        "text/html": "(120 rows affected)"
                    },
                    "metadata": {}
                },
                {
                    "output_type": "display_data",
                    "data": {
                        "text/html": "Total execution time: 00:00:00.056"
                    },
                    "metadata": {}
                },
                {
                    "output_type": "execute_result",
                    "execution_count": 22,
                    "data": {
                        "application/vnd.dataresource+json": {
                            "schema": {
                                "fields": [
                                    {
                                        "name": "Name"
                                    },
                                    {
                                        "name": "Month"
                                    },
                                    {
                                        "name": "Year"
                                    },
                                    {
                                        "name": "SubTotal"
                                    }
                                ]
                            },
                            "data": [
                                {
                                    "Name": "Australia",
                                    "Month": "1",
                                    "Year": "2013",
                                    "SubTotal": "222513.74"
                                },
                                {
                                    "Name": "Australia",
                                    "Month": "2",
                                    "Year": "2013",
                                    "SubTotal": "177688.08"
                                },
                                {
                                    "Name": "Australia",
                                    "Month": "3",
                                    "Year": "2013",
                                    "SubTotal": "215687.87"
                                },
                                {
                                    "Name": "Australia",
                                    "Month": "4",
                                    "Year": "2013",
                                    "SubTotal": "205166.17"
                                },
                                {
                                    "Name": "Australia",
                                    "Month": "5",
                                    "Year": "2013",
                                    "SubTotal": "252418.68"
                                },
                                {
                                    "Name": "Australia",
                                    "Month": "6",
                                    "Year": "2013",
                                    "SubTotal": "380028.94"
                                },
                                {
                                    "Name": "Australia",
                                    "Month": "7",
                                    "Year": "2013",
                                    "SubTotal": "456778.30"
                                },
                                {
                                    "Name": "Australia",
                                    "Month": "8",
                                    "Year": "2013",
                                    "SubTotal": "394785.63"
                                },
                                {
                                    "Name": "Australia",
                                    "Month": "9",
                                    "Year": "2013",
                                    "SubTotal": "457109.64"
                                },
                                {
                                    "Name": "Australia",
                                    "Month": "10",
                                    "Year": "2013",
                                    "SubTotal": "572304.23"
                                },
                                {
                                    "Name": "Australia",
                                    "Month": "11",
                                    "Year": "2013",
                                    "SubTotal": "427532.80"
                                },
                                {
                                    "Name": "Australia",
                                    "Month": "12",
                                    "Year": "2013",
                                    "SubTotal": "468650.34"
                                },
                                {
                                    "Name": "Canada",
                                    "Month": "1",
                                    "Year": "2013",
                                    "SubTotal": "417124.97"
                                },
                                {
                                    "Name": "Canada",
                                    "Month": "2",
                                    "Year": "2013",
                                    "SubTotal": "461555.77"
                                },
                                {
                                    "Name": "Canada",
                                    "Month": "3",
                                    "Year": "2013",
                                    "SubTotal": "485927.22"
                                },
                                {
                                    "Name": "Canada",
                                    "Month": "4",
                                    "Year": "2013",
                                    "SubTotal": "467353.35"
                                },
                                {
                                    "Name": "Canada",
                                    "Month": "5",
                                    "Year": "2013",
                                    "SubTotal": "510800.69"
                                },
                                {
                                    "Name": "Canada",
                                    "Month": "6",
                                    "Year": "2013",
                                    "SubTotal": "607974.54"
                                },
                                {
                                    "Name": "Canada",
                                    "Month": "7",
                                    "Year": "2013",
                                    "SubTotal": "733453.36"
                                },
                                {
                                    "Name": "Canada",
                                    "Month": "8",
                                    "Year": "2013",
                                    "SubTotal": "467319.04"
                                },
                                {
                                    "Name": "Canada",
                                    "Month": "9",
                                    "Year": "2013",
                                    "SubTotal": "480936.03"
                                },
                                {
                                    "Name": "Canada",
                                    "Month": "10",
                                    "Year": "2013",
                                    "SubTotal": "804615.13"
                                },
                                {
                                    "Name": "Canada",
                                    "Month": "11",
                                    "Year": "2013",
                                    "SubTotal": "356269.03"
                                },
                                {
                                    "Name": "Canada",
                                    "Month": "12",
                                    "Year": "2013",
                                    "SubTotal": "436188.55"
                                },
                                {
                                    "Name": "Central",
                                    "Month": "1",
                                    "Year": "2013",
                                    "SubTotal": "179654.86"
                                },
                                {
                                    "Name": "Central",
                                    "Month": "2",
                                    "Year": "2013",
                                    "SubTotal": "193946.75"
                                },
                                {
                                    "Name": "Central",
                                    "Month": "3",
                                    "Year": "2013",
                                    "SubTotal": "283991.56"
                                },
                                {
                                    "Name": "Central",
                                    "Month": "4",
                                    "Year": "2013",
                                    "SubTotal": "220321.85"
                                },
                                {
                                    "Name": "Central",
                                    "Month": "5",
                                    "Year": "2013",
                                    "SubTotal": "216803.66"
                                },
                                {
                                    "Name": "Central",
                                    "Month": "6",
                                    "Year": "2013",
                                    "SubTotal": "378577.90"
                                },
                                {
                                    "Name": "Central",
                                    "Month": "7",
                                    "Year": "2013",
                                    "SubTotal": "348163.59"
                                },
                                {
                                    "Name": "Central",
                                    "Month": "8",
                                    "Year": "2013",
                                    "SubTotal": "162557.58"
                                },
                                {
                                    "Name": "Central",
                                    "Month": "9",
                                    "Year": "2013",
                                    "SubTotal": "324853.04"
                                },
                                {
                                    "Name": "Central",
                                    "Month": "10",
                                    "Year": "2013",
                                    "SubTotal": "317442.96"
                                },
                                {
                                    "Name": "Central",
                                    "Month": "11",
                                    "Year": "2013",
                                    "SubTotal": "113957.58"
                                },
                                {
                                    "Name": "Central",
                                    "Month": "12",
                                    "Year": "2013",
                                    "SubTotal": "253954.05"
                                },
                                {
                                    "Name": "France",
                                    "Month": "1",
                                    "Year": "2013",
                                    "SubTotal": "108416.08"
                                },
                                {
                                    "Name": "France",
                                    "Month": "2",
                                    "Year": "2013",
                                    "SubTotal": "123078.75"
                                },
                                {
                                    "Name": "France",
                                    "Month": "3",
                                    "Year": "2013",
                                    "SubTotal": "246492.35"
                                },
                                {
                                    "Name": "France",
                                    "Month": "4",
                                    "Year": "2013",
                                    "SubTotal": "138184.25"
                                },
                                {
                                    "Name": "France",
                                    "Month": "5",
                                    "Year": "2013",
                                    "SubTotal": "151472.55"
                                },
                                {
                                    "Name": "France",
                                    "Month": "6",
                                    "Year": "2013",
                                    "SubTotal": "800815.33"
                                },
                                {
                                    "Name": "France",
                                    "Month": "7",
                                    "Year": "2013",
                                    "SubTotal": "281399.88"
                                },
                                {
                                    "Name": "France",
                                    "Month": "8",
                                    "Year": "2013",
                                    "SubTotal": "163918.72"
                                },
                                {
                                    "Name": "France",
                                    "Month": "9",
                                    "Year": "2013",
                                    "SubTotal": "713906.81"
                                },
                                {
                                    "Name": "France",
                                    "Month": "10",
                                    "Year": "2013",
                                    "SubTotal": "270755.39"
                                },
                                {
                                    "Name": "France",
                                    "Month": "11",
                                    "Year": "2013",
                                    "SubTotal": "224718.69"
                                },
                                {
                                    "Name": "France",
                                    "Month": "12",
                                    "Year": "2013",
                                    "SubTotal": "583347.38"
                                },
                                {
                                    "Name": "Germany",
                                    "Month": "1",
                                    "Year": "2013",
                                    "SubTotal": "69560.68"
                                },
                                {
                                    "Name": "Germany",
                                    "Month": "2",
                                    "Year": "2013",
                                    "SubTotal": "56643.38"
                                },
                                {
                                    "Name": "Germany",
                                    "Month": "3",
                                    "Year": "2013",
                                    "SubTotal": "66449.99"
                                },
                                {
                                    "Name": "Germany",
                                    "Month": "4",
                                    "Year": "2013",
                                    "SubTotal": "56415.79"
                                },
                                {
                                    "Name": "Germany",
                                    "Month": "5",
                                    "Year": "2013",
                                    "SubTotal": "252220.21"
                                },
                                {
                                    "Name": "Germany",
                                    "Month": "6",
                                    "Year": "2013",
                                    "SubTotal": "362449.93"
                                },
                                {
                                    "Name": "Germany",
                                    "Month": "7",
                                    "Year": "2013",
                                    "SubTotal": "225864.87"
                                },
                                {
                                    "Name": "Germany",
                                    "Month": "8",
                                    "Year": "2013",
                                    "SubTotal": "308560.94"
                                },
                                {
                                    "Name": "Germany",
                                    "Month": "9",
                                    "Year": "2013",
                                    "SubTotal": "294496.33"
                                },
                                {
                                    "Name": "Germany",
                                    "Month": "10",
                                    "Year": "2013",
                                    "SubTotal": "276967.05"
                                },
                                {
                                    "Name": "Germany",
                                    "Month": "11",
                                    "Year": "2013",
                                    "SubTotal": "287290.63"
                                },
                                {
                                    "Name": "Germany",
                                    "Month": "12",
                                    "Year": "2013",
                                    "SubTotal": "308301.24"
                                },
                                {
                                    "Name": "Northeast",
                                    "Month": "1",
                                    "Year": "2013",
                                    "SubTotal": "152395.74"
                                },
                                {
                                    "Name": "Northeast",
                                    "Month": "2",
                                    "Year": "2013",
                                    "SubTotal": "335168.92"
                                },
                                {
                                    "Name": "Northeast",
                                    "Month": "3",
                                    "Year": "2013",
                                    "SubTotal": "341011.33"
                                },
                                {
                                    "Name": "Northeast",
                                    "Month": "4",
                                    "Year": "2013",
                                    "SubTotal": "178884.55"
                                },
                                {
                                    "Name": "Northeast",
                                    "Month": "5",
                                    "Year": "2013",
                                    "SubTotal": "190499.67"
                                },
                                {
                                    "Name": "Northeast",
                                    "Month": "6",
                                    "Year": "2013",
                                    "SubTotal": "286992.81"
                                },
                                {
                                    "Name": "Northeast",
                                    "Month": "7",
                                    "Year": "2013",
                                    "SubTotal": "273328.67"
                                },
                                {
                                    "Name": "Northeast",
                                    "Month": "8",
                                    "Year": "2013",
                                    "SubTotal": "189074.38"
                                },
                                {
                                    "Name": "Northeast",
                                    "Month": "9",
                                    "Year": "2013",
                                    "SubTotal": "181179.10"
                                },
                                {
                                    "Name": "Northeast",
                                    "Month": "10",
                                    "Year": "2013",
                                    "SubTotal": "221905.19"
                                },
                                {
                                    "Name": "Northeast",
                                    "Month": "11",
                                    "Year": "2013",
                                    "SubTotal": "140162.78"
                                },
                                {
                                    "Name": "Northeast",
                                    "Month": "12",
                                    "Year": "2013",
                                    "SubTotal": "140656.48"
                                },
                                {
                                    "Name": "Northwest",
                                    "Month": "1",
                                    "Year": "2013",
                                    "SubTotal": "118273.70"
                                },
                                {
                                    "Name": "Northwest",
                                    "Month": "2",
                                    "Year": "2013",
                                    "SubTotal": "259074.24"
                                },
                                {
                                    "Name": "Northwest",
                                    "Month": "3",
                                    "Year": "2013",
                                    "SubTotal": "546005.68"
                                },
                                {
                                    "Name": "Northwest",
                                    "Month": "4",
                                    "Year": "2013",
                                    "SubTotal": "148981.75"
                                },
                                {
                                    "Name": "Northwest",
                                    "Month": "5",
                                    "Year": "2013",
                                    "SubTotal": "431414.02"
                                },
                                {
                                    "Name": "Northwest",
                                    "Month": "6",
                                    "Year": "2013",
                                    "SubTotal": "820494.06"
                                },
                                {
                                    "Name": "Northwest",
                                    "Month": "7",
                                    "Year": "2013",
                                    "SubTotal": "702755.97"
                                },
                                {
                                    "Name": "Northwest",
                                    "Month": "8",
                                    "Year": "2013",
                                    "SubTotal": "418149.73"
                                },
                                {
                                    "Name": "Northwest",
                                    "Month": "9",
                                    "Year": "2013",
                                    "SubTotal": "711920.82"
                                },
                                {
                                    "Name": "Northwest",
                                    "Month": "10",
                                    "Year": "2013",
                                    "SubTotal": "676265.71"
                                },
                                {
                                    "Name": "Northwest",
                                    "Month": "11",
                                    "Year": "2013",
                                    "SubTotal": "544110.85"
                                },
                                {
                                    "Name": "Northwest",
                                    "Month": "12",
                                    "Year": "2013",
                                    "SubTotal": "637728.36"
                                },
                                {
                                    "Name": "Southeast",
                                    "Month": "1",
                                    "Year": "2013",
                                    "SubTotal": "139829.90"
                                },
                                {
                                    "Name": "Southeast",
                                    "Month": "2",
                                    "Year": "2013",
                                    "SubTotal": "174643.92"
                                },
                                {
                                    "Name": "Southeast",
                                    "Month": "3",
                                    "Year": "2013",
                                    "SubTotal": "213206.41"
                                },
                                {
                                    "Name": "Southeast",
                                    "Month": "4",
                                    "Year": "2013",
                                    "SubTotal": "209090.14"
                                },
                                {
                                    "Name": "Southeast",
                                    "Month": "5",
                                    "Year": "2013",
                                    "SubTotal": "177763.09"
                                },
                                {
                                    "Name": "Southeast",
                                    "Month": "6",
                                    "Year": "2013",
                                    "SubTotal": "274597.06"
                                },
                                {
                                    "Name": "Southeast",
                                    "Month": "7",
                                    "Year": "2013",
                                    "SubTotal": "289524.83"
                                },
                                {
                                    "Name": "Southeast",
                                    "Month": "8",
                                    "Year": "2013",
                                    "SubTotal": "161507.39"
                                },
                                {
                                    "Name": "Southeast",
                                    "Month": "9",
                                    "Year": "2013",
                                    "SubTotal": "233698.90"
                                },
                                {
                                    "Name": "Southeast",
                                    "Month": "10",
                                    "Year": "2013",
                                    "SubTotal": "219935.78"
                                },
                                {
                                    "Name": "Southeast",
                                    "Month": "11",
                                    "Year": "2013",
                                    "SubTotal": "114993.21"
                                },
                                {
                                    "Name": "Southeast",
                                    "Month": "12",
                                    "Year": "2013",
                                    "SubTotal": "191156.68"
                                },
                                {
                                    "Name": "Southwest",
                                    "Month": "1",
                                    "Year": "2013",
                                    "SubTotal": "494888.41"
                                },
                                {
                                    "Name": "Southwest",
                                    "Month": "2",
                                    "Year": "2013",
                                    "SubTotal": "431230.44"
                                },
                                {
                                    "Name": "Southwest",
                                    "Month": "3",
                                    "Year": "2013",
                                    "SubTotal": "846761.07"
                                },
                                {
                                    "Name": "Southwest",
                                    "Month": "4",
                                    "Year": "2013",
                                    "SubTotal": "710288.05"
                                },
                                {
                                    "Name": "Southwest",
                                    "Month": "5",
                                    "Year": "2013",
                                    "SubTotal": "848814.56"
                                },
                                {
                                    "Name": "Southwest",
                                    "Month": "6",
                                    "Year": "2013",
                                    "SubTotal": "827496.43"
                                },
                                {
                                    "Name": "Southwest",
                                    "Month": "7",
                                    "Year": "2013",
                                    "SubTotal": "967044.59"
                                },
                                {
                                    "Name": "Southwest",
                                    "Month": "8",
                                    "Year": "2013",
                                    "SubTotal": "814277.09"
                                },
                                {
                                    "Name": "Southwest",
                                    "Month": "9",
                                    "Year": "2013",
                                    "SubTotal": "787346.30"
                                },
                                {
                                    "Name": "Southwest",
                                    "Month": "10",
                                    "Year": "2013",
                                    "SubTotal": "833387.83"
                                },
                                {
                                    "Name": "Southwest",
                                    "Month": "11",
                                    "Year": "2013",
                                    "SubTotal": "805845.44"
                                },
                                {
                                    "Name": "Southwest",
                                    "Month": "12",
                                    "Year": "2013",
                                    "SubTotal": "749160.21"
                                },
                                {
                                    "Name": "United Kingdom",
                                    "Month": "1",
                                    "Year": "2013",
                                    "SubTotal": "185214.49"
                                },
                                {
                                    "Name": "United Kingdom",
                                    "Month": "2",
                                    "Year": "2013",
                                    "SubTotal": "103891.93"
                                },
                                {
                                    "Name": "United Kingdom",
                                    "Month": "3",
                                    "Year": "2013",
                                    "SubTotal": "166535.60"
                                },
                                {
                                    "Name": "United Kingdom",
                                    "Month": "4",
                                    "Year": "2013",
                                    "SubTotal": "197580.18"
                                },
                                {
                                    "Name": "United Kingdom",
                                    "Month": "5",
                                    "Year": "2013",
                                    "SubTotal": "213416.74"
                                },
                                {
                                    "Name": "United Kingdom",
                                    "Month": "6",
                                    "Year": "2013",
                                    "SubTotal": "341642.09"
                                },
                                {
                                    "Name": "United Kingdom",
                                    "Month": "7",
                                    "Year": "2013",
                                    "SubTotal": "618039.63"
                                },
                                {
                                    "Name": "United Kingdom",
                                    "Month": "8",
                                    "Year": "2013",
                                    "SubTotal": "253813.54"
                                },
                                {
                                    "Name": "United Kingdom",
                                    "Month": "9",
                                    "Year": "2013",
                                    "SubTotal": "347461.69"
                                },
                                {
                                    "Name": "United Kingdom",
                                    "Month": "10",
                                    "Year": "2013",
                                    "SubTotal": "602234.07"
                                },
                                {
                                    "Name": "United Kingdom",
                                    "Month": "11",
                                    "Year": "2013",
                                    "SubTotal": "297249.27"
                                },
                                {
                                    "Name": "United Kingdom",
                                    "Month": "12",
                                    "Year": "2013",
                                    "SubTotal": "306343.31"
                                }
                            ]
                        },
                        "text/html": "<table><tr><th>Name</th><th>Month</th><th>Year</th><th>SubTotal</th></tr><tr><td>Australia</td><td>1</td><td>2013</td><td>222513.74</td></tr><tr><td>Australia</td><td>2</td><td>2013</td><td>177688.08</td></tr><tr><td>Australia</td><td>3</td><td>2013</td><td>215687.87</td></tr><tr><td>Australia</td><td>4</td><td>2013</td><td>205166.17</td></tr><tr><td>Australia</td><td>5</td><td>2013</td><td>252418.68</td></tr><tr><td>Australia</td><td>6</td><td>2013</td><td>380028.94</td></tr><tr><td>Australia</td><td>7</td><td>2013</td><td>456778.30</td></tr><tr><td>Australia</td><td>8</td><td>2013</td><td>394785.63</td></tr><tr><td>Australia</td><td>9</td><td>2013</td><td>457109.64</td></tr><tr><td>Australia</td><td>10</td><td>2013</td><td>572304.23</td></tr><tr><td>Australia</td><td>11</td><td>2013</td><td>427532.80</td></tr><tr><td>Australia</td><td>12</td><td>2013</td><td>468650.34</td></tr><tr><td>Canada</td><td>1</td><td>2013</td><td>417124.97</td></tr><tr><td>Canada</td><td>2</td><td>2013</td><td>461555.77</td></tr><tr><td>Canada</td><td>3</td><td>2013</td><td>485927.22</td></tr><tr><td>Canada</td><td>4</td><td>2013</td><td>467353.35</td></tr><tr><td>Canada</td><td>5</td><td>2013</td><td>510800.69</td></tr><tr><td>Canada</td><td>6</td><td>2013</td><td>607974.54</td></tr><tr><td>Canada</td><td>7</td><td>2013</td><td>733453.36</td></tr><tr><td>Canada</td><td>8</td><td>2013</td><td>467319.04</td></tr><tr><td>Canada</td><td>9</td><td>2013</td><td>480936.03</td></tr><tr><td>Canada</td><td>10</td><td>2013</td><td>804615.13</td></tr><tr><td>Canada</td><td>11</td><td>2013</td><td>356269.03</td></tr><tr><td>Canada</td><td>12</td><td>2013</td><td>436188.55</td></tr><tr><td>Central</td><td>1</td><td>2013</td><td>179654.86</td></tr><tr><td>Central</td><td>2</td><td>2013</td><td>193946.75</td></tr><tr><td>Central</td><td>3</td><td>2013</td><td>283991.56</td></tr><tr><td>Central</td><td>4</td><td>2013</td><td>220321.85</td></tr><tr><td>Central</td><td>5</td><td>2013</td><td>216803.66</td></tr><tr><td>Central</td><td>6</td><td>2013</td><td>378577.90</td></tr><tr><td>Central</td><td>7</td><td>2013</td><td>348163.59</td></tr><tr><td>Central</td><td>8</td><td>2013</td><td>162557.58</td></tr><tr><td>Central</td><td>9</td><td>2013</td><td>324853.04</td></tr><tr><td>Central</td><td>10</td><td>2013</td><td>317442.96</td></tr><tr><td>Central</td><td>11</td><td>2013</td><td>113957.58</td></tr><tr><td>Central</td><td>12</td><td>2013</td><td>253954.05</td></tr><tr><td>France</td><td>1</td><td>2013</td><td>108416.08</td></tr><tr><td>France</td><td>2</td><td>2013</td><td>123078.75</td></tr><tr><td>France</td><td>3</td><td>2013</td><td>246492.35</td></tr><tr><td>France</td><td>4</td><td>2013</td><td>138184.25</td></tr><tr><td>France</td><td>5</td><td>2013</td><td>151472.55</td></tr><tr><td>France</td><td>6</td><td>2013</td><td>800815.33</td></tr><tr><td>France</td><td>7</td><td>2013</td><td>281399.88</td></tr><tr><td>France</td><td>8</td><td>2013</td><td>163918.72</td></tr><tr><td>France</td><td>9</td><td>2013</td><td>713906.81</td></tr><tr><td>France</td><td>10</td><td>2013</td><td>270755.39</td></tr><tr><td>France</td><td>11</td><td>2013</td><td>224718.69</td></tr><tr><td>France</td><td>12</td><td>2013</td><td>583347.38</td></tr><tr><td>Germany</td><td>1</td><td>2013</td><td>69560.68</td></tr><tr><td>Germany</td><td>2</td><td>2013</td><td>56643.38</td></tr><tr><td>Germany</td><td>3</td><td>2013</td><td>66449.99</td></tr><tr><td>Germany</td><td>4</td><td>2013</td><td>56415.79</td></tr><tr><td>Germany</td><td>5</td><td>2013</td><td>252220.21</td></tr><tr><td>Germany</td><td>6</td><td>2013</td><td>362449.93</td></tr><tr><td>Germany</td><td>7</td><td>2013</td><td>225864.87</td></tr><tr><td>Germany</td><td>8</td><td>2013</td><td>308560.94</td></tr><tr><td>Germany</td><td>9</td><td>2013</td><td>294496.33</td></tr><tr><td>Germany</td><td>10</td><td>2013</td><td>276967.05</td></tr><tr><td>Germany</td><td>11</td><td>2013</td><td>287290.63</td></tr><tr><td>Germany</td><td>12</td><td>2013</td><td>308301.24</td></tr><tr><td>Northeast</td><td>1</td><td>2013</td><td>152395.74</td></tr><tr><td>Northeast</td><td>2</td><td>2013</td><td>335168.92</td></tr><tr><td>Northeast</td><td>3</td><td>2013</td><td>341011.33</td></tr><tr><td>Northeast</td><td>4</td><td>2013</td><td>178884.55</td></tr><tr><td>Northeast</td><td>5</td><td>2013</td><td>190499.67</td></tr><tr><td>Northeast</td><td>6</td><td>2013</td><td>286992.81</td></tr><tr><td>Northeast</td><td>7</td><td>2013</td><td>273328.67</td></tr><tr><td>Northeast</td><td>8</td><td>2013</td><td>189074.38</td></tr><tr><td>Northeast</td><td>9</td><td>2013</td><td>181179.10</td></tr><tr><td>Northeast</td><td>10</td><td>2013</td><td>221905.19</td></tr><tr><td>Northeast</td><td>11</td><td>2013</td><td>140162.78</td></tr><tr><td>Northeast</td><td>12</td><td>2013</td><td>140656.48</td></tr><tr><td>Northwest</td><td>1</td><td>2013</td><td>118273.70</td></tr><tr><td>Northwest</td><td>2</td><td>2013</td><td>259074.24</td></tr><tr><td>Northwest</td><td>3</td><td>2013</td><td>546005.68</td></tr><tr><td>Northwest</td><td>4</td><td>2013</td><td>148981.75</td></tr><tr><td>Northwest</td><td>5</td><td>2013</td><td>431414.02</td></tr><tr><td>Northwest</td><td>6</td><td>2013</td><td>820494.06</td></tr><tr><td>Northwest</td><td>7</td><td>2013</td><td>702755.97</td></tr><tr><td>Northwest</td><td>8</td><td>2013</td><td>418149.73</td></tr><tr><td>Northwest</td><td>9</td><td>2013</td><td>711920.82</td></tr><tr><td>Northwest</td><td>10</td><td>2013</td><td>676265.71</td></tr><tr><td>Northwest</td><td>11</td><td>2013</td><td>544110.85</td></tr><tr><td>Northwest</td><td>12</td><td>2013</td><td>637728.36</td></tr><tr><td>Southeast</td><td>1</td><td>2013</td><td>139829.90</td></tr><tr><td>Southeast</td><td>2</td><td>2013</td><td>174643.92</td></tr><tr><td>Southeast</td><td>3</td><td>2013</td><td>213206.41</td></tr><tr><td>Southeast</td><td>4</td><td>2013</td><td>209090.14</td></tr><tr><td>Southeast</td><td>5</td><td>2013</td><td>177763.09</td></tr><tr><td>Southeast</td><td>6</td><td>2013</td><td>274597.06</td></tr><tr><td>Southeast</td><td>7</td><td>2013</td><td>289524.83</td></tr><tr><td>Southeast</td><td>8</td><td>2013</td><td>161507.39</td></tr><tr><td>Southeast</td><td>9</td><td>2013</td><td>233698.90</td></tr><tr><td>Southeast</td><td>10</td><td>2013</td><td>219935.78</td></tr><tr><td>Southeast</td><td>11</td><td>2013</td><td>114993.21</td></tr><tr><td>Southeast</td><td>12</td><td>2013</td><td>191156.68</td></tr><tr><td>Southwest</td><td>1</td><td>2013</td><td>494888.41</td></tr><tr><td>Southwest</td><td>2</td><td>2013</td><td>431230.44</td></tr><tr><td>Southwest</td><td>3</td><td>2013</td><td>846761.07</td></tr><tr><td>Southwest</td><td>4</td><td>2013</td><td>710288.05</td></tr><tr><td>Southwest</td><td>5</td><td>2013</td><td>848814.56</td></tr><tr><td>Southwest</td><td>6</td><td>2013</td><td>827496.43</td></tr><tr><td>Southwest</td><td>7</td><td>2013</td><td>967044.59</td></tr><tr><td>Southwest</td><td>8</td><td>2013</td><td>814277.09</td></tr><tr><td>Southwest</td><td>9</td><td>2013</td><td>787346.30</td></tr><tr><td>Southwest</td><td>10</td><td>2013</td><td>833387.83</td></tr><tr><td>Southwest</td><td>11</td><td>2013</td><td>805845.44</td></tr><tr><td>Southwest</td><td>12</td><td>2013</td><td>749160.21</td></tr><tr><td>United Kingdom</td><td>1</td><td>2013</td><td>185214.49</td></tr><tr><td>United Kingdom</td><td>2</td><td>2013</td><td>103891.93</td></tr><tr><td>United Kingdom</td><td>3</td><td>2013</td><td>166535.60</td></tr><tr><td>United Kingdom</td><td>4</td><td>2013</td><td>197580.18</td></tr><tr><td>United Kingdom</td><td>5</td><td>2013</td><td>213416.74</td></tr><tr><td>United Kingdom</td><td>6</td><td>2013</td><td>341642.09</td></tr><tr><td>United Kingdom</td><td>7</td><td>2013</td><td>618039.63</td></tr><tr><td>United Kingdom</td><td>8</td><td>2013</td><td>253813.54</td></tr><tr><td>United Kingdom</td><td>9</td><td>2013</td><td>347461.69</td></tr><tr><td>United Kingdom</td><td>10</td><td>2013</td><td>602234.07</td></tr><tr><td>United Kingdom</td><td>11</td><td>2013</td><td>297249.27</td></tr><tr><td>United Kingdom</td><td>12</td><td>2013</td><td>306343.31</td></tr></table>"
                    },
                    "metadata": {}
                }
            ],
            "execution_count": 22
        },
        {
            "cell_type": "markdown",
            "source": [
                "_Part C_\n",
                "\n",
                "<span style=\"font-size: 12.000000pt; font-family: 'TimesNewRomanPSMT'\">The sales manager would like to recognize territories that had at least one month in 2013 with monthly sales over $750,000. Create a report listing these territories. It should contain a single column named AwardWinners and be sorted alphabetically. Territories can only win this award once, regardless of the number of months where they exceeded the threshold, so don’t include duplicate values in your list.&nbsp;</span>"
            ],
            "metadata": {
                "azdata_cell_guid": "ae5f498f-ee7f-4b86-8308-5bf2c136ce52"
            },
            "attachments": {}
        },
        {
            "cell_type": "code",
            "source": [
                "SELECT DISTINCT t.Name AS AwardWinners\n",
                "FROM sales.SalesOrderHeader soh\n",
                "INNER JOIN sales.SalesTerritory t\n",
                "ON soh.TerritoryID = t.TerritoryID\n",
                "WHERE DATEPART(YEAR,soh.OrderDate) = 2013\n",
                "GROUP BY t.Name\n",
                "        , DATEPART(MONTH, soh.OrderDate)\n",
                "        , DATEPART(YEAR,soh.OrderDate)\n",
                "HAVING SUM(ROUND(soh.SubTotal, 2)) > 750000\n",
                "ORDER BY Name"
            ],
            "metadata": {
                "azdata_cell_guid": "d05c0291-a6de-46b9-bf23-b3f763c21d3a",
                "language": "sql"
            },
            "outputs": [
                {
                    "output_type": "display_data",
                    "data": {
                        "text/html": "(4 rows affected)"
                    },
                    "metadata": {}
                },
                {
                    "output_type": "display_data",
                    "data": {
                        "text/html": "Total execution time: 00:00:00.121"
                    },
                    "metadata": {}
                },
                {
                    "output_type": "execute_result",
                    "execution_count": 23,
                    "data": {
                        "application/vnd.dataresource+json": {
                            "schema": {
                                "fields": [
                                    {
                                        "name": "AwardWinners"
                                    }
                                ]
                            },
                            "data": [
                                {
                                    "AwardWinners": "Canada"
                                },
                                {
                                    "AwardWinners": "France"
                                },
                                {
                                    "AwardWinners": "Northwest"
                                },
                                {
                                    "AwardWinners": "Southwest"
                                }
                            ]
                        },
                        "text/html": "<table><tr><th>AwardWinners</th></tr><tr><td>Canada</td></tr><tr><td>France</td></tr><tr><td>Northwest</td></tr><tr><td>Southwest</td></tr></table>"
                    },
                    "metadata": {}
                }
            ],
            "execution_count": 23
        },
        {
            "cell_type": "markdown",
            "source": [
                "_Part D_\n",
                "\n",
                "<span style=\"font-size: 12.000000pt; font-family: 'TimesNewRomanPSMT'\">The sales manager would like to offer additional training to those territories that did not achieve the $750,000 at least once in 2013. Create a list of territories that did not achieve their target, sorted alphabetically. </span> <span style=\"font-size: 12.000000pt; font-family: 'TimesNewRomanPS'; font-weight: 700\">Do this by using set theory, adding a few lines to your query from Part C.&nbsp;</span>"
            ],
            "metadata": {
                "azdata_cell_guid": "22cb5eb1-8bea-45e2-acb4-9f91969b47e6"
            },
            "attachments": {}
        },
        {
            "cell_type": "code",
            "source": [
                "SELECT t.Name \n",
                "FROM sales.SalesTerritory t\n",
                "EXCEPT\n",
                "SELECT DISTINCT t.Name AS AdditionalTraining\n",
                "FROM sales.SalesOrderHeader soh\n",
                "INNER JOIN sales.SalesTerritory t\n",
                "ON soh.TerritoryID = t.TerritoryID\n",
                "WHERE DATEPART(YEAR,soh.OrderDate) = 2013\n",
                "GROUP BY t.Name\n",
                "        , DATEPART(MONTH, soh.OrderDate)\n",
                "        , DATEPART(YEAR,soh.OrderDate)\n",
                "HAVING SUM(ROUND(soh.SubTotal, 2)) > 750000\n",
                "ORDER BY Name "
            ],
            "metadata": {
                "azdata_cell_guid": "603a6402-4f12-4073-bc4b-05c152252eff",
                "language": "sql"
            },
            "outputs": [
                {
                    "output_type": "display_data",
                    "data": {
                        "text/html": "(6 rows affected)"
                    },
                    "metadata": {}
                },
                {
                    "output_type": "display_data",
                    "data": {
                        "text/html": "Total execution time: 00:00:00.063"
                    },
                    "metadata": {}
                },
                {
                    "output_type": "execute_result",
                    "execution_count": 24,
                    "data": {
                        "application/vnd.dataresource+json": {
                            "schema": {
                                "fields": [
                                    {
                                        "name": "Name"
                                    }
                                ]
                            },
                            "data": [
                                {
                                    "Name": "Australia"
                                },
                                {
                                    "Name": "Central"
                                },
                                {
                                    "Name": "Germany"
                                },
                                {
                                    "Name": "Northeast"
                                },
                                {
                                    "Name": "Southeast"
                                },
                                {
                                    "Name": "United Kingdom"
                                }
                            ]
                        },
                        "text/html": "<table><tr><th>Name</th></tr><tr><td>Australia</td></tr><tr><td>Central</td></tr><tr><td>Germany</td></tr><tr><td>Northeast</td></tr><tr><td>Southeast</td></tr><tr><td>United Kingdom</td></tr></table>"
                    },
                    "metadata": {}
                }
            ],
            "execution_count": 24
        },
        {
            "cell_type": "markdown",
            "source": [
                "**Problem 2** \n",
                "\n",
                "_Part A_\n",
                "\n",
                "<span style=\"font-size: 12.000000pt; font-family: 'TimesNewRomanPSMT'\">The production manager is considering dropping some products and would like to generate a report that lists finished goods products that have been sold, where the total sales volume is under 50 units. Create a report showing the product name and the total number of units ordered, showing the least units sold first.&nbsp;</span>"
            ],
            "metadata": {
                "azdata_cell_guid": "19db5d10-e574-457f-af5c-35048c19a8fa"
            },
            "attachments": {}
        },
        {
            "cell_type": "code",
            "source": [
                "SELECT p.Name\n",
                "        , SUM(sod.OrderQty) AS QuantitySold\n",
                "FROM Production.Product p\n",
                "INNER JOIN Sales.SalesOrderDetail sod\n",
                "ON p.ProductID = sod.ProductID\n",
                "WHERE p.FinishedGoodsFlag = 1\n",
                "GROUP BY p.Name\n",
                "HAVING SUM(sod.OrderQty) < 50\n",
                "ORDER BY QuantitySold"
            ],
            "metadata": {
                "azdata_cell_guid": "764ef8d0-3628-4b41-bced-66bb5775fcd1",
                "language": "sql"
            },
            "outputs": [
                {
                    "output_type": "display_data",
                    "data": {
                        "text/html": "(10 rows affected)"
                    },
                    "metadata": {}
                },
                {
                    "output_type": "display_data",
                    "data": {
                        "text/html": "Total execution time: 00:00:00.087"
                    },
                    "metadata": {}
                },
                {
                    "output_type": "execute_result",
                    "execution_count": 25,
                    "data": {
                        "application/vnd.dataresource+json": {
                            "schema": {
                                "fields": [
                                    {
                                        "name": "Name"
                                    },
                                    {
                                        "name": "QuantitySold"
                                    }
                                ]
                            },
                            "data": [
                                {
                                    "Name": "LL Touring Frame - Blue, 58",
                                    "QuantitySold": "4"
                                },
                                {
                                    "Name": "ML Mountain Frame-W - Silver, 38",
                                    "QuantitySold": "7"
                                },
                                {
                                    "Name": "LL Mountain Frame - Black, 40",
                                    "QuantitySold": "8"
                                },
                                {
                                    "Name": "LL Road Seat/Saddle",
                                    "QuantitySold": "10"
                                },
                                {
                                    "Name": "LL Touring Frame - Blue, 62",
                                    "QuantitySold": "15"
                                },
                                {
                                    "Name": "LL Mountain Frame - Black, 52",
                                    "QuantitySold": "15"
                                },
                                {
                                    "Name": "HL Mountain Frame - Black, 44",
                                    "QuantitySold": "17"
                                },
                                {
                                    "Name": "LL Touring Frame - Blue, 44",
                                    "QuantitySold": "25"
                                },
                                {
                                    "Name": "LL Touring Frame - Yellow, 58",
                                    "QuantitySold": "36"
                                },
                                {
                                    "Name": "LL Mountain Frame - Silver, 48",
                                    "QuantitySold": "44"
                                }
                            ]
                        },
                        "text/html": "<table><tr><th>Name</th><th>QuantitySold</th></tr><tr><td>LL Touring Frame - Blue, 58</td><td>4</td></tr><tr><td>ML Mountain Frame-W - Silver, 38</td><td>7</td></tr><tr><td>LL Mountain Frame - Black, 40</td><td>8</td></tr><tr><td>LL Road Seat/Saddle</td><td>10</td></tr><tr><td>LL Touring Frame - Blue, 62</td><td>15</td></tr><tr><td>LL Mountain Frame - Black, 52</td><td>15</td></tr><tr><td>HL Mountain Frame - Black, 44</td><td>17</td></tr><tr><td>LL Touring Frame - Blue, 44</td><td>25</td></tr><tr><td>LL Touring Frame - Yellow, 58</td><td>36</td></tr><tr><td>LL Mountain Frame - Silver, 48</td><td>44</td></tr></table>"
                    },
                    "metadata": {}
                }
            ],
            "execution_count": 25
        },
        {
            "cell_type": "markdown",
            "source": [
                "_Part B_\n",
                "\n",
                "<span style=\"font-size: 12.000000pt; font-family: 'TimesNewRomanPSMT'\">The production manager is working on profit projections for the coming year. She needs to make some assumptions about the sales tax rates in various countries and wants to use a conservatively selected single rate for each country.</span>\n",
                "\n",
                "<span style=\"font-size: 12.000000pt; font-family: 'TimesNewRomanPSMT'\">Create a report showing the maximum sales tax rate for each country AdventureWorks serves. Use the full country name in the report. Sort the list by tax rate with the highest tax rate first.&nbsp;</span>"
            ],
            "metadata": {
                "azdata_cell_guid": "74e392ff-6250-495d-806b-798b753e628e"
            },
            "attachments": {}
        },
        {
            "cell_type": "code",
            "source": [
                "SELECT MAX(t.TaxRate) AS MaxTaxRate\n",
                "        , c.Name AS Country\n",
                "FROM sales.SalesTaxRate t\n",
                "INNER JOIN Person.StateProvince sp\n",
                "ON sp.StateProvinceID = t.StateProvinceID\n",
                "INNER JOIN Person.CountryRegion c\n",
                "ON sp.CountryRegionCode = c.CountryRegionCode\n",
                "GROUP BY c.CountryRegionCode\n",
                "         , c.Name\n",
                "ORDER BY MaxTaxRate DESC"
            ],
            "metadata": {
                "azdata_cell_guid": "404828dd-f8dc-429c-b935-950b1370d2f5",
                "language": "sql"
            },
            "outputs": [
                {
                    "output_type": "display_data",
                    "data": {
                        "text/html": "(6 rows affected)"
                    },
                    "metadata": {}
                },
                {
                    "output_type": "display_data",
                    "data": {
                        "text/html": "Total execution time: 00:00:00.120"
                    },
                    "metadata": {}
                },
                {
                    "output_type": "execute_result",
                    "execution_count": 26,
                    "data": {
                        "application/vnd.dataresource+json": {
                            "schema": {
                                "fields": [
                                    {
                                        "name": "MaxTaxRate"
                                    },
                                    {
                                        "name": "Country"
                                    }
                                ]
                            },
                            "data": [
                                {
                                    "MaxTaxRate": "19.60",
                                    "Country": "France"
                                },
                                {
                                    "MaxTaxRate": "17.50",
                                    "Country": "United Kingdom"
                                },
                                {
                                    "MaxTaxRate": "16.00",
                                    "Country": "Germany"
                                },
                                {
                                    "MaxTaxRate": "14.25",
                                    "Country": "Canada"
                                },
                                {
                                    "MaxTaxRate": "10.00",
                                    "Country": "Australia"
                                },
                                {
                                    "MaxTaxRate": "8.80",
                                    "Country": "United States"
                                }
                            ]
                        },
                        "text/html": "<table><tr><th>MaxTaxRate</th><th>Country</th></tr><tr><td>19.60</td><td>France</td></tr><tr><td>17.50</td><td>United Kingdom</td></tr><tr><td>16.00</td><td>Germany</td></tr><tr><td>14.25</td><td>Canada</td></tr><tr><td>10.00</td><td>Australia</td></tr><tr><td>8.80</td><td>United States</td></tr></table>"
                    },
                    "metadata": {}
                }
            ],
            "execution_count": 26
        },
        {
            "cell_type": "markdown",
            "source": [
                "_Part C_\n",
                "\n",
                "<span style=\"font-size: 12.000000pt; font-family: 'TimesNewRomanPSMT'\">The quality assurance department is issuing a recall for all helmets shipped during the first five days of February 2014 due to a safety issue. Stores will handle the notification of individual customers, but the sales department needs your help to follow up with stores that serve customers who received the helmets. Produce a listing of stores that shipped helmets during the recall&nbsp;</span> <span style=\"font-family: TimesNewRomanPSMT; font-size: 12pt; color: var(--vscode-foreground);\">period. Your result should have two columns:</span>\n",
                "\n",
                "<span style=\"font-size: 12.000000pt; font-family: 'TimesNewRomanPSMT'\">a. StoreName<br>b. TerritoryName</span>\n",
                "\n",
                "<span style=\"font-family: TimesNewRomanPSMT; font-size: 12pt; color: var(--vscode-foreground);\">Sort the list alphabetically, first by territory name and then by store name. Each store should only appear once in the list, regardless of the number of orders.</span>"
            ],
            "metadata": {
                "azdata_cell_guid": "c6b7492a-5392-4ad0-b5f8-b684b6bf011e"
            },
            "attachments": {}
        },
        {
            "cell_type": "code",
            "source": [
                "SELECT DISTINCT store.Name AS StoreName\n",
                "        , ter.Name AS Territory\n",
                "FROM Production.Product pro\n",
                "INNER JOIN Sales.SalesOrderDetail sod\n",
                "ON sod.ProductID = pro.ProductID\n",
                "INNER JOIN Sales.SalesOrderHeader soh\n",
                "ON sod.SalesOrderID = soh.SalesOrderID\n",
                "INNER JOIN Sales.Customer cust\n",
                "ON soh.CustomerID = cust.CustomerID\n",
                "INNER JOIN Sales.Store store\n",
                "ON cust.StoreID = store.BusinessEntityID\n",
                "INNER JOIN Sales.SalesTerritory ter\n",
                "ON soh.TerritoryID = ter.TerritoryID\n",
                "WHERE soh.ShipDate >= '2014-02-01 00:00:00.000'\n",
                "AND soh.ShipDate < '2014-02-06 00:00:00.000'\n",
                "AND soh.Status = 5\n",
                "AND pro.Name LIKE '%Helmet%'\n",
                "ORDER BY Territory, StoreName"
            ],
            "metadata": {
                "azdata_cell_guid": "4e7e8cfa-2b55-4187-818e-f772c85a72cb",
                "language": "sql",
                "tags": []
            },
            "outputs": [
                {
                    "output_type": "display_data",
                    "data": {
                        "text/html": "(36 rows affected)"
                    },
                    "metadata": {}
                },
                {
                    "output_type": "display_data",
                    "data": {
                        "text/html": "Total execution time: 00:00:00.060"
                    },
                    "metadata": {}
                },
                {
                    "output_type": "execute_result",
                    "execution_count": 27,
                    "data": {
                        "application/vnd.dataresource+json": {
                            "schema": {
                                "fields": [
                                    {
                                        "name": "StoreName"
                                    },
                                    {
                                        "name": "Territory"
                                    }
                                ]
                            },
                            "data": [
                                {
                                    "StoreName": "Bike Part Wholesalers",
                                    "Territory": "Australia"
                                },
                                {
                                    "StoreName": "Nationwide Supply",
                                    "Territory": "Australia"
                                },
                                {
                                    "StoreName": "Popular Bike Lines",
                                    "Territory": "Australia"
                                },
                                {
                                    "StoreName": "Corner Bicycle Supply",
                                    "Territory": "Canada"
                                },
                                {
                                    "StoreName": "Odometers and Accessories Company",
                                    "Territory": "Canada"
                                },
                                {
                                    "StoreName": "Petroleum Products Distributors",
                                    "Territory": "Canada"
                                },
                                {
                                    "StoreName": "Rapid Bikes",
                                    "Territory": "Canada"
                                },
                                {
                                    "StoreName": "Vigorous Exercise Company",
                                    "Territory": "Canada"
                                },
                                {
                                    "StoreName": "Local Sales and Rental",
                                    "Territory": "Central"
                                },
                                {
                                    "StoreName": "Riders Company",
                                    "Territory": "Central"
                                },
                                {
                                    "StoreName": "Work and Play Association",
                                    "Territory": "Central"
                                },
                                {
                                    "StoreName": "World of Bikes",
                                    "Territory": "Central"
                                },
                                {
                                    "StoreName": "Getaway Inn",
                                    "Territory": "France"
                                },
                                {
                                    "StoreName": "Neighborhood Bicycle Storehouse",
                                    "Territory": "France"
                                },
                                {
                                    "StoreName": "Racing Sales and Service",
                                    "Territory": "France"
                                },
                                {
                                    "StoreName": "Educational Services",
                                    "Territory": "Germany"
                                },
                                {
                                    "StoreName": "Enterprise Center",
                                    "Territory": "Germany"
                                },
                                {
                                    "StoreName": "Rodeway Bike Store",
                                    "Territory": "Germany"
                                },
                                {
                                    "StoreName": "Fourth Bike Store",
                                    "Territory": "Northeast"
                                },
                                {
                                    "StoreName": "Glossy Bikes",
                                    "Territory": "Northeast"
                                },
                                {
                                    "StoreName": "Larger Cycle Shop",
                                    "Territory": "Northeast"
                                },
                                {
                                    "StoreName": "Recreation Systems",
                                    "Territory": "Northeast"
                                },
                                {
                                    "StoreName": "The Bike Mechanics",
                                    "Territory": "Northeast"
                                },
                                {
                                    "StoreName": "Fashionable Bikes and Accessories",
                                    "Territory": "Northwest"
                                },
                                {
                                    "StoreName": "Blue-Ribbon Bike Company",
                                    "Territory": "Southeast"
                                },
                                {
                                    "StoreName": "Excellent Riding Supplies",
                                    "Territory": "Southeast"
                                },
                                {
                                    "StoreName": "Front Runner Bikes",
                                    "Territory": "Southeast"
                                },
                                {
                                    "StoreName": "Sales and Supply Company",
                                    "Territory": "Southeast"
                                },
                                {
                                    "StoreName": "Advanced Bike Components",
                                    "Territory": "Southwest"
                                },
                                {
                                    "StoreName": "Chic Department Stores",
                                    "Territory": "Southwest"
                                },
                                {
                                    "StoreName": "Coalition Bike Company",
                                    "Territory": "Southwest"
                                },
                                {
                                    "StoreName": "Eastside Department Store",
                                    "Territory": "Southwest"
                                },
                                {
                                    "StoreName": "First Cycle Store",
                                    "Territory": "Southwest"
                                },
                                {
                                    "StoreName": "Futuristic Bikes",
                                    "Territory": "Southwest"
                                },
                                {
                                    "StoreName": "Action Bicycle Specialists",
                                    "Territory": "United Kingdom"
                                },
                                {
                                    "StoreName": "Riding Cycles",
                                    "Territory": "United Kingdom"
                                }
                            ]
                        },
                        "text/html": "<table><tr><th>StoreName</th><th>Territory</th></tr><tr><td>Bike Part Wholesalers</td><td>Australia</td></tr><tr><td>Nationwide Supply</td><td>Australia</td></tr><tr><td>Popular Bike Lines</td><td>Australia</td></tr><tr><td>Corner Bicycle Supply</td><td>Canada</td></tr><tr><td>Odometers and Accessories Company</td><td>Canada</td></tr><tr><td>Petroleum Products Distributors</td><td>Canada</td></tr><tr><td>Rapid Bikes</td><td>Canada</td></tr><tr><td>Vigorous Exercise Company</td><td>Canada</td></tr><tr><td>Local Sales and Rental</td><td>Central</td></tr><tr><td>Riders Company</td><td>Central</td></tr><tr><td>Work and Play Association</td><td>Central</td></tr><tr><td>World of Bikes</td><td>Central</td></tr><tr><td>Getaway Inn</td><td>France</td></tr><tr><td>Neighborhood Bicycle Storehouse</td><td>France</td></tr><tr><td>Racing Sales and Service</td><td>France</td></tr><tr><td>Educational Services</td><td>Germany</td></tr><tr><td>Enterprise Center</td><td>Germany</td></tr><tr><td>Rodeway Bike Store</td><td>Germany</td></tr><tr><td>Fourth Bike Store</td><td>Northeast</td></tr><tr><td>Glossy Bikes</td><td>Northeast</td></tr><tr><td>Larger Cycle Shop</td><td>Northeast</td></tr><tr><td>Recreation Systems</td><td>Northeast</td></tr><tr><td>The Bike Mechanics</td><td>Northeast</td></tr><tr><td>Fashionable Bikes and Accessories</td><td>Northwest</td></tr><tr><td>Blue-Ribbon Bike Company</td><td>Southeast</td></tr><tr><td>Excellent Riding Supplies</td><td>Southeast</td></tr><tr><td>Front Runner Bikes</td><td>Southeast</td></tr><tr><td>Sales and Supply Company</td><td>Southeast</td></tr><tr><td>Advanced Bike Components</td><td>Southwest</td></tr><tr><td>Chic Department Stores</td><td>Southwest</td></tr><tr><td>Coalition Bike Company</td><td>Southwest</td></tr><tr><td>Eastside Department Store</td><td>Southwest</td></tr><tr><td>First Cycle Store</td><td>Southwest</td></tr><tr><td>Futuristic Bikes</td><td>Southwest</td></tr><tr><td>Action Bicycle Specialists</td><td>United Kingdom</td></tr><tr><td>Riding Cycles</td><td>United Kingdom</td></tr></table>"
                    },
                    "metadata": {}
                }
            ],
            "execution_count": 27
        }
    ]
}