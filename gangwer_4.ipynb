{
    "metadata": {
        "kernelspec": {
            "name": "SQL",
            "display_name": "SQL",
            "language": "sql"
        },
        "language_info": {
            "name": "sql",
            "version": ""
        }
    },
    "nbformat_minor": 2,
    "nbformat": 4,
    "cells": [
        {
            "cell_type": "markdown",
            "source": [
                "Elisabeth Gangwer\n",
                "\n",
                "Assignment 4"
            ],
            "metadata": {
                "azdata_cell_guid": "ac62dae3-7417-4804-b819-3949706e2c27"
            },
            "attachments": {}
        },
        {
            "cell_type": "markdown",
            "source": [
                "<span style=\"font-size: 12.000000pt; font-family: 'TimesNewRomanPS'; font-weight: 700\">Problem 1</span>\n",
                "\n",
                "<span style=\"font-size: 12.000000pt; font-family: 'TimesNewRomanPSMT'\">You have been asked to understand how successful the Touring-3000 promotion was. Produce a report that retrieves the reseller name, country name, product category name, total sales amount, and currency name for this promotion. Be sure to show the highest value sales first.&nbsp;</span>"
            ],
            "metadata": {
                "azdata_cell_guid": "08ab5dab-4820-47f9-ac35-4b305ac16973"
            },
            "attachments": {}
        },
        {
            "cell_type": "code",
            "source": [
                "USE ADW \n",
                "SELECT r.ResellerName AS Reseller\n",
                "     , st.SalesTerritoryCountry AS Country \n",
                "     , pc.EnglishProductCategoryName AS ProductCategory \n",
                "     , SUM(fr.SalesAmount) AS TotalSalesAmount\n",
                "     , m.CurrencyName AS Currency \n",
                "FROM FactResellerSales fr \n",
                "INNER JOIN DimReseller r \n",
                "    ON fr.ResellerKey = r.ResellerKey\n",
                "INNER JOIN DimPromotion pro \n",
                "    ON fr.PromotionKey = pro.PromotionKey\n",
                "INNER JOIN DimGeography g\n",
                "    ON r.GeographyKey = g.GeographyKey\n",
                "INNER JOIN DimSalesTerritory st \n",
                "    ON g.SalesTerritoryKey = st.SalesTerritoryKey\n",
                "INNER JOIN DimProduct p \n",
                "    ON fr.ProductKey = p.ProductKey\n",
                "INNER JOIN DimProductSubcategory ps\n",
                "    ON p.ProductSubcategoryKey = ps.ProductSubcategoryKey\n",
                "INNER JOIN DimProductCategory pc \n",
                "    ON ps.ProductCategoryKey = pc.ProductCategoryKey\n",
                "INNER JOIN DimCurrency m \n",
                "    ON fr.CurrencyKey = m.CurrencyKey\n",
                "WHERE pro.PromotionKey = 13 \n",
                "GROUP BY r.ResellerName, st.SalesTerritoryCountry, pc.EnglishProductCategoryName, m.CurrencyName\n",
                "ORDER BY SUM(fr.SalesAmount) DESC"
            ],
            "metadata": {
                "azdata_cell_guid": "e12c8cc9-e321-4c51-9c2e-6c95e783b016",
                "language": "sql"
            },
            "outputs": [
                {
                    "output_type": "display_data",
                    "data": {
                        "text/html": "(101 rows affected)"
                    },
                    "metadata": {}
                },
                {
                    "output_type": "display_data",
                    "data": {
                        "text/html": "Total execution time: 00:00:00.059"
                    },
                    "metadata": {}
                },
                {
                    "output_type": "execute_result",
                    "execution_count": 5,
                    "data": {
                        "application/vnd.dataresource+json": {
                            "schema": {
                                "fields": [
                                    {
                                        "name": "Reseller"
                                    },
                                    {
                                        "name": "Country"
                                    },
                                    {
                                        "name": "ProductCategory"
                                    },
                                    {
                                        "name": "TotalSalesAmount"
                                    },
                                    {
                                        "name": "Currency"
                                    }
                                ]
                            },
                            "data": [
                                {
                                    "Reseller": "Action Bicycle Specialists",
                                    "Country": "United Kingdom",
                                    "ProductCategory": "Bikes",
                                    "TotalSalesAmount": "19024.5748",
                                    "Currency": "United Kingdom Pound"
                                },
                                {
                                    "Reseller": "Westside Plaza",
                                    "Country": "United States",
                                    "ProductCategory": "Bikes",
                                    "TotalSalesAmount": "19024.5746",
                                    "Currency": "US Dollar"
                                },
                                {
                                    "Reseller": "Camping and Sports Store",
                                    "Country": "Canada",
                                    "ProductCategory": "Bikes",
                                    "TotalSalesAmount": "17320.8815",
                                    "Currency": "Canadian Dollar"
                                },
                                {
                                    "Reseller": "Global Bike Retailers",
                                    "Country": "Germany",
                                    "ProductCategory": "Bikes",
                                    "TotalSalesAmount": "16752.9838",
                                    "Currency": "EURO"
                                },
                                {
                                    "Reseller": "Perfect Toys",
                                    "Country": "France",
                                    "ProductCategory": "Bikes",
                                    "TotalSalesAmount": "15333.2394",
                                    "Currency": "US Dollar"
                                },
                                {
                                    "Reseller": "Roadway Bicycle Supply",
                                    "Country": "France",
                                    "ProductCategory": "Bikes",
                                    "TotalSalesAmount": "14481.3929",
                                    "Currency": "US Dollar"
                                },
                                {
                                    "Reseller": "Rally Master Company Inc",
                                    "Country": "United States",
                                    "ProductCategory": "Bikes",
                                    "TotalSalesAmount": "13913.495",
                                    "Currency": "US Dollar"
                                },
                                {
                                    "Reseller": "Best Cycle Store",
                                    "Country": "Germany",
                                    "ProductCategory": "Bikes",
                                    "TotalSalesAmount": "12493.7506",
                                    "Currency": "EURO"
                                },
                                {
                                    "Reseller": "Front Runner Bikes",
                                    "Country": "United States",
                                    "ProductCategory": "Bikes",
                                    "TotalSalesAmount": "11641.9039",
                                    "Currency": "US Dollar"
                                },
                                {
                                    "Reseller": "Favorite Toy Distributor",
                                    "Country": "France",
                                    "ProductCategory": "Bikes",
                                    "TotalSalesAmount": "10506.1085",
                                    "Currency": "EURO"
                                },
                                {
                                    "Reseller": "Glossy Bikes",
                                    "Country": "United States",
                                    "ProductCategory": "Bikes",
                                    "TotalSalesAmount": "9086.3642",
                                    "Currency": "US Dollar"
                                },
                                {
                                    "Reseller": "Outstanding Cycles",
                                    "Country": "United States",
                                    "ProductCategory": "Bikes",
                                    "TotalSalesAmount": "9086.3641",
                                    "Currency": "US Dollar"
                                },
                                {
                                    "Reseller": "Another Bicycle Company",
                                    "Country": "United States",
                                    "ProductCategory": "Bikes",
                                    "TotalSalesAmount": "8518.4665",
                                    "Currency": "US Dollar"
                                },
                                {
                                    "Reseller": "Vintage Sport Boutique",
                                    "Country": "United States",
                                    "ProductCategory": "Bikes",
                                    "TotalSalesAmount": "8518.4665",
                                    "Currency": "US Dollar"
                                },
                                {
                                    "Reseller": "Technical Parts Manufacturing",
                                    "Country": "United States",
                                    "ProductCategory": "Bikes",
                                    "TotalSalesAmount": "8518.4665",
                                    "Currency": "US Dollar"
                                },
                                {
                                    "Reseller": "Instruments and Parts Company",
                                    "Country": "United Kingdom",
                                    "ProductCategory": "Bikes",
                                    "TotalSalesAmount": "7950.5687",
                                    "Currency": "United Kingdom Pound"
                                },
                                {
                                    "Reseller": "Metro Metals Co.",
                                    "Country": "United Kingdom",
                                    "ProductCategory": "Bikes",
                                    "TotalSalesAmount": "7666.6198",
                                    "Currency": "United Kingdom Pound"
                                },
                                {
                                    "Reseller": "Extreme Riding Supplies",
                                    "Country": "United States",
                                    "ProductCategory": "Bikes",
                                    "TotalSalesAmount": "7666.6196",
                                    "Currency": "US Dollar"
                                },
                                {
                                    "Reseller": "Next Door Cycles",
                                    "Country": "Germany",
                                    "ProductCategory": "Bikes",
                                    "TotalSalesAmount": "7382.671",
                                    "Currency": "EURO"
                                },
                                {
                                    "Reseller": "Nationwide Supply",
                                    "Country": "Australia",
                                    "ProductCategory": "Bikes",
                                    "TotalSalesAmount": "7382.6709",
                                    "Currency": "Australian Dollar"
                                },
                                {
                                    "Reseller": "Petroleum Products Distributors",
                                    "Country": "Canada",
                                    "ProductCategory": "Bikes",
                                    "TotalSalesAmount": "7098.722",
                                    "Currency": "Canadian Dollar"
                                },
                                {
                                    "Reseller": "Roadway Bike Emporium",
                                    "Country": "United States",
                                    "ProductCategory": "Bikes",
                                    "TotalSalesAmount": "7098.7219",
                                    "Currency": "US Dollar"
                                },
                                {
                                    "Reseller": "Utilitarian Sporting Goods",
                                    "Country": "United States",
                                    "ProductCategory": "Bikes",
                                    "TotalSalesAmount": "6814.7731",
                                    "Currency": "US Dollar"
                                },
                                {
                                    "Reseller": "Grand Industries",
                                    "Country": "Canada",
                                    "ProductCategory": "Bikes",
                                    "TotalSalesAmount": "6530.8242",
                                    "Currency": "Canadian Dollar"
                                },
                                {
                                    "Reseller": "Farthest Bike Store",
                                    "Country": "Canada",
                                    "ProductCategory": "Bikes",
                                    "TotalSalesAmount": "6246.8753",
                                    "Currency": "Canadian Dollar"
                                },
                                {
                                    "Reseller": "Excellent Bikes",
                                    "Country": "Germany",
                                    "ProductCategory": "Bikes",
                                    "TotalSalesAmount": "6246.8753",
                                    "Currency": "EURO"
                                },
                                {
                                    "Reseller": "Running and Cycling Gear",
                                    "Country": "United States",
                                    "ProductCategory": "Bikes",
                                    "TotalSalesAmount": "5678.9778",
                                    "Currency": "US Dollar"
                                },
                                {
                                    "Reseller": "Amalgamated Parts Shop",
                                    "Country": "Germany",
                                    "ProductCategory": "Bikes",
                                    "TotalSalesAmount": "5395.0287",
                                    "Currency": "EURO"
                                },
                                {
                                    "Reseller": "Gears and Parts Company",
                                    "Country": "Australia",
                                    "ProductCategory": "Bikes",
                                    "TotalSalesAmount": "5111.0799",
                                    "Currency": "Australian Dollar"
                                },
                                {
                                    "Reseller": "Rugged Bikes",
                                    "Country": "United States",
                                    "ProductCategory": "Bikes",
                                    "TotalSalesAmount": "5111.0798",
                                    "Currency": "US Dollar"
                                },
                                {
                                    "Reseller": "Eighth Bike Store",
                                    "Country": "United States",
                                    "ProductCategory": "Bikes",
                                    "TotalSalesAmount": "4827.1311",
                                    "Currency": "US Dollar"
                                },
                                {
                                    "Reseller": "Helmets and Cycles",
                                    "Country": "Australia",
                                    "ProductCategory": "Bikes",
                                    "TotalSalesAmount": "4827.131",
                                    "Currency": "Australian Dollar"
                                },
                                {
                                    "Reseller": "Odometers and Accessories Company",
                                    "Country": "Canada",
                                    "ProductCategory": "Bikes",
                                    "TotalSalesAmount": "4827.131",
                                    "Currency": "Canadian Dollar"
                                },
                                {
                                    "Reseller": "Educational Services",
                                    "Country": "Germany",
                                    "ProductCategory": "Bikes",
                                    "TotalSalesAmount": "4543.1822",
                                    "Currency": "EURO"
                                },
                                {
                                    "Reseller": "Sleek Bikes",
                                    "Country": "United States",
                                    "ProductCategory": "Bikes",
                                    "TotalSalesAmount": "4543.1821",
                                    "Currency": "US Dollar"
                                },
                                {
                                    "Reseller": "Immense Manufacturing Company",
                                    "Country": "United States",
                                    "ProductCategory": "Bikes",
                                    "TotalSalesAmount": "4543.182",
                                    "Currency": "US Dollar"
                                },
                                {
                                    "Reseller": "Kickstands and Accessories Company",
                                    "Country": "United States",
                                    "ProductCategory": "Bikes",
                                    "TotalSalesAmount": "4259.2333",
                                    "Currency": "US Dollar"
                                },
                                {
                                    "Reseller": "Fourth Bike Store",
                                    "Country": "United States",
                                    "ProductCategory": "Bikes",
                                    "TotalSalesAmount": "4259.2333",
                                    "Currency": "US Dollar"
                                },
                                {
                                    "Reseller": "Mountain Bike Store",
                                    "Country": "United States",
                                    "ProductCategory": "Bikes",
                                    "TotalSalesAmount": "4259.2333",
                                    "Currency": "US Dollar"
                                },
                                {
                                    "Reseller": "Cycle Parts and Accessories",
                                    "Country": "Australia",
                                    "ProductCategory": "Bikes",
                                    "TotalSalesAmount": "3975.2845",
                                    "Currency": "Australian Dollar"
                                },
                                {
                                    "Reseller": "Blue-Ribbon Bike Company",
                                    "Country": "United States",
                                    "ProductCategory": "Bikes",
                                    "TotalSalesAmount": "3975.2844",
                                    "Currency": "US Dollar"
                                },
                                {
                                    "Reseller": "Quick Parts and Service",
                                    "Country": "Canada",
                                    "ProductCategory": "Bikes",
                                    "TotalSalesAmount": "3975.2844",
                                    "Currency": "Canadian Dollar"
                                },
                                {
                                    "Reseller": "The Bike Outlet",
                                    "Country": "France",
                                    "ProductCategory": "Bikes",
                                    "TotalSalesAmount": "3975.2844",
                                    "Currency": "US Dollar"
                                },
                                {
                                    "Reseller": "Industrial Supplies",
                                    "Country": "United States",
                                    "ProductCategory": "Bikes",
                                    "TotalSalesAmount": "3975.2843",
                                    "Currency": "US Dollar"
                                },
                                {
                                    "Reseller": "Authorized Bike Sales and Rental",
                                    "Country": "United States",
                                    "ProductCategory": "Bikes",
                                    "TotalSalesAmount": "3975.2842",
                                    "Currency": "US Dollar"
                                },
                                {
                                    "Reseller": "Bike Part Wholesalers",
                                    "Country": "Australia",
                                    "ProductCategory": "Bikes",
                                    "TotalSalesAmount": "3691.3355",
                                    "Currency": "Australian Dollar"
                                },
                                {
                                    "Reseller": "Fitness Supplies",
                                    "Country": "United States",
                                    "ProductCategory": "Bikes",
                                    "TotalSalesAmount": "3691.3355",
                                    "Currency": "US Dollar"
                                },
                                {
                                    "Reseller": "Exchange Parts Inc.",
                                    "Country": "United States",
                                    "ProductCategory": "Bikes",
                                    "TotalSalesAmount": "3691.3355",
                                    "Currency": "US Dollar"
                                },
                                {
                                    "Reseller": "Popular Bike Lines",
                                    "Country": "Australia",
                                    "ProductCategory": "Bikes",
                                    "TotalSalesAmount": "3691.3355",
                                    "Currency": "Australian Dollar"
                                },
                                {
                                    "Reseller": "Helpful Sales and Repair Service",
                                    "Country": "Australia",
                                    "ProductCategory": "Bikes",
                                    "TotalSalesAmount": "3691.3355",
                                    "Currency": "Australian Dollar"
                                },
                                {
                                    "Reseller": "Stock Parts and Supplies",
                                    "Country": "United States",
                                    "ProductCategory": "Bikes",
                                    "TotalSalesAmount": "3407.3866",
                                    "Currency": "US Dollar"
                                },
                                {
                                    "Reseller": "Variety Cycling",
                                    "Country": "United Kingdom",
                                    "ProductCategory": "Bikes",
                                    "TotalSalesAmount": "3123.4377",
                                    "Currency": "United Kingdom Pound"
                                },
                                {
                                    "Reseller": "Cycles Wholesaler & Mfg.",
                                    "Country": "United Kingdom",
                                    "ProductCategory": "Bikes",
                                    "TotalSalesAmount": "3123.4377",
                                    "Currency": "United Kingdom Pound"
                                },
                                {
                                    "Reseller": "Fast Bike Works",
                                    "Country": "Australia",
                                    "ProductCategory": "Bikes",
                                    "TotalSalesAmount": "3123.4376",
                                    "Currency": "Australian Dollar"
                                },
                                {
                                    "Reseller": "Fasteners & Bolts Outlet",
                                    "Country": "Canada",
                                    "ProductCategory": "Bikes",
                                    "TotalSalesAmount": "2839.4889",
                                    "Currency": "Canadian Dollar"
                                },
                                {
                                    "Reseller": "Locks Company",
                                    "Country": "United States",
                                    "ProductCategory": "Bikes",
                                    "TotalSalesAmount": "2839.4889",
                                    "Currency": "US Dollar"
                                },
                                {
                                    "Reseller": "Metal Clearing House",
                                    "Country": "Canada",
                                    "ProductCategory": "Bikes",
                                    "TotalSalesAmount": "2839.4889",
                                    "Currency": "Canadian Dollar"
                                },
                                {
                                    "Reseller": "Pedaling Components",
                                    "Country": "Germany",
                                    "ProductCategory": "Bikes",
                                    "TotalSalesAmount": "2555.5399",
                                    "Currency": "EURO"
                                },
                                {
                                    "Reseller": "Professional Sales and Service",
                                    "Country": "United States",
                                    "ProductCategory": "Bikes",
                                    "TotalSalesAmount": "2271.5912",
                                    "Currency": "US Dollar"
                                },
                                {
                                    "Reseller": "Fun Toys and Bikes",
                                    "Country": "United States",
                                    "ProductCategory": "Bikes",
                                    "TotalSalesAmount": "2271.5912",
                                    "Currency": "US Dollar"
                                },
                                {
                                    "Reseller": "Rich Department Store",
                                    "Country": "Australia",
                                    "ProductCategory": "Bikes",
                                    "TotalSalesAmount": "2271.591",
                                    "Currency": "Australian Dollar"
                                },
                                {
                                    "Reseller": "Small Bike Accessories Shop",
                                    "Country": "United States",
                                    "ProductCategory": "Bikes",
                                    "TotalSalesAmount": "1987.6423",
                                    "Currency": "US Dollar"
                                },
                                {
                                    "Reseller": "Sports Merchandise",
                                    "Country": "United States",
                                    "ProductCategory": "Bikes",
                                    "TotalSalesAmount": "1987.6422",
                                    "Currency": "US Dollar"
                                },
                                {
                                    "Reseller": "Honest Repair Service",
                                    "Country": "United States",
                                    "ProductCategory": "Bikes",
                                    "TotalSalesAmount": "1987.6422",
                                    "Currency": "US Dollar"
                                },
                                {
                                    "Reseller": "Liquidation Sales",
                                    "Country": "Australia",
                                    "ProductCategory": "Bikes",
                                    "TotalSalesAmount": "1703.6934",
                                    "Currency": "Australian Dollar"
                                },
                                {
                                    "Reseller": "Racing Supply Distributors",
                                    "Country": "France",
                                    "ProductCategory": "Bikes",
                                    "TotalSalesAmount": "1703.6934",
                                    "Currency": "US Dollar"
                                },
                                {
                                    "Reseller": "South Bike Company",
                                    "Country": "Canada",
                                    "ProductCategory": "Bikes",
                                    "TotalSalesAmount": "1703.6933",
                                    "Currency": "Canadian Dollar"
                                },
                                {
                                    "Reseller": "Quitting Business Distributors",
                                    "Country": "United States",
                                    "ProductCategory": "Bikes",
                                    "TotalSalesAmount": "1419.7445",
                                    "Currency": "US Dollar"
                                },
                                {
                                    "Reseller": "Thrilling Bike Tours",
                                    "Country": "United States",
                                    "ProductCategory": "Bikes",
                                    "TotalSalesAmount": "1419.7445",
                                    "Currency": "US Dollar"
                                },
                                {
                                    "Reseller": "Machines & Cycles Store",
                                    "Country": "Canada",
                                    "ProductCategory": "Bikes",
                                    "TotalSalesAmount": "1419.7445",
                                    "Currency": "Canadian Dollar"
                                },
                                {
                                    "Reseller": "Finer Sporting Goods",
                                    "Country": "France",
                                    "ProductCategory": "Bikes",
                                    "TotalSalesAmount": "1419.7445",
                                    "Currency": "US Dollar"
                                },
                                {
                                    "Reseller": "First Supplies",
                                    "Country": "Australia",
                                    "ProductCategory": "Bikes",
                                    "TotalSalesAmount": "1419.7445",
                                    "Currency": "Australian Dollar"
                                },
                                {
                                    "Reseller": "Engineered Bike Systems",
                                    "Country": "United States",
                                    "ProductCategory": "Bikes",
                                    "TotalSalesAmount": "1135.7956",
                                    "Currency": "US Dollar"
                                },
                                {
                                    "Reseller": "Cycles Sales and Repair",
                                    "Country": "France",
                                    "ProductCategory": "Bikes",
                                    "TotalSalesAmount": "1135.7956",
                                    "Currency": "US Dollar"
                                },
                                {
                                    "Reseller": "Bicycle Exporters",
                                    "Country": "Germany",
                                    "ProductCategory": "Bikes",
                                    "TotalSalesAmount": "1135.7956",
                                    "Currency": "EURO"
                                },
                                {
                                    "Reseller": "Novelty Bikes",
                                    "Country": "United States",
                                    "ProductCategory": "Bikes",
                                    "TotalSalesAmount": "1135.7956",
                                    "Currency": "US Dollar"
                                },
                                {
                                    "Reseller": "Systematic Sales",
                                    "Country": "United States",
                                    "ProductCategory": "Bikes",
                                    "TotalSalesAmount": "1135.7956",
                                    "Currency": "US Dollar"
                                },
                                {
                                    "Reseller": "Plastic Products Manufacturers",
                                    "Country": "Australia",
                                    "ProductCategory": "Bikes",
                                    "TotalSalesAmount": "1135.7956",
                                    "Currency": "Australian Dollar"
                                },
                                {
                                    "Reseller": "Finer Mart",
                                    "Country": "United States",
                                    "ProductCategory": "Bikes",
                                    "TotalSalesAmount": "1135.7955",
                                    "Currency": "US Dollar"
                                },
                                {
                                    "Reseller": "Exemplary Cycles",
                                    "Country": "United States",
                                    "ProductCategory": "Bikes",
                                    "TotalSalesAmount": "851.8467",
                                    "Currency": "US Dollar"
                                },
                                {
                                    "Reseller": "Paints and Solvents Company",
                                    "Country": "United States",
                                    "ProductCategory": "Bikes",
                                    "TotalSalesAmount": "851.8467",
                                    "Currency": "US Dollar"
                                },
                                {
                                    "Reseller": "West Wind Distributors",
                                    "Country": "Germany",
                                    "ProductCategory": "Bikes",
                                    "TotalSalesAmount": "851.8467",
                                    "Currency": "EURO"
                                },
                                {
                                    "Reseller": "Efficient Cycling",
                                    "Country": "Canada",
                                    "ProductCategory": "Bikes",
                                    "TotalSalesAmount": "851.8466",
                                    "Currency": "Canadian Dollar"
                                },
                                {
                                    "Reseller": "Purchase Mart",
                                    "Country": "United States",
                                    "ProductCategory": "Bikes",
                                    "TotalSalesAmount": "567.8978",
                                    "Currency": "US Dollar"
                                },
                                {
                                    "Reseller": "Quality Bike Sales",
                                    "Country": "Australia",
                                    "ProductCategory": "Bikes",
                                    "TotalSalesAmount": "567.8978",
                                    "Currency": "Australian Dollar"
                                },
                                {
                                    "Reseller": "List Price Catalog Company",
                                    "Country": "Australia",
                                    "ProductCategory": "Bikes",
                                    "TotalSalesAmount": "567.8978",
                                    "Currency": "Australian Dollar"
                                },
                                {
                                    "Reseller": "Rural Department Store",
                                    "Country": "United States",
                                    "ProductCategory": "Bikes",
                                    "TotalSalesAmount": "567.8978",
                                    "Currency": "US Dollar"
                                },
                                {
                                    "Reseller": "Rustic Bike Store",
                                    "Country": "Germany",
                                    "ProductCategory": "Bikes",
                                    "TotalSalesAmount": "283.9489",
                                    "Currency": "EURO"
                                },
                                {
                                    "Reseller": "Sensible Sports",
                                    "Country": "Australia",
                                    "ProductCategory": "Bikes",
                                    "TotalSalesAmount": "283.9489",
                                    "Currency": "Australian Dollar"
                                },
                                {
                                    "Reseller": "Rampart Amusement Company",
                                    "Country": "United Kingdom",
                                    "ProductCategory": "Bikes",
                                    "TotalSalesAmount": "283.9489",
                                    "Currency": "United Kingdom Pound"
                                },
                                {
                                    "Reseller": "Vale Riding Supplies",
                                    "Country": "United States",
                                    "ProductCategory": "Bikes",
                                    "TotalSalesAmount": "283.9489",
                                    "Currency": "US Dollar"
                                },
                                {
                                    "Reseller": "Transport Bikes",
                                    "Country": "United States",
                                    "ProductCategory": "Bikes",
                                    "TotalSalesAmount": "283.9489",
                                    "Currency": "US Dollar"
                                },
                                {
                                    "Reseller": "Incomparable Bicycle Store",
                                    "Country": "United States",
                                    "ProductCategory": "Bikes",
                                    "TotalSalesAmount": "283.9489",
                                    "Currency": "US Dollar"
                                },
                                {
                                    "Reseller": "Off-Price Bike Center",
                                    "Country": "Germany",
                                    "ProductCategory": "Bikes",
                                    "TotalSalesAmount": "283.9489",
                                    "Currency": "EURO"
                                },
                                {
                                    "Reseller": "Eastside Cycle Shop",
                                    "Country": "Australia",
                                    "ProductCategory": "Bikes",
                                    "TotalSalesAmount": "283.9489",
                                    "Currency": "Australian Dollar"
                                },
                                {
                                    "Reseller": "Eastward Bike Accessories",
                                    "Country": "Australia",
                                    "ProductCategory": "Bikes",
                                    "TotalSalesAmount": "283.9489",
                                    "Currency": "Australian Dollar"
                                },
                                {
                                    "Reseller": "Cycle Clearance",
                                    "Country": "United States",
                                    "ProductCategory": "Bikes",
                                    "TotalSalesAmount": "283.9489",
                                    "Currency": "US Dollar"
                                },
                                {
                                    "Reseller": "Accessories Network",
                                    "Country": "France",
                                    "ProductCategory": "Bikes",
                                    "TotalSalesAmount": "283.9489",
                                    "Currency": "US Dollar"
                                },
                                {
                                    "Reseller": "Family Entertainment Center",
                                    "Country": "United States",
                                    "ProductCategory": "Bikes",
                                    "TotalSalesAmount": "283.9489",
                                    "Currency": "US Dollar"
                                },
                                {
                                    "Reseller": "Fitness Bike Accessories",
                                    "Country": "Australia",
                                    "ProductCategory": "Bikes",
                                    "TotalSalesAmount": "283.9489",
                                    "Currency": "Australian Dollar"
                                },
                                {
                                    "Reseller": "Fitness Discount Store",
                                    "Country": "Australia",
                                    "ProductCategory": "Bikes",
                                    "TotalSalesAmount": "283.9489",
                                    "Currency": "Australian Dollar"
                                }
                            ]
                        },
                        "text/html": "<table><tr><th>Reseller</th><th>Country</th><th>ProductCategory</th><th>TotalSalesAmount</th><th>Currency</th></tr><tr><td>Action Bicycle Specialists</td><td>United Kingdom</td><td>Bikes</td><td>19024.5748</td><td>United Kingdom Pound</td></tr><tr><td>Westside Plaza</td><td>United States</td><td>Bikes</td><td>19024.5746</td><td>US Dollar</td></tr><tr><td>Camping and Sports Store</td><td>Canada</td><td>Bikes</td><td>17320.8815</td><td>Canadian Dollar</td></tr><tr><td>Global Bike Retailers</td><td>Germany</td><td>Bikes</td><td>16752.9838</td><td>EURO</td></tr><tr><td>Perfect Toys</td><td>France</td><td>Bikes</td><td>15333.2394</td><td>US Dollar</td></tr><tr><td>Roadway Bicycle Supply</td><td>France</td><td>Bikes</td><td>14481.3929</td><td>US Dollar</td></tr><tr><td>Rally Master Company Inc</td><td>United States</td><td>Bikes</td><td>13913.495</td><td>US Dollar</td></tr><tr><td>Best Cycle Store</td><td>Germany</td><td>Bikes</td><td>12493.7506</td><td>EURO</td></tr><tr><td>Front Runner Bikes</td><td>United States</td><td>Bikes</td><td>11641.9039</td><td>US Dollar</td></tr><tr><td>Favorite Toy Distributor</td><td>France</td><td>Bikes</td><td>10506.1085</td><td>EURO</td></tr><tr><td>Glossy Bikes</td><td>United States</td><td>Bikes</td><td>9086.3642</td><td>US Dollar</td></tr><tr><td>Outstanding Cycles</td><td>United States</td><td>Bikes</td><td>9086.3641</td><td>US Dollar</td></tr><tr><td>Another Bicycle Company</td><td>United States</td><td>Bikes</td><td>8518.4665</td><td>US Dollar</td></tr><tr><td>Vintage Sport Boutique</td><td>United States</td><td>Bikes</td><td>8518.4665</td><td>US Dollar</td></tr><tr><td>Technical Parts Manufacturing</td><td>United States</td><td>Bikes</td><td>8518.4665</td><td>US Dollar</td></tr><tr><td>Instruments and Parts Company</td><td>United Kingdom</td><td>Bikes</td><td>7950.5687</td><td>United Kingdom Pound</td></tr><tr><td>Metro Metals Co.</td><td>United Kingdom</td><td>Bikes</td><td>7666.6198</td><td>United Kingdom Pound</td></tr><tr><td>Extreme Riding Supplies</td><td>United States</td><td>Bikes</td><td>7666.6196</td><td>US Dollar</td></tr><tr><td>Next Door Cycles</td><td>Germany</td><td>Bikes</td><td>7382.671</td><td>EURO</td></tr><tr><td>Nationwide Supply</td><td>Australia</td><td>Bikes</td><td>7382.6709</td><td>Australian Dollar</td></tr><tr><td>Petroleum Products Distributors</td><td>Canada</td><td>Bikes</td><td>7098.722</td><td>Canadian Dollar</td></tr><tr><td>Roadway Bike Emporium</td><td>United States</td><td>Bikes</td><td>7098.7219</td><td>US Dollar</td></tr><tr><td>Utilitarian Sporting Goods</td><td>United States</td><td>Bikes</td><td>6814.7731</td><td>US Dollar</td></tr><tr><td>Grand Industries</td><td>Canada</td><td>Bikes</td><td>6530.8242</td><td>Canadian Dollar</td></tr><tr><td>Farthest Bike Store</td><td>Canada</td><td>Bikes</td><td>6246.8753</td><td>Canadian Dollar</td></tr><tr><td>Excellent Bikes</td><td>Germany</td><td>Bikes</td><td>6246.8753</td><td>EURO</td></tr><tr><td>Running and Cycling Gear</td><td>United States</td><td>Bikes</td><td>5678.9778</td><td>US Dollar</td></tr><tr><td>Amalgamated Parts Shop</td><td>Germany</td><td>Bikes</td><td>5395.0287</td><td>EURO</td></tr><tr><td>Gears and Parts Company</td><td>Australia</td><td>Bikes</td><td>5111.0799</td><td>Australian Dollar</td></tr><tr><td>Rugged Bikes</td><td>United States</td><td>Bikes</td><td>5111.0798</td><td>US Dollar</td></tr><tr><td>Eighth Bike Store</td><td>United States</td><td>Bikes</td><td>4827.1311</td><td>US Dollar</td></tr><tr><td>Helmets and Cycles</td><td>Australia</td><td>Bikes</td><td>4827.131</td><td>Australian Dollar</td></tr><tr><td>Odometers and Accessories Company</td><td>Canada</td><td>Bikes</td><td>4827.131</td><td>Canadian Dollar</td></tr><tr><td>Educational Services</td><td>Germany</td><td>Bikes</td><td>4543.1822</td><td>EURO</td></tr><tr><td>Sleek Bikes</td><td>United States</td><td>Bikes</td><td>4543.1821</td><td>US Dollar</td></tr><tr><td>Immense Manufacturing Company</td><td>United States</td><td>Bikes</td><td>4543.182</td><td>US Dollar</td></tr><tr><td>Kickstands and Accessories Company</td><td>United States</td><td>Bikes</td><td>4259.2333</td><td>US Dollar</td></tr><tr><td>Fourth Bike Store</td><td>United States</td><td>Bikes</td><td>4259.2333</td><td>US Dollar</td></tr><tr><td>Mountain Bike Store</td><td>United States</td><td>Bikes</td><td>4259.2333</td><td>US Dollar</td></tr><tr><td>Cycle Parts and Accessories</td><td>Australia</td><td>Bikes</td><td>3975.2845</td><td>Australian Dollar</td></tr><tr><td>Blue-Ribbon Bike Company</td><td>United States</td><td>Bikes</td><td>3975.2844</td><td>US Dollar</td></tr><tr><td>Quick Parts and Service</td><td>Canada</td><td>Bikes</td><td>3975.2844</td><td>Canadian Dollar</td></tr><tr><td>The Bike Outlet</td><td>France</td><td>Bikes</td><td>3975.2844</td><td>US Dollar</td></tr><tr><td>Industrial Supplies</td><td>United States</td><td>Bikes</td><td>3975.2843</td><td>US Dollar</td></tr><tr><td>Authorized Bike Sales and Rental</td><td>United States</td><td>Bikes</td><td>3975.2842</td><td>US Dollar</td></tr><tr><td>Bike Part Wholesalers</td><td>Australia</td><td>Bikes</td><td>3691.3355</td><td>Australian Dollar</td></tr><tr><td>Fitness Supplies</td><td>United States</td><td>Bikes</td><td>3691.3355</td><td>US Dollar</td></tr><tr><td>Exchange Parts Inc.</td><td>United States</td><td>Bikes</td><td>3691.3355</td><td>US Dollar</td></tr><tr><td>Popular Bike Lines</td><td>Australia</td><td>Bikes</td><td>3691.3355</td><td>Australian Dollar</td></tr><tr><td>Helpful Sales and Repair Service</td><td>Australia</td><td>Bikes</td><td>3691.3355</td><td>Australian Dollar</td></tr><tr><td>Stock Parts and Supplies</td><td>United States</td><td>Bikes</td><td>3407.3866</td><td>US Dollar</td></tr><tr><td>Variety Cycling</td><td>United Kingdom</td><td>Bikes</td><td>3123.4377</td><td>United Kingdom Pound</td></tr><tr><td>Cycles Wholesaler &amp; Mfg.</td><td>United Kingdom</td><td>Bikes</td><td>3123.4377</td><td>United Kingdom Pound</td></tr><tr><td>Fast Bike Works</td><td>Australia</td><td>Bikes</td><td>3123.4376</td><td>Australian Dollar</td></tr><tr><td>Fasteners &amp; Bolts Outlet</td><td>Canada</td><td>Bikes</td><td>2839.4889</td><td>Canadian Dollar</td></tr><tr><td>Locks Company</td><td>United States</td><td>Bikes</td><td>2839.4889</td><td>US Dollar</td></tr><tr><td>Metal Clearing House</td><td>Canada</td><td>Bikes</td><td>2839.4889</td><td>Canadian Dollar</td></tr><tr><td>Pedaling Components</td><td>Germany</td><td>Bikes</td><td>2555.5399</td><td>EURO</td></tr><tr><td>Professional Sales and Service</td><td>United States</td><td>Bikes</td><td>2271.5912</td><td>US Dollar</td></tr><tr><td>Fun Toys and Bikes</td><td>United States</td><td>Bikes</td><td>2271.5912</td><td>US Dollar</td></tr><tr><td>Rich Department Store</td><td>Australia</td><td>Bikes</td><td>2271.591</td><td>Australian Dollar</td></tr><tr><td>Small Bike Accessories Shop</td><td>United States</td><td>Bikes</td><td>1987.6423</td><td>US Dollar</td></tr><tr><td>Sports Merchandise</td><td>United States</td><td>Bikes</td><td>1987.6422</td><td>US Dollar</td></tr><tr><td>Honest Repair Service</td><td>United States</td><td>Bikes</td><td>1987.6422</td><td>US Dollar</td></tr><tr><td>Liquidation Sales</td><td>Australia</td><td>Bikes</td><td>1703.6934</td><td>Australian Dollar</td></tr><tr><td>Racing Supply Distributors</td><td>France</td><td>Bikes</td><td>1703.6934</td><td>US Dollar</td></tr><tr><td>South Bike Company</td><td>Canada</td><td>Bikes</td><td>1703.6933</td><td>Canadian Dollar</td></tr><tr><td>Quitting Business Distributors</td><td>United States</td><td>Bikes</td><td>1419.7445</td><td>US Dollar</td></tr><tr><td>Thrilling Bike Tours</td><td>United States</td><td>Bikes</td><td>1419.7445</td><td>US Dollar</td></tr><tr><td>Machines &amp; Cycles Store</td><td>Canada</td><td>Bikes</td><td>1419.7445</td><td>Canadian Dollar</td></tr><tr><td>Finer Sporting Goods</td><td>France</td><td>Bikes</td><td>1419.7445</td><td>US Dollar</td></tr><tr><td>First Supplies</td><td>Australia</td><td>Bikes</td><td>1419.7445</td><td>Australian Dollar</td></tr><tr><td>Engineered Bike Systems</td><td>United States</td><td>Bikes</td><td>1135.7956</td><td>US Dollar</td></tr><tr><td>Cycles Sales and Repair</td><td>France</td><td>Bikes</td><td>1135.7956</td><td>US Dollar</td></tr><tr><td>Bicycle Exporters</td><td>Germany</td><td>Bikes</td><td>1135.7956</td><td>EURO</td></tr><tr><td>Novelty Bikes</td><td>United States</td><td>Bikes</td><td>1135.7956</td><td>US Dollar</td></tr><tr><td>Systematic Sales</td><td>United States</td><td>Bikes</td><td>1135.7956</td><td>US Dollar</td></tr><tr><td>Plastic Products Manufacturers</td><td>Australia</td><td>Bikes</td><td>1135.7956</td><td>Australian Dollar</td></tr><tr><td>Finer Mart</td><td>United States</td><td>Bikes</td><td>1135.7955</td><td>US Dollar</td></tr><tr><td>Exemplary Cycles</td><td>United States</td><td>Bikes</td><td>851.8467</td><td>US Dollar</td></tr><tr><td>Paints and Solvents Company</td><td>United States</td><td>Bikes</td><td>851.8467</td><td>US Dollar</td></tr><tr><td>West Wind Distributors</td><td>Germany</td><td>Bikes</td><td>851.8467</td><td>EURO</td></tr><tr><td>Efficient Cycling</td><td>Canada</td><td>Bikes</td><td>851.8466</td><td>Canadian Dollar</td></tr><tr><td>Purchase Mart</td><td>United States</td><td>Bikes</td><td>567.8978</td><td>US Dollar</td></tr><tr><td>Quality Bike Sales</td><td>Australia</td><td>Bikes</td><td>567.8978</td><td>Australian Dollar</td></tr><tr><td>List Price Catalog Company</td><td>Australia</td><td>Bikes</td><td>567.8978</td><td>Australian Dollar</td></tr><tr><td>Rural Department Store</td><td>United States</td><td>Bikes</td><td>567.8978</td><td>US Dollar</td></tr><tr><td>Rustic Bike Store</td><td>Germany</td><td>Bikes</td><td>283.9489</td><td>EURO</td></tr><tr><td>Sensible Sports</td><td>Australia</td><td>Bikes</td><td>283.9489</td><td>Australian Dollar</td></tr><tr><td>Rampart Amusement Company</td><td>United Kingdom</td><td>Bikes</td><td>283.9489</td><td>United Kingdom Pound</td></tr><tr><td>Vale Riding Supplies</td><td>United States</td><td>Bikes</td><td>283.9489</td><td>US Dollar</td></tr><tr><td>Transport Bikes</td><td>United States</td><td>Bikes</td><td>283.9489</td><td>US Dollar</td></tr><tr><td>Incomparable Bicycle Store</td><td>United States</td><td>Bikes</td><td>283.9489</td><td>US Dollar</td></tr><tr><td>Off-Price Bike Center</td><td>Germany</td><td>Bikes</td><td>283.9489</td><td>EURO</td></tr><tr><td>Eastside Cycle Shop</td><td>Australia</td><td>Bikes</td><td>283.9489</td><td>Australian Dollar</td></tr><tr><td>Eastward Bike Accessories</td><td>Australia</td><td>Bikes</td><td>283.9489</td><td>Australian Dollar</td></tr><tr><td>Cycle Clearance</td><td>United States</td><td>Bikes</td><td>283.9489</td><td>US Dollar</td></tr><tr><td>Accessories Network</td><td>France</td><td>Bikes</td><td>283.9489</td><td>US Dollar</td></tr><tr><td>Family Entertainment Center</td><td>United States</td><td>Bikes</td><td>283.9489</td><td>US Dollar</td></tr><tr><td>Fitness Bike Accessories</td><td>Australia</td><td>Bikes</td><td>283.9489</td><td>Australian Dollar</td></tr><tr><td>Fitness Discount Store</td><td>Australia</td><td>Bikes</td><td>283.9489</td><td>Australian Dollar</td></tr></table>"
                    },
                    "metadata": {}
                }
            ],
            "execution_count": 5
        },
        {
            "cell_type": "markdown",
            "source": [
                "<span style=\"font-size: 12.000000pt; font-family: 'TimesNewRomanPS'; font-weight: 700\">Problem 2</span>\n",
                "\n",
                "<span style=\"font-size: 12.000000pt; font-family: 'TimesNewRomanPSMT'\">You have been asked to examine the performance of sales using the Euro currency. Produce a report showing state or province name, city name, and total reseller sales, subtotaled by city,<br>for all EURO sales. You should have three columns, called State/Province, City, and Total Reseller Sales, in alphabetical order by State/Province. The total for each state or province should have the word \"Total\" instead of NULL in the city column. The overall total should have the word \"Grand\" in the State/Province column.&nbsp;</span>"
            ],
            "metadata": {
                "language": "sql",
                "azdata_cell_guid": "0113a43d-4ee4-454d-865e-5830041013d6"
            },
            "attachments": {}
        },
        {
            "cell_type": "code",
            "source": [
                "USE ADW\n",
                "SELECT CASE WHEN g.StateProvinceName is NULL \n",
                "    THEN 'Grand'\n",
                "    ELSE g.StateProvinceName END AS 'State/Province'\n",
                "    ,CASE WHEN g.City is NULL \n",
                "    THEN 'Total'\n",
                "    ELSE g.City END AS City\n",
                "    ,ROUND(SUM(fr.SalesAmount),2) AS TotalResellerSales\n",
                "FROM FactResellerSales fr \n",
                "INNER JOIN DimReseller r \n",
                "    ON fr.ResellerKey = r.ResellerKey\n",
                "INNER JOIN DimCurrency cur \n",
                "    ON fr.CurrencyKey = cur.CurrencyKey\n",
                "INNER JOIN DimGeography g\n",
                "    ON r.GeographyKey = g.GeographyKey\n",
                "WHERE cur.CurrencyName = 'EURO'\n",
                "GROUP BY ROLLUP (g.StateProvinceName, g.City)\n",
                "ORDER BY g.StateProvinceName, g.City\n",
                ""
            ],
            "metadata": {
                "language": "sql",
                "azdata_cell_guid": "033add9e-332d-41d0-aa43-acef2b72b25c",
                "tags": []
            },
            "outputs": [
                {
                    "output_type": "display_data",
                    "data": {
                        "text/html": "(46 rows affected)"
                    },
                    "metadata": {}
                },
                {
                    "output_type": "display_data",
                    "data": {
                        "text/html": "Total execution time: 00:00:00.127"
                    },
                    "metadata": {}
                },
                {
                    "output_type": "execute_result",
                    "execution_count": 2,
                    "data": {
                        "application/vnd.dataresource+json": {
                            "schema": {
                                "fields": [
                                    {
                                        "name": "State/Province"
                                    },
                                    {
                                        "name": "City"
                                    },
                                    {
                                        "name": "TotalResellerSales"
                                    }
                                ]
                            },
                            "data": [
                                {
                                    "State/Province": "Grand",
                                    "City": "Total",
                                    "TotalResellerSales": "2474535.71"
                                },
                                {
                                    "State/Province": "Bayern",
                                    "City": "Total",
                                    "TotalResellerSales": "202204.87"
                                },
                                {
                                    "State/Province": "Bayern",
                                    "City": "Augsburg",
                                    "TotalResellerSales": "3192.37"
                                },
                                {
                                    "State/Province": "Bayern",
                                    "City": "Frankfurt",
                                    "TotalResellerSales": "12795.43"
                                },
                                {
                                    "State/Province": "Bayern",
                                    "City": "Grevenbroich",
                                    "TotalResellerSales": "186217.07"
                                },
                                {
                                    "State/Province": "Brandenburg",
                                    "City": "Total",
                                    "TotalResellerSales": "116697.24"
                                },
                                {
                                    "State/Province": "Brandenburg",
                                    "City": "Berlin",
                                    "TotalResellerSales": "144.00"
                                },
                                {
                                    "State/Province": "Brandenburg",
                                    "City": "Eilenburg",
                                    "TotalResellerSales": "116553.24"
                                },
                                {
                                    "State/Province": "Hamburg",
                                    "City": "Total",
                                    "TotalResellerSales": "271495.32"
                                },
                                {
                                    "State/Province": "Hamburg",
                                    "City": "Augsburg",
                                    "TotalResellerSales": "5404.20"
                                },
                                {
                                    "State/Province": "Hamburg",
                                    "City": "Berlin",
                                    "TotalResellerSales": "4689.13"
                                },
                                {
                                    "State/Province": "Hamburg",
                                    "City": "Essen",
                                    "TotalResellerSales": "30648.09"
                                },
                                {
                                    "State/Province": "Hamburg",
                                    "City": "Frankfurt am Main",
                                    "TotalResellerSales": "197327.59"
                                },
                                {
                                    "State/Province": "Hamburg",
                                    "City": "Hamburg",
                                    "TotalResellerSales": "7963.93"
                                },
                                {
                                    "State/Province": "Hamburg",
                                    "City": "Muehlheim",
                                    "TotalResellerSales": "22090.04"
                                },
                                {
                                    "State/Province": "Hamburg",
                                    "City": "Paderborn",
                                    "TotalResellerSales": "3372.34"
                                },
                                {
                                    "State/Province": "Hauts de Seine",
                                    "City": "Total",
                                    "TotalResellerSales": "174535.41"
                                },
                                {
                                    "State/Province": "Hauts de Seine",
                                    "City": "Colombes",
                                    "TotalResellerSales": "147554.83"
                                },
                                {
                                    "State/Province": "Hauts de Seine",
                                    "City": "Suresnes",
                                    "TotalResellerSales": "26980.57"
                                },
                                {
                                    "State/Province": "Hessen",
                                    "City": "Total",
                                    "TotalResellerSales": "361952.29"
                                },
                                {
                                    "State/Province": "Hessen",
                                    "City": "Bad Soden",
                                    "TotalResellerSales": "337756.73"
                                },
                                {
                                    "State/Province": "Hessen",
                                    "City": "Berlin",
                                    "TotalResellerSales": "3372.45"
                                },
                                {
                                    "State/Province": "Hessen",
                                    "City": "Duesseldorf",
                                    "TotalResellerSales": "12240.16"
                                },
                                {
                                    "State/Province": "Hessen",
                                    "City": "München",
                                    "TotalResellerSales": "8582.95"
                                },
                                {
                                    "State/Province": "Nordrhein-Westfalen",
                                    "City": "Total",
                                    "TotalResellerSales": "223919.84"
                                },
                                {
                                    "State/Province": "Nordrhein-Westfalen",
                                    "City": "Berlin",
                                    "TotalResellerSales": "26427.37"
                                },
                                {
                                    "State/Province": "Nordrhein-Westfalen",
                                    "City": "Braunschweig",
                                    "TotalResellerSales": "8140.75"
                                },
                                {
                                    "State/Province": "Nordrhein-Westfalen",
                                    "City": "Hannover",
                                    "TotalResellerSales": "29218.36"
                                },
                                {
                                    "State/Province": "Nordrhein-Westfalen",
                                    "City": "Leipzig",
                                    "TotalResellerSales": "6369.00"
                                },
                                {
                                    "State/Province": "Nordrhein-Westfalen",
                                    "City": "München",
                                    "TotalResellerSales": "153764.35"
                                },
                                {
                                    "State/Province": "Saarland",
                                    "City": "Total",
                                    "TotalResellerSales": "807718.47"
                                },
                                {
                                    "State/Province": "Saarland",
                                    "City": "Berlin",
                                    "TotalResellerSales": "220496.69"
                                },
                                {
                                    "State/Province": "Saarland",
                                    "City": "Frankfurt am Main",
                                    "TotalResellerSales": "5426.79"
                                },
                                {
                                    "State/Province": "Saarland",
                                    "City": "Kiel",
                                    "TotalResellerSales": "56130.07"
                                },
                                {
                                    "State/Province": "Saarland",
                                    "City": "Münster",
                                    "TotalResellerSales": "132143.71"
                                },
                                {
                                    "State/Province": "Saarland",
                                    "City": "Offenbach",
                                    "TotalResellerSales": "272052.23"
                                },
                                {
                                    "State/Province": "Saarland",
                                    "City": "Poing",
                                    "TotalResellerSales": "1344.59"
                                },
                                {
                                    "State/Province": "Saarland",
                                    "City": "Saarbrücken",
                                    "TotalResellerSales": "117328.46"
                                },
                                {
                                    "State/Province": "Saarland",
                                    "City": "Stuttgart",
                                    "TotalResellerSales": "228.58"
                                },
                                {
                                    "State/Province": "Saarland",
                                    "City": "Sulzbach Taunus",
                                    "TotalResellerSales": "2567.36"
                                },
                                {
                                    "State/Province": "Seine (Paris)",
                                    "City": "Total",
                                    "TotalResellerSales": "287495.02"
                                },
                                {
                                    "State/Province": "Seine (Paris)",
                                    "City": "Paris",
                                    "TotalResellerSales": "287495.02"
                                },
                                {
                                    "State/Province": "Seine et Marne",
                                    "City": "Total",
                                    "TotalResellerSales": "31.58"
                                },
                                {
                                    "State/Province": "Seine et Marne",
                                    "City": "Lieusaint",
                                    "TotalResellerSales": "31.58"
                                },
                                {
                                    "State/Province": "Val de Marne",
                                    "City": "Total",
                                    "TotalResellerSales": "28485.66"
                                },
                                {
                                    "State/Province": "Val de Marne",
                                    "City": "Orly",
                                    "TotalResellerSales": "28485.66"
                                }
                            ]
                        },
                        "text/html": "<table><tr><th>State/Province</th><th>City</th><th>TotalResellerSales</th></tr><tr><td>Grand</td><td>Total</td><td>2474535.71</td></tr><tr><td>Bayern</td><td>Total</td><td>202204.87</td></tr><tr><td>Bayern</td><td>Augsburg</td><td>3192.37</td></tr><tr><td>Bayern</td><td>Frankfurt</td><td>12795.43</td></tr><tr><td>Bayern</td><td>Grevenbroich</td><td>186217.07</td></tr><tr><td>Brandenburg</td><td>Total</td><td>116697.24</td></tr><tr><td>Brandenburg</td><td>Berlin</td><td>144.00</td></tr><tr><td>Brandenburg</td><td>Eilenburg</td><td>116553.24</td></tr><tr><td>Hamburg</td><td>Total</td><td>271495.32</td></tr><tr><td>Hamburg</td><td>Augsburg</td><td>5404.20</td></tr><tr><td>Hamburg</td><td>Berlin</td><td>4689.13</td></tr><tr><td>Hamburg</td><td>Essen</td><td>30648.09</td></tr><tr><td>Hamburg</td><td>Frankfurt am Main</td><td>197327.59</td></tr><tr><td>Hamburg</td><td>Hamburg</td><td>7963.93</td></tr><tr><td>Hamburg</td><td>Muehlheim</td><td>22090.04</td></tr><tr><td>Hamburg</td><td>Paderborn</td><td>3372.34</td></tr><tr><td>Hauts de Seine</td><td>Total</td><td>174535.41</td></tr><tr><td>Hauts de Seine</td><td>Colombes</td><td>147554.83</td></tr><tr><td>Hauts de Seine</td><td>Suresnes</td><td>26980.57</td></tr><tr><td>Hessen</td><td>Total</td><td>361952.29</td></tr><tr><td>Hessen</td><td>Bad Soden</td><td>337756.73</td></tr><tr><td>Hessen</td><td>Berlin</td><td>3372.45</td></tr><tr><td>Hessen</td><td>Duesseldorf</td><td>12240.16</td></tr><tr><td>Hessen</td><td>München</td><td>8582.95</td></tr><tr><td>Nordrhein-Westfalen</td><td>Total</td><td>223919.84</td></tr><tr><td>Nordrhein-Westfalen</td><td>Berlin</td><td>26427.37</td></tr><tr><td>Nordrhein-Westfalen</td><td>Braunschweig</td><td>8140.75</td></tr><tr><td>Nordrhein-Westfalen</td><td>Hannover</td><td>29218.36</td></tr><tr><td>Nordrhein-Westfalen</td><td>Leipzig</td><td>6369.00</td></tr><tr><td>Nordrhein-Westfalen</td><td>München</td><td>153764.35</td></tr><tr><td>Saarland</td><td>Total</td><td>807718.47</td></tr><tr><td>Saarland</td><td>Berlin</td><td>220496.69</td></tr><tr><td>Saarland</td><td>Frankfurt am Main</td><td>5426.79</td></tr><tr><td>Saarland</td><td>Kiel</td><td>56130.07</td></tr><tr><td>Saarland</td><td>Münster</td><td>132143.71</td></tr><tr><td>Saarland</td><td>Offenbach</td><td>272052.23</td></tr><tr><td>Saarland</td><td>Poing</td><td>1344.59</td></tr><tr><td>Saarland</td><td>Saarbrücken</td><td>117328.46</td></tr><tr><td>Saarland</td><td>Stuttgart</td><td>228.58</td></tr><tr><td>Saarland</td><td>Sulzbach Taunus</td><td>2567.36</td></tr><tr><td>Seine (Paris)</td><td>Total</td><td>287495.02</td></tr><tr><td>Seine (Paris)</td><td>Paris</td><td>287495.02</td></tr><tr><td>Seine et Marne</td><td>Total</td><td>31.58</td></tr><tr><td>Seine et Marne</td><td>Lieusaint</td><td>31.58</td></tr><tr><td>Val de Marne</td><td>Total</td><td>28485.66</td></tr><tr><td>Val de Marne</td><td>Orly</td><td>28485.66</td></tr></table>"
                    },
                    "metadata": {}
                }
            ],
            "execution_count": 2
        },
        {
            "cell_type": "markdown",
            "source": [
                "<span style=\"font-size: 12.000000pt; font-family: 'TimesNewRomanPS'; font-weight: 700\">Problem 3</span>\n",
                "\n",
                "<span style=\"font-size: 12.000000pt; font-family: 'TimesNewRomanPSMT'\">Produce a report that illustrates the total amount of reseller sales by currency. Ensure that you show the greatest value first, and please round to two decimal places.&nbsp;</span>"
            ],
            "metadata": {
                "azdata_cell_guid": "a6ffb145-31e3-47f0-96ee-b71d3a9bc841"
            },
            "attachments": {}
        },
        {
            "cell_type": "code",
            "source": [
                "SELECT c.CurrencyName\n",
                "    , ROUND(SUM(fr.SalesAmount), 2) AS TotalAmount\n",
                "FROM FactResellerSales fr\n",
                "INNER JOIN DimCurrency c \n",
                "    ON fr.CurrencyKey = c.CurrencyKey\n",
                "GROUP BY c.CurrencyName\n",
                "ORDER BY TotalAmount DESC"
            ],
            "metadata": {
                "azdata_cell_guid": "8bbe4f95-d300-4dd7-a41e-73a3c0815f62",
                "language": "sql",
                "tags": []
            },
            "outputs": [
                {
                    "output_type": "display_data",
                    "data": {
                        "text/html": "(5 rows affected)"
                    },
                    "metadata": {}
                },
                {
                    "output_type": "display_data",
                    "data": {
                        "text/html": "Total execution time: 00:00:00.126"
                    },
                    "metadata": {}
                },
                {
                    "output_type": "execute_result",
                    "execution_count": 3,
                    "data": {
                        "application/vnd.dataresource+json": {
                            "schema": {
                                "fields": [
                                    {
                                        "name": "CurrencyName"
                                    },
                                    {
                                        "name": "TotalAmount"
                                    }
                                ]
                            },
                            "data": [
                                {
                                    "CurrencyName": "US Dollar",
                                    "TotalAmount": "57724791.47"
                                },
                                {
                                    "CurrencyName": "Canadian Dollar",
                                    "TotalAmount": "14377925.60"
                                },
                                {
                                    "CurrencyName": "United Kingdom Pound",
                                    "TotalAmount": "4279008.83"
                                },
                                {
                                    "CurrencyName": "EURO",
                                    "TotalAmount": "2474535.71"
                                },
                                {
                                    "CurrencyName": "Australian Dollar",
                                    "TotalAmount": "1594335.38"
                                }
                            ]
                        },
                        "text/html": "<table><tr><th>CurrencyName</th><th>TotalAmount</th></tr><tr><td>US Dollar</td><td>57724791.47</td></tr><tr><td>Canadian Dollar</td><td>14377925.60</td></tr><tr><td>United Kingdom Pound</td><td>4279008.83</td></tr><tr><td>EURO</td><td>2474535.71</td></tr><tr><td>Australian Dollar</td><td>1594335.38</td></tr></table>"
                    },
                    "metadata": {}
                }
            ],
            "execution_count": 3
        },
        {
            "cell_type": "markdown",
            "source": [
                "<span style=\"font-size: 12.000000pt; font-family: 'TimesNewRomanPS'; font-weight: 700\">Problem 4</span>\n",
                "\n",
                "<span style=\"font-size: 12.000000pt; font-family: 'TimesNewRomanPSMT'\">Leadership wants to compare the effectiveness of the Touring-1000 and Touring-3000 promotions across fiscal quarters for reseller sales. Produce a report with the following columns: FiscalYear, English Promotion Name, Currency Name, FiscalQ2, FiscalQ3</span>\n",
                "\n",
                "<span style=\"font-size: 12.000000pt; font-family: 'TimesNewRomanPSMT'\">N.B. The FiscalQ2 and FiscalQ3 columns should contain the total sales the given fiscal year and promotion name.&nbsp;</span>"
            ],
            "metadata": {
                "language": "sql",
                "azdata_cell_guid": "71f27540-63b4-4226-bcb2-506d2f503820"
            },
            "attachments": {}
        },
        {
            "cell_type": "code",
            "source": [
                "SELECT wider_data.FiscalYear \n",
                "    , wider_data.EnglishPromotionName\n",
                "    , wider_data.CurrencyName\n",
                "    , wider_data.[2] AS FiscalQ2\n",
                "    , wider_data.[3] AS FiscalQ3\n",
                "FROM\n",
                "(SELECT d.FiscalYear\n",
                "    , d.FiscalQuarter\n",
                "    ,p.EnglishPromotionName\n",
                "    , c. CurrencyName\n",
                "    , ROUND(SUM(fr.SalesAmount), 2) AS Total\n",
                "FROM FactResellerSales fr\n",
                "INNER JOIN DimPromotion p\n",
                "ON fr.PromotionKey = p.PromotionKey \n",
                "INNER JOIN DimDate d\n",
                "ON fr.OrderDateKey = d.DateKey\n",
                "INNER JOIN DimCurrency c \n",
                "ON fr.CurrencyKey = c.CurrencyKey\n",
                "WHERE p.EnglishPromotionName = 'Touring-1000 Promotion'\n",
                "    OR p.EnglishPromotionName = 'Touring-3000 Promotion'\n",
                "GROUP BY p.EnglishPromotionName, d.FiscalYear, d.FiscalQuarter, c.CurrencyName) AS f_data\n",
                "PIVOT (\n",
                "    SUM(Total)\n",
                "    FOR FiscalQuarter\n",
                "    IN ([1], [2], [3], [4])\n",
                ") AS wider_data "
            ],
            "metadata": {
                "language": "sql",
                "azdata_cell_guid": "84fe7abc-9049-4870-93b3-df56b455308d",
                "tags": []
            },
            "outputs": [
                {
                    "output_type": "display_data",
                    "data": {
                        "text/html": "(10 rows affected)"
                    },
                    "metadata": {}
                },
                {
                    "output_type": "display_data",
                    "data": {
                        "text/html": "Total execution time: 00:00:00.163"
                    },
                    "metadata": {}
                },
                {
                    "output_type": "execute_result",
                    "execution_count": 3,
                    "data": {
                        "application/vnd.dataresource+json": {
                            "schema": {
                                "fields": [
                                    {
                                        "name": "FiscalYear"
                                    },
                                    {
                                        "name": "EnglishPromotionName"
                                    },
                                    {
                                        "name": "CurrencyName"
                                    },
                                    {
                                        "name": "FiscalQ2"
                                    },
                                    {
                                        "name": "FiscalQ3"
                                    }
                                ]
                            },
                            "data": [
                                {
                                    "FiscalYear": "2012",
                                    "EnglishPromotionName": "Touring-1000 Promotion",
                                    "CurrencyName": "Australian Dollar",
                                    "FiscalQ2": "12206.44",
                                    "FiscalQ3": "66372.51"
                                },
                                {
                                    "FiscalYear": "2012",
                                    "EnglishPromotionName": "Touring-1000 Promotion",
                                    "CurrencyName": "Canadian Dollar",
                                    "FiscalQ2": "3051.61",
                                    "FiscalQ3": "71712.83"
                                },
                                {
                                    "FiscalYear": "2012",
                                    "EnglishPromotionName": "Touring-1000 Promotion",
                                    "CurrencyName": "EURO",
                                    "FiscalQ2": "28227.39",
                                    "FiscalQ3": "37382.22"
                                },
                                {
                                    "FiscalYear": "2012",
                                    "EnglishPromotionName": "Touring-1000 Promotion",
                                    "CurrencyName": "United Kingdom Pound",
                                    "FiscalQ2": "6103.22",
                                    "FiscalQ3": "42722.53"
                                },
                                {
                                    "FiscalYear": "2012",
                                    "EnglishPromotionName": "Touring-1000 Promotion",
                                    "CurrencyName": "US Dollar",
                                    "FiscalQ2": "83919.26",
                                    "FiscalQ3": "229633.62"
                                },
                                {
                                    "FiscalYear": "2012",
                                    "EnglishPromotionName": "Touring-3000 Promotion",
                                    "CurrencyName": "Australian Dollar",
                                    "FiscalQ2": "8234.52",
                                    "FiscalQ3": "36345.46"
                                },
                                {
                                    "FiscalYear": "2012",
                                    "EnglishPromotionName": "Touring-3000 Promotion",
                                    "CurrencyName": "Canadian Dollar",
                                    "FiscalQ2": "1419.74",
                                    "FiscalQ3": "54234.24"
                                },
                                {
                                    "FiscalYear": "2012",
                                    "EnglishPromotionName": "Touring-3000 Promotion",
                                    "CurrencyName": "EURO",
                                    "FiscalQ2": "19024.57",
                                    "FiscalQ3": "49407.11"
                                },
                                {
                                    "FiscalYear": "2012",
                                    "EnglishPromotionName": "Touring-3000 Promotion",
                                    "CurrencyName": "United Kingdom Pound",
                                    "FiscalQ2": "3123.44",
                                    "FiscalQ3": "38049.15"
                                },
                                {
                                    "FiscalYear": "2012",
                                    "EnglishPromotionName": "Touring-3000 Promotion",
                                    "CurrencyName": "US Dollar",
                                    "FiscalQ2": "64172.45",
                                    "FiscalQ3": "169233.53"
                                }
                            ]
                        },
                        "text/html": "<table><tr><th>FiscalYear</th><th>EnglishPromotionName</th><th>CurrencyName</th><th>FiscalQ2</th><th>FiscalQ3</th></tr><tr><td>2012</td><td>Touring-1000 Promotion</td><td>Australian Dollar</td><td>12206.44</td><td>66372.51</td></tr><tr><td>2012</td><td>Touring-1000 Promotion</td><td>Canadian Dollar</td><td>3051.61</td><td>71712.83</td></tr><tr><td>2012</td><td>Touring-1000 Promotion</td><td>EURO</td><td>28227.39</td><td>37382.22</td></tr><tr><td>2012</td><td>Touring-1000 Promotion</td><td>United Kingdom Pound</td><td>6103.22</td><td>42722.53</td></tr><tr><td>2012</td><td>Touring-1000 Promotion</td><td>US Dollar</td><td>83919.26</td><td>229633.62</td></tr><tr><td>2012</td><td>Touring-3000 Promotion</td><td>Australian Dollar</td><td>8234.52</td><td>36345.46</td></tr><tr><td>2012</td><td>Touring-3000 Promotion</td><td>Canadian Dollar</td><td>1419.74</td><td>54234.24</td></tr><tr><td>2012</td><td>Touring-3000 Promotion</td><td>EURO</td><td>19024.57</td><td>49407.11</td></tr><tr><td>2012</td><td>Touring-3000 Promotion</td><td>United Kingdom Pound</td><td>3123.44</td><td>38049.15</td></tr><tr><td>2012</td><td>Touring-3000 Promotion</td><td>US Dollar</td><td>64172.45</td><td>169233.53</td></tr></table>"
                    },
                    "metadata": {}
                }
            ],
            "execution_count": 3
        },
        {
            "cell_type": "markdown",
            "source": [
                "<span style=\"font-size: 12.000000pt; font-family: 'TimesNewRomanPS'; font-weight: 700\">Problem 5</span>\n",
                "\n",
                "<span style=\"font-size: 12.000000pt; font-family: 'TimesNewRomanPSMT'\">Leadership wants to improve profitability by targeting geographies with low spend as a function of income. Develop a report that shows sales territory region, associated state province name,&nbsp;</span> <span style=\"font-family: TimesNewRomanPSMT; font-size: 12pt; color: var(--vscode-foreground);\">currency, average income, average sales, and average sales as a percentage of average income. Order the result set so that the lowest share of income is first.</span>"
            ],
            "metadata": {
                "language": "sql",
                "azdata_cell_guid": "e82641f3-adf8-4d53-b734-34f48fa14898"
            },
            "attachments": {}
        },
        {
            "cell_type": "code",
            "source": [
                "USE ADW\n",
                "SELECT st.SalesTerritoryRegion\n",
                "    , g.StateProvinceName\n",
                "    , c.CurrencyName\n",
                "    , AVG(cust.YearlyIncome) AS AverageIncome\n",
                "    , AVG(fr.SalesAmount) AS AverageSales\n",
                "    , AVG(fr.SalesAmount) / AVG(cust.YearlyIncome) * 100  AS SalesPercentofIncome\n",
                "FROM FactResellerSales fr \n",
                "INNER JOIN DimSalesTerritory st \n",
                "        ON fr.SalesTerritoryKey = st.SalesTerritoryKey\n",
                "INNER JOIN DimGeography g\n",
                "ON fr.SalesTerritoryKey = g.SalesTerritoryKey\n",
                "INNER JOIN DimCustomer cust\n",
                "    ON g.GeographyKey = cust.GeographyKey\n",
                "INNER JOIN DimCurrency c\n",
                "    ON fr.CurrencyKey = c.CurrencyKey\n",
                "GROUP BY st.SalesTerritoryRegion, g.StateProvinceName, c.CurrencyName\n",
                "ORDER BY SalesPercentofIncome"
            ],
            "metadata": {
                "language": "sql",
                "azdata_cell_guid": "949726c5-1ce5-4744-8ce3-659fdc553f3c",
                "tags": []
            },
            "outputs": [
                {
                    "output_type": "display_data",
                    "data": {
                        "text/html": "(69 rows affected)"
                    },
                    "metadata": {}
                },
                {
                    "output_type": "display_data",
                    "data": {
                        "text/html": "Total execution time: 00:04:37.765"
                    },
                    "metadata": {}
                },
                {
                    "output_type": "execute_result",
                    "execution_count": 2,
                    "data": {
                        "application/vnd.dataresource+json": {
                            "schema": {
                                "fields": [
                                    {
                                        "name": "SalesTerritoryRegion"
                                    },
                                    {
                                        "name": "StateProvinceName"
                                    },
                                    {
                                        "name": "CurrencyName"
                                    },
                                    {
                                        "name": "AverageIncome"
                                    },
                                    {
                                        "name": "AverageSales"
                                    },
                                    {
                                        "name": "SalesPercentofIncome"
                                    }
                                ]
                            },
                            "data": [
                                {
                                    "SalesTerritoryRegion": "Southeast",
                                    "StateProvinceName": "South Carolina",
                                    "CurrencyName": "US Dollar",
                                    "AverageIncome": "110000.00",
                                    "AverageSales": "1325.1501",
                                    "SalesPercentofIncome": "1.20"
                                },
                                {
                                    "SalesTerritoryRegion": "Australia",
                                    "StateProvinceName": "Queensland",
                                    "CurrencyName": "Australian Dollar",
                                    "AverageIncome": "64716.2673",
                                    "AverageSales": "930.727",
                                    "SalesPercentofIncome": "1.43"
                                },
                                {
                                    "SalesTerritoryRegion": "Australia",
                                    "StateProvinceName": "New South Wales",
                                    "CurrencyName": "Australian Dollar",
                                    "AverageIncome": "64759.4611",
                                    "AverageSales": "930.727",
                                    "SalesPercentofIncome": "1.43"
                                },
                                {
                                    "SalesTerritoryRegion": "Australia",
                                    "StateProvinceName": "Tasmania",
                                    "CurrencyName": "Australian Dollar",
                                    "AverageIncome": "64433.9622",
                                    "AverageSales": "930.727",
                                    "SalesPercentofIncome": "1.44"
                                },
                                {
                                    "SalesTerritoryRegion": "Australia",
                                    "StateProvinceName": "Victoria",
                                    "CurrencyName": "Australian Dollar",
                                    "AverageIncome": "63545.8612",
                                    "AverageSales": "930.727",
                                    "SalesPercentofIncome": "1.46"
                                },
                                {
                                    "SalesTerritoryRegion": "Australia",
                                    "StateProvinceName": "South Australia",
                                    "CurrencyName": "Australian Dollar",
                                    "AverageIncome": "63263.5983",
                                    "AverageSales": "930.727",
                                    "SalesPercentofIncome": "1.47"
                                },
                                {
                                    "SalesTerritoryRegion": "Central",
                                    "StateProvinceName": "Minnesota",
                                    "CurrencyName": "US Dollar",
                                    "AverageIncome": "80000.00",
                                    "AverageSales": "1360.2904",
                                    "SalesPercentofIncome": "1.70"
                                },
                                {
                                    "SalesTerritoryRegion": "Central",
                                    "StateProvinceName": "Missouri",
                                    "CurrencyName": "US Dollar",
                                    "AverageIncome": "80000.00",
                                    "AverageSales": "1360.2904",
                                    "SalesPercentofIncome": "1.70"
                                },
                                {
                                    "SalesTerritoryRegion": "Northwest",
                                    "StateProvinceName": "Montana",
                                    "CurrencyName": "US Dollar",
                                    "AverageIncome": "90000.00",
                                    "AverageSales": "1579.659",
                                    "SalesPercentofIncome": "1.75"
                                },
                                {
                                    "SalesTerritoryRegion": "Southeast",
                                    "StateProvinceName": "Kentucky",
                                    "CurrencyName": "US Dollar",
                                    "AverageIncome": "70000.00",
                                    "AverageSales": "1325.1501",
                                    "SalesPercentofIncome": "1.89"
                                },
                                {
                                    "SalesTerritoryRegion": "Southeast",
                                    "StateProvinceName": "Georgia",
                                    "CurrencyName": "US Dollar",
                                    "AverageIncome": "66666.6666",
                                    "AverageSales": "1325.1501",
                                    "SalesPercentofIncome": "1.98"
                                },
                                {
                                    "SalesTerritoryRegion": "Northeast",
                                    "StateProvinceName": "Massachusetts",
                                    "CurrencyName": "US Dollar",
                                    "AverageIncome": "60000.00",
                                    "AverageSales": "1193.4656",
                                    "SalesPercentofIncome": "1.98"
                                },
                                {
                                    "SalesTerritoryRegion": "Southwest",
                                    "StateProvinceName": "California",
                                    "CurrencyName": "US Dollar",
                                    "AverageIncome": "66584.1584",
                                    "AverageSales": "1380.257",
                                    "SalesPercentofIncome": "2.07"
                                },
                                {
                                    "SalesTerritoryRegion": "Canada",
                                    "StateProvinceName": "British Columbia",
                                    "CurrencyName": "Canadian Dollar",
                                    "AverageIncome": "57216.1642",
                                    "AverageSales": "1256.3723",
                                    "SalesPercentofIncome": "2.19"
                                },
                                {
                                    "SalesTerritoryRegion": "France",
                                    "StateProvinceName": "Charente-Maritime",
                                    "CurrencyName": "EURO",
                                    "AverageIncome": "47142.8571",
                                    "AverageSales": "1075.7624",
                                    "SalesPercentofIncome": "2.28"
                                },
                                {
                                    "SalesTerritoryRegion": "Southeast",
                                    "StateProvinceName": "Florida",
                                    "CurrencyName": "US Dollar",
                                    "AverageIncome": "56666.6666",
                                    "AverageSales": "1325.1501",
                                    "SalesPercentofIncome": "2.33"
                                },
                                {
                                    "SalesTerritoryRegion": "United Kingdom",
                                    "StateProvinceName": "England",
                                    "CurrencyName": "United Kingdom Pound",
                                    "AverageIncome": "52169.3674",
                                    "AverageSales": "1215.6275",
                                    "SalesPercentofIncome": "2.33"
                                },
                                {
                                    "SalesTerritoryRegion": "Germany",
                                    "StateProvinceName": "Saarland",
                                    "CurrencyName": "EURO",
                                    "AverageIncome": "45497.7375",
                                    "AverageSales": "1078.8406",
                                    "SalesPercentofIncome": "2.37"
                                },
                                {
                                    "SalesTerritoryRegion": "France",
                                    "StateProvinceName": "Val d'Oise",
                                    "CurrencyName": "EURO",
                                    "AverageIncome": "45333.3333",
                                    "AverageSales": "1075.7624",
                                    "SalesPercentofIncome": "2.37"
                                },
                                {
                                    "SalesTerritoryRegion": "Canada",
                                    "StateProvinceName": "Alberta",
                                    "CurrencyName": "Canadian Dollar",
                                    "AverageIncome": "51818.1818",
                                    "AverageSales": "1256.3723",
                                    "SalesPercentofIncome": "2.42"
                                },
                                {
                                    "SalesTerritoryRegion": "Germany",
                                    "StateProvinceName": "Hamburg",
                                    "CurrencyName": "EURO",
                                    "AverageIncome": "43367.0033",
                                    "AverageSales": "1078.8406",
                                    "SalesPercentofIncome": "2.48"
                                },
                                {
                                    "SalesTerritoryRegion": "Northeast",
                                    "StateProvinceName": "Ohio",
                                    "CurrencyName": "US Dollar",
                                    "AverageIncome": "47500.00",
                                    "AverageSales": "1193.4656",
                                    "SalesPercentofIncome": "2.51"
                                },
                                {
                                    "SalesTerritoryRegion": "France",
                                    "StateProvinceName": "Loir et Cher",
                                    "CurrencyName": "EURO",
                                    "AverageIncome": "42352.9411",
                                    "AverageSales": "1075.7624",
                                    "SalesPercentofIncome": "2.53"
                                },
                                {
                                    "SalesTerritoryRegion": "Northeast",
                                    "StateProvinceName": "New York",
                                    "CurrencyName": "US Dollar",
                                    "AverageIncome": "46666.6666",
                                    "AverageSales": "1193.4656",
                                    "SalesPercentofIncome": "2.55"
                                },
                                {
                                    "SalesTerritoryRegion": "Germany",
                                    "StateProvinceName": "Hessen",
                                    "CurrencyName": "EURO",
                                    "AverageIncome": "42148.5411",
                                    "AverageSales": "1078.8406",
                                    "SalesPercentofIncome": "2.55"
                                },
                                {
                                    "SalesTerritoryRegion": "Germany",
                                    "StateProvinceName": "Nordrhein-Westfalen",
                                    "CurrencyName": "EURO",
                                    "AverageIncome": "42167.4876",
                                    "AverageSales": "1078.8406",
                                    "SalesPercentofIncome": "2.55"
                                },
                                {
                                    "SalesTerritoryRegion": "Northwest",
                                    "StateProvinceName": "Washington",
                                    "CurrencyName": "US Dollar",
                                    "AverageIncome": "60132.5673",
                                    "AverageSales": "1579.659",
                                    "SalesPercentofIncome": "2.62"
                                },
                                {
                                    "SalesTerritoryRegion": "Northwest",
                                    "StateProvinceName": "Wyoming",
                                    "CurrencyName": "US Dollar",
                                    "AverageIncome": "60000.00",
                                    "AverageSales": "1579.659",
                                    "SalesPercentofIncome": "2.63"
                                },
                                {
                                    "SalesTerritoryRegion": "Northwest",
                                    "StateProvinceName": "Utah",
                                    "CurrencyName": "US Dollar",
                                    "AverageIncome": "60000.00",
                                    "AverageSales": "1579.659",
                                    "SalesPercentofIncome": "2.63"
                                },
                                {
                                    "SalesTerritoryRegion": "Germany",
                                    "StateProvinceName": "Bayern",
                                    "CurrencyName": "EURO",
                                    "AverageIncome": "40789.4736",
                                    "AverageSales": "1078.8406",
                                    "SalesPercentofIncome": "2.64"
                                },
                                {
                                    "SalesTerritoryRegion": "Northwest",
                                    "StateProvinceName": "Oregon",
                                    "CurrencyName": "US Dollar",
                                    "AverageIncome": "59002.7958",
                                    "AverageSales": "1579.659",
                                    "SalesPercentofIncome": "2.67"
                                },
                                {
                                    "SalesTerritoryRegion": "France",
                                    "StateProvinceName": "Moselle",
                                    "CurrencyName": "EURO",
                                    "AverageIncome": "39107.1428",
                                    "AverageSales": "1075.7624",
                                    "SalesPercentofIncome": "2.75"
                                },
                                {
                                    "SalesTerritoryRegion": "France",
                                    "StateProvinceName": "Somme",
                                    "CurrencyName": "EURO",
                                    "AverageIncome": "38636.3636",
                                    "AverageSales": "1075.7624",
                                    "SalesPercentofIncome": "2.78"
                                },
                                {
                                    "SalesTerritoryRegion": "France",
                                    "StateProvinceName": "Seine et Marne",
                                    "CurrencyName": "EURO",
                                    "AverageIncome": "38000.00",
                                    "AverageSales": "1075.7624",
                                    "SalesPercentofIncome": "2.83"
                                },
                                {
                                    "SalesTerritoryRegion": "Germany",
                                    "StateProvinceName": "Brandenburg",
                                    "CurrencyName": "EURO",
                                    "AverageIncome": "38000.00",
                                    "AverageSales": "1078.8406",
                                    "SalesPercentofIncome": "2.83"
                                },
                                {
                                    "SalesTerritoryRegion": "France",
                                    "StateProvinceName": "Charente-Maritime",
                                    "CurrencyName": "US Dollar",
                                    "AverageIncome": "47142.8571",
                                    "AverageSales": "1339.2941",
                                    "SalesPercentofIncome": "2.84"
                                },
                                {
                                    "SalesTerritoryRegion": "Southwest",
                                    "StateProvinceName": "Texas",
                                    "CurrencyName": "US Dollar",
                                    "AverageIncome": "47500.00",
                                    "AverageSales": "1380.257",
                                    "SalesPercentofIncome": "2.90"
                                },
                                {
                                    "SalesTerritoryRegion": "France",
                                    "StateProvinceName": "Hauts de Seine",
                                    "CurrencyName": "EURO",
                                    "AverageIncome": "36871.7948",
                                    "AverageSales": "1075.7624",
                                    "SalesPercentofIncome": "2.91"
                                },
                                {
                                    "SalesTerritoryRegion": "France",
                                    "StateProvinceName": "Val d'Oise",
                                    "CurrencyName": "US Dollar",
                                    "AverageIncome": "45333.3333",
                                    "AverageSales": "1339.2941",
                                    "SalesPercentofIncome": "2.95"
                                },
                                {
                                    "SalesTerritoryRegion": "France",
                                    "StateProvinceName": "Nord",
                                    "CurrencyName": "EURO",
                                    "AverageIncome": "36161.9718",
                                    "AverageSales": "1075.7624",
                                    "SalesPercentofIncome": "2.97"
                                },
                                {
                                    "SalesTerritoryRegion": "France",
                                    "StateProvinceName": "Seine (Paris)",
                                    "CurrencyName": "EURO",
                                    "AverageIncome": "36088.0829",
                                    "AverageSales": "1075.7624",
                                    "SalesPercentofIncome": "2.98"
                                },
                                {
                                    "SalesTerritoryRegion": "Central",
                                    "StateProvinceName": "Illinois",
                                    "CurrencyName": "US Dollar",
                                    "AverageIncome": "45000.00",
                                    "AverageSales": "1360.2904",
                                    "SalesPercentofIncome": "3.02"
                                },
                                {
                                    "SalesTerritoryRegion": "France",
                                    "StateProvinceName": "Seine Saint Denis",
                                    "CurrencyName": "EURO",
                                    "AverageIncome": "34912.2807",
                                    "AverageSales": "1075.7624",
                                    "SalesPercentofIncome": "3.08"
                                },
                                {
                                    "SalesTerritoryRegion": "France",
                                    "StateProvinceName": "Val de Marne",
                                    "CurrencyName": "EURO",
                                    "AverageIncome": "34666.6666",
                                    "AverageSales": "1075.7624",
                                    "SalesPercentofIncome": "3.10"
                                },
                                {
                                    "SalesTerritoryRegion": "France",
                                    "StateProvinceName": "Yveline",
                                    "CurrencyName": "EURO",
                                    "AverageIncome": "34345.238",
                                    "AverageSales": "1075.7624",
                                    "SalesPercentofIncome": "3.13"
                                },
                                {
                                    "SalesTerritoryRegion": "Canada",
                                    "StateProvinceName": "Ontario",
                                    "CurrencyName": "Canadian Dollar",
                                    "AverageIncome": "40000.00",
                                    "AverageSales": "1256.3723",
                                    "SalesPercentofIncome": "3.14"
                                },
                                {
                                    "SalesTerritoryRegion": "France",
                                    "StateProvinceName": "Loir et Cher",
                                    "CurrencyName": "US Dollar",
                                    "AverageIncome": "42352.9411",
                                    "AverageSales": "1339.2941",
                                    "SalesPercentofIncome": "3.16"
                                },
                                {
                                    "SalesTerritoryRegion": "France",
                                    "StateProvinceName": "Pas de Calais",
                                    "CurrencyName": "EURO",
                                    "AverageIncome": "33750.00",
                                    "AverageSales": "1075.7624",
                                    "SalesPercentofIncome": "3.18"
                                },
                                {
                                    "SalesTerritoryRegion": "France",
                                    "StateProvinceName": "Essonne",
                                    "CurrencyName": "EURO",
                                    "AverageIncome": "33600.00",
                                    "AverageSales": "1075.7624",
                                    "SalesPercentofIncome": "3.20"
                                },
                                {
                                    "SalesTerritoryRegion": "Southeast",
                                    "StateProvinceName": "Alabama",
                                    "CurrencyName": "US Dollar",
                                    "AverageIncome": "40000.00",
                                    "AverageSales": "1325.1501",
                                    "SalesPercentofIncome": "3.31"
                                },
                                {
                                    "SalesTerritoryRegion": "Southeast",
                                    "StateProvinceName": "Mississippi",
                                    "CurrencyName": "US Dollar",
                                    "AverageIncome": "40000.00",
                                    "AverageSales": "1325.1501",
                                    "SalesPercentofIncome": "3.31"
                                },
                                {
                                    "SalesTerritoryRegion": "Southeast",
                                    "StateProvinceName": "North Carolina",
                                    "CurrencyName": "US Dollar",
                                    "AverageIncome": "40000.00",
                                    "AverageSales": "1325.1501",
                                    "SalesPercentofIncome": "3.31"
                                },
                                {
                                    "SalesTerritoryRegion": "Southeast",
                                    "StateProvinceName": "Virginia",
                                    "CurrencyName": "US Dollar",
                                    "AverageIncome": "40000.00",
                                    "AverageSales": "1325.1501",
                                    "SalesPercentofIncome": "3.31"
                                },
                                {
                                    "SalesTerritoryRegion": "France",
                                    "StateProvinceName": "Moselle",
                                    "CurrencyName": "US Dollar",
                                    "AverageIncome": "39107.1428",
                                    "AverageSales": "1339.2941",
                                    "SalesPercentofIncome": "3.42"
                                },
                                {
                                    "SalesTerritoryRegion": "Southwest",
                                    "StateProvinceName": "Arizona",
                                    "CurrencyName": "US Dollar",
                                    "AverageIncome": "40000.00",
                                    "AverageSales": "1380.257",
                                    "SalesPercentofIncome": "3.45"
                                },
                                {
                                    "SalesTerritoryRegion": "France",
                                    "StateProvinceName": "Somme",
                                    "CurrencyName": "US Dollar",
                                    "AverageIncome": "38636.3636",
                                    "AverageSales": "1339.2941",
                                    "SalesPercentofIncome": "3.46"
                                },
                                {
                                    "SalesTerritoryRegion": "France",
                                    "StateProvinceName": "Seine et Marne",
                                    "CurrencyName": "US Dollar",
                                    "AverageIncome": "38000.00",
                                    "AverageSales": "1339.2941",
                                    "SalesPercentofIncome": "3.52"
                                },
                                {
                                    "SalesTerritoryRegion": "France",
                                    "StateProvinceName": "Hauts de Seine",
                                    "CurrencyName": "US Dollar",
                                    "AverageIncome": "36871.7948",
                                    "AverageSales": "1339.2941",
                                    "SalesPercentofIncome": "3.63"
                                },
                                {
                                    "SalesTerritoryRegion": "France",
                                    "StateProvinceName": "Garonne (Haute)",
                                    "CurrencyName": "EURO",
                                    "AverageIncome": "29000.00",
                                    "AverageSales": "1075.7624",
                                    "SalesPercentofIncome": "3.70"
                                },
                                {
                                    "SalesTerritoryRegion": "France",
                                    "StateProvinceName": "Loiret",
                                    "CurrencyName": "EURO",
                                    "AverageIncome": "29000.00",
                                    "AverageSales": "1075.7624",
                                    "SalesPercentofIncome": "3.70"
                                },
                                {
                                    "SalesTerritoryRegion": "France",
                                    "StateProvinceName": "Nord",
                                    "CurrencyName": "US Dollar",
                                    "AverageIncome": "36161.9718",
                                    "AverageSales": "1339.2941",
                                    "SalesPercentofIncome": "3.70"
                                },
                                {
                                    "SalesTerritoryRegion": "France",
                                    "StateProvinceName": "Seine (Paris)",
                                    "CurrencyName": "US Dollar",
                                    "AverageIncome": "36088.0829",
                                    "AverageSales": "1339.2941",
                                    "SalesPercentofIncome": "3.71"
                                },
                                {
                                    "SalesTerritoryRegion": "France",
                                    "StateProvinceName": "Seine Saint Denis",
                                    "CurrencyName": "US Dollar",
                                    "AverageIncome": "34912.2807",
                                    "AverageSales": "1339.2941",
                                    "SalesPercentofIncome": "3.83"
                                },
                                {
                                    "SalesTerritoryRegion": "France",
                                    "StateProvinceName": "Val de Marne",
                                    "CurrencyName": "US Dollar",
                                    "AverageIncome": "34666.6666",
                                    "AverageSales": "1339.2941",
                                    "SalesPercentofIncome": "3.86"
                                },
                                {
                                    "SalesTerritoryRegion": "France",
                                    "StateProvinceName": "Yveline",
                                    "CurrencyName": "US Dollar",
                                    "AverageIncome": "34345.238",
                                    "AverageSales": "1339.2941",
                                    "SalesPercentofIncome": "3.89"
                                },
                                {
                                    "SalesTerritoryRegion": "France",
                                    "StateProvinceName": "Pas de Calais",
                                    "CurrencyName": "US Dollar",
                                    "AverageIncome": "33750.00",
                                    "AverageSales": "1339.2941",
                                    "SalesPercentofIncome": "3.96"
                                },
                                {
                                    "SalesTerritoryRegion": "France",
                                    "StateProvinceName": "Essonne",
                                    "CurrencyName": "US Dollar",
                                    "AverageIncome": "33600.00",
                                    "AverageSales": "1339.2941",
                                    "SalesPercentofIncome": "3.98"
                                },
                                {
                                    "SalesTerritoryRegion": "France",
                                    "StateProvinceName": "Garonne (Haute)",
                                    "CurrencyName": "US Dollar",
                                    "AverageIncome": "29000.00",
                                    "AverageSales": "1339.2941",
                                    "SalesPercentofIncome": "4.61"
                                },
                                {
                                    "SalesTerritoryRegion": "France",
                                    "StateProvinceName": "Loiret",
                                    "CurrencyName": "US Dollar",
                                    "AverageIncome": "29000.00",
                                    "AverageSales": "1339.2941",
                                    "SalesPercentofIncome": "4.61"
                                }
                            ]
                        },
                        "text/html": "<table><tr><th>SalesTerritoryRegion</th><th>StateProvinceName</th><th>CurrencyName</th><th>AverageIncome</th><th>AverageSales</th><th>SalesPercentofIncome</th></tr><tr><td>Southeast</td><td>South Carolina</td><td>US Dollar</td><td>110000.00</td><td>1325.1501</td><td>1.20</td></tr><tr><td>Australia</td><td>Queensland</td><td>Australian Dollar</td><td>64716.2673</td><td>930.727</td><td>1.43</td></tr><tr><td>Australia</td><td>New South Wales</td><td>Australian Dollar</td><td>64759.4611</td><td>930.727</td><td>1.43</td></tr><tr><td>Australia</td><td>Tasmania</td><td>Australian Dollar</td><td>64433.9622</td><td>930.727</td><td>1.44</td></tr><tr><td>Australia</td><td>Victoria</td><td>Australian Dollar</td><td>63545.8612</td><td>930.727</td><td>1.46</td></tr><tr><td>Australia</td><td>South Australia</td><td>Australian Dollar</td><td>63263.5983</td><td>930.727</td><td>1.47</td></tr><tr><td>Central</td><td>Minnesota</td><td>US Dollar</td><td>80000.00</td><td>1360.2904</td><td>1.70</td></tr><tr><td>Central</td><td>Missouri</td><td>US Dollar</td><td>80000.00</td><td>1360.2904</td><td>1.70</td></tr><tr><td>Northwest</td><td>Montana</td><td>US Dollar</td><td>90000.00</td><td>1579.659</td><td>1.75</td></tr><tr><td>Southeast</td><td>Kentucky</td><td>US Dollar</td><td>70000.00</td><td>1325.1501</td><td>1.89</td></tr><tr><td>Southeast</td><td>Georgia</td><td>US Dollar</td><td>66666.6666</td><td>1325.1501</td><td>1.98</td></tr><tr><td>Northeast</td><td>Massachusetts</td><td>US Dollar</td><td>60000.00</td><td>1193.4656</td><td>1.98</td></tr><tr><td>Southwest</td><td>California</td><td>US Dollar</td><td>66584.1584</td><td>1380.257</td><td>2.07</td></tr><tr><td>Canada</td><td>British Columbia</td><td>Canadian Dollar</td><td>57216.1642</td><td>1256.3723</td><td>2.19</td></tr><tr><td>France</td><td>Charente-Maritime</td><td>EURO</td><td>47142.8571</td><td>1075.7624</td><td>2.28</td></tr><tr><td>Southeast</td><td>Florida</td><td>US Dollar</td><td>56666.6666</td><td>1325.1501</td><td>2.33</td></tr><tr><td>United Kingdom</td><td>England</td><td>United Kingdom Pound</td><td>52169.3674</td><td>1215.6275</td><td>2.33</td></tr><tr><td>Germany</td><td>Saarland</td><td>EURO</td><td>45497.7375</td><td>1078.8406</td><td>2.37</td></tr><tr><td>France</td><td>Val d&#39;Oise</td><td>EURO</td><td>45333.3333</td><td>1075.7624</td><td>2.37</td></tr><tr><td>Canada</td><td>Alberta</td><td>Canadian Dollar</td><td>51818.1818</td><td>1256.3723</td><td>2.42</td></tr><tr><td>Germany</td><td>Hamburg</td><td>EURO</td><td>43367.0033</td><td>1078.8406</td><td>2.48</td></tr><tr><td>Northeast</td><td>Ohio</td><td>US Dollar</td><td>47500.00</td><td>1193.4656</td><td>2.51</td></tr><tr><td>France</td><td>Loir et Cher</td><td>EURO</td><td>42352.9411</td><td>1075.7624</td><td>2.53</td></tr><tr><td>Northeast</td><td>New York</td><td>US Dollar</td><td>46666.6666</td><td>1193.4656</td><td>2.55</td></tr><tr><td>Germany</td><td>Hessen</td><td>EURO</td><td>42148.5411</td><td>1078.8406</td><td>2.55</td></tr><tr><td>Germany</td><td>Nordrhein-Westfalen</td><td>EURO</td><td>42167.4876</td><td>1078.8406</td><td>2.55</td></tr><tr><td>Northwest</td><td>Washington</td><td>US Dollar</td><td>60132.5673</td><td>1579.659</td><td>2.62</td></tr><tr><td>Northwest</td><td>Wyoming</td><td>US Dollar</td><td>60000.00</td><td>1579.659</td><td>2.63</td></tr><tr><td>Northwest</td><td>Utah</td><td>US Dollar</td><td>60000.00</td><td>1579.659</td><td>2.63</td></tr><tr><td>Germany</td><td>Bayern</td><td>EURO</td><td>40789.4736</td><td>1078.8406</td><td>2.64</td></tr><tr><td>Northwest</td><td>Oregon</td><td>US Dollar</td><td>59002.7958</td><td>1579.659</td><td>2.67</td></tr><tr><td>France</td><td>Moselle</td><td>EURO</td><td>39107.1428</td><td>1075.7624</td><td>2.75</td></tr><tr><td>France</td><td>Somme</td><td>EURO</td><td>38636.3636</td><td>1075.7624</td><td>2.78</td></tr><tr><td>France</td><td>Seine et Marne</td><td>EURO</td><td>38000.00</td><td>1075.7624</td><td>2.83</td></tr><tr><td>Germany</td><td>Brandenburg</td><td>EURO</td><td>38000.00</td><td>1078.8406</td><td>2.83</td></tr><tr><td>France</td><td>Charente-Maritime</td><td>US Dollar</td><td>47142.8571</td><td>1339.2941</td><td>2.84</td></tr><tr><td>Southwest</td><td>Texas</td><td>US Dollar</td><td>47500.00</td><td>1380.257</td><td>2.90</td></tr><tr><td>France</td><td>Hauts de Seine</td><td>EURO</td><td>36871.7948</td><td>1075.7624</td><td>2.91</td></tr><tr><td>France</td><td>Val d&#39;Oise</td><td>US Dollar</td><td>45333.3333</td><td>1339.2941</td><td>2.95</td></tr><tr><td>France</td><td>Nord</td><td>EURO</td><td>36161.9718</td><td>1075.7624</td><td>2.97</td></tr><tr><td>France</td><td>Seine (Paris)</td><td>EURO</td><td>36088.0829</td><td>1075.7624</td><td>2.98</td></tr><tr><td>Central</td><td>Illinois</td><td>US Dollar</td><td>45000.00</td><td>1360.2904</td><td>3.02</td></tr><tr><td>France</td><td>Seine Saint Denis</td><td>EURO</td><td>34912.2807</td><td>1075.7624</td><td>3.08</td></tr><tr><td>France</td><td>Val de Marne</td><td>EURO</td><td>34666.6666</td><td>1075.7624</td><td>3.10</td></tr><tr><td>France</td><td>Yveline</td><td>EURO</td><td>34345.238</td><td>1075.7624</td><td>3.13</td></tr><tr><td>Canada</td><td>Ontario</td><td>Canadian Dollar</td><td>40000.00</td><td>1256.3723</td><td>3.14</td></tr><tr><td>France</td><td>Loir et Cher</td><td>US Dollar</td><td>42352.9411</td><td>1339.2941</td><td>3.16</td></tr><tr><td>France</td><td>Pas de Calais</td><td>EURO</td><td>33750.00</td><td>1075.7624</td><td>3.18</td></tr><tr><td>France</td><td>Essonne</td><td>EURO</td><td>33600.00</td><td>1075.7624</td><td>3.20</td></tr><tr><td>Southeast</td><td>Alabama</td><td>US Dollar</td><td>40000.00</td><td>1325.1501</td><td>3.31</td></tr><tr><td>Southeast</td><td>Mississippi</td><td>US Dollar</td><td>40000.00</td><td>1325.1501</td><td>3.31</td></tr><tr><td>Southeast</td><td>North Carolina</td><td>US Dollar</td><td>40000.00</td><td>1325.1501</td><td>3.31</td></tr><tr><td>Southeast</td><td>Virginia</td><td>US Dollar</td><td>40000.00</td><td>1325.1501</td><td>3.31</td></tr><tr><td>France</td><td>Moselle</td><td>US Dollar</td><td>39107.1428</td><td>1339.2941</td><td>3.42</td></tr><tr><td>Southwest</td><td>Arizona</td><td>US Dollar</td><td>40000.00</td><td>1380.257</td><td>3.45</td></tr><tr><td>France</td><td>Somme</td><td>US Dollar</td><td>38636.3636</td><td>1339.2941</td><td>3.46</td></tr><tr><td>France</td><td>Seine et Marne</td><td>US Dollar</td><td>38000.00</td><td>1339.2941</td><td>3.52</td></tr><tr><td>France</td><td>Hauts de Seine</td><td>US Dollar</td><td>36871.7948</td><td>1339.2941</td><td>3.63</td></tr><tr><td>France</td><td>Garonne (Haute)</td><td>EURO</td><td>29000.00</td><td>1075.7624</td><td>3.70</td></tr><tr><td>France</td><td>Loiret</td><td>EURO</td><td>29000.00</td><td>1075.7624</td><td>3.70</td></tr><tr><td>France</td><td>Nord</td><td>US Dollar</td><td>36161.9718</td><td>1339.2941</td><td>3.70</td></tr><tr><td>France</td><td>Seine (Paris)</td><td>US Dollar</td><td>36088.0829</td><td>1339.2941</td><td>3.71</td></tr><tr><td>France</td><td>Seine Saint Denis</td><td>US Dollar</td><td>34912.2807</td><td>1339.2941</td><td>3.83</td></tr><tr><td>France</td><td>Val de Marne</td><td>US Dollar</td><td>34666.6666</td><td>1339.2941</td><td>3.86</td></tr><tr><td>France</td><td>Yveline</td><td>US Dollar</td><td>34345.238</td><td>1339.2941</td><td>3.89</td></tr><tr><td>France</td><td>Pas de Calais</td><td>US Dollar</td><td>33750.00</td><td>1339.2941</td><td>3.96</td></tr><tr><td>France</td><td>Essonne</td><td>US Dollar</td><td>33600.00</td><td>1339.2941</td><td>3.98</td></tr><tr><td>France</td><td>Garonne (Haute)</td><td>US Dollar</td><td>29000.00</td><td>1339.2941</td><td>4.61</td></tr><tr><td>France</td><td>Loiret</td><td>US Dollar</td><td>29000.00</td><td>1339.2941</td><td>4.61</td></tr></table>"
                    },
                    "metadata": {}
                }
            ],
            "execution_count": 2
        }
    ]
}